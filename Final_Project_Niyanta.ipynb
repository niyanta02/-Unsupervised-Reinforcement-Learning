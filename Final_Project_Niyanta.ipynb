{
  "cells": [
    {
      "cell_type": "code",
      "execution_count": null,
      "metadata": {
        "colab": {
          "base_uri": "https://localhost:8080/"
        },
        "id": "kESy3HTnh6Gq",
        "outputId": "4b02787d-edad-4e22-e11b-ec06c65d50be"
      },
      "outputs": [
        {
          "name": "stdout",
          "output_type": "stream",
          "text": [
            "Looking in indexes: https://pypi.org/simple, https://us-python.pkg.dev/colab-wheels/public/simple/\n",
            "Requirement already satisfied: tensorflow in /usr/local/lib/python3.8/dist-packages (2.9.2)\n",
            "Collecting tensorflow\n",
            "  Downloading tensorflow-2.11.0-cp38-cp38-manylinux_2_17_x86_64.manylinux2014_x86_64.whl (588.3 MB)\n",
            "\u001b[K     |████████████████████████████████| 588.3 MB 20 kB/s \n",
            "\u001b[?25hRequirement already satisfied: astunparse>=1.6.0 in /usr/local/lib/python3.8/dist-packages (from tensorflow) (1.6.3)\n",
            "Requirement already satisfied: google-pasta>=0.1.1 in /usr/local/lib/python3.8/dist-packages (from tensorflow) (0.2.0)\n",
            "Requirement already satisfied: typing-extensions>=3.6.6 in /usr/local/lib/python3.8/dist-packages (from tensorflow) (4.4.0)\n",
            "Requirement already satisfied: packaging in /usr/local/lib/python3.8/dist-packages (from tensorflow) (21.3)\n",
            "Collecting keras<2.12,>=2.11.0\n",
            "  Downloading keras-2.11.0-py2.py3-none-any.whl (1.7 MB)\n",
            "\u001b[K     |████████████████████████████████| 1.7 MB 42.7 MB/s \n",
            "\u001b[?25hRequirement already satisfied: gast<=0.4.0,>=0.2.1 in /usr/local/lib/python3.8/dist-packages (from tensorflow) (0.4.0)\n",
            "Requirement already satisfied: numpy>=1.20 in /usr/local/lib/python3.8/dist-packages (from tensorflow) (1.21.6)\n",
            "Collecting tensorflow-estimator<2.12,>=2.11.0\n",
            "  Downloading tensorflow_estimator-2.11.0-py2.py3-none-any.whl (439 kB)\n",
            "\u001b[K     |████████████████████████████████| 439 kB 46.6 MB/s \n",
            "\u001b[?25hCollecting flatbuffers>=2.0\n",
            "  Downloading flatbuffers-22.12.6-py2.py3-none-any.whl (26 kB)\n",
            "Requirement already satisfied: tensorflow-io-gcs-filesystem>=0.23.1 in /usr/local/lib/python3.8/dist-packages (from tensorflow) (0.28.0)\n",
            "Requirement already satisfied: wrapt>=1.11.0 in /usr/local/lib/python3.8/dist-packages (from tensorflow) (1.14.1)\n",
            "Requirement already satisfied: setuptools in /usr/local/lib/python3.8/dist-packages (from tensorflow) (57.4.0)\n",
            "Requirement already satisfied: h5py>=2.9.0 in /usr/local/lib/python3.8/dist-packages (from tensorflow) (3.1.0)\n",
            "Requirement already satisfied: grpcio<2.0,>=1.24.3 in /usr/local/lib/python3.8/dist-packages (from tensorflow) (1.51.1)\n",
            "Requirement already satisfied: opt-einsum>=2.3.2 in /usr/local/lib/python3.8/dist-packages (from tensorflow) (3.3.0)\n",
            "Requirement already satisfied: termcolor>=1.1.0 in /usr/local/lib/python3.8/dist-packages (from tensorflow) (2.1.1)\n",
            "Collecting tensorboard<2.12,>=2.11\n",
            "  Downloading tensorboard-2.11.0-py3-none-any.whl (6.0 MB)\n",
            "\u001b[K     |████████████████████████████████| 6.0 MB 45.5 MB/s \n",
            "\u001b[?25hRequirement already satisfied: libclang>=13.0.0 in /usr/local/lib/python3.8/dist-packages (from tensorflow) (14.0.6)\n",
            "Requirement already satisfied: protobuf<3.20,>=3.9.2 in /usr/local/lib/python3.8/dist-packages (from tensorflow) (3.19.6)\n",
            "Requirement already satisfied: absl-py>=1.0.0 in /usr/local/lib/python3.8/dist-packages (from tensorflow) (1.3.0)\n",
            "Requirement already satisfied: six>=1.12.0 in /usr/local/lib/python3.8/dist-packages (from tensorflow) (1.15.0)\n",
            "Requirement already satisfied: wheel<1.0,>=0.23.0 in /usr/local/lib/python3.8/dist-packages (from astunparse>=1.6.0->tensorflow) (0.38.4)\n",
            "Requirement already satisfied: werkzeug>=1.0.1 in /usr/local/lib/python3.8/dist-packages (from tensorboard<2.12,>=2.11->tensorflow) (1.0.1)\n",
            "Requirement already satisfied: markdown>=2.6.8 in /usr/local/lib/python3.8/dist-packages (from tensorboard<2.12,>=2.11->tensorflow) (3.4.1)\n",
            "Requirement already satisfied: requests<3,>=2.21.0 in /usr/local/lib/python3.8/dist-packages (from tensorboard<2.12,>=2.11->tensorflow) (2.23.0)\n",
            "Requirement already satisfied: tensorboard-plugin-wit>=1.6.0 in /usr/local/lib/python3.8/dist-packages (from tensorboard<2.12,>=2.11->tensorflow) (1.8.1)\n",
            "Requirement already satisfied: tensorboard-data-server<0.7.0,>=0.6.0 in /usr/local/lib/python3.8/dist-packages (from tensorboard<2.12,>=2.11->tensorflow) (0.6.1)\n",
            "Requirement already satisfied: google-auth-oauthlib<0.5,>=0.4.1 in /usr/local/lib/python3.8/dist-packages (from tensorboard<2.12,>=2.11->tensorflow) (0.4.6)\n",
            "Requirement already satisfied: google-auth<3,>=1.6.3 in /usr/local/lib/python3.8/dist-packages (from tensorboard<2.12,>=2.11->tensorflow) (2.15.0)\n",
            "Requirement already satisfied: pyasn1-modules>=0.2.1 in /usr/local/lib/python3.8/dist-packages (from google-auth<3,>=1.6.3->tensorboard<2.12,>=2.11->tensorflow) (0.2.8)\n",
            "Requirement already satisfied: rsa<5,>=3.1.4 in /usr/local/lib/python3.8/dist-packages (from google-auth<3,>=1.6.3->tensorboard<2.12,>=2.11->tensorflow) (4.9)\n",
            "Requirement already satisfied: cachetools<6.0,>=2.0.0 in /usr/local/lib/python3.8/dist-packages (from google-auth<3,>=1.6.3->tensorboard<2.12,>=2.11->tensorflow) (5.2.0)\n",
            "Requirement already satisfied: requests-oauthlib>=0.7.0 in /usr/local/lib/python3.8/dist-packages (from google-auth-oauthlib<0.5,>=0.4.1->tensorboard<2.12,>=2.11->tensorflow) (1.3.1)\n",
            "Requirement already satisfied: importlib-metadata>=4.4 in /usr/local/lib/python3.8/dist-packages (from markdown>=2.6.8->tensorboard<2.12,>=2.11->tensorflow) (4.13.0)\n",
            "Requirement already satisfied: zipp>=0.5 in /usr/local/lib/python3.8/dist-packages (from importlib-metadata>=4.4->markdown>=2.6.8->tensorboard<2.12,>=2.11->tensorflow) (3.11.0)\n",
            "Requirement already satisfied: pyasn1<0.5.0,>=0.4.6 in /usr/local/lib/python3.8/dist-packages (from pyasn1-modules>=0.2.1->google-auth<3,>=1.6.3->tensorboard<2.12,>=2.11->tensorflow) (0.4.8)\n",
            "Requirement already satisfied: certifi>=2017.4.17 in /usr/local/lib/python3.8/dist-packages (from requests<3,>=2.21.0->tensorboard<2.12,>=2.11->tensorflow) (2022.9.24)\n",
            "Requirement already satisfied: idna<3,>=2.5 in /usr/local/lib/python3.8/dist-packages (from requests<3,>=2.21.0->tensorboard<2.12,>=2.11->tensorflow) (2.10)\n",
            "Requirement already satisfied: urllib3!=1.25.0,!=1.25.1,<1.26,>=1.21.1 in /usr/local/lib/python3.8/dist-packages (from requests<3,>=2.21.0->tensorboard<2.12,>=2.11->tensorflow) (1.24.3)\n",
            "Requirement already satisfied: chardet<4,>=3.0.2 in /usr/local/lib/python3.8/dist-packages (from requests<3,>=2.21.0->tensorboard<2.12,>=2.11->tensorflow) (3.0.4)\n",
            "Requirement already satisfied: oauthlib>=3.0.0 in /usr/local/lib/python3.8/dist-packages (from requests-oauthlib>=0.7.0->google-auth-oauthlib<0.5,>=0.4.1->tensorboard<2.12,>=2.11->tensorflow) (3.2.2)\n",
            "Requirement already satisfied: pyparsing!=3.0.5,>=2.0.2 in /usr/local/lib/python3.8/dist-packages (from packaging->tensorflow) (3.0.9)\n",
            "Installing collected packages: tensorflow-estimator, tensorboard, keras, flatbuffers, tensorflow\n",
            "  Attempting uninstall: tensorflow-estimator\n",
            "    Found existing installation: tensorflow-estimator 2.9.0\n",
            "    Uninstalling tensorflow-estimator-2.9.0:\n",
            "      Successfully uninstalled tensorflow-estimator-2.9.0\n",
            "  Attempting uninstall: tensorboard\n",
            "    Found existing installation: tensorboard 2.9.1\n",
            "    Uninstalling tensorboard-2.9.1:\n",
            "      Successfully uninstalled tensorboard-2.9.1\n",
            "  Attempting uninstall: keras\n",
            "    Found existing installation: keras 2.9.0\n",
            "    Uninstalling keras-2.9.0:\n",
            "      Successfully uninstalled keras-2.9.0\n",
            "  Attempting uninstall: flatbuffers\n",
            "    Found existing installation: flatbuffers 1.12\n",
            "    Uninstalling flatbuffers-1.12:\n",
            "      Successfully uninstalled flatbuffers-1.12\n",
            "  Attempting uninstall: tensorflow\n",
            "    Found existing installation: tensorflow 2.9.2\n",
            "    Uninstalling tensorflow-2.9.2:\n",
            "      Successfully uninstalled tensorflow-2.9.2\n",
            "Successfully installed flatbuffers-22.12.6 keras-2.11.0 tensorboard-2.11.0 tensorflow-2.11.0 tensorflow-estimator-2.11.0\n",
            "Looking in indexes: https://pypi.org/simple, https://us-python.pkg.dev/colab-wheels/public/simple/\n",
            "Collecting Box2D\n",
            "  Downloading Box2D-2.3.10-cp38-cp38-manylinux1_x86_64.whl (1.3 MB)\n",
            "\u001b[K     |████████████████████████████████| 1.3 MB 5.1 MB/s \n",
            "\u001b[?25hInstalling collected packages: Box2D\n",
            "Successfully installed Box2D-2.3.10\n",
            "Reading package lists... Done\n",
            "Building dependency tree       \n",
            "Reading state information... Done\n",
            "ffmpeg is already the newest version (7:3.4.11-0ubuntu0.1).\n",
            "The following package was automatically installed and is no longer required:\n",
            "  libnvidia-common-460\n",
            "Use 'sudo apt autoremove' to remove it.\n",
            "The following NEW packages will be installed:\n",
            "  xvfb\n",
            "0 upgraded, 1 newly installed, 0 to remove and 20 not upgraded.\n",
            "Need to get 785 kB of archives.\n",
            "After this operation, 2,271 kB of additional disk space will be used.\n",
            "Get:1 http://archive.ubuntu.com/ubuntu bionic-updates/universe amd64 xvfb amd64 2:1.19.6-1ubuntu4.12 [785 kB]\n",
            "Fetched 785 kB in 1s (1,043 kB/s)\n",
            "debconf: unable to initialize frontend: Dialog\n",
            "debconf: (No usable dialog-like program is installed, so the dialog based frontend cannot be used. at /usr/share/perl5/Debconf/FrontEnd/Dialog.pm line 76, <> line 1.)\n",
            "debconf: falling back to frontend: Readline\n",
            "debconf: unable to initialize frontend: Readline\n",
            "debconf: (This frontend requires a controlling tty.)\n",
            "debconf: falling back to frontend: Teletype\n",
            "dpkg-preconfigure: unable to re-open stdin: \n",
            "Selecting previously unselected package xvfb.\n",
            "(Reading database ... 124013 files and directories currently installed.)\n",
            "Preparing to unpack .../xvfb_2%3a1.19.6-1ubuntu4.12_amd64.deb ...\n",
            "Unpacking xvfb (2:1.19.6-1ubuntu4.12) ...\n",
            "Setting up xvfb (2:1.19.6-1ubuntu4.12) ...\n",
            "Processing triggers for man-db (2.8.3-2ubuntu0.1) ...\n",
            "Looking in indexes: https://pypi.org/simple, https://us-python.pkg.dev/colab-wheels/public/simple/\n",
            "Collecting gym==0.10.11\n",
            "  Downloading gym-0.10.11.tar.gz (1.5 MB)\n",
            "\u001b[K     |████████████████████████████████| 1.5 MB 5.3 MB/s \n",
            "\u001b[?25hRequirement already satisfied: scipy in /usr/local/lib/python3.8/dist-packages (from gym==0.10.11) (1.7.3)\n",
            "Requirement already satisfied: numpy>=1.10.4 in /usr/local/lib/python3.8/dist-packages (from gym==0.10.11) (1.21.6)\n",
            "Requirement already satisfied: requests>=2.0 in /usr/local/lib/python3.8/dist-packages (from gym==0.10.11) (2.23.0)\n",
            "Requirement already satisfied: six in /usr/local/lib/python3.8/dist-packages (from gym==0.10.11) (1.15.0)\n",
            "Collecting pyglet>=1.2.0\n",
            "  Downloading pyglet-2.0.1-py3-none-any.whl (964 kB)\n",
            "\u001b[K     |████████████████████████████████| 964 kB 46.1 MB/s \n",
            "\u001b[?25hRequirement already satisfied: urllib3!=1.25.0,!=1.25.1,<1.26,>=1.21.1 in /usr/local/lib/python3.8/dist-packages (from requests>=2.0->gym==0.10.11) (1.24.3)\n",
            "Requirement already satisfied: chardet<4,>=3.0.2 in /usr/local/lib/python3.8/dist-packages (from requests>=2.0->gym==0.10.11) (3.0.4)\n",
            "Requirement already satisfied: certifi>=2017.4.17 in /usr/local/lib/python3.8/dist-packages (from requests>=2.0->gym==0.10.11) (2022.9.24)\n",
            "Requirement already satisfied: idna<3,>=2.5 in /usr/local/lib/python3.8/dist-packages (from requests>=2.0->gym==0.10.11) (2.10)\n",
            "Building wheels for collected packages: gym\n",
            "  Building wheel for gym (setup.py) ... \u001b[?25l\u001b[?25hdone\n",
            "  Created wheel for gym: filename=gym-0.10.11-py3-none-any.whl size=1588312 sha256=65717cebbd9c92a478170e083fd57f9d68a1cd3cb26b632eac910c22a7bcc4f4\n",
            "  Stored in directory: /root/.cache/pip/wheels/7b/47/40/eb50b006d3a7fa52ebcb76cd575124d58f3c1c1cc68dc16787\n",
            "Successfully built gym\n",
            "Installing collected packages: pyglet, gym\n",
            "  Attempting uninstall: gym\n",
            "    Found existing installation: gym 0.25.2\n",
            "    Uninstalling gym-0.25.2:\n",
            "      Successfully uninstalled gym-0.25.2\n",
            "Successfully installed gym-0.10.11 pyglet-2.0.1\n",
            "Looking in indexes: https://pypi.org/simple, https://us-python.pkg.dev/colab-wheels/public/simple/\n",
            "Collecting imageio==2.4.0\n",
            "  Downloading imageio-2.4.0.tar.gz (3.3 MB)\n",
            "\u001b[K     |████████████████████████████████| 3.3 MB 5.2 MB/s \n",
            "\u001b[?25hRequirement already satisfied: numpy in /usr/local/lib/python3.8/dist-packages (from imageio==2.4.0) (1.21.6)\n",
            "Requirement already satisfied: pillow in /usr/local/lib/python3.8/dist-packages (from imageio==2.4.0) (7.1.2)\n",
            "Building wheels for collected packages: imageio\n",
            "  Building wheel for imageio (setup.py) ... \u001b[?25l\u001b[?25hdone\n",
            "  Created wheel for imageio: filename=imageio-2.4.0-py3-none-any.whl size=3303897 sha256=7d7fb6510028d6c68fd4642f5bd2cb1ff04511623d36aec8280438f3dd293007\n",
            "  Stored in directory: /root/.cache/pip/wheels/7b/94/a8/d389282ebfa4ca9416e19708cf789a16dc0c21ccc03d425740\n",
            "Successfully built imageio\n",
            "Installing collected packages: imageio\n",
            "  Attempting uninstall: imageio\n",
            "    Found existing installation: imageio 2.9.0\n",
            "    Uninstalling imageio-2.9.0:\n",
            "      Successfully uninstalled imageio-2.9.0\n",
            "Successfully installed imageio-2.4.0\n",
            "Looking in indexes: https://pypi.org/simple, https://us-python.pkg.dev/colab-wheels/public/simple/\n",
            "Requirement already satisfied: PILLOW in /usr/local/lib/python3.8/dist-packages (7.1.2)\n",
            "Looking in indexes: https://pypi.org/simple, https://us-python.pkg.dev/colab-wheels/public/simple/\n",
            "Collecting pyglet==1.3.2\n",
            "  Downloading pyglet-1.3.2-py2.py3-none-any.whl (1.0 MB)\n",
            "\u001b[K     |████████████████████████████████| 1.0 MB 4.5 MB/s \n",
            "\u001b[?25hRequirement already satisfied: future in /usr/local/lib/python3.8/dist-packages (from pyglet==1.3.2) (0.16.0)\n",
            "Installing collected packages: pyglet\n",
            "  Attempting uninstall: pyglet\n",
            "    Found existing installation: pyglet 2.0.1\n",
            "    Uninstalling pyglet-2.0.1:\n",
            "      Successfully uninstalled pyglet-2.0.1\n",
            "Successfully installed pyglet-1.3.2\n",
            "Looking in indexes: https://pypi.org/simple, https://us-python.pkg.dev/colab-wheels/public/simple/\n",
            "Collecting pyvirtualdisplay\n",
            "  Downloading PyVirtualDisplay-3.0-py3-none-any.whl (15 kB)\n",
            "Installing collected packages: pyvirtualdisplay\n",
            "Successfully installed pyvirtualdisplay-3.0\n",
            "Looking in indexes: https://pypi.org/simple, https://us-python.pkg.dev/colab-wheels/public/simple/\n",
            "Requirement already satisfied: tensorflow-probability in /usr/local/lib/python3.8/dist-packages (0.17.0)\n",
            "Collecting tensorflow-probability\n",
            "  Downloading tensorflow_probability-0.19.0-py2.py3-none-any.whl (6.7 MB)\n",
            "\u001b[K     |████████████████████████████████| 6.7 MB 5.2 MB/s \n",
            "\u001b[?25hRequirement already satisfied: cloudpickle>=1.3 in /usr/local/lib/python3.8/dist-packages (from tensorflow-probability) (1.5.0)\n",
            "Requirement already satisfied: absl-py in /usr/local/lib/python3.8/dist-packages (from tensorflow-probability) (1.3.0)\n",
            "Requirement already satisfied: six>=1.10.0 in /usr/local/lib/python3.8/dist-packages (from tensorflow-probability) (1.15.0)\n",
            "Requirement already satisfied: decorator in /usr/local/lib/python3.8/dist-packages (from tensorflow-probability) (4.4.2)\n",
            "Requirement already satisfied: gast>=0.3.2 in /usr/local/lib/python3.8/dist-packages (from tensorflow-probability) (0.4.0)\n",
            "Requirement already satisfied: dm-tree in /usr/local/lib/python3.8/dist-packages (from tensorflow-probability) (0.1.7)\n",
            "Requirement already satisfied: numpy>=1.13.3 in /usr/local/lib/python3.8/dist-packages (from tensorflow-probability) (1.21.6)\n",
            "Installing collected packages: tensorflow-probability\n",
            "  Attempting uninstall: tensorflow-probability\n",
            "    Found existing installation: tensorflow-probability 0.17.0\n",
            "    Uninstalling tensorflow-probability-0.17.0:\n",
            "      Successfully uninstalled tensorflow-probability-0.17.0\n",
            "Successfully installed tensorflow-probability-0.19.0\n",
            "Looking in indexes: https://pypi.org/simple, https://us-python.pkg.dev/colab-wheels/public/simple/\n",
            "Collecting tf-agents\n",
            "  Downloading tf_agents-0.15.0-py3-none-any.whl (1.4 MB)\n",
            "\u001b[K     |████████████████████████████████| 1.4 MB 5.2 MB/s \n",
            "\u001b[?25hRequirement already satisfied: cloudpickle>=1.3 in /usr/local/lib/python3.8/dist-packages (from tf-agents) (1.5.0)\n",
            "Collecting gym<=0.23.0,>=0.17.0\n",
            "  Downloading gym-0.23.0.tar.gz (624 kB)\n",
            "\u001b[K     |████████████████████████████████| 624 kB 55.3 MB/s \n",
            "\u001b[?25h  Installing build dependencies ... \u001b[?25l\u001b[?25hdone\n",
            "  Getting requirements to build wheel ... \u001b[?25l\u001b[?25hdone\n",
            "    Preparing wheel metadata ... \u001b[?25l\u001b[?25hdone\n",
            "Requirement already satisfied: pillow in /usr/local/lib/python3.8/dist-packages (from tf-agents) (7.1.2)\n",
            "Requirement already satisfied: protobuf>=3.11.3 in /usr/local/lib/python3.8/dist-packages (from tf-agents) (3.19.6)\n",
            "Requirement already satisfied: tensorflow-probability>=0.18.0 in /usr/local/lib/python3.8/dist-packages (from tf-agents) (0.19.0)\n",
            "Requirement already satisfied: six>=1.10.0 in /usr/local/lib/python3.8/dist-packages (from tf-agents) (1.15.0)\n",
            "Collecting pygame==2.1.0\n",
            "  Downloading pygame-2.1.0-cp38-cp38-manylinux_2_17_x86_64.manylinux2014_x86_64.whl (18.3 MB)\n",
            "\u001b[K     |████████████████████████████████| 18.3 MB 21.0 MB/s \n",
            "\u001b[?25hRequirement already satisfied: numpy>=1.13.3 in /usr/local/lib/python3.8/dist-packages (from tf-agents) (1.21.6)\n",
            "Requirement already satisfied: absl-py>=0.6.1 in /usr/local/lib/python3.8/dist-packages (from tf-agents) (1.3.0)\n",
            "Requirement already satisfied: gin-config>=0.4.0 in /usr/local/lib/python3.8/dist-packages (from tf-agents) (0.5.0)\n",
            "Requirement already satisfied: typing-extensions>=3.7.4.3 in /usr/local/lib/python3.8/dist-packages (from tf-agents) (4.4.0)\n",
            "Requirement already satisfied: wrapt>=1.11.1 in /usr/local/lib/python3.8/dist-packages (from tf-agents) (1.14.1)\n",
            "Requirement already satisfied: gym-notices>=0.0.4 in /usr/local/lib/python3.8/dist-packages (from gym<=0.23.0,>=0.17.0->tf-agents) (0.0.8)\n",
            "Requirement already satisfied: importlib-metadata>=4.10.0 in /usr/local/lib/python3.8/dist-packages (from gym<=0.23.0,>=0.17.0->tf-agents) (4.13.0)\n",
            "Requirement already satisfied: zipp>=0.5 in /usr/local/lib/python3.8/dist-packages (from importlib-metadata>=4.10.0->gym<=0.23.0,>=0.17.0->tf-agents) (3.11.0)\n",
            "Requirement already satisfied: decorator in /usr/local/lib/python3.8/dist-packages (from tensorflow-probability>=0.18.0->tf-agents) (4.4.2)\n",
            "Requirement already satisfied: dm-tree in /usr/local/lib/python3.8/dist-packages (from tensorflow-probability>=0.18.0->tf-agents) (0.1.7)\n",
            "Requirement already satisfied: gast>=0.3.2 in /usr/local/lib/python3.8/dist-packages (from tensorflow-probability>=0.18.0->tf-agents) (0.4.0)\n",
            "Building wheels for collected packages: gym\n",
            "  Building wheel for gym (PEP 517) ... \u001b[?25l\u001b[?25hdone\n",
            "  Created wheel for gym: filename=gym-0.23.0-py3-none-any.whl size=697660 sha256=ace37e0aec1bda61cc3ce20c16e484f70d1419509007b438ffd6d9a5d502809c\n",
            "  Stored in directory: /root/.cache/pip/wheels/e7/2f/ab/68bf956c5dde73c1856d981e54292cf58385fb60bca10b7acd\n",
            "Successfully built gym\n",
            "Installing collected packages: pygame, gym, tf-agents\n",
            "  Attempting uninstall: gym\n",
            "    Found existing installation: gym 0.10.11\n",
            "    Uninstalling gym-0.10.11:\n",
            "      Successfully uninstalled gym-0.10.11\n",
            "Successfully installed gym-0.23.0 pygame-2.1.0 tf-agents-0.15.0\n",
            "Looking in indexes: https://pypi.org/simple, https://us-python.pkg.dev/colab-wheels/public/simple/\n",
            "Requirement already satisfied: tf-agents[reverb] in /usr/local/lib/python3.8/dist-packages (0.15.0)\n",
            "Requirement already satisfied: gym<=0.23.0,>=0.17.0 in /usr/local/lib/python3.8/dist-packages (from tf-agents[reverb]) (0.23.0)\n",
            "Requirement already satisfied: numpy>=1.13.3 in /usr/local/lib/python3.8/dist-packages (from tf-agents[reverb]) (1.21.6)\n",
            "Requirement already satisfied: absl-py>=0.6.1 in /usr/local/lib/python3.8/dist-packages (from tf-agents[reverb]) (1.3.0)\n",
            "Requirement already satisfied: cloudpickle>=1.3 in /usr/local/lib/python3.8/dist-packages (from tf-agents[reverb]) (1.5.0)\n",
            "Requirement already satisfied: typing-extensions>=3.7.4.3 in /usr/local/lib/python3.8/dist-packages (from tf-agents[reverb]) (4.4.0)\n",
            "Requirement already satisfied: wrapt>=1.11.1 in /usr/local/lib/python3.8/dist-packages (from tf-agents[reverb]) (1.14.1)\n",
            "Requirement already satisfied: protobuf>=3.11.3 in /usr/local/lib/python3.8/dist-packages (from tf-agents[reverb]) (3.19.6)\n",
            "Requirement already satisfied: gin-config>=0.4.0 in /usr/local/lib/python3.8/dist-packages (from tf-agents[reverb]) (0.5.0)\n",
            "Requirement already satisfied: six>=1.10.0 in /usr/local/lib/python3.8/dist-packages (from tf-agents[reverb]) (1.15.0)\n",
            "Requirement already satisfied: pygame==2.1.0 in /usr/local/lib/python3.8/dist-packages (from tf-agents[reverb]) (2.1.0)\n",
            "Requirement already satisfied: tensorflow-probability>=0.18.0 in /usr/local/lib/python3.8/dist-packages (from tf-agents[reverb]) (0.19.0)\n",
            "Requirement already satisfied: pillow in /usr/local/lib/python3.8/dist-packages (from tf-agents[reverb]) (7.1.2)\n",
            "Requirement already satisfied: tensorflow==2.11.0 in /usr/local/lib/python3.8/dist-packages (from tf-agents[reverb]) (2.11.0)\n",
            "Collecting dm-reverb~=0.10.0\n",
            "  Downloading dm_reverb-0.10.0-cp38-cp38-manylinux2014_x86_64.whl (6.3 MB)\n",
            "\u001b[K     |████████████████████████████████| 6.3 MB 4.7 MB/s \n",
            "\u001b[?25hCollecting rlds\n",
            "  Downloading rlds-0.1.6-py3-none-manylinux2010_x86_64.whl (45 kB)\n",
            "\u001b[K     |████████████████████████████████| 45 kB 3.0 MB/s \n",
            "\u001b[?25hRequirement already satisfied: opt-einsum>=2.3.2 in /usr/local/lib/python3.8/dist-packages (from tensorflow==2.11.0->tf-agents[reverb]) (3.3.0)\n",
            "Requirement already satisfied: grpcio<2.0,>=1.24.3 in /usr/local/lib/python3.8/dist-packages (from tensorflow==2.11.0->tf-agents[reverb]) (1.51.1)\n",
            "Requirement already satisfied: flatbuffers>=2.0 in /usr/local/lib/python3.8/dist-packages (from tensorflow==2.11.0->tf-agents[reverb]) (22.12.6)\n",
            "Requirement already satisfied: google-pasta>=0.1.1 in /usr/local/lib/python3.8/dist-packages (from tensorflow==2.11.0->tf-agents[reverb]) (0.2.0)\n",
            "Requirement already satisfied: setuptools in /usr/local/lib/python3.8/dist-packages (from tensorflow==2.11.0->tf-agents[reverb]) (57.4.0)\n",
            "Requirement already satisfied: termcolor>=1.1.0 in /usr/local/lib/python3.8/dist-packages (from tensorflow==2.11.0->tf-agents[reverb]) (2.1.1)\n",
            "Requirement already satisfied: tensorflow-io-gcs-filesystem>=0.23.1 in /usr/local/lib/python3.8/dist-packages (from tensorflow==2.11.0->tf-agents[reverb]) (0.28.0)\n",
            "Requirement already satisfied: astunparse>=1.6.0 in /usr/local/lib/python3.8/dist-packages (from tensorflow==2.11.0->tf-agents[reverb]) (1.6.3)\n",
            "Requirement already satisfied: tensorboard<2.12,>=2.11 in /usr/local/lib/python3.8/dist-packages (from tensorflow==2.11.0->tf-agents[reverb]) (2.11.0)\n",
            "Requirement already satisfied: libclang>=13.0.0 in /usr/local/lib/python3.8/dist-packages (from tensorflow==2.11.0->tf-agents[reverb]) (14.0.6)\n",
            "Requirement already satisfied: h5py>=2.9.0 in /usr/local/lib/python3.8/dist-packages (from tensorflow==2.11.0->tf-agents[reverb]) (3.1.0)\n",
            "Requirement already satisfied: tensorflow-estimator<2.12,>=2.11.0 in /usr/local/lib/python3.8/dist-packages (from tensorflow==2.11.0->tf-agents[reverb]) (2.11.0)\n",
            "Requirement already satisfied: gast<=0.4.0,>=0.2.1 in /usr/local/lib/python3.8/dist-packages (from tensorflow==2.11.0->tf-agents[reverb]) (0.4.0)\n",
            "Requirement already satisfied: keras<2.12,>=2.11.0 in /usr/local/lib/python3.8/dist-packages (from tensorflow==2.11.0->tf-agents[reverb]) (2.11.0)\n",
            "Requirement already satisfied: packaging in /usr/local/lib/python3.8/dist-packages (from tensorflow==2.11.0->tf-agents[reverb]) (21.3)\n",
            "Requirement already satisfied: wheel<1.0,>=0.23.0 in /usr/local/lib/python3.8/dist-packages (from astunparse>=1.6.0->tensorflow==2.11.0->tf-agents[reverb]) (0.38.4)\n",
            "Requirement already satisfied: dm-tree in /usr/local/lib/python3.8/dist-packages (from dm-reverb~=0.10.0->tf-agents[reverb]) (0.1.7)\n",
            "Requirement already satisfied: portpicker in /usr/local/lib/python3.8/dist-packages (from dm-reverb~=0.10.0->tf-agents[reverb]) (1.3.9)\n",
            "Requirement already satisfied: gym-notices>=0.0.4 in /usr/local/lib/python3.8/dist-packages (from gym<=0.23.0,>=0.17.0->tf-agents[reverb]) (0.0.8)\n",
            "Requirement already satisfied: importlib-metadata>=4.10.0 in /usr/local/lib/python3.8/dist-packages (from gym<=0.23.0,>=0.17.0->tf-agents[reverb]) (4.13.0)\n",
            "Requirement already satisfied: zipp>=0.5 in /usr/local/lib/python3.8/dist-packages (from importlib-metadata>=4.10.0->gym<=0.23.0,>=0.17.0->tf-agents[reverb]) (3.11.0)\n",
            "Requirement already satisfied: werkzeug>=1.0.1 in /usr/local/lib/python3.8/dist-packages (from tensorboard<2.12,>=2.11->tensorflow==2.11.0->tf-agents[reverb]) (1.0.1)\n",
            "Requirement already satisfied: google-auth<3,>=1.6.3 in /usr/local/lib/python3.8/dist-packages (from tensorboard<2.12,>=2.11->tensorflow==2.11.0->tf-agents[reverb]) (2.15.0)\n",
            "Requirement already satisfied: tensorboard-data-server<0.7.0,>=0.6.0 in /usr/local/lib/python3.8/dist-packages (from tensorboard<2.12,>=2.11->tensorflow==2.11.0->tf-agents[reverb]) (0.6.1)\n",
            "Requirement already satisfied: tensorboard-plugin-wit>=1.6.0 in /usr/local/lib/python3.8/dist-packages (from tensorboard<2.12,>=2.11->tensorflow==2.11.0->tf-agents[reverb]) (1.8.1)\n",
            "Requirement already satisfied: google-auth-oauthlib<0.5,>=0.4.1 in /usr/local/lib/python3.8/dist-packages (from tensorboard<2.12,>=2.11->tensorflow==2.11.0->tf-agents[reverb]) (0.4.6)\n",
            "Requirement already satisfied: markdown>=2.6.8 in /usr/local/lib/python3.8/dist-packages (from tensorboard<2.12,>=2.11->tensorflow==2.11.0->tf-agents[reverb]) (3.4.1)\n",
            "Requirement already satisfied: requests<3,>=2.21.0 in /usr/local/lib/python3.8/dist-packages (from tensorboard<2.12,>=2.11->tensorflow==2.11.0->tf-agents[reverb]) (2.23.0)\n",
            "Requirement already satisfied: rsa<5,>=3.1.4 in /usr/local/lib/python3.8/dist-packages (from google-auth<3,>=1.6.3->tensorboard<2.12,>=2.11->tensorflow==2.11.0->tf-agents[reverb]) (4.9)\n",
            "Requirement already satisfied: pyasn1-modules>=0.2.1 in /usr/local/lib/python3.8/dist-packages (from google-auth<3,>=1.6.3->tensorboard<2.12,>=2.11->tensorflow==2.11.0->tf-agents[reverb]) (0.2.8)\n",
            "Requirement already satisfied: cachetools<6.0,>=2.0.0 in /usr/local/lib/python3.8/dist-packages (from google-auth<3,>=1.6.3->tensorboard<2.12,>=2.11->tensorflow==2.11.0->tf-agents[reverb]) (5.2.0)\n",
            "Requirement already satisfied: requests-oauthlib>=0.7.0 in /usr/local/lib/python3.8/dist-packages (from google-auth-oauthlib<0.5,>=0.4.1->tensorboard<2.12,>=2.11->tensorflow==2.11.0->tf-agents[reverb]) (1.3.1)\n",
            "Requirement already satisfied: pyasn1<0.5.0,>=0.4.6 in /usr/local/lib/python3.8/dist-packages (from pyasn1-modules>=0.2.1->google-auth<3,>=1.6.3->tensorboard<2.12,>=2.11->tensorflow==2.11.0->tf-agents[reverb]) (0.4.8)\n",
            "Requirement already satisfied: certifi>=2017.4.17 in /usr/local/lib/python3.8/dist-packages (from requests<3,>=2.21.0->tensorboard<2.12,>=2.11->tensorflow==2.11.0->tf-agents[reverb]) (2022.9.24)\n",
            "Requirement already satisfied: urllib3!=1.25.0,!=1.25.1,<1.26,>=1.21.1 in /usr/local/lib/python3.8/dist-packages (from requests<3,>=2.21.0->tensorboard<2.12,>=2.11->tensorflow==2.11.0->tf-agents[reverb]) (1.24.3)\n",
            "Requirement already satisfied: idna<3,>=2.5 in /usr/local/lib/python3.8/dist-packages (from requests<3,>=2.21.0->tensorboard<2.12,>=2.11->tensorflow==2.11.0->tf-agents[reverb]) (2.10)\n",
            "Requirement already satisfied: chardet<4,>=3.0.2 in /usr/local/lib/python3.8/dist-packages (from requests<3,>=2.21.0->tensorboard<2.12,>=2.11->tensorflow==2.11.0->tf-agents[reverb]) (3.0.4)\n",
            "Requirement already satisfied: oauthlib>=3.0.0 in /usr/local/lib/python3.8/dist-packages (from requests-oauthlib>=0.7.0->google-auth-oauthlib<0.5,>=0.4.1->tensorboard<2.12,>=2.11->tensorflow==2.11.0->tf-agents[reverb]) (3.2.2)\n",
            "Requirement already satisfied: decorator in /usr/local/lib/python3.8/dist-packages (from tensorflow-probability>=0.18.0->tf-agents[reverb]) (4.4.2)\n",
            "Requirement already satisfied: pyparsing!=3.0.5,>=2.0.2 in /usr/local/lib/python3.8/dist-packages (from packaging->tensorflow==2.11.0->tf-agents[reverb]) (3.0.9)\n",
            "Installing collected packages: rlds, dm-reverb\n",
            "Successfully installed dm-reverb-0.10.0 rlds-0.1.6\n"
          ]
        }
      ],
      "source": [
        "!pip install --upgrade tensorflow\n",
        "\n",
        "!pip install Box2D\n",
        "\n",
        "!sudo apt-get install -y xvfb ffmpeg\n",
        "!pip install 'gym==0.10.11'\n",
        "!pip install 'imageio==2.4.0'\n",
        "!pip install PILLOW\n",
        "!pip install 'pyglet==1.3.2'\n",
        "!pip install pyvirtualdisplay\n",
        "!pip install --upgrade tensorflow-probability\n",
        "!pip install tf-agents\n",
        "!pip install tf-agents[reverb]"
      ]
    },
    {
      "cell_type": "code",
      "execution_count": null,
      "metadata": {
        "id": "dLelVTaUiCYt"
      },
      "outputs": [],
      "source": [
        "import tensorflow as tf\n",
        "import base64\n",
        "import imageio\n",
        "import IPython\n",
        "import matplotlib\n",
        "import matplotlib.pyplot as plt\n",
        "import numpy as np\n",
        "import PIL.Image\n",
        "import pyvirtualdisplay\n",
        "import reverb\n",
        "\n",
        "from tf_agents.agents.dqn import dqn_agent\n",
        "from tf_agents.drivers import py_driver\n",
        "from tf_agents.environments import suite_gym\n",
        "from tf_agents.environments import tf_py_environment\n",
        "from tf_agents.eval import metric_utils\n",
        "from tf_agents.metrics import tf_metrics\n",
        "from tf_agents.networks import sequential\n",
        "from tf_agents.policies import py_tf_eager_policy\n",
        "from tf_agents.policies import random_tf_policy\n",
        "from tf_agents.replay_buffers import reverb_replay_buffer\n",
        "from tf_agents.replay_buffers import reverb_utils\n",
        "from tf_agents.trajectories import trajectory\n",
        "from tf_agents.specs import tensor_spec\n",
        "from tf_agents.utils import common\n",
        "from tf_agents.agents.categorical_dqn import categorical_dqn_agent\n",
        "from tf_agents.networks import categorical_q_network\n",
        "\n",
        "from tf_agents.specs import tensor_spec\n",
        "from tf_agents.trajectories import time_step as ts"
      ]
    },
    {
      "cell_type": "code",
      "execution_count": null,
      "metadata": {
        "id": "L4nN1ZwHitsl"
      },
      "outputs": [],
      "source": [
        "from tf_agents.environments import suite_gym"
      ]
    },
    {
      "cell_type": "code",
      "execution_count": null,
      "metadata": {
        "id": "bN-h7-mBi1fA"
      },
      "outputs": [],
      "source": [
        "env = suite_gym.load(\"LunarLander-v2\")"
      ]
    },
    {
      "cell_type": "code",
      "execution_count": null,
      "metadata": {
        "colab": {
          "base_uri": "https://localhost:8080/",
          "height": 417
        },
        "id": "kleydIp-i8Hd",
        "outputId": "960baa8a-67c6-478c-c3bf-bb045981c1a7"
      },
      "outputs": [
        {
          "data": {
            "image/png": "[encoded data removed]",
            "text/plain": [
              "<PIL.Image.Image image mode=RGB size=600x400 at 0x7FE4F1F80B80>"
            ]
          },
          "execution_count": 6,
          "metadata": {},
          "output_type": "execute_result"
        }
      ],
      "source": [
        "display = pyvirtualdisplay.Display(visible=0, size=(1400, 900)).start()\n",
        "\n",
        "env.reset()\n",
        "PIL.Image.fromarray(env.render())"
      ]
    },
    {
      "cell_type": "code",
      "execution_count": null,
      "metadata": {
        "id": "EJIuKw8ojxHv"
      },
      "outputs": [],
      "source": [
        "from tf_agents.environments.tf_py_environment import TFPyEnvironment\n",
        "tf_env = TFPyEnvironment(env)"
      ]
    },
    {
      "cell_type": "code",
      "execution_count": null,
      "metadata": {
        "colab": {
          "base_uri": "https://localhost:8080/"
        },
        "id": "UZ_sVNHaj8Ry",
        "outputId": "ca1313d6-d0fc-4272-fddb-66878f9a6dc3"
      },
      "outputs": [
        {
          "name": "stdout",
          "output_type": "stream",
          "text": [
            "Observation Spec:\n",
            "BoundedArraySpec(shape=(8,), dtype=dtype('float32'), name='observation', minimum=-3.4028234663852886e+38, maximum=3.4028234663852886e+38)\n"
          ]
        }
      ],
      "source": [
        "print('Observation Spec:')\n",
        "print(env.time_step_spec().observation)"
      ]
    },
    {
      "cell_type": "code",
      "execution_count": null,
      "metadata": {
        "colab": {
          "base_uri": "https://localhost:8080/"
        },
        "id": "YIyL80c4j_C9",
        "outputId": "4cde1e71-ddaa-4fcd-e496-0cc240d1abe7"
      },
      "outputs": [
        {
          "name": "stdout",
          "output_type": "stream",
          "text": [
            "Action Spec:\n",
            "BoundedArraySpec(shape=(), dtype=dtype('int64'), name='action', minimum=0, maximum=3)\n"
          ]
        }
      ],
      "source": [
        "print('Action Spec:')\n",
        "print(env.action_spec())"
      ]
    },
    {
      "cell_type": "code",
      "execution_count": null,
      "metadata": {
        "id": "o9AUSs1YkB1V"
      },
      "outputs": [],
      "source": [
        "from tf_agents.networks.q_network import QNetwork\n",
        "\n",
        "fc_layer_params = [512,256]\n",
        "\n",
        "q_net = QNetwork(\n",
        "    tf_env.observation_spec(),\n",
        "    tf_env.action_spec(),\n",
        "\n",
        "    fc_layer_params=fc_layer_params\n",
        ")"
      ]
    },
    {
      "cell_type": "code",
      "execution_count": null,
      "metadata": {
        "id": "x-On4Pw0kRHO"
      },
      "outputs": [],
      "source": [
        "from tf_agents.agents.dqn.dqn_agent import DqnAgent"
      ]
    },
    {
      "cell_type": "code",
      "execution_count": null,
      "metadata": {
        "id": "_GyCeSwGkUJo"
      },
      "outputs": [],
      "source": [
        "from tensorflow import keras\n",
        "from keras.backend import learning_phase\n",
        "from keras.backend_config import epsilon\n",
        "train_step = tf.Variable(0)\n",
        "update_period = 4 \n",
        "\n",
        "optimizer = tf.compat.v1.train.AdamOptimizer(learning_rate = 1e-3 )\n",
        "\n",
        "epsilon_fn = keras.optimizers.schedules.PolynomialDecay(initial_learning_rate = 0.07, decay_steps = 250000 // update_period,end_learning_rate = 0.001)\n",
        "\n",
        "agent = DqnAgent(\n",
        "    tf_env.time_step_spec(),\n",
        "    tf_env.action_spec(),\n",
        "    q_network = q_net,\n",
        "    optimizer = tf.compat.v1.train.AdamOptimizer(learning_rate = 1e-3),\n",
        "    td_errors_loss_fn=common.element_wise_squared_loss,\n",
        "    gamma = 0.99,\n",
        "    train_step_counter=train_step,\n",
        "    epsilon_greedy = lambda: epsilon_fn(train_step)\n",
        ")\n",
        "\n",
        "agent.initialize()"
      ]
    },
    {
      "cell_type": "code",
      "execution_count": null,
      "metadata": {
        "id": "uAX0SNEgkr7k"
      },
      "outputs": [],
      "source": [
        "from tf_agents.replay_buffers import tf_uniform_replay_buffer\n",
        "replay_buffer = tf_uniform_replay_buffer.TFUniformReplayBuffer(\n",
        "    data_spec = agent.collect_data_spec,\n",
        "    batch_size = tf_env.batch_size,\n",
        "    max_length= 2000\n",
        ")"
      ]
    },
    {
      "cell_type": "code",
      "execution_count": null,
      "metadata": {
        "id": "PYXO-olmkxi4"
      },
      "outputs": [],
      "source": [
        "replay_buffer_observer = replay_buffer.add_batch"
      ]
    },
    {
      "cell_type": "code",
      "execution_count": null,
      "metadata": {
        "id": "Dpxu_spTk0Qb"
      },
      "outputs": [],
      "source": [
        "from tf_agents.metrics import tf_metrics\n",
        "\n",
        "train_metrics = [\n",
        "    tf_metrics.NumberOfEpisodes(),\n",
        "    tf_metrics.EnvironmentSteps(),\n",
        "    tf_metrics.AverageReturnMetric(),\n",
        "    tf_metrics.AverageEpisodeLengthMetric(),\n",
        "]\n"
      ]
    },
    {
      "cell_type": "code",
      "execution_count": null,
      "metadata": {
        "colab": {
          "base_uri": "https://localhost:8080/"
        },
        "id": "BDtGbILhk1ll",
        "outputId": "e29d1a46-6c06-41fc-f620-5502465ab01d"
      },
      "outputs": [
        {
          "name": "stderr",
          "output_type": "stream",
          "text": [
            "INFO:absl: \n",
            "\t\t NumberOfEpisodes = 0\n",
            "\t\t EnvironmentSteps = 0\n",
            "\t\t AverageReturn = 0.0\n",
            "\t\t AverageEpisodeLength = 0.0\n"
          ]
        }
      ],
      "source": [
        "from tf_agents.eval.metric_utils import log_metrics\n",
        "import logging\n",
        "logging.getLogger().setLevel(logging.INFO)\n",
        "log_metrics(train_metrics)"
      ]
    },
    {
      "cell_type": "code",
      "execution_count": null,
      "metadata": {
        "id": "kEP2kMYck4au"
      },
      "outputs": [],
      "source": [
        "from tf_agents.drivers.dynamic_step_driver import DynamicStepDriver\n",
        "\n",
        "collect_driver = DynamicStepDriver(\n",
        "    tf_env,\n",
        "    agent.collect_policy,\n",
        "    observers = [replay_buffer_observer] + train_metrics,\n",
        "    num_steps = update_period\n",
        ")"
      ]
    },
    {
      "cell_type": "code",
      "execution_count": null,
      "metadata": {
        "id": "yyiFwZG-k7O_"
      },
      "outputs": [],
      "source": [
        "from tf_agents.policies.random_tf_policy import RandomTFPolicy\n",
        "\n",
        "class ShowProgress:\n",
        "  def __init__(self, total):\n",
        "    self.counter = 0\n",
        "    self.total = total\n",
        "  def __call__(self, trajectory):\n",
        "    if not trajectory.is_boundary():\n",
        "      self.counter += 1\n",
        "    if self.counter % 1000 == 0:\n",
        "      print(\"\\r{}/{}\".format(self.counter, self.total), end=\"\")"
      ]
    },
    {
      "cell_type": "code",
      "execution_count": null,
      "metadata": {
        "colab": {
          "base_uri": "https://localhost:8080/"
        },
        "id": "OG-QLHcbk9iU",
        "outputId": "73345151-9dec-42db-aef1-b6d923bce028"
      },
      "outputs": [
        {
          "name": "stdout",
          "output_type": "stream",
          "text": [
            "\r1000/1000"
          ]
        }
      ],
      "source": [
        "initial_collect_policy = RandomTFPolicy(tf_env.time_step_spec(),tf_env.action_spec())\n",
        "\n",
        "init_driver = DynamicStepDriver(tf_env,initial_collect_policy,\n",
        "                                observers=[replay_buffer.add_batch, ShowProgress(1000)],\n",
        "                                num_steps=1000)\n",
        "\n",
        "final_time_step,final_policy_state = init_driver.run()"
      ]
    },
    {
      "cell_type": "code",
      "execution_count": null,
      "metadata": {
        "id": "hlwlxv-zlp0a"
      },
      "outputs": [],
      "source": [
        "dataset = replay_buffer.as_dataset(sample_batch_size = 64,\n",
        "                                   num_steps = 2,\n",
        "                                   num_parallel_calls=3).prefetch(3)"
      ]
    },
    {
      "cell_type": "code",
      "execution_count": null,
      "metadata": {
        "id": "RUjovVI5lr-9"
      },
      "outputs": [],
      "source": [
        "def agent_train(n_iterations):\n",
        "  time_step = None\n",
        "  policy_state = agent. collect_policy.get_initial_state (tf_env.batch_size)\n",
        "  iterator = iter (dataset)\n",
        "  for iteration in range (n_iterations):\n",
        "    time_step, policy_state = collect_driver.run(time_step, policy_state)\n",
        "    trajectories, buffer_info = next (iterator)\n",
        "    train_loss = agent.train(trajectories)\n",
        "    print(\"\\r{} loss:{:.5f}\".format(\n",
        "        iteration, train_loss.loss.numpy()\n",
        "    ),end=\"\")\n",
        "\n",
        "    if iteration & 1000 == 0:\n",
        "      log_metrics(train_metrics)"
      ]
    },
    {
      "cell_type": "code",
      "execution_count": null,
      "metadata": {
        "colab": {
          "background_save": true,
          "base_uri": "https://localhost:8080/"
        },
        "id": "O5A9pj6Xlw0E",
        "outputId": "d761788e-3248-4a4b-96fe-e80ff96f5301"
      },
      "outputs": [
        {
          "name": "stderr",
          "output_type": "stream",
          "text": [
            "INFO:absl: \n",
            "\t\t NumberOfEpisodes = 27\n",
            "\t\t EnvironmentSteps = 16165\n",
            "\t\t AverageReturn = -92.6151351928711\n",
            "\t\t AverageEpisodeLength = 708.5\n",
            "INFO:absl: \n",
            "\t\t NumberOfEpisodes = 27\n",
            "\t\t EnvironmentSteps = 16169\n",
            "\t\t AverageReturn = -92.6151351928711\n",
            "\t\t AverageEpisodeLength = 708.5\n"
          ]
        },
        {
          "name": "stdout",
          "output_type": "stream",
          "text": [
            "\r0 loss:0.78550\r1 loss:0.78589"
          ]
        },
        {
          "name": "stderr",
          "output_type": "stream",
          "text": [
            "INFO:absl: \n",
            "\t\t NumberOfEpisodes = 27\n",
            "\t\t EnvironmentSteps = 16173\n",
            "\t\t AverageReturn = -92.6151351928711\n",
            "\t\t AverageEpisodeLength = 708.5\n",
            "INFO:absl: \n",
            "\t\t NumberOfEpisodes = 27\n",
            "\t\t EnvironmentSteps = 16177\n",
            "\t\t AverageReturn = -92.6151351928711\n",
            "\t\t AverageEpisodeLength = 708.5\n"
          ]
        },
        {
          "name": "stdout",
          "output_type": "stream",
          "text": [
            "\r2 loss:1.10389\r3 loss:1.07372"
          ]
        },
        {
          "name": "stderr",
          "output_type": "stream",
          "text": [
            "INFO:absl: \n",
            "\t\t NumberOfEpisodes = 27\n",
            "\t\t EnvironmentSteps = 16181\n",
            "\t\t AverageReturn = -92.6151351928711\n",
            "\t\t AverageEpisodeLength = 708.5\n",
            "INFO:absl: \n",
            "\t\t NumberOfEpisodes = 27\n",
            "\t\t EnvironmentSteps = 16185\n",
            "\t\t AverageReturn = -92.6151351928711\n",
            "\t\t AverageEpisodeLength = 708.5\n"
          ]
        },
        {
          "name": "stdout",
          "output_type": "stream",
          "text": [
            "\r4 loss:0.74335\r5 loss:0.88630"
          ]
        },
        {
          "name": "stderr",
          "output_type": "stream",
          "text": [
            "INFO:absl: \n",
            "\t\t NumberOfEpisodes = 27\n",
            "\t\t EnvironmentSteps = 16189\n",
            "\t\t AverageReturn = -92.6151351928711\n",
            "\t\t AverageEpisodeLength = 708.5\n",
            "INFO:absl: \n",
            "\t\t NumberOfEpisodes = 27\n",
            "\t\t EnvironmentSteps = 16193\n",
            "\t\t AverageReturn = -92.6151351928711\n",
            "\t\t AverageEpisodeLength = 708.5\n"
          ]
        },
        {
          "name": "stdout",
          "output_type": "stream",
          "text": [
            "15 loss:0.56667"
          ]
        },
        {
          "name": "stderr",
          "output_type": "stream",
          "text": [
            "INFO:absl: \n",
            "\t\t NumberOfEpisodes = 27\n",
            "\t\t EnvironmentSteps = 16229\n",
            "\t\t AverageReturn = -92.6151351928711\n",
            "\t\t AverageEpisodeLength = 708.5\n",
            "INFO:absl: \n",
            "\t\t NumberOfEpisodes = 27\n",
            "\t\t EnvironmentSteps = 16233\n",
            "\t\t AverageReturn = -92.6151351928711\n",
            "\t\t AverageEpisodeLength = 708.5\n"
          ]
        },
        {
          "name": "stdout",
          "output_type": "stream",
          "text": [
            "\r16 loss:1.09421\r17 loss:0.76072"
          ]
        },
        {
          "name": "stderr",
          "output_type": "stream",
          "text": [
            "INFO:absl: \n",
            "\t\t NumberOfEpisodes = 27\n",
            "\t\t EnvironmentSteps = 16237\n",
            "\t\t AverageReturn = -92.6151351928711\n",
            "\t\t AverageEpisodeLength = 708.5\n",
            "INFO:absl: \n",
            "\t\t NumberOfEpisodes = 27\n",
            "\t\t EnvironmentSteps = 16241\n",
            "\t\t AverageReturn = -92.6151351928711\n",
            "\t\t AverageEpisodeLength = 708.5\n"
          ]
        },
        {
          "name": "stdout",
          "output_type": "stream",
          "text": [
            "\r18 loss:0.77759\r19 loss:0.74529"
          ]
        },
        {
          "name": "stderr",
          "output_type": "stream",
          "text": [
            "INFO:absl: \n",
            "\t\t NumberOfEpisodes = 27\n",
            "\t\t EnvironmentSteps = 16245\n",
            "\t\t AverageReturn = -92.6151351928711\n",
            "\t\t AverageEpisodeLength = 708.5\n",
            "INFO:absl: \n",
            "\t\t NumberOfEpisodes = 27\n",
            "\t\t EnvironmentSteps = 16249\n",
            "\t\t AverageReturn = -92.6151351928711\n",
            "\t\t AverageEpisodeLength = 708.5\n"
          ]
        },
        {
          "name": "stdout",
          "output_type": "stream",
          "text": [
            "\r20 loss:1.01325\r21 loss:0.61775"
          ]
        },
        {
          "name": "stderr",
          "output_type": "stream",
          "text": [
            "INFO:absl: \n",
            "\t\t NumberOfEpisodes = 27\n",
            "\t\t EnvironmentSteps = 16253\n",
            "\t\t AverageReturn = -92.6151351928711\n",
            "\t\t AverageEpisodeLength = 708.5\n",
            "INFO:absl: \n",
            "\t\t NumberOfEpisodes = 27\n",
            "\t\t EnvironmentSteps = 16257\n",
            "\t\t AverageReturn = -92.6151351928711\n",
            "\t\t AverageEpisodeLength = 708.5\n"
          ]
        },
        {
          "name": "stdout",
          "output_type": "stream",
          "text": [
            "1023 loss:4.53872"
          ]
        },
        {
          "name": "stderr",
          "output_type": "stream",
          "text": [
            "INFO:absl: \n",
            "\t\t NumberOfEpisodes = 32\n",
            "\t\t EnvironmentSteps = 20261\n",
            "\t\t AverageReturn = -105.4632568359375\n",
            "\t\t AverageEpisodeLength = 694.7000122070312\n",
            "INFO:absl: \n",
            "\t\t NumberOfEpisodes = 32\n",
            "\t\t EnvironmentSteps = 20265\n",
            "\t\t AverageReturn = -105.4632568359375\n",
            "\t\t AverageEpisodeLength = 694.7000122070312\n"
          ]
        },
        {
          "name": "stdout",
          "output_type": "stream",
          "text": [
            "\r1024 loss:0.99181\r1025 loss:0.88782"
          ]
        },
        {
          "name": "stderr",
          "output_type": "stream",
          "text": [
            "INFO:absl: \n",
            "\t\t NumberOfEpisodes = 32\n",
            "\t\t EnvironmentSteps = 20269\n",
            "\t\t AverageReturn = -105.4632568359375\n",
            "\t\t AverageEpisodeLength = 694.7000122070312\n",
            "INFO:absl: \n",
            "\t\t NumberOfEpisodes = 32\n",
            "\t\t EnvironmentSteps = 20273\n",
            "\t\t AverageReturn = -105.4632568359375\n",
            "\t\t AverageEpisodeLength = 694.7000122070312\n"
          ]
        },
        {
          "name": "stdout",
          "output_type": "stream",
          "text": [
            "\r1026 loss:3.58199\r1027 loss:1.96413"
          ]
        },
        {
          "name": "stderr",
          "output_type": "stream",
          "text": [
            "INFO:absl: \n",
            "\t\t NumberOfEpisodes = 32\n",
            "\t\t EnvironmentSteps = 20277\n",
            "\t\t AverageReturn = -105.4632568359375\n",
            "\t\t AverageEpisodeLength = 694.7000122070312\n",
            "INFO:absl: \n",
            "\t\t NumberOfEpisodes = 32\n",
            "\t\t EnvironmentSteps = 20281\n",
            "\t\t AverageReturn = -105.4632568359375\n",
            "\t\t AverageEpisodeLength = 694.7000122070312\n"
          ]
        },
        {
          "name": "stdout",
          "output_type": "stream",
          "text": [
            "\r1028 loss:2.03396\r1029 loss:1.19119"
          ]
        },
        {
          "name": "stderr",
          "output_type": "stream",
          "text": [
            "INFO:absl: \n",
            "\t\t NumberOfEpisodes = 32\n",
            "\t\t EnvironmentSteps = 20285\n",
            "\t\t AverageReturn = -105.4632568359375\n",
            "\t\t AverageEpisodeLength = 694.7000122070312\n",
            "INFO:absl: \n",
            "\t\t NumberOfEpisodes = 32\n",
            "\t\t EnvironmentSteps = 20289\n",
            "\t\t AverageReturn = -105.4632568359375\n",
            "\t\t AverageEpisodeLength = 694.7000122070312\n"
          ]
        },
        {
          "name": "stdout",
          "output_type": "stream",
          "text": [
            "1039 loss:0.78177"
          ]
        },
        {
          "name": "stderr",
          "output_type": "stream",
          "text": [
            "INFO:absl: \n",
            "\t\t NumberOfEpisodes = 32\n",
            "\t\t EnvironmentSteps = 20325\n",
            "\t\t AverageReturn = -105.4632568359375\n",
            "\t\t AverageEpisodeLength = 694.7000122070312\n",
            "INFO:absl: \n",
            "\t\t NumberOfEpisodes = 32\n",
            "\t\t EnvironmentSteps = 20329\n",
            "\t\t AverageReturn = -105.4632568359375\n",
            "\t\t AverageEpisodeLength = 694.7000122070312\n"
          ]
        },
        {
          "name": "stdout",
          "output_type": "stream",
          "text": [
            "\r1040 loss:29.64400\r1041 loss:0.93639"
          ]
        },
        {
          "name": "stderr",
          "output_type": "stream",
          "text": [
            "INFO:absl: \n",
            "\t\t NumberOfEpisodes = 32\n",
            "\t\t EnvironmentSteps = 20333\n",
            "\t\t AverageReturn = -105.4632568359375\n",
            "\t\t AverageEpisodeLength = 694.7000122070312\n",
            "INFO:absl: \n",
            "\t\t NumberOfEpisodes = 32\n",
            "\t\t EnvironmentSteps = 20337\n",
            "\t\t AverageReturn = -105.4632568359375\n",
            "\t\t AverageEpisodeLength = 694.7000122070312\n"
          ]
        },
        {
          "name": "stdout",
          "output_type": "stream",
          "text": [
            "\r1042 loss:16.87159\r1043 loss:2.77325"
          ]
        },
        {
          "name": "stderr",
          "output_type": "stream",
          "text": [
            "INFO:absl: \n",
            "\t\t NumberOfEpisodes = 32\n",
            "\t\t EnvironmentSteps = 20341\n",
            "\t\t AverageReturn = -105.4632568359375\n",
            "\t\t AverageEpisodeLength = 694.7000122070312\n",
            "INFO:absl: \n",
            "\t\t NumberOfEpisodes = 32\n",
            "\t\t EnvironmentSteps = 20345\n",
            "\t\t AverageReturn = -105.4632568359375\n",
            "\t\t AverageEpisodeLength = 694.7000122070312\n"
          ]
        },
        {
          "name": "stdout",
          "output_type": "stream",
          "text": [
            "\r1044 loss:9.95724\r1045 loss:15.06359"
          ]
        },
        {
          "name": "stderr",
          "output_type": "stream",
          "text": [
            "INFO:absl: \n",
            "\t\t NumberOfEpisodes = 32\n",
            "\t\t EnvironmentSteps = 20349\n",
            "\t\t AverageReturn = -105.4632568359375\n",
            "\t\t AverageEpisodeLength = 694.7000122070312\n",
            "INFO:absl: \n",
            "\t\t NumberOfEpisodes = 32\n",
            "\t\t EnvironmentSteps = 20353\n",
            "\t\t AverageReturn = -105.4632568359375\n",
            "\t\t AverageEpisodeLength = 694.7000122070312\n"
          ]
        },
        {
          "name": "stdout",
          "output_type": "stream",
          "text": [
            "2047 loss:94.91611"
          ]
        },
        {
          "name": "stderr",
          "output_type": "stream",
          "text": [
            "INFO:absl: \n",
            "\t\t NumberOfEpisodes = 46\n",
            "\t\t EnvironmentSteps = 24357\n",
            "\t\t AverageReturn = -391.6043395996094\n",
            "\t\t AverageEpisodeLength = 110.5999984741211\n",
            "INFO:absl: \n",
            "\t\t NumberOfEpisodes = 46\n",
            "\t\t EnvironmentSteps = 24361\n",
            "\t\t AverageReturn = -391.6043395996094\n",
            "\t\t AverageEpisodeLength = 110.5999984741211\n"
          ]
        },
        {
          "name": "stdout",
          "output_type": "stream",
          "text": [
            "\r2048 loss:138.21466\r2049 loss:103.12865"
          ]
        },
        {
          "name": "stderr",
          "output_type": "stream",
          "text": [
            "INFO:absl: \n",
            "\t\t NumberOfEpisodes = 46\n",
            "\t\t EnvironmentSteps = 24365\n",
            "\t\t AverageReturn = -391.6043395996094\n",
            "\t\t AverageEpisodeLength = 110.5999984741211\n",
            "INFO:absl: \n",
            "\t\t NumberOfEpisodes = 46\n",
            "\t\t EnvironmentSteps = 24369\n",
            "\t\t AverageReturn = -391.6043395996094\n",
            "\t\t AverageEpisodeLength = 110.5999984741211\n"
          ]
        },
        {
          "name": "stdout",
          "output_type": "stream",
          "text": [
            "\r2050 loss:85.19766\r2051 loss:130.76019"
          ]
        },
        {
          "name": "stderr",
          "output_type": "stream",
          "text": [
            "INFO:absl: \n",
            "\t\t NumberOfEpisodes = 46\n",
            "\t\t EnvironmentSteps = 24373\n",
            "\t\t AverageReturn = -391.6043395996094\n",
            "\t\t AverageEpisodeLength = 110.5999984741211\n",
            "INFO:absl: \n",
            "\t\t NumberOfEpisodes = 46\n",
            "\t\t EnvironmentSteps = 24377\n",
            "\t\t AverageReturn = -391.6043395996094\n",
            "\t\t AverageEpisodeLength = 110.5999984741211\n"
          ]
        },
        {
          "name": "stdout",
          "output_type": "stream",
          "text": [
            "\r2052 loss:101.39941\r2053 loss:75.60481"
          ]
        },
        {
          "name": "stderr",
          "output_type": "stream",
          "text": [
            "INFO:absl: \n",
            "\t\t NumberOfEpisodes = 46\n",
            "\t\t EnvironmentSteps = 24381\n",
            "\t\t AverageReturn = -391.6043395996094\n",
            "\t\t AverageEpisodeLength = 110.5999984741211\n",
            "INFO:absl: \n",
            "\t\t NumberOfEpisodes = 46\n",
            "\t\t EnvironmentSteps = 24385\n",
            "\t\t AverageReturn = -391.6043395996094\n",
            "\t\t AverageEpisodeLength = 110.5999984741211\n"
          ]
        },
        {
          "name": "stdout",
          "output_type": "stream",
          "text": [
            "2063 loss:146.72485"
          ]
        },
        {
          "name": "stderr",
          "output_type": "stream",
          "text": [
            "INFO:absl: \n",
            "\t\t NumberOfEpisodes = 46\n",
            "\t\t EnvironmentSteps = 24421\n",
            "\t\t AverageReturn = -391.6043395996094\n",
            "\t\t AverageEpisodeLength = 110.5999984741211\n",
            "INFO:absl: \n",
            "\t\t NumberOfEpisodes = 47\n",
            "\t\t EnvironmentSteps = 24425\n",
            "\t\t AverageReturn = -372.94488525390625\n",
            "\t\t AverageEpisodeLength = 108.19999694824219\n"
          ]
        },
        {
          "name": "stdout",
          "output_type": "stream",
          "text": [
            "\r2064 loss:116.66991\r2065 loss:4027.01636"
          ]
        },
        {
          "name": "stderr",
          "output_type": "stream",
          "text": [
            "INFO:absl: \n",
            "\t\t NumberOfEpisodes = 47\n",
            "\t\t EnvironmentSteps = 24429\n",
            "\t\t AverageReturn = -372.94488525390625\n",
            "\t\t AverageEpisodeLength = 108.19999694824219\n",
            "INFO:absl: \n",
            "\t\t NumberOfEpisodes = 47\n",
            "\t\t EnvironmentSteps = 24433\n",
            "\t\t AverageReturn = -372.94488525390625\n",
            "\t\t AverageEpisodeLength = 108.19999694824219\n"
          ]
        },
        {
          "name": "stdout",
          "output_type": "stream",
          "text": [
            "\r2066 loss:481.52365\r2067 loss:183.10619"
          ]
        },
        {
          "name": "stderr",
          "output_type": "stream",
          "text": [
            "INFO:absl: \n",
            "\t\t NumberOfEpisodes = 47\n",
            "\t\t EnvironmentSteps = 24437\n",
            "\t\t AverageReturn = -372.94488525390625\n",
            "\t\t AverageEpisodeLength = 108.19999694824219\n",
            "INFO:absl: \n",
            "\t\t NumberOfEpisodes = 47\n",
            "\t\t EnvironmentSteps = 24441\n",
            "\t\t AverageReturn = -372.94488525390625\n",
            "\t\t AverageEpisodeLength = 108.19999694824219\n"
          ]
        },
        {
          "name": "stdout",
          "output_type": "stream",
          "text": [
            "\r2068 loss:166.17096\r2069 loss:257.40491"
          ]
        },
        {
          "name": "stderr",
          "output_type": "stream",
          "text": [
            "INFO:absl: \n",
            "\t\t NumberOfEpisodes = 47\n",
            "\t\t EnvironmentSteps = 24445\n",
            "\t\t AverageReturn = -372.94488525390625\n",
            "\t\t AverageEpisodeLength = 108.19999694824219\n",
            "INFO:absl: \n",
            "\t\t NumberOfEpisodes = 47\n",
            "\t\t EnvironmentSteps = 24449\n",
            "\t\t AverageReturn = -372.94488525390625\n",
            "\t\t AverageEpisodeLength = 108.19999694824219\n"
          ]
        },
        {
          "name": "stdout",
          "output_type": "stream",
          "text": [
            "3071 loss:82.60675"
          ]
        },
        {
          "name": "stderr",
          "output_type": "stream",
          "text": [
            "INFO:absl: \n",
            "\t\t NumberOfEpisodes = 63\n",
            "\t\t EnvironmentSteps = 28453\n",
            "\t\t AverageReturn = -211.7008819580078\n",
            "\t\t AverageEpisodeLength = 248.89999389648438\n",
            "INFO:absl: \n",
            "\t\t NumberOfEpisodes = 63\n",
            "\t\t EnvironmentSteps = 28457\n",
            "\t\t AverageReturn = -211.7008819580078\n",
            "\t\t AverageEpisodeLength = 248.89999389648438\n"
          ]
        },
        {
          "name": "stdout",
          "output_type": "stream",
          "text": [
            "\r3072 loss:15.54984\r3073 loss:36.11250"
          ]
        },
        {
          "name": "stderr",
          "output_type": "stream",
          "text": [
            "INFO:absl: \n",
            "\t\t NumberOfEpisodes = 63\n",
            "\t\t EnvironmentSteps = 28461\n",
            "\t\t AverageReturn = -211.7008819580078\n",
            "\t\t AverageEpisodeLength = 248.89999389648438\n",
            "INFO:absl: \n",
            "\t\t NumberOfEpisodes = 63\n",
            "\t\t EnvironmentSteps = 28465\n",
            "\t\t AverageReturn = -211.7008819580078\n",
            "\t\t AverageEpisodeLength = 248.89999389648438\n"
          ]
        },
        {
          "name": "stdout",
          "output_type": "stream",
          "text": [
            "\r3074 loss:31.87760\r3075 loss:13.97506"
          ]
        },
        {
          "name": "stderr",
          "output_type": "stream",
          "text": [
            "INFO:absl: \n",
            "\t\t NumberOfEpisodes = 63\n",
            "\t\t EnvironmentSteps = 28469\n",
            "\t\t AverageReturn = -211.7008819580078\n",
            "\t\t AverageEpisodeLength = 248.89999389648438\n",
            "INFO:absl: \n",
            "\t\t NumberOfEpisodes = 63\n",
            "\t\t EnvironmentSteps = 28473\n",
            "\t\t AverageReturn = -211.7008819580078\n",
            "\t\t AverageEpisodeLength = 248.89999389648438\n"
          ]
        },
        {
          "name": "stdout",
          "output_type": "stream",
          "text": [
            "\r3076 loss:11.98622\r3077 loss:299.03604"
          ]
        },
        {
          "name": "stderr",
          "output_type": "stream",
          "text": [
            "INFO:absl: \n",
            "\t\t NumberOfEpisodes = 63\n",
            "\t\t EnvironmentSteps = 28477\n",
            "\t\t AverageReturn = -211.7008819580078\n",
            "\t\t AverageEpisodeLength = 248.89999389648438\n",
            "INFO:absl: \n",
            "\t\t NumberOfEpisodes = 63\n",
            "\t\t EnvironmentSteps = 28481\n",
            "\t\t AverageReturn = -211.7008819580078\n",
            "\t\t AverageEpisodeLength = 248.89999389648438\n"
          ]
        },
        {
          "name": "stdout",
          "output_type": "stream",
          "text": [
            "3087 loss:16.69187"
          ]
        },
        {
          "name": "stderr",
          "output_type": "stream",
          "text": [
            "INFO:absl: \n",
            "\t\t NumberOfEpisodes = 63\n",
            "\t\t EnvironmentSteps = 28517\n",
            "\t\t AverageReturn = -211.7008819580078\n",
            "\t\t AverageEpisodeLength = 248.89999389648438\n",
            "INFO:absl: \n",
            "\t\t NumberOfEpisodes = 63\n",
            "\t\t EnvironmentSteps = 28521\n",
            "\t\t AverageReturn = -211.7008819580078\n",
            "\t\t AverageEpisodeLength = 248.89999389648438\n"
          ]
        },
        {
          "name": "stdout",
          "output_type": "stream",
          "text": [
            "\r3088 loss:12.57019\r3089 loss:28.51167"
          ]
        },
        {
          "name": "stderr",
          "output_type": "stream",
          "text": [
            "INFO:absl: \n",
            "\t\t NumberOfEpisodes = 63\n",
            "\t\t EnvironmentSteps = 28525\n",
            "\t\t AverageReturn = -211.7008819580078\n",
            "\t\t AverageEpisodeLength = 248.89999389648438\n",
            "INFO:absl: \n",
            "\t\t NumberOfEpisodes = 63\n",
            "\t\t EnvironmentSteps = 28529\n",
            "\t\t AverageReturn = -211.7008819580078\n",
            "\t\t AverageEpisodeLength = 248.89999389648438\n"
          ]
        },
        {
          "name": "stdout",
          "output_type": "stream",
          "text": [
            "\r3090 loss:824.72021\r3091 loss:88.15086"
          ]
        },
        {
          "name": "stderr",
          "output_type": "stream",
          "text": [
            "INFO:absl: \n",
            "\t\t NumberOfEpisodes = 63\n",
            "\t\t EnvironmentSteps = 28533\n",
            "\t\t AverageReturn = -211.7008819580078\n",
            "\t\t AverageEpisodeLength = 248.89999389648438\n",
            "INFO:absl: \n",
            "\t\t NumberOfEpisodes = 63\n",
            "\t\t EnvironmentSteps = 28537\n",
            "\t\t AverageReturn = -211.7008819580078\n",
            "\t\t AverageEpisodeLength = 248.89999389648438\n"
          ]
        },
        {
          "name": "stdout",
          "output_type": "stream",
          "text": [
            "\r3092 loss:9.21876\r3093 loss:14.85784"
          ]
        },
        {
          "name": "stderr",
          "output_type": "stream",
          "text": [
            "INFO:absl: \n",
            "\t\t NumberOfEpisodes = 63\n",
            "\t\t EnvironmentSteps = 28541\n",
            "\t\t AverageReturn = -211.7008819580078\n",
            "\t\t AverageEpisodeLength = 248.89999389648438\n",
            "INFO:absl: \n",
            "\t\t NumberOfEpisodes = 63\n",
            "\t\t EnvironmentSteps = 28545\n",
            "\t\t AverageReturn = -211.7008819580078\n",
            "\t\t AverageEpisodeLength = 248.89999389648438\n"
          ]
        },
        {
          "name": "stdout",
          "output_type": "stream",
          "text": [
            "4094 loss:10.92957"
          ]
        },
        {
          "name": "stderr",
          "output_type": "stream",
          "text": [
            "INFO:absl: \n",
            "\t\t NumberOfEpisodes = 73\n",
            "\t\t EnvironmentSteps = 32549\n",
            "\t\t AverageReturn = -299.6785583496094\n",
            "\t\t AverageEpisodeLength = 398.70001220703125\n"
          ]
        },
        {
          "name": "stdout",
          "output_type": "stream",
          "text": [
            "\r4095 loss:11.90665\r4096 loss:7.78844"
          ]
        },
        {
          "name": "stderr",
          "output_type": "stream",
          "text": [
            "INFO:absl: \n",
            "\t\t NumberOfEpisodes = 73\n",
            "\t\t EnvironmentSteps = 32553\n",
            "\t\t AverageReturn = -299.6785583496094\n",
            "\t\t AverageEpisodeLength = 398.70001220703125\n",
            "INFO:absl: \n",
            "\t\t NumberOfEpisodes = 73\n",
            "\t\t EnvironmentSteps = 32557\n",
            "\t\t AverageReturn = -299.6785583496094\n",
            "\t\t AverageEpisodeLength = 398.70001220703125\n"
          ]
        },
        {
          "name": "stdout",
          "output_type": "stream",
          "text": [
            "\r4097 loss:8.24247\r4098 loss:13.67406"
          ]
        },
        {
          "name": "stderr",
          "output_type": "stream",
          "text": [
            "INFO:absl: \n",
            "\t\t NumberOfEpisodes = 73\n",
            "\t\t EnvironmentSteps = 32561\n",
            "\t\t AverageReturn = -299.6785583496094\n",
            "\t\t AverageEpisodeLength = 398.70001220703125\n",
            "INFO:absl: \n",
            "\t\t NumberOfEpisodes = 73\n",
            "\t\t EnvironmentSteps = 32565\n",
            "\t\t AverageReturn = -299.6785583496094\n",
            "\t\t AverageEpisodeLength = 398.70001220703125\n"
          ]
        },
        {
          "name": "stdout",
          "output_type": "stream",
          "text": [
            "\r4099 loss:630.46991\r4100 loss:17.09004"
          ]
        },
        {
          "name": "stderr",
          "output_type": "stream",
          "text": [
            "INFO:absl: \n",
            "\t\t NumberOfEpisodes = 73\n",
            "\t\t EnvironmentSteps = 32569\n",
            "\t\t AverageReturn = -299.6785583496094\n",
            "\t\t AverageEpisodeLength = 398.70001220703125\n",
            "INFO:absl: \n",
            "\t\t NumberOfEpisodes = 73\n",
            "\t\t EnvironmentSteps = 32573\n",
            "\t\t AverageReturn = -299.6785583496094\n",
            "\t\t AverageEpisodeLength = 398.70001220703125\n"
          ]
        },
        {
          "name": "stdout",
          "output_type": "stream",
          "text": [
            "\r4101 loss:33.62122\r4102 loss:18.48000"
          ]
        },
        {
          "name": "stderr",
          "output_type": "stream",
          "text": [
            "INFO:absl: \n",
            "\t\t NumberOfEpisodes = 73\n",
            "\t\t EnvironmentSteps = 32577\n",
            "\t\t AverageReturn = -299.6785583496094\n",
            "\t\t AverageEpisodeLength = 398.70001220703125\n"
          ]
        },
        {
          "name": "stdout",
          "output_type": "stream",
          "text": [
            "4110 loss:6.07340"
          ]
        },
        {
          "name": "stderr",
          "output_type": "stream",
          "text": [
            "INFO:absl: \n",
            "\t\t NumberOfEpisodes = 73\n",
            "\t\t EnvironmentSteps = 32613\n",
            "\t\t AverageReturn = -299.6785583496094\n",
            "\t\t AverageEpisodeLength = 398.70001220703125\n"
          ]
        },
        {
          "name": "stdout",
          "output_type": "stream",
          "text": [
            "\r4111 loss:6.60541\r4112 loss:5.96097"
          ]
        },
        {
          "name": "stderr",
          "output_type": "stream",
          "text": [
            "INFO:absl: \n",
            "\t\t NumberOfEpisodes = 74\n",
            "\t\t EnvironmentSteps = 32617\n",
            "\t\t AverageReturn = -283.34173583984375\n",
            "\t\t AverageEpisodeLength = 374.6000061035156\n",
            "INFO:absl: \n",
            "\t\t NumberOfEpisodes = 74\n",
            "\t\t EnvironmentSteps = 32621\n",
            "\t\t AverageReturn = -283.34173583984375\n",
            "\t\t AverageEpisodeLength = 374.6000061035156\n"
          ]
        },
        {
          "name": "stdout",
          "output_type": "stream",
          "text": [
            "\r4113 loss:190.84802\r4114 loss:255.96964"
          ]
        },
        {
          "name": "stderr",
          "output_type": "stream",
          "text": [
            "INFO:absl: \n",
            "\t\t NumberOfEpisodes = 74\n",
            "\t\t EnvironmentSteps = 32625\n",
            "\t\t AverageReturn = -283.34173583984375\n",
            "\t\t AverageEpisodeLength = 374.6000061035156\n",
            "INFO:absl: \n",
            "\t\t NumberOfEpisodes = 74\n",
            "\t\t EnvironmentSteps = 32629\n",
            "\t\t AverageReturn = -283.34173583984375\n",
            "\t\t AverageEpisodeLength = 374.6000061035156\n"
          ]
        },
        {
          "name": "stdout",
          "output_type": "stream",
          "text": [
            "\r4115 loss:10.79954\r4116 loss:737.76147"
          ]
        },
        {
          "name": "stderr",
          "output_type": "stream",
          "text": [
            "INFO:absl: \n",
            "\t\t NumberOfEpisodes = 74\n",
            "\t\t EnvironmentSteps = 32633\n",
            "\t\t AverageReturn = -283.34173583984375\n",
            "\t\t AverageEpisodeLength = 374.6000061035156\n",
            "INFO:absl: \n",
            "\t\t NumberOfEpisodes = 74\n",
            "\t\t EnvironmentSteps = 32637\n",
            "\t\t AverageReturn = -283.34173583984375\n",
            "\t\t AverageEpisodeLength = 374.6000061035156\n"
          ]
        },
        {
          "name": "stdout",
          "output_type": "stream",
          "text": [
            "\r4117 loss:10.42562\r4118 loss:179.82866"
          ]
        },
        {
          "name": "stderr",
          "output_type": "stream",
          "text": [
            "INFO:absl: \n",
            "\t\t NumberOfEpisodes = 74\n",
            "\t\t EnvironmentSteps = 32641\n",
            "\t\t AverageReturn = -283.34173583984375\n",
            "\t\t AverageEpisodeLength = 374.6000061035156\n"
          ]
        },
        {
          "name": "stdout",
          "output_type": "stream",
          "text": [
            "5118 loss:1.60905"
          ]
        },
        {
          "name": "stderr",
          "output_type": "stream",
          "text": [
            "INFO:absl: \n",
            "\t\t NumberOfEpisodes = 79\n",
            "\t\t EnvironmentSteps = 36645\n",
            "\t\t AverageReturn = -205.617431640625\n",
            "\t\t AverageEpisodeLength = 489.5\n"
          ]
        },
        {
          "name": "stdout",
          "output_type": "stream",
          "text": [
            "\r5119 loss:1.51689\r5120 loss:1.33018"
          ]
        },
        {
          "name": "stderr",
          "output_type": "stream",
          "text": [
            "INFO:absl: \n",
            "\t\t NumberOfEpisodes = 79\n",
            "\t\t EnvironmentSteps = 36649\n",
            "\t\t AverageReturn = -205.617431640625\n",
            "\t\t AverageEpisodeLength = 489.5\n",
            "INFO:absl: \n",
            "\t\t NumberOfEpisodes = 79\n",
            "\t\t EnvironmentSteps = 36653\n",
            "\t\t AverageReturn = -205.617431640625\n",
            "\t\t AverageEpisodeLength = 489.5\n"
          ]
        },
        {
          "name": "stdout",
          "output_type": "stream",
          "text": [
            "\r5121 loss:1.33592\r5122 loss:1.70251"
          ]
        },
        {
          "name": "stderr",
          "output_type": "stream",
          "text": [
            "INFO:absl: \n",
            "\t\t NumberOfEpisodes = 79\n",
            "\t\t EnvironmentSteps = 36657\n",
            "\t\t AverageReturn = -205.617431640625\n",
            "\t\t AverageEpisodeLength = 489.5\n",
            "INFO:absl: \n",
            "\t\t NumberOfEpisodes = 79\n",
            "\t\t EnvironmentSteps = 36661\n",
            "\t\t AverageReturn = -205.617431640625\n",
            "\t\t AverageEpisodeLength = 489.5\n"
          ]
        },
        {
          "name": "stdout",
          "output_type": "stream",
          "text": [
            "\r5123 loss:3.62017\r5124 loss:1.66939"
          ]
        },
        {
          "name": "stderr",
          "output_type": "stream",
          "text": [
            "INFO:absl: \n",
            "\t\t NumberOfEpisodes = 79\n",
            "\t\t EnvironmentSteps = 36665\n",
            "\t\t AverageReturn = -205.617431640625\n",
            "\t\t AverageEpisodeLength = 489.5\n",
            "INFO:absl: \n",
            "\t\t NumberOfEpisodes = 79\n",
            "\t\t EnvironmentSteps = 36669\n",
            "\t\t AverageReturn = -205.617431640625\n",
            "\t\t AverageEpisodeLength = 489.5\n"
          ]
        },
        {
          "name": "stdout",
          "output_type": "stream",
          "text": [
            "\r5125 loss:1.59565\r5126 loss:1.69741"
          ]
        },
        {
          "name": "stderr",
          "output_type": "stream",
          "text": [
            "INFO:absl: \n",
            "\t\t NumberOfEpisodes = 79\n",
            "\t\t EnvironmentSteps = 36673\n",
            "\t\t AverageReturn = -205.617431640625\n",
            "\t\t AverageEpisodeLength = 489.5\n"
          ]
        },
        {
          "name": "stdout",
          "output_type": "stream",
          "text": [
            "5134 loss:2.02478"
          ]
        },
        {
          "name": "stderr",
          "output_type": "stream",
          "text": [
            "INFO:absl: \n",
            "\t\t NumberOfEpisodes = 79\n",
            "\t\t EnvironmentSteps = 36709\n",
            "\t\t AverageReturn = -205.617431640625\n",
            "\t\t AverageEpisodeLength = 489.5\n"
          ]
        },
        {
          "name": "stdout",
          "output_type": "stream",
          "text": [
            "\r5135 loss:2.14278\r5136 loss:1.91926"
          ]
        },
        {
          "name": "stderr",
          "output_type": "stream",
          "text": [
            "INFO:absl: \n",
            "\t\t NumberOfEpisodes = 79\n",
            "\t\t EnvironmentSteps = 36713\n",
            "\t\t AverageReturn = -205.617431640625\n",
            "\t\t AverageEpisodeLength = 489.5\n",
            "INFO:absl: \n",
            "\t\t NumberOfEpisodes = 79\n",
            "\t\t EnvironmentSteps = 36717\n",
            "\t\t AverageReturn = -205.617431640625\n",
            "\t\t AverageEpisodeLength = 489.5\n"
          ]
        },
        {
          "name": "stdout",
          "output_type": "stream",
          "text": [
            "\r5137 loss:1.95396\r5138 loss:1.88539"
          ]
        },
        {
          "name": "stderr",
          "output_type": "stream",
          "text": [
            "INFO:absl: \n",
            "\t\t NumberOfEpisodes = 79\n",
            "\t\t EnvironmentSteps = 36721\n",
            "\t\t AverageReturn = -205.617431640625\n",
            "\t\t AverageEpisodeLength = 489.5\n",
            "INFO:absl: \n",
            "\t\t NumberOfEpisodes = 79\n",
            "\t\t EnvironmentSteps = 36725\n",
            "\t\t AverageReturn = -205.617431640625\n",
            "\t\t AverageEpisodeLength = 489.5\n"
          ]
        },
        {
          "name": "stdout",
          "output_type": "stream",
          "text": [
            "\r5139 loss:1.18448\r5140 loss:2.48300"
          ]
        },
        {
          "name": "stderr",
          "output_type": "stream",
          "text": [
            "INFO:absl: \n",
            "\t\t NumberOfEpisodes = 79\n",
            "\t\t EnvironmentSteps = 36729\n",
            "\t\t AverageReturn = -205.617431640625\n",
            "\t\t AverageEpisodeLength = 489.5\n",
            "INFO:absl: \n",
            "\t\t NumberOfEpisodes = 79\n",
            "\t\t EnvironmentSteps = 36733\n",
            "\t\t AverageReturn = -205.617431640625\n",
            "\t\t AverageEpisodeLength = 489.5\n"
          ]
        },
        {
          "name": "stdout",
          "output_type": "stream",
          "text": [
            "\r5141 loss:1.82769\r5142 loss:1.54968"
          ]
        },
        {
          "name": "stderr",
          "output_type": "stream",
          "text": [
            "INFO:absl: \n",
            "\t\t NumberOfEpisodes = 79\n",
            "\t\t EnvironmentSteps = 36737\n",
            "\t\t AverageReturn = -205.617431640625\n",
            "\t\t AverageEpisodeLength = 489.5\n"
          ]
        },
        {
          "name": "stdout",
          "output_type": "stream",
          "text": [
            "6142 loss:1.77975"
          ]
        },
        {
          "name": "stderr",
          "output_type": "stream",
          "text": [
            "INFO:absl: \n",
            "\t\t NumberOfEpisodes = 83\n",
            "\t\t EnvironmentSteps = 40741\n",
            "\t\t AverageReturn = -163.45700073242188\n",
            "\t\t AverageEpisodeLength = 762.0\n"
          ]
        },
        {
          "name": "stdout",
          "output_type": "stream",
          "text": [
            "\r6143 loss:1.63905\r6144 loss:1.53123"
          ]
        },
        {
          "name": "stderr",
          "output_type": "stream",
          "text": [
            "INFO:absl: \n",
            "\t\t NumberOfEpisodes = 83\n",
            "\t\t EnvironmentSteps = 40745\n",
            "\t\t AverageReturn = -163.45700073242188\n",
            "\t\t AverageEpisodeLength = 762.0\n",
            "INFO:absl: \n",
            "\t\t NumberOfEpisodes = 83\n",
            "\t\t EnvironmentSteps = 40749\n",
            "\t\t AverageReturn = -163.45700073242188\n",
            "\t\t AverageEpisodeLength = 762.0\n"
          ]
        },
        {
          "name": "stdout",
          "output_type": "stream",
          "text": [
            "\r6145 loss:1.39330\r6146 loss:1.44306"
          ]
        },
        {
          "name": "stderr",
          "output_type": "stream",
          "text": [
            "INFO:absl: \n",
            "\t\t NumberOfEpisodes = 83\n",
            "\t\t EnvironmentSteps = 40753\n",
            "\t\t AverageReturn = -163.45700073242188\n",
            "\t\t AverageEpisodeLength = 762.0\n",
            "INFO:absl: \n",
            "\t\t NumberOfEpisodes = 83\n",
            "\t\t EnvironmentSteps = 40757\n",
            "\t\t AverageReturn = -163.45700073242188\n",
            "\t\t AverageEpisodeLength = 762.0\n"
          ]
        },
        {
          "name": "stdout",
          "output_type": "stream",
          "text": [
            "\r6147 loss:1.29801\r6148 loss:1.00611"
          ]
        },
        {
          "name": "stderr",
          "output_type": "stream",
          "text": [
            "INFO:absl: \n",
            "\t\t NumberOfEpisodes = 83\n",
            "\t\t EnvironmentSteps = 40761\n",
            "\t\t AverageReturn = -163.45700073242188\n",
            "\t\t AverageEpisodeLength = 762.0\n",
            "INFO:absl: \n",
            "\t\t NumberOfEpisodes = 83\n",
            "\t\t EnvironmentSteps = 40765\n",
            "\t\t AverageReturn = -163.45700073242188\n",
            "\t\t AverageEpisodeLength = 762.0\n"
          ]
        },
        {
          "name": "stdout",
          "output_type": "stream",
          "text": [
            "\r6149 loss:0.97395\r6150 loss:0.91757"
          ]
        },
        {
          "name": "stderr",
          "output_type": "stream",
          "text": [
            "INFO:absl: \n",
            "\t\t NumberOfEpisodes = 83\n",
            "\t\t EnvironmentSteps = 40769\n",
            "\t\t AverageReturn = -163.45700073242188\n",
            "\t\t AverageEpisodeLength = 762.0\n"
          ]
        },
        {
          "name": "stdout",
          "output_type": "stream",
          "text": [
            "6158 loss:1.33314"
          ]
        },
        {
          "name": "stderr",
          "output_type": "stream",
          "text": [
            "INFO:absl: \n",
            "\t\t NumberOfEpisodes = 83\n",
            "\t\t EnvironmentSteps = 40805\n",
            "\t\t AverageReturn = -163.45700073242188\n",
            "\t\t AverageEpisodeLength = 762.0\n"
          ]
        },
        {
          "name": "stdout",
          "output_type": "stream",
          "text": [
            "\r6159 loss:1.11482\r6160 loss:1.47757"
          ]
        },
        {
          "name": "stderr",
          "output_type": "stream",
          "text": [
            "INFO:absl: \n",
            "\t\t NumberOfEpisodes = 83\n",
            "\t\t EnvironmentSteps = 40809\n",
            "\t\t AverageReturn = -163.45700073242188\n",
            "\t\t AverageEpisodeLength = 762.0\n",
            "INFO:absl: \n",
            "\t\t NumberOfEpisodes = 83\n",
            "\t\t EnvironmentSteps = 40813\n",
            "\t\t AverageReturn = -163.45700073242188\n",
            "\t\t AverageEpisodeLength = 762.0\n"
          ]
        },
        {
          "name": "stdout",
          "output_type": "stream",
          "text": [
            "\r6161 loss:1.20964\r6162 loss:1.23585"
          ]
        },
        {
          "name": "stderr",
          "output_type": "stream",
          "text": [
            "INFO:absl: \n",
            "\t\t NumberOfEpisodes = 83\n",
            "\t\t EnvironmentSteps = 40817\n",
            "\t\t AverageReturn = -163.45700073242188\n",
            "\t\t AverageEpisodeLength = 762.0\n",
            "INFO:absl: \n",
            "\t\t NumberOfEpisodes = 83\n",
            "\t\t EnvironmentSteps = 40821\n",
            "\t\t AverageReturn = -163.45700073242188\n",
            "\t\t AverageEpisodeLength = 762.0\n"
          ]
        },
        {
          "name": "stdout",
          "output_type": "stream",
          "text": [
            "\r6163 loss:1.31155\r6164 loss:1.22508"
          ]
        },
        {
          "name": "stderr",
          "output_type": "stream",
          "text": [
            "INFO:absl: \n",
            "\t\t NumberOfEpisodes = 83\n",
            "\t\t EnvironmentSteps = 40825\n",
            "\t\t AverageReturn = -163.45700073242188\n",
            "\t\t AverageEpisodeLength = 762.0\n",
            "INFO:absl: \n",
            "\t\t NumberOfEpisodes = 83\n",
            "\t\t EnvironmentSteps = 40829\n",
            "\t\t AverageReturn = -163.45700073242188\n",
            "\t\t AverageEpisodeLength = 762.0\n"
          ]
        },
        {
          "name": "stdout",
          "output_type": "stream",
          "text": [
            "\r6165 loss:1.44708\r6166 loss:1.44796"
          ]
        },
        {
          "name": "stderr",
          "output_type": "stream",
          "text": [
            "INFO:absl: \n",
            "\t\t NumberOfEpisodes = 83\n",
            "\t\t EnvironmentSteps = 40833\n",
            "\t\t AverageReturn = -163.45700073242188\n",
            "\t\t AverageEpisodeLength = 762.0\n"
          ]
        },
        {
          "name": "stdout",
          "output_type": "stream",
          "text": [
            "7166 loss:2.28010"
          ]
        },
        {
          "name": "stderr",
          "output_type": "stream",
          "text": [
            "INFO:absl: \n",
            "\t\t NumberOfEpisodes = 88\n",
            "\t\t EnvironmentSteps = 44837\n",
            "\t\t AverageReturn = -103.68408203125\n",
            "\t\t AverageEpisodeLength = 915.7999877929688\n"
          ]
        },
        {
          "name": "stdout",
          "output_type": "stream",
          "text": [
            "\r7167 loss:1.89758\r7168 loss:1.79208"
          ]
        },
        {
          "name": "stderr",
          "output_type": "stream",
          "text": [
            "INFO:absl: \n",
            "\t\t NumberOfEpisodes = 88\n",
            "\t\t EnvironmentSteps = 44841\n",
            "\t\t AverageReturn = -103.68408203125\n",
            "\t\t AverageEpisodeLength = 915.7999877929688\n",
            "INFO:absl: \n",
            "\t\t NumberOfEpisodes = 88\n",
            "\t\t EnvironmentSteps = 44845\n",
            "\t\t AverageReturn = -103.68408203125\n",
            "\t\t AverageEpisodeLength = 915.7999877929688\n"
          ]
        },
        {
          "name": "stdout",
          "output_type": "stream",
          "text": [
            "\r7169 loss:11.65394\r7170 loss:14.55269"
          ]
        },
        {
          "name": "stderr",
          "output_type": "stream",
          "text": [
            "INFO:absl: \n",
            "\t\t NumberOfEpisodes = 88\n",
            "\t\t EnvironmentSteps = 44849\n",
            "\t\t AverageReturn = -103.68408203125\n",
            "\t\t AverageEpisodeLength = 915.7999877929688\n",
            "INFO:absl: \n",
            "\t\t NumberOfEpisodes = 88\n",
            "\t\t EnvironmentSteps = 44853\n",
            "\t\t AverageReturn = -103.68408203125\n",
            "\t\t AverageEpisodeLength = 915.7999877929688\n"
          ]
        },
        {
          "name": "stdout",
          "output_type": "stream",
          "text": [
            "\r7171 loss:2.80795\r7172 loss:1.38905"
          ]
        },
        {
          "name": "stderr",
          "output_type": "stream",
          "text": [
            "INFO:absl: \n",
            "\t\t NumberOfEpisodes = 88\n",
            "\t\t EnvironmentSteps = 44857\n",
            "\t\t AverageReturn = -103.68408203125\n",
            "\t\t AverageEpisodeLength = 915.7999877929688\n",
            "INFO:absl: \n",
            "\t\t NumberOfEpisodes = 88\n",
            "\t\t EnvironmentSteps = 44861\n",
            "\t\t AverageReturn = -103.68408203125\n",
            "\t\t AverageEpisodeLength = 915.7999877929688\n"
          ]
        },
        {
          "name": "stdout",
          "output_type": "stream",
          "text": [
            "\r7173 loss:2.32438\r7174 loss:5.53680"
          ]
        },
        {
          "name": "stderr",
          "output_type": "stream",
          "text": [
            "INFO:absl: \n",
            "\t\t NumberOfEpisodes = 88\n",
            "\t\t EnvironmentSteps = 44865\n",
            "\t\t AverageReturn = -103.68408203125\n",
            "\t\t AverageEpisodeLength = 915.7999877929688\n"
          ]
        },
        {
          "name": "stdout",
          "output_type": "stream",
          "text": [
            "7182 loss:2.45163"
          ]
        },
        {
          "name": "stderr",
          "output_type": "stream",
          "text": [
            "INFO:absl: \n",
            "\t\t NumberOfEpisodes = 88\n",
            "\t\t EnvironmentSteps = 44901\n",
            "\t\t AverageReturn = -103.68408203125\n",
            "\t\t AverageEpisodeLength = 915.7999877929688\n"
          ]
        },
        {
          "name": "stdout",
          "output_type": "stream",
          "text": [
            "\r7183 loss:1.50864\r7184 loss:1.91884"
          ]
        },
        {
          "name": "stderr",
          "output_type": "stream",
          "text": [
            "INFO:absl: \n",
            "\t\t NumberOfEpisodes = 88\n",
            "\t\t EnvironmentSteps = 44905\n",
            "\t\t AverageReturn = -103.68408203125\n",
            "\t\t AverageEpisodeLength = 915.7999877929688\n",
            "INFO:absl: \n",
            "\t\t NumberOfEpisodes = 88\n",
            "\t\t EnvironmentSteps = 44909\n",
            "\t\t AverageReturn = -103.68408203125\n",
            "\t\t AverageEpisodeLength = 915.7999877929688\n"
          ]
        },
        {
          "name": "stdout",
          "output_type": "stream",
          "text": [
            "\r7185 loss:1.26206\r7186 loss:2.65469"
          ]
        },
        {
          "name": "stderr",
          "output_type": "stream",
          "text": [
            "INFO:absl: \n",
            "\t\t NumberOfEpisodes = 88\n",
            "\t\t EnvironmentSteps = 44913\n",
            "\t\t AverageReturn = -103.68408203125\n",
            "\t\t AverageEpisodeLength = 915.7999877929688\n",
            "INFO:absl: \n",
            "\t\t NumberOfEpisodes = 88\n",
            "\t\t EnvironmentSteps = 44917\n",
            "\t\t AverageReturn = -103.68408203125\n",
            "\t\t AverageEpisodeLength = 915.7999877929688\n"
          ]
        },
        {
          "name": "stdout",
          "output_type": "stream",
          "text": [
            "\r7187 loss:2.36657\r7188 loss:5.94642"
          ]
        },
        {
          "name": "stderr",
          "output_type": "stream",
          "text": [
            "INFO:absl: \n",
            "\t\t NumberOfEpisodes = 88\n",
            "\t\t EnvironmentSteps = 44921\n",
            "\t\t AverageReturn = -103.68408203125\n",
            "\t\t AverageEpisodeLength = 915.7999877929688\n",
            "INFO:absl: \n",
            "\t\t NumberOfEpisodes = 88\n",
            "\t\t EnvironmentSteps = 44925\n",
            "\t\t AverageReturn = -103.68408203125\n",
            "\t\t AverageEpisodeLength = 915.7999877929688\n"
          ]
        },
        {
          "name": "stdout",
          "output_type": "stream",
          "text": [
            "\r7189 loss:1.87915\r7190 loss:1.86147"
          ]
        },
        {
          "name": "stderr",
          "output_type": "stream",
          "text": [
            "INFO:absl: \n",
            "\t\t NumberOfEpisodes = 88\n",
            "\t\t EnvironmentSteps = 44929\n",
            "\t\t AverageReturn = -103.68408203125\n",
            "\t\t AverageEpisodeLength = 915.7999877929688\n"
          ]
        },
        {
          "name": "stdout",
          "output_type": "stream",
          "text": [
            "8190 loss:1.30759"
          ]
        },
        {
          "name": "stderr",
          "output_type": "stream",
          "text": [
            "INFO:absl: \n",
            "\t\t NumberOfEpisodes = 92\n",
            "\t\t EnvironmentSteps = 48933\n",
            "\t\t AverageReturn = -89.21342468261719\n",
            "\t\t AverageEpisodeLength = 915.7999877929688\n"
          ]
        },
        {
          "name": "stdout",
          "output_type": "stream",
          "text": [
            "\r8191 loss:0.90249\r8192 loss:32.17166"
          ]
        },
        {
          "name": "stderr",
          "output_type": "stream",
          "text": [
            "INFO:absl: \n",
            "\t\t NumberOfEpisodes = 92\n",
            "\t\t EnvironmentSteps = 48937\n",
            "\t\t AverageReturn = -89.21342468261719\n",
            "\t\t AverageEpisodeLength = 915.7999877929688\n",
            "INFO:absl: \n",
            "\t\t NumberOfEpisodes = 92\n",
            "\t\t EnvironmentSteps = 48941\n",
            "\t\t AverageReturn = -89.21342468261719\n",
            "\t\t AverageEpisodeLength = 915.7999877929688\n"
          ]
        },
        {
          "name": "stdout",
          "output_type": "stream",
          "text": [
            "\r8193 loss:0.86850\r8194 loss:1.24211"
          ]
        },
        {
          "name": "stderr",
          "output_type": "stream",
          "text": [
            "INFO:absl: \n",
            "\t\t NumberOfEpisodes = 92\n",
            "\t\t EnvironmentSteps = 48945\n",
            "\t\t AverageReturn = -89.21342468261719\n",
            "\t\t AverageEpisodeLength = 915.7999877929688\n",
            "INFO:absl: \n",
            "\t\t NumberOfEpisodes = 92\n",
            "\t\t EnvironmentSteps = 48949\n",
            "\t\t AverageReturn = -89.21342468261719\n",
            "\t\t AverageEpisodeLength = 915.7999877929688\n"
          ]
        },
        {
          "name": "stdout",
          "output_type": "stream",
          "text": [
            "\r8195 loss:0.96375\r8196 loss:1.78215"
          ]
        },
        {
          "name": "stderr",
          "output_type": "stream",
          "text": [
            "INFO:absl: \n",
            "\t\t NumberOfEpisodes = 92\n",
            "\t\t EnvironmentSteps = 48953\n",
            "\t\t AverageReturn = -89.21342468261719\n",
            "\t\t AverageEpisodeLength = 915.7999877929688\n",
            "INFO:absl: \n",
            "\t\t NumberOfEpisodes = 92\n",
            "\t\t EnvironmentSteps = 48957\n",
            "\t\t AverageReturn = -89.21342468261719\n",
            "\t\t AverageEpisodeLength = 915.7999877929688\n"
          ]
        },
        {
          "name": "stdout",
          "output_type": "stream",
          "text": [
            "\r8197 loss:1.05812\r8198 loss:0.87623"
          ]
        },
        {
          "name": "stderr",
          "output_type": "stream",
          "text": [
            "INFO:absl: \n",
            "\t\t NumberOfEpisodes = 92\n",
            "\t\t EnvironmentSteps = 48961\n",
            "\t\t AverageReturn = -89.21342468261719\n",
            "\t\t AverageEpisodeLength = 915.7999877929688\n"
          ]
        },
        {
          "name": "stdout",
          "output_type": "stream",
          "text": [
            "8206 loss:2.10600"
          ]
        },
        {
          "name": "stderr",
          "output_type": "stream",
          "text": [
            "INFO:absl: \n",
            "\t\t NumberOfEpisodes = 92\n",
            "\t\t EnvironmentSteps = 48997\n",
            "\t\t AverageReturn = -89.21342468261719\n",
            "\t\t AverageEpisodeLength = 915.7999877929688\n"
          ]
        },
        {
          "name": "stdout",
          "output_type": "stream",
          "text": [
            "\r8207 loss:32.80870\r8208 loss:1.74550"
          ]
        },
        {
          "name": "stderr",
          "output_type": "stream",
          "text": [
            "INFO:absl: \n",
            "\t\t NumberOfEpisodes = 92\n",
            "\t\t EnvironmentSteps = 49001\n",
            "\t\t AverageReturn = -89.21342468261719\n",
            "\t\t AverageEpisodeLength = 915.7999877929688\n",
            "INFO:absl: \n",
            "\t\t NumberOfEpisodes = 92\n",
            "\t\t EnvironmentSteps = 49005\n",
            "\t\t AverageReturn = -89.21342468261719\n",
            "\t\t AverageEpisodeLength = 915.7999877929688\n"
          ]
        },
        {
          "name": "stdout",
          "output_type": "stream",
          "text": [
            "\r8209 loss:1.81102\r8210 loss:0.97283"
          ]
        },
        {
          "name": "stderr",
          "output_type": "stream",
          "text": [
            "INFO:absl: \n",
            "\t\t NumberOfEpisodes = 92\n",
            "\t\t EnvironmentSteps = 49009\n",
            "\t\t AverageReturn = -89.21342468261719\n",
            "\t\t AverageEpisodeLength = 915.7999877929688\n",
            "INFO:absl: \n",
            "\t\t NumberOfEpisodes = 92\n",
            "\t\t EnvironmentSteps = 49013\n",
            "\t\t AverageReturn = -89.21342468261719\n",
            "\t\t AverageEpisodeLength = 915.7999877929688\n"
          ]
        },
        {
          "name": "stdout",
          "output_type": "stream",
          "text": [
            "\r8211 loss:42.12253\r8212 loss:0.97011"
          ]
        },
        {
          "name": "stderr",
          "output_type": "stream",
          "text": [
            "INFO:absl: \n",
            "\t\t NumberOfEpisodes = 92\n",
            "\t\t EnvironmentSteps = 49017\n",
            "\t\t AverageReturn = -89.21342468261719\n",
            "\t\t AverageEpisodeLength = 915.7999877929688\n",
            "INFO:absl: \n",
            "\t\t NumberOfEpisodes = 92\n",
            "\t\t EnvironmentSteps = 49021\n",
            "\t\t AverageReturn = -89.21342468261719\n",
            "\t\t AverageEpisodeLength = 915.7999877929688\n"
          ]
        },
        {
          "name": "stdout",
          "output_type": "stream",
          "text": [
            "\r8213 loss:0.95335\r8214 loss:0.96935"
          ]
        },
        {
          "name": "stderr",
          "output_type": "stream",
          "text": [
            "INFO:absl: \n",
            "\t\t NumberOfEpisodes = 92\n",
            "\t\t EnvironmentSteps = 49025\n",
            "\t\t AverageReturn = -89.21342468261719\n",
            "\t\t AverageEpisodeLength = 915.7999877929688\n"
          ]
        },
        {
          "name": "stdout",
          "output_type": "stream",
          "text": [
            "9214 loss:0.77208"
          ]
        },
        {
          "name": "stderr",
          "output_type": "stream",
          "text": [
            "INFO:absl: \n",
            "\t\t NumberOfEpisodes = 96\n",
            "\t\t EnvironmentSteps = 53029\n",
            "\t\t AverageReturn = -78.59268188476562\n",
            "\t\t AverageEpisodeLength = 915.7999877929688\n"
          ]
        },
        {
          "name": "stdout",
          "output_type": "stream",
          "text": [
            "\r9215 loss:0.86598\r9216 loss:0.94507"
          ]
        },
        {
          "name": "stderr",
          "output_type": "stream",
          "text": [
            "INFO:absl: \n",
            "\t\t NumberOfEpisodes = 96\n",
            "\t\t EnvironmentSteps = 53033\n",
            "\t\t AverageReturn = -78.59268188476562\n",
            "\t\t AverageEpisodeLength = 915.7999877929688\n",
            "INFO:absl: \n",
            "\t\t NumberOfEpisodes = 96\n",
            "\t\t EnvironmentSteps = 53037\n",
            "\t\t AverageReturn = -78.59268188476562\n",
            "\t\t AverageEpisodeLength = 915.7999877929688\n"
          ]
        },
        {
          "name": "stdout",
          "output_type": "stream",
          "text": [
            "\r9217 loss:0.72544\r9218 loss:0.76048"
          ]
        },
        {
          "name": "stderr",
          "output_type": "stream",
          "text": [
            "INFO:absl: \n",
            "\t\t NumberOfEpisodes = 96\n",
            "\t\t EnvironmentSteps = 53041\n",
            "\t\t AverageReturn = -78.59268188476562\n",
            "\t\t AverageEpisodeLength = 915.7999877929688\n",
            "INFO:absl: \n",
            "\t\t NumberOfEpisodes = 96\n",
            "\t\t EnvironmentSteps = 53045\n",
            "\t\t AverageReturn = -78.59268188476562\n",
            "\t\t AverageEpisodeLength = 915.7999877929688\n"
          ]
        },
        {
          "name": "stdout",
          "output_type": "stream",
          "text": [
            "\r9219 loss:23.31817\r9220 loss:0.97541"
          ]
        },
        {
          "name": "stderr",
          "output_type": "stream",
          "text": [
            "INFO:absl: \n",
            "\t\t NumberOfEpisodes = 96\n",
            "\t\t EnvironmentSteps = 53049\n",
            "\t\t AverageReturn = -78.59268188476562\n",
            "\t\t AverageEpisodeLength = 915.7999877929688\n",
            "INFO:absl: \n",
            "\t\t NumberOfEpisodes = 96\n",
            "\t\t EnvironmentSteps = 53053\n",
            "\t\t AverageReturn = -78.59268188476562\n",
            "\t\t AverageEpisodeLength = 915.7999877929688\n"
          ]
        },
        {
          "name": "stdout",
          "output_type": "stream",
          "text": [
            "\r9221 loss:1.10149\r9222 loss:1.26221"
          ]
        },
        {
          "name": "stderr",
          "output_type": "stream",
          "text": [
            "INFO:absl: \n",
            "\t\t NumberOfEpisodes = 96\n",
            "\t\t EnvironmentSteps = 53057\n",
            "\t\t AverageReturn = -78.59268188476562\n",
            "\t\t AverageEpisodeLength = 915.7999877929688\n"
          ]
        },
        {
          "name": "stdout",
          "output_type": "stream",
          "text": [
            "9230 loss:1.44563"
          ]
        },
        {
          "name": "stderr",
          "output_type": "stream",
          "text": [
            "INFO:absl: \n",
            "\t\t NumberOfEpisodes = 96\n",
            "\t\t EnvironmentSteps = 53093\n",
            "\t\t AverageReturn = -78.59268188476562\n",
            "\t\t AverageEpisodeLength = 915.7999877929688\n"
          ]
        },
        {
          "name": "stdout",
          "output_type": "stream",
          "text": [
            "\r9231 loss:1.08633\r9232 loss:1.21322"
          ]
        },
        {
          "name": "stderr",
          "output_type": "stream",
          "text": [
            "INFO:absl: \n",
            "\t\t NumberOfEpisodes = 96\n",
            "\t\t EnvironmentSteps = 53097\n",
            "\t\t AverageReturn = -78.59268188476562\n",
            "\t\t AverageEpisodeLength = 915.7999877929688\n",
            "INFO:absl: \n",
            "\t\t NumberOfEpisodes = 96\n",
            "\t\t EnvironmentSteps = 53101\n",
            "\t\t AverageReturn = -78.59268188476562\n",
            "\t\t AverageEpisodeLength = 915.7999877929688\n"
          ]
        },
        {
          "name": "stdout",
          "output_type": "stream",
          "text": [
            "\r9233 loss:1.10113\r9234 loss:1.09127"
          ]
        },
        {
          "name": "stderr",
          "output_type": "stream",
          "text": [
            "INFO:absl: \n",
            "\t\t NumberOfEpisodes = 96\n",
            "\t\t EnvironmentSteps = 53105\n",
            "\t\t AverageReturn = -78.59268188476562\n",
            "\t\t AverageEpisodeLength = 915.7999877929688\n",
            "INFO:absl: \n",
            "\t\t NumberOfEpisodes = 96\n",
            "\t\t EnvironmentSteps = 53109\n",
            "\t\t AverageReturn = -78.59268188476562\n",
            "\t\t AverageEpisodeLength = 915.7999877929688\n"
          ]
        },
        {
          "name": "stdout",
          "output_type": "stream",
          "text": [
            "\r9235 loss:0.70217\r9236 loss:0.94536"
          ]
        },
        {
          "name": "stderr",
          "output_type": "stream",
          "text": [
            "INFO:absl: \n",
            "\t\t NumberOfEpisodes = 96\n",
            "\t\t EnvironmentSteps = 53113\n",
            "\t\t AverageReturn = -78.59268188476562\n",
            "\t\t AverageEpisodeLength = 915.7999877929688\n",
            "INFO:absl: \n",
            "\t\t NumberOfEpisodes = 96\n",
            "\t\t EnvironmentSteps = 53117\n",
            "\t\t AverageReturn = -78.59268188476562\n",
            "\t\t AverageEpisodeLength = 915.7999877929688\n"
          ]
        },
        {
          "name": "stdout",
          "output_type": "stream",
          "text": [
            "\r9237 loss:10.49738\r9238 loss:0.85876"
          ]
        },
        {
          "name": "stderr",
          "output_type": "stream",
          "text": [
            "INFO:absl: \n",
            "\t\t NumberOfEpisodes = 96\n",
            "\t\t EnvironmentSteps = 53121\n",
            "\t\t AverageReturn = -78.59268188476562\n",
            "\t\t AverageEpisodeLength = 915.7999877929688\n"
          ]
        },
        {
          "name": "stdout",
          "output_type": "stream",
          "text": [
            "9999 loss:0.51993"
          ]
        }
      ],
      "source": [
        "agent_train(10000)"
      ]
    },
    {
      "cell_type": "code",
      "execution_count": 45,
      "metadata": {
        "colab": {
          "base_uri": "https://localhost:8080/",
          "height": 365
        },
        "id": "jP0cI6xtmYIM",
        "outputId": "ecb6dac7-741c-4b97-a3ac-428ca3e22584"
      },
      "outputs": [
        {
          "output_type": "stream",
          "name": "stdout",
          "text": [
            "\r1000/1000"
          ]
        },
        {
          "output_type": "stream",
          "name": "stderr",
          "text": [
            "INFO:matplotlib.animation:Animation.save using <class 'matplotlib.animation.FFMpegWriter'>\n",
            "INFO:matplotlib.animation:MovieWriter._run: running command: ffmpeg -f rawvideo -vcodec rawvideo -s 432x288 -pix_fmt rgba -r 66.66666666666667 -loglevel error -i pipe: -vcodec h264 -pix_fmt yuv420p -y /tmp/tmpguwlzcog/temp.m4v\n"
          ]
        },
        {
          "output_type": "execute_result",
          "data": {
            "text/plain": [
              "<IPython.core.display.HTML object>"
            ],
            "text/html": [
              "<video width=\"432\" height=\"288\" controls autoplay>\n",
              "  <source type=\"video/mp4\" src=\"data:video/mp4;base64,AAAAHGZ0eXBNNFYgAAACAGlzb21pc28yYXZjMQAAAAhmcmVlAAFunm1kYXQAAAKuBgX//6rcRem9\n",
              "5tlIt5Ys2CDZI+7veDI2NCAtIGNvcmUgMTUyIHIyODU0IGU5YTU5MDMgLSBILjI2NC9NUEVHLTQg\n",
              "QVZDIGNvZGVjIC0gQ29weWxlZnQgMjAwMy0yMDE3IC0gaHR0cDovL3d3dy52aWRlb2xhbi5vcmcv\n",
              "eDI2NC5odG1sIC0gb3B0aW9uczogY2FiYWM9MSByZWY9MyBkZWJsb2NrPTE6MDowIGFuYWx5c2U9\n",
              "MHgzOjB4MTEzIG1lPWhleCBzdWJtZT03IHBzeT0xIHBzeV9yZD0xLjAwOjAuMDAgbWl4ZWRfcmVm\n",
              "PTEgbWVfcmFuZ2U9MTYgY2hyb21hX21lPTEgdHJlbGxpcz0xIDh4OGRjdD0xIGNxbT0wIGRlYWR6\n",
              "b25lPTIxLDExIGZhc3RfcHNraXA9MSBjaHJvbWFfcXBfb2Zmc2V0PS0yIHRocmVhZHM9MyBsb29r\n",
              "YWhlYWRfdGhyZWFkcz0xIHNsaWNlZF90aHJlYWRzPTAgbnI9MCBkZWNpbWF0ZT0xIGludGVybGFj\n",
              "ZWQ9MCBibHVyYXlfY29tcGF0PTAgY29uc3RyYWluZWRfaW50cmE9MCBiZnJhbWVzPTMgYl9weXJh\n",
              "bWlkPTIgYl9hZGFwdD0xIGJfYmlhcz0wIGRpcmVjdD0xIHdlaWdodGI9MSBvcGVuX2dvcD0wIHdl\n",
              "aWdodHA9MiBrZXlpbnQ9MjUwIGtleWludF9taW49MjUgc2NlbmVjdXQ9NDAgaW50cmFfcmVmcmVz\n",
              "aD0wIHJjX2xvb2thaGVhZD00MCByYz1jcmYgbWJ0cmVlPTEgY3JmPTIzLjAgcWNvbXA9MC42MCBx\n",
              "cG1pbj0wIHFwbWF4PTY5IHFwc3RlcD00IGlwX3JhdGlvPTEuNDAgYXE9MToxLjAwAIAAAAgJZYiE\n",
              "AC///vau/MsrRwuVLh1Ze7NR8uhJcv2IMH1oAAADAADVaeUGUpNWI76AABz4uXO3z/8ABAltUNdA\n",
              "+tw/wsLBT/7lYq4V7azuTzl6VZ3SxJh75s+2EPnVCdedP5gnaT9VGZOu6uQn5bGBOAILB0GoMZe2\n",
              "n+rmCMVPCDzOpDRPeM9uDc4QoeAvwkuqIZqRzUO1b28j7mJTapfa3EKZtGM/Jxt64CyHqWyVQABg\n",
              "vrg1zHXMfUTWduqbhWwh/yCRq7/LPiB+oD3OEqu/68VO67gxrvkQG75Jc+VeZpunIxG/qgMHs+Gs\n",
              "Xlc+C76gfSt2zwKPox8hQc4a/pFZOxTVWuH9fUWCmjZmbFnAVeVO0+Q6ohpu7xBNSzAocplvA1FQ\n",
              "pP1fcAAfl71D/N0480s1aBs7r3+J6B/p3aWz6Gg7FcXFEz3Je92kFvq860q0HWSC55mXmw5tUURa\n",
              "10kqA35UpaBDGS9LV1Blc9i55QfnHPOk6M2/KqZfm3GVu3qtrV4j6HSasQNoZf0vRsaxTqZBWF6N\n",
              "+h/GOQnd0fYUoiaCzlP53zh4w3UvRN3Rm4b/+ViU45SAk9NbuDgdoqTcMrTAxPAL4d3uzukFLvyO\n",
              "fXMFaS4AnOt+ffNqXslHPpwFOFcho1yAX6HGlpf0dLFqE7Ckbaxng6QPLYzc6RVp3gbP+Jl8QUFg\n",
              "zEngyvD7vswUZkOX5GugbUs1F2Jty1LOSCG+tnX4MtAlLiIR2plzBjSJ70QqP50OKA5gCi4oy4OR\n",
              "oD4Mv69IjNnUqAvji9/XOIowv+CwIdGZXsgjI9YBC6J2ch/skF7jNomLpvEiumgCjOS1yLMZ8BBQ\n",
              "R9MKgRq70yyKNv8d06u7CHvh0LWTjTTgrEU7zU6CztUYzTvr9lLOVe5oWQqr0cCHvLd1AkpQbDWC\n",
              "dgJA8djZLsf4Iw5yL0eQBe4NJcq+bpfKADtFDBanac6lO8lNJwzya3hWp/4cCXgAizSg+jX9FaSF\n",
              "2pOCjlKkVMUEAeSCzOflzrai9x3QJog9a7wjmK3KaFFS5rLFdwgiiJtpNGfPHLOwEFUF2GNDmk8/\n",
              "lLRvvNSOACwHkwgpO5MGOqLvvjv98+Q2WtIqDHP3c1YyowMbyjDknmiiZDurpjXNiUlh52fWGQIV\n",
              "VGItmSlsAAAU9d4HHD8hWJX+wrJ1Pc1/QBRJk5QhZzUOjG54gDEqmPoUJTrJWWTKLMSrHUDTFz1v\n",
              "Wci7RxWFPJ/f1Dhc9SWnVqwQ4rkNCH3iRe9yCdjOdNWwAGBX6V8wwpaoCARC/vcrUCsyhQfFhtoH\n",
              "0cPF38AO2lpVJW2rD3k2TsZA5b/ewAMckDmH4IpHzzNjRGSX52ILlxNKk6FvWkVA4XpTgnf65x28\n",
              "I8W3Sb0cUyXSDPtBoc9dcjLTNsoYajQtic7LRI5Gb2cxUm7LoPVtw1pVJ4Z7PpxZDKLxo+VVf1ES\n",
              "i4sXLKQqvukP1JG/49vCRcz2vVeA7q/5MIiWcnd8cH4xv2u+7NRL6/dGhuRLYid6GlPJzhB2/s9n\n",
              "g9AzOzT5gXwGT0uT4v9sU0u4zu9Tql8U2uAcjitNtVY8nsxRRbqD54mi3riNt/6vK4hSJ7j15yho\n",
              "n4oSLVfJLImwJxHaPatqdxdmZwY3h27DHjICgzvO4o0mvgQzvfdWO6TtXB6CMXBsprfwgCL6TpHP\n",
              "yvqcMoogwLyGtlxTb2dVoN5QXMPuXDFY2FvtaLIvyYEI43omUa9t3hneD9ZyaRlprfWPtREpqmNK\n",
              "F5gIh/RI5ct3+oPPi9FAef60Za3FdPIQMeCMQXnoOTrEkPjc2ejpRPvHl5x0+j3a2VQZJQ7sdKe/\n",
              "2iGeQ7Y6doomEGLUbHz2cG2T/hMf3ydOR/CGdTw/v9sfAf6uYKjD3xdBfF/D5gdJ8xOkE4h5SGVb\n",
              "R3OSD4v8tW0j26+qUC5kgimI348LKLGmgV980Rg2mYfv4/XpAOwMHqAu6lhQ9O6/mt8vrh/+qTbB\n",
              "oP6y/43OEH1Pz7LQuc+o48ZSAbUX30pwOjswaY2/bKmSNf0rbR0Pzgr/9mIyA4PBFTsUa9LyYNnh\n",
              "+keyRuBZRjHzIKEX6r9h+2DX/PQMO3Veb7dwo6rZjFWgIBeq5UpZOpo/ApwvwV9GUEis6L4A+eSr\n",
              "zOya2kbj0u3KQtH4NJVV4eW5loA7maggnTXUMfA5KFfiy9PtWDHxx1vzfN1xFARtRMka3tkdORHZ\n",
              "wG5RaygYBT65iK4xmqC4NGnAiydZGofKNlyLrv0CXVN9z4FUoRKw0kFCI8gSKt567HMjg9TsHzFC\n",
              "gAkQf/TFaIfJ6LtigFAfj+WmmKvhqFih+KCPcae768I2p/hBby5rsCyZ0V6jB3gz31PvpvTiw/kM\n",
              "eLGf2S9SxFeiXNUGoScJJ51y9obe1DnWIg3/BAe3cOSkENgI2jCmVXOxWYNyWqccrO3qLFEJkwmT\n",
              "vKXQiAOUcF/l30JEv6zO+yl0R05YVM/3LXjG3hxT69EAyuSldGd51icW8cxaCm3cCDcGU9hG7I7G\n",
              "dbCoGj88/mCwcwRO9f8lrjFJ2JXwBRlag2IHouwHV4xowmkExwKOvng6g3hy8HX61zjHWJXBhClP\n",
              "ZgL1wAbaDb/qsRcYO20r6qQxFlI4H/EadZp+dDQWZIjaK7kJHi1r2uhraKFEFlTOjT27xo3IAwbJ\n",
              "PCgvYiVzCSMrE+Ul+82AGkVVuLLN2KI1CAQ2iacVXJcn/51kyJJ4TgAAAwAeHIMbZj8kUAAAJ0AA\n",
              "LuEAAAOJQZokbEL//oywBY/ezcpGLwk7wMXBmzEfNbbd1QAcV2ZMDgH/VhEUpaqsRNxe5zd1DPfG\n",
              "e+R1dxaONd60diL8AxPoHa+1gN5Er0ESR42Z2togXbHZNyrOnt1NcVv1m2pRbuV45JL+qLw5tB/O\n",
              "Fb+5XbIGWv2m9R8WAYoM6QVobLNo825FM1J8DirgVJCZBuUaX/cHoxfnJ0R6aGmTpLn3hXL7Rc5t\n",
              "xda8R6wyCh+VOPklrpr4CYUlNXrjeb1PEXfvwFcJR4Mzh3T02R9srN0KhX0ELaapRzyvyp10NRoh\n",
              "nNMvACM6WP20Ri8NTXTOkJYEvOdmmBzI6SD1WrZ/aDcclV2TAJ/vKdyQ/TJNzGdmtMR9AaOUxCGL\n",
              "ZSzWIL4FzRpZYmu/eUm4S1zSqmLx7HoqEfxAW1NEBTUOaDtSpyUo0iLwQwBVrziq8MNmTnRHqWQu\n",
              "ZVzTHsVSpQ/0wzbV/JZ3mjDrsMF/J5sCBNlYAR5t2oFE6aH1nDgL8nWOYi3SHUHe9J0wlLykjBO1\n",
              "2WSYrsk1HxZi5rdfMpUU4y9pJke96VpA0gbkFjnT5poiLSzoQJ+psTB6kz2TZ/iu1lADX4D0scK2\n",
              "QPaO4Qft+pf0rZ0bqrAUr1m+wKNpaeVKs6dMow3NN6T5qlXn37HeTkl7+0apjFVLrvp8qKxwXS4d\n",
              "tuvIsqhkMmeU2harD38mx8xrOpDOStfBJE4gD1xrVP9xPOFtvzQ21NQw/v+X48dmg6EaJfkNFzwX\n",
              "QMmQKxkFHYdnXeI8CqXuc67QzmtK+AnXx7cgIb8UpKuxcx7z6FJ3sLTfXdkWiA5YxSaBPrYtVY6Y\n",
              "EiCKNYqjecSto0PYHLBpbIkmF74yueJH+TD7ajuPgfnwwwzzwDDWgfFRG/hvBLWZPlMNQ+Vs86JH\n",
              "jmGx4kxAFmAVpYU8uc9vAmm7hLCezmRWAftoGtY4009k6WAgxXfYyaKns6jZgxiDBR2bUN37QcA5\n",
              "89eFOxUcZAf5Is/7kETGhDv0r2y6wfTMxmtXGXCCVbIK9W5qP7+eq4GO7hp7cdm0+0IPX5x6Iaqx\n",
              "iMPpvH8oGobCAYedrViA0HXguYIz44bQ7orFc864RB2p/ojqtAJ8mf3qA5J0+fSyIrIofUhBw0X+\n",
              "G1CLoTyzDpq6GRpV8U1jfpfFMlJn4WQPW+UFRHXRY/SZeZFCYT0zwgQWMUjMtX2UspLLwal+ibgA\n",
              "AAJfQZ5CeI//AsKnH9+AAhNz8cgxccLfFFWY9vgJum+DpOkQO7YVUoQAzxVdaB/HPC+onwPahViS\n",
              "zvMwkEO3R9mdd1pAPVvXtYFsXvXVxy+il+T7bUfb/ZkHlUYeIKBQY/LZgtUbxIDFBlBF+pkjALkJ\n",
              "5JMk3FigZWp6GvfcmkywVgO+NejdRc+ZdScxi45yIx1VVMHgzM42DvVt3ts8VoZt2ljxVDTtvmiA\n",
              "Ljzpx0tSvzs3fNsN+pHoWC4GW2T2GITTuaPTB7Q3UPTEGDfD7sjWNiPplkr36zlvJwSe7SO9Gze7\n",
              "WlhAojnzkhMuOD8XeEd1EVsdXcHihHgFcYZjXeOh2MYX28gonJIca2HdMtRhpRTqQCtqam0bNyan\n",
              "SXYt9Mb4bckjL66+yw8Cg/5WUdeht5c3+Jd+q4hLb4Fwjhi1XoZNc6y+EFQj55tf0bcpjVtcyvTU\n",
              "UqzdGapupmjVdEQBaZeZipKSDZ/13BmXPykRQNF8DyR4nfb9P4AxzieT4iidq9q5/pSLMIkIMb5l\n",
              "MwORMqB5K0xtumqf/h0s7DoYd0xtXJ2v0FusUrbyF7Ay171+oEo1I03tDxob8DjGIU0zUi628V0b\n",
              "GtMt6jw7l/ahZaEh3Poc76Sx9PNT2cRNt5+tdX73RL2jEzlUJKB+CaWDtKHi9QMBEloP7ClUQxBg\n",
              "iKxGZTxjyiDRqTMs5pkYUIKwuSks1Q1j78bw3vKBD3RqninvO//2Et0KrjaiyyrW8Dx3sf06SUGJ\n",
              "OQMtDZxSyPnDxp9pkjcSbn4jMKZT5qvCWoG6b44O2Rs9wOGxdWGC4QAAAZEBnmF0Rv8DWXL3cAAi\n",
              "AzgPbTskE3aeFGVWnmekrOHNiWmuuDkvj/Nq4S5CUSwXlX2UxodD7wNVy2+f2SWMjsphnIyDLO1a\n",
              "YjhRY7uNTW3VxQ7Y+2F236QIYUre3yb1uE2bDmwA8fwoBpTg79aBK+EwiuUVohSlWwJtVzgZVEYN\n",
              "A9qXl1oYdelHEfQAqAqdrLnhkcqbJ/LErNE2kuTGOiQ3qJ2PgfJgF6BYZxh7DhCA3HF4qmM9R5ow\n",
              "51844SjiZSkgjsk51pg384uVCK0+4OzW8gvMIupOaOMV/xjx8o4fBiZ4gjwR0gWgSd1mpi6SiR+f\n",
              "gWb/ltIKDo3zO6mEn70suGf24hqM15TjVQqHOvvzoVK1ta7M6SN4oeiJRgKoQp+J8XpMXvyF9YLG\n",
              "jTYKBaRrrThKtbBQSpsXVUQ/gSd2NlN5yiM485St3KDdvbKTAJ4DJ5vj5O3ymRTTK2qNISnzTsoN\n",
              "Fvu5ZiQo8JiuZZ/6bEx6tJhChFCljqn2wf4jwfkGU8AO8wo2nSUgOUwh3UJRPgAAASIBnmNqRv8D\n",
              "Q8U9QTbfGADb6Di48QaKlOLSRREKHdJqD8/ioJYZYQ9O1FkVLQeZfYrP6Bk18EUX8vMx1baT5FLm\n",
              "qecE/Z8/6EM7n0R3atS10hlnQthDX0hTIxXR5AiN+POwPWFTFaXRyPAFg/kEeijI1tvwv26mTIdl\n",
              "ARxxKy/9ygpWcCZ4N+0brXC3mQ9pzivJJ5ZIc/6RIgTxIahXYDZ2E6P5v6OFd+JMUafCwEkN9sMO\n",
              "Q1vEF8/R4aXG3s1QX4Q7LXN9wnrslQA9eg0cZn+ilHP4fTTMqfQBH5lUdc7f5NCZq2MejUjDyTzt\n",
              "epR8+T8/8b2+NLGiv5ldUCDtVlEOIZnfap2yKZ1VDWem2hr9Hf19ceXCjy727dk+E3AmyPh6QQAA\n",
              "AVdBmmhJqEFomUwIX//+jLAFDw1G8JW0wJTC5e+2CGgO5NQVRhyqX0XIciI19PaqjUs98Jdg/fmM\n",
              "WN/Z0WjL/weZsTzCNtzEq/Xn8qlIS/nhBXbBJV9yNhwRUy9LlPbsu5FTDDxux1LPiybOF2bCGfbJ\n",
              "jF4m1N3yjzeYttegWv8/L0waIABSzGbpJ+NfcNrYltWWEh6p4IA+NWHTc8DFU9rWK6TbybyruRFc\n",
              "aD1zD6I9nJxQCT5wlukOSrRjmiCB055j6CI7MMByuwNHN+AAAAMAteoRDbcBUppVwZnJJJmKdZWc\n",
              "yu5fkAhijXscUKKWQeXOSAfYbMSt8N+kDVrSWELRS/8P4Cus2ik1ydWK66/T873Fqd8Cc4ZHIFSE\n",
              "7CihbS5QOacm4Uj8VIH0b3GEXKyat4AmZVFXtgsXz89Wm3W6Nqv7pzcMMB36HvVx9CeaQU8H1lF0\n",
              "phExAAAAakGehkURLH8CjKEtZeLuA0tCNqUMGyS3XhxYpQA4j+iRkWclbuFMFXOi7DhG4itCeEQ+\n",
              "k3/wm1EU40E+D5/QI3qIAxmQhcoEH+Y7akbn7GKqwJJ8+GRjGCiYFgGvzQfTsibe6CWkVtjN0ekA\n",
              "AAEOAZ6ldEb/Aa2l/TezyQrVAA1E3MvshYalMLUuY6dhIAzmQDL+11EegGxJthIswNieS3ggm1J4\n",
              "p7rg67z/Okj8db0LJ1XSvDpSAuw2AoZLQBT6E8x6X0PppSTpf59JXCK4ewogoAft7hxBuoffc5bq\n",
              "ZzXaZjX7GVS0zLYO2p0Mngz0+9mtoq7/rEg7aCSsDGfS5qaHYg124fd7ZSDeF/LXTeNgHb5f3VLK\n",
              "j3rU1ttke2KzUeq7ewu2t8CIk4DFUPisd1+c4hCOCt+7tmy4oPAArkmHtXV+Mb9rlbN9Wc+AsknR\n",
              "pxFnbq96FB4Sc1vncRxNK7TMyRGqW/e2yPRWtsdmljXwUL8qdlIBupLgggHpAAAAQwGep2pG/wC6\n",
              "ZArpJo7/SW7aXdqD48WyXMZgCVKAsIZTzgQY9XgHUgcGRukatQJUJ1hsVokt6+rSxI7yfRIyb6nX\n",
              "WOAAAABkQZqsSahBbJlMCF///oywBS1pUWTQ+hqLxHhEvZyxvBkAEP0JK04Q5t3vBBFp3POlTNIN\n",
              "Lz2V4J67nhEKerHQ1JhdTTRKd8vSKzOZXpSGfzmE+jU8+smxJIi0aPuhPnsC2w30gAAAAGJBnspF\n",
              "FSx/AEWPmnL7L+QAjpdbCRAfaIxwL9jfTky9leNLFRGTCdmE+ycgVMz5SVZn5cHkDxqFYu5ND3ee\n",
              "5Jw4dUTsbJ5QwVyCmJ4z+mFXClhNYPsGFb1LN0cAeogCOv3cJQAAAFMBnul0Rv8AWH47ILABRp/g\n",
              "XRetKbB0B3AgvtYm2wB92jn/j+sHUc5iLNKzoa5Th25rDBiB7sRaV3ljOz6xHH6tAFp0d1/jKYtm\n",
              "MndkgFPkQI83pAAAAFYBnutqRv8APCDxKKlAJlpc+MIopDxo+WBs+Yj/rv42hCexv9WNLON/aJh8\n",
              "lVjGQcoORgRBYHa4OCK1Xiy1CQWAgxliBW8XyX15YCSLHIl/kS8d2U07oAAAAGVBmvBJqEFsmUwI\n",
              "X//+jLAFV5toJF9pB8B0GPeSmp0yYAC+vGkMPHX2vUS82ersloTyf21nOvZX4gPblo9ApF7ZnPM2\n",
              "j3z+8g6a2mexLD0WJogETPH7fgcg0Q3J9qa2+0jW/UoB8wAAAEtBnw5FFSx/ArCgOdrGbpo4BtF8\n",
              "gCwf7P5/Ah8K9DsxN//USUdEDkFfPcXT2abfx9NlZXQVWU/ZdNgIXclPMcVioo3ZT6pgYs1wDFkA\n",
              "AABUAZ8tdEb/Br3l7QElAHvEAwECXbFX5vgxf/axV1oq6+jFgp2p6hqVo83nHIx4Z5NAUi5dzASt\n",
              "5W6q/4AiP83uEAbhFyLWtC+wV8TmB8Dd25s3pB//AAAAVAGfL2pG/wa5jGPylNvffsJV4A2jiAvU\n",
              "TV9YdL6Th57KnPcgSd//Dpgg/sk99Q1cp15y0KyWED4lrAedewA+eXarigNDLWN4ZPFTfyfEWPN0\n",
              "rFa2gAAAAGdBmzRJqEFsmUwIX//+jLAFg5rcwBdK36Cd/biAG3I9QKUb4RkX5e0c8ZaOBRE+EfyU\n",
              "XvDJrybJqQMrpJdYelk6fIjVYeZzoMbkOHj2hW4b6+3p04Vvd4ChbcT180LYCW1MX75QnovwAAAA\n",
              "WEGfUkUVLH8ARY+b5AihXbVvfAE16FrtF6RpFNcIBxrcZEEtZZIe8xtoBpZl2Lfvl8H07KTVjn7/\n",
              "TfTSh6sFvdsQLZvIur/lLv56kLdWcGwIZWue2S56CHsAAABEAZ9xdEb/AFh+P9bPMAFSEm8kG1yd\n",
              "lAf/MUgVB0aBIAGWyikU3d4bJaAsl9kEzT9OL51JWLXP1yBHT/HGUuF0mqVfAtoAAAA6AZ9zakb/\n",
              "AFiyHQFXndLVgtCiQAdHOghXtYat8WbtmBzNHhgsBuThcMM6oMJ+os+kvf2aCLppQUIDpgAAArBB\n",
              "m3hJqEFsmUwIX//+jLAFr5rcrmP8XW2rgAXRAYRj3y4amO9wZnQCRTn0skU2QWWeD0CWJNNPIeQp\n",
              "JxRUWwKhSNM9pKPUiadFE6iPGEzAirVxDgy5JkpxoafRzoVtcS1RzjmNG6Zz2Cp3KYuoXp8+qdVS\n",
              "U4mO/7rqMq79SAPuIsF9c3Q1YWZrG8e4BHQAAEPtHYCe3nHKI81Ks0gmp1kAVA2P1NeXn2OkdE7s\n",
              "jfBncLegZav6okas6typccIUXrhb7l5bPKwxTra3O83eQRRGBR5B/jS02sLgO0V756FAlQYz87t6\n",
              "vvn8YYHe472sr9NaVCeIyjWyD2fudVjmCHskoOqVdDU8e2wNs1f8hOrbKas+5H3MVgDQ6vCyUAED\n",
              "LrcNoCl2Rzr+JzlBZGsuGjFgMQWnTntdSey/pbWKPzmJFij0tZFB/z2l93Is23bAdRh5fsIdJ5aA\n",
              "IcJYhpGe0EcQGjsRTGP5k1k4Ox1/S0eC4i2O0gBcR3iSsmFXFbscnbZ5byUCaWhoAI+dvK+lx+Qy\n",
              "2th8SfsjSecpMOueF5OpjzV55uCcahFqeaQc9cJD5/mmwrHmvF37a9tiMxnISaEZf5wZLaFM48s5\n",
              "P8vKUb3gHnjqZbG3TNayYicmZg5ni+q0TXxci5C2M4ObceolpKYbXvPVpRoS40DjMXdOEZFTJzW9\n",
              "YwKEaggSpUWB511+7Y2w431viTJtjHIpOwWhjfjp8ZMfMpV/dRdHwJohbEN9LlwKoWQxVAh7lQ6j\n",
              "L/tN4jzRnmEdr2jSULQjbxi3nvQcjZFnqZt7WbPnD1rpHeGBGYag09Ub9kh5hrggDDJwnVHxa3+i\n",
              "jBqfEf+R+x5MnU0dzaKsL3JtQMxKyvlDhSz8iGgEYIC9ZwkkYhXdWCjhnJ99qcLuoQ4tLrYUu4k8\n",
              "6HTBAAAAY0GflkUVLH8C1JqtooAIg47layUpuNr+IuObEFm96OSYEe/yPGzL+mL30YNksf55U+6f\n",
              "0zTDyOS/cdyAFV9IAxA74H1VlWKCuS8BOYUX8aDwp32FhyuwuLlY/4Rwc/YF6o2DogAAAGYBn7V0\n",
              "Rv8HJOYapajZC2jdsaz+EwBSLP/OpGJ8uo0E0I2jnd+DQVLsJ65W337BN9s9c/4OJLmYkhaWsGp+\n",
              "kZLXbGMzlcN4v/IAB3G2vL0babSfXzW8vtfxPQhJ2rrSdXAT9ReNVJMAAAA0AZ+3akb/Bx94Oz/y\n",
              "RHaN8jV59lmZ0AGplNIy0dSjYXFQn5jMU0kt94MsMJ/GJ4tCuvh0wQAAAKtBm7xJqEFsmUwIX//+\n",
              "jLAc3E5tUzG0lzdmAFw6yMOa+Uq6cx6zPCq9HwrZozapOJlLIn3JqYNSkmDA2DXNn9AC/nSRo/y8\n",
              "5e+jYJqc2r1xJ14BH8JZUaSfxv5FdSmVV7efg2aaGJeDdlowTjTlTFYIh21hO9LP3VAkomc4Bs92\n",
              "hzMJxYJGt7OLy3ylHS1+kZ/oDhrefr5mfHQ2J3VcUPBGI6qVt+w5s8BcKmAAAABUQZ/aRRUsfwVu\n",
              "4k9fAeh+x+rOBAw6AEz6711WuwWwE03YD9OlhEv6ZykKVxU48RyJzLdNHTAEU5inIpgU+wdUqipW\n",
              "6eBdy3WQ84PDoiBJ6S/N3jgRAAAANwGf+XRG/wak3k8v5aGWtY833pc4A3Y8T3yB5ZfQ7SVef84W\n",
              "mlEpyrYZEJ9aRNQ72MubtISkJOAAAABBAZ/7akb/BqTeT0dEeGWXACAEKJmxtUXfNLPneiCkVqHb\n",
              "8RrsIOTdSYAKOGkuwvdptidt7Cg+DtHHjlQ+r4TcE+0AAAB8QZvgSahBbJlMCF///oywHNxOTnPg\n",
              "Va7jczM6b71c54m4AL61VUchvqY1TXzh99srQ1X19vyqMDvGicOM7l5PwMo+adM6ORJ0DrgJbT5F\n",
              "AeXLVj0yNO5dW2F3o7nTTob4j9GeamXAd14gmc99vYTx2PJcOMr6WRPei746YQAAAE9Bnh5FFSx/\n",
              "BVfcEB5HfSw2Uc+cX6axQN0OgBNEt2zZUUYQ9Qvotzu4A8TZ1O+oc22kYoJKcjWbD5ezsxyQabD6\n",
              "FkFn3C5ZN+Y/pjqn1U3AAAAARAGePXRG/wZ4HquUryqKvKGyM+FTnTgCwfRus6R00/usyILc8Diw\n",
              "I/1ws/kOoMkYHd25VS8VwP7mTCG/btN4oghApQFJAAAASgGeP2pG/wak3RNWS5irlVxSaALMq1cm\n",
              "mBuHzWASIMXL3SH9OXfXVenb6HgzelczIn1DTec02B826KOSD9a9R6vXlwRwZEQAqgEHAAAAmUGa\n",
              "JEmoQWyZTAhf//6MsBzcTk55c+OUj43Kne4wE6nxABh6CP6s06+8Plrv4uQ0JiX33hPOlrzP1vAU\n",
              "Ht8Ua/aBYQ8ucDKNsmKCd7jjthOEdDa9pzAxJSo2c3rTOQSc5sqnD+EkNA8hauY5vUYuzUL5PngD\n",
              "u6Vrnpj8Qn0LpwrGCaqhSCu/McSrS4xXiED7bTS62tejCwCxEwAAAGVBnkJFFSx/BUAAHwNPLup8\n",
              "6TiAAG3754AA9iVSwCm3aPoRxvREh2o2nfR4kITnoUeCFHgStfsPhac8YRX63cHcBJKZXed4QhC7\n",
              "Ori/na6JVXqV07pKkR0iI9ucov7BZBv8XQBWwQAAAEsBnmF0Rv8GpN3veVMbNkJTC6nO3twLXMfv\n",
              "6UwAtnPzo9EOMPnZizIAE1fGvARB1RYxd/LYGWgvAl6jMGxmqZnH+hcr8OWKDYBMQUMAAABDAZ5j\n",
              "akb/BopdyYjXwmCJU8OwFNTDKklvuAlYAA3PMZqq4FyzMmY10FECSK/KC6MTLy00+h03IwUfu2UM\n",
              "EHB7QiIHLQAAAIxBmmhJqEFsmUwIX//+jLAGjVLS2VzpiMPdxUAIU9G0y4cu/35tff4amyy09cjm\n",
              "UCf+jXMO9e/PvoduowmgeQqtZAL+9mWf1RhIZ70FxwwIEKi9KlUd9q517TmSyhV4GxahXebeuY35\n",
              "45ZJO4mlKNd4fNkVgniP2OjzhYDD+7agUC/luTkdcKP4ytlllQAAAF1BnoZFFSx/BQdc+VuFaOwA\n",
              "hQahwj0YiMnVpbEVH2mtK5VZhbC7tnk5n1Vz7k84hosccnOa7CNQiNRdF9omBD0WnMvZidMnT+K9\n",
              "GFi5u+A+eyze6nQGXMBhbq6AsoEAAABSAZ6ldEb/Bo7Y9MUvsOA+ZhQ0foaIrSes+TFlsCJAB0c/\n",
              "NaLI40+J/IOmfC+aTj5zK2NiT4MTDflKi5Ow5IQyDf3BpjpRw1KqMm3w312s5UAzIQAAAFEBnqdq\n",
              "Rv8GihoYySFQaAD8wlzQPblr2yiy+7nccvCs7W1JJ7bmgyt2Shyc1Bc+KtCSp7h7VEfqUd8e+nVE\n",
              "PcIHMESxBSRV5/4fq2xGpaOAUEAAAACIQZqsSahBbJlMCF///oywHNxOb9tjcthMlEDRyMkndH4w\n",
              "AEN6k9XCjQbSii6edi+dFMVFPv9ItdQexV6H5O8r4YW8InM87Z+pmyQ/2ElH7iiRbfxEDVYlo+Ra\n",
              "ZtfLECGiJnWrEbwnBtAp6TjmCch1uvBD+37XsXVUsyxvZOqmlaP2r6WJzirGwAAAAEBBnspFFSx/\n",
              "Aq8jdH/NNHTjTBa2rAGRf7FAB99ICDQaOumHJfi/2vr66JQfY8F0/J7WYoCuN7IkyePjofolfZdx\n",
              "AAAASgGe6XRG/wMdF0asjQMLdB0DoITPURRPACr668LPwBTVODblzqwG1xKSp5tm43fm+8aK8iMW\n",
              "+KElTOMGw5CjIh/Nj4XKhAwUsD5gAAAASQGe62pG/wMTZfjLiV/rT9Vx5plLQK2yoAdHPgSItOgC\n",
              "KepR+aBI3mhCm28JwC2UX/AO5ctqB4nx+A4fzS8ceGn3nhQiM3YTzoIAAACfQZrwSahBbJlMCF//\n",
              "/oywGb1u+95jaL0F8smUNiDoD12eF3ADVIuaOT1tFKEBbOdx5tpTNY/pbt0BDLpegmqmWuQny07z\n",
              "Nk2Lf2lgz1FjnT2JhP1pSR1/rcogp+KSfc5+Gk5HNVeG8sfVnutcksyhiyJMXM7XS2UhtOdcWQCc\n",
              "QGQAv31XeJ99iNUt08/ljSLiICuyymO2qvU9DfFmDzUhAAAAS0GfDkUVLH8CjZc0zJWcVvhi5hFA\n",
              "AJwXw0RfwYyM2O3xToVq72JRW26IMLPj+4MLJtFU/5kcPJvjBzWzAMPRWKtHmY4fph3QSDQLPwAA\n",
              "AE0Bny10Rv8GXVBeQNV14pWJs1zDH1VHwtACOquvoJRJXtl6uAtdAYfopvgzY0JQM6syIo022xP0\n",
              "Bs1qaufDjKcoQZguz57IIYHJCOAg4QAAAEoBny9qRv8GYeVnXNX4NwJ42wAJ2TZxrg9MNo1be5tw\n",
              "BqBax1dKIK/GkBAJGw9V1j+ebHLykh2tJdc4tzxVKLZgXlQuJ0V47QCBNgAAAIhBmzRJqEFsmUwI\n",
              "X//+jLAHbnG5j+/PAAVN45wRMJlmQSv3uOmovmctROLd+52BaRv697yGxpd02Ua4a+REsanX6eGX\n",
              "K+iqPMZcV1MZa1n1qefgzTC7SjoV6OFeIanyKSBLVkeMu2fy5O2Wf8vo0hqLfYQACwgXYtYvCsds\n",
              "WGzSX6fgrxZ0NKTMAAAATUGfUkUVLH8Cw5UQDF/YCs/IgCG3+UOxNa+cQ0O8UQgSq4FRqVTKgWzK\n",
              "yUV/7n9Ieg59Jr1XTyBaZ2J8ksJ+wJ7s6xpuKH2izVSf81TBAAAAPAGfcXRG/wGjoPm2Wpg7/Z/8\n",
              "qAEVFPQj4fGUXVjUFm/FI9hWK30GdS9n2OFreDEap0wcanjYqUFoBIQK2AAAAEQBn3NqRv8DbSMh\n",
              "8ACIC8yGjozzykYqRhah9FeOBKBtlZxX36c7kikyD03ggjkxQwL/Ok3F5eXyMSMcfc5TThI8KeuB\n",
              "ZQAAAIlBm3hJqEFsmUwIX//+jLAc3E5sby/93L9fOaYYn1JAH3/sgCMj1DnAoX5PjfoqPmgfa0ki\n",
              "ppVAB7GweNe3GAVD0j3HC3kXghnq51u2E5IHByj5UErQ4DtrSh/tVqeb7UbU/bHmEWty1P9krIzP\n",
              "bJveDR2uNW6MhEyHfNocCTyAhxkiv8n3y5S2rQAAAFdBn5ZFFSx/AsKR8cg3ktwPKtvSADk5/czH\n",
              "p3tjH8BI9lyOdnC/ymyU65CivpeL01U5PEJ3piy6qQTM90jo7/eDiDi6h23p9PodfuyGsXIZEHBv\n",
              "f6Z5l4AAAABOAZ+1dEb/Bl1QW8Ud3bgkAJ1pYlAdAWoiQSv73pH9ZH4WZqCzigL2rSD8nRkFJUxE\n",
              "YWnpZFIKvyclCSUfT7HeLA4os3/Y3n4TwoYNUC7hAAAATwGft2pG/wZh5Y8CAAIgVP3jShqEZTqF\n",
              "ZNTraX83UaCH0sHHX71E/NL3e2wGb3ese4XkbRD+D6eA4+ziZ6Bp6JfbsfHkl6z8nLCspBVbRSsA\n",
              "AABlQZu8SahBbJlMCF///oywBYQ+gAAEir3O/bkevwQfjHOh9EuGJPmAnvtJRpnv/IkSkMv852/v\n",
              "G78kSZnc36SjvzffYBODai6vGCnz7TMP1iSZvazGqZ/pji0fxgB5++NiayBvUEAAAABUQZ/aRRUs\n",
              "fwLDmO2Lengcknw6AlXEuKx9p/KBHR1e4+8vdWoEfiD1/IJjYly9+1g6OK2c0JPEeDLb6n0bV3IV\n",
              "n4qMSodLMVkM1y5qS4xErIGAgGTBAAAASgGf+XRG/wNZfCOC2zABJMuKRj0P8pUMTPbDUnUyGkv6\n",
              "0e3qVEpxdF5dKOjxLNGW3kLHZ3NDIq9oA46qqsqB+l1ddsodStn4agVsAAAAUQGf+2pG/wNvI0AC\n",
              "FAq9dSft3v23bD6nHpNkGz5YgksCxHU70V2sqOdgomM8GryAQ9WETBiQPqZ5+qqGMMCmEyRqVIj4\n",
              "HcW0X6HSd41M/kTBuwAAAFhBm+BJqEFsmUwIX//+jLAFhRle2MaTsUsQAEvjvqhPIzQc6G28axMX\n",
              "ORvDmVofRS3M2CJ3X88RV3CQ1XmH9g4bQY1/WeMT+lfe2xbDDQ0sXP10WC+IyJWBAAAAUkGeHkUV\n",
              "LH8CwqbbuYfZYnfiy/bDg1ffvCPZo+EAIes22ZLpUghHOidKMf5xuiksC5hVntTowHWfHKJFA0w2\n",
              "Sklqj/G5ieJWZUg8CNTc6YIAk4AAAAA9AZ49dEb/Bl1QwlfABCMxrvXpSvPZ94srrz+CSuhxTBM6\n",
              "GjdYE10lP7fbAf+NeBzHaJuYoJWfu8jfIH+BvwAAADIBnj9qRv8GYeNIaej4q20l43YN2pDLf4AA\n",
              "TNdTT68DmkKZl44ghZTddmMGu5ARQGUBLwAAAG5BmiRJqEFsmUwIX//+jLAFNFhcCzH0beK9gAh8\n",
              "pSA79ZnJt1sfI3rgUzCZ9pCrUvnBRK7nEiEgCNXUc83L2HfeScSCQPAxktSWS5l/+ItSC6vbWdMI\n",
              "JFcsohk+qyJ8EdxSY0Kcc7kkjrDoz4RgwAAAAERBnkJFFSx/Aosjc0lIAJ1g3gMW6EylKNySnUMn\n",
              "zWDMTiyUCPLNvX8YljeeNq7kCW8caragNhsTJ654pLryB3bweReMCQAAADQBnmF0Rv8DM0xAAhRa\n",
              "MUsRkOGdoeH9I314w595m91yFf0djrKShBp0Ccli7lr+zC8FUBBwAAAAMwGeY2pG/wGjWMLapxcS\n",
              "vwA3TWKCqdjbsPueoXAAaRLk/hAbkLgQRwN1egDqt33/xsP8wQAAAIVBmmhJqEFsmUwIV//+OEAT\n",
              "w4FEvYAWAwWAwmTYiJKOCBX+ipF2A/mMD1ZWi0YeH+PsTWDSxyJ6RBJtkcOzO2pMtCqtZ42/Y1KF\n",
              "Ws1MhROFOMWpXy5uYXWOshDWytd962w7kZDZmN+Smi4SYkAiEcGxDcpVRfU99/OlQzG/g4CD2Z5j\n",
              "IEBTAAAAUUGehkUVLH8CeyTC+ulDqAJp7DG5/jYAlKiaB9u3EBMsQkjwcaGUwElK8+6Ajliho97p\n",
              "zfbB3XgeltROtXvgBB/1MudUzIGti0k3//Gq2jxUfQAAADgBnqV0Rv8DMXv5+k4ALd10DYC1neze\n",
              "ZYMwNcCrtgVDF5D0ejyfEDxyuRMAg7ebCXSFq0I/KZCSkwAAAEoBnqdqRv8Brioflp9dNoAzqgO5\n",
              "+9RHAns+uwQ5ys3sXsGDOyKc5889lB4qD0jKGNh1T3GlvJApHg+5Ggc2knTGe24JiGvd7xSoYAAA\n",
              "AF5BmqtJqEFsmUwIX//+jLAFLWi1Xs8EiU5hwgbOABFuwJtx5OS5lwy0n9bbKohA8/41oS8gwgwo\n",
              "G6hu1CICiC5M+lkI0ohzdPgv9OBUwA1uuXfgXQy7WvyUAGGF87jgAAAAREGeyUUVLH8Cnp9eJ8y9\n",
              "vGpGQ69y6qAHaAK3bY+/+If0nILJ5bojOtbY0L5FgWk8yyAFcIK1ACS2EWhsMuaie1yo0+pVAAAA\n",
              "PgGe6mpG/wMvxWmPAaGe1pb0AAIjrDUYh64vXhn0N2OB5LC4n68rgG7z5Jdu/hK0RQWt67GUwf8B\n",
              "Zrg1QPSAAAAAbEGa70moQWyZTAhX//44QAo/J9V88IZYARTXdZgoF40y4KxU9KjkRRxPZTtFEJpl\n",
              "H377tPl6pOZd6ZW4OlOMw4kaDOBtCb0aNTNCoTtYNrSW/Hi58vC2vtuc2w5PHi12Ns2dBdBewonL\n",
              "lbzLgAAAAEdBnw1FFSx/AVXjbg72jGzgAW1moM6TaZingdg94AfZb6816JlTxr/P0X4/Pb/0U1wx\n",
              "4Z/Ep9plXcAY15t5aLUx5ZoBkdtEgQAAADQBnyx0Rv8Bj6PZYJinMs+mUvFua9x3pAJqcpM7xpw6\n",
              "LZymvmmROc1aY3gyoF84KCoQcDphAAAAOwGfLmpG/wDYSJjxPZXLoriwBM10Nm8Fo9RNNP2sMs6m\n",
              "+n8pSefnVDioQ1yk/ykTTNcyEhxq0s8TNwN/AAAAR0GbMkmoQWyZTAhf//6MsAKUFydLLClG5YWA\n",
              "CMBlNo7n4aRFSuiLAYGQHCSnAJmKL0if1mvPvrD56vrdsYaxVEwW8+rdRSggAAAAN0GfUEUVLH8B\n",
              "UO3eFhKzOBHzRZdFgzaErTbogCXRWytLLzwJxs6Di1ZCb5xdXKVbm6sWpAiIBywAAAA8AZ9xakb/\n",
              "AZCSiOpEGSjT5ToNxzPAEzXblopbZUzxK9hVZBj6p/n3h1dWE4KjIVcjyIS48KhcoFI+oIeBAAAA\n",
              "fUGbdkmoQWyZTAhf//6MsAKVWXFdkUAIKVqDawzZPjA81cp00faRLpVSKwBCaTc4c5wO1sUGUkPv\n",
              "jzQUnnYbg1+bHrbUdeylF4tCaCX3KK4QpK/ykwUyRlRFxvFq43wCjEaUIraXhY90ABT7MGP8CZpS\n",
              "MzZnzs5mOSodFzI8AAAAQUGflEUVLH8BUOx5lO0NSaMLrUwBfwPkkAVVJ9aRK5/MHhq9Jn8bTTcf\n",
              "Lai01G62WC0WuKpeaUf+KSlVO4IGkArYAAAAOAGfs3RG/wGpswzBDZtSNp6AC067cQ4X5uQxf+XR\n",
              "JZRch/UXHwn5sM1RFSgu6t9GaZQTOECBvgalAAAANQGftWpG/wGpsvtZdf4apTgBWyQXNUw4mmNg\n",
              "Hj5AT7kIS50OkNFe6XnSHFfLd6uHZxYorgb0AAAAT0GbukmoQWyZTAhf//6MsAKpzLkAUlA6a2iA\n",
              "IXb49c6/sFAOLdRUrxI39vKWRRifUkT4URhK6PoGtE+W3fMdhBk8JrNPOFgo/kfN8Rcy3N0AAABD\n",
              "QZ/YRRUsfwFZTYAuGeLR8UwavWCKYYPngAIV3HnB5MOqGB5PM4d74HunNTQjLOoYg3YZ60LXbY6G\n",
              "+qfIzsI4IXBliQAAADcBn/d0Rv8BraMzf6VJsrAASN1nuF3WBGAvGw1aqbarWsv4fzMlV1rcuO6W\n",
              "sf4YVBbth4gqgMWAAAAAOwGf+WpG/wDOR/LyP9iIBHgQREO8kHGfCLIP53rASJ5kXE5a3L5ees+L\n",
              "BGalW1ReXnmrE7hNCXOmpSSBAAAAV0Gb/kmoQWyZTAhf//6MsAKUGWX7smSFF4hR63HgvqmADVRs\n",
              "J+y0ECKWDrGZvwXm4pWuFisFnqO1iVI+XptobHeXwFyOzMPzGm/gi9BAUwvviIlWpsSBJAAAAEZB\n",
              "nhxFFSx/AVCZ6SbshJLwAP50GrKZhNWf75pdNXhT8de8JxGLaPJLpghmvjUhg21QLjzb4l2/4K83\n",
              "01Y4ggh+LQvk7HdBAAAANAGeO3RG/wGuvSGe/iEAC5q5neWnNX3SKY6v495gR7U45KELnf2905+k\n",
              "7tVckA5wbkHdBW0AAAAvAZ49akb/Aa3iliqD71RGSXgDNTPYn233YdddfvFWlUMiWKM29uI9Ad77\n",
              "e26sd5YAAABmQZoiSahBbJlMCF///oywApPKhhjACw6qn18W15GZmmE661dWbeFdkQ4p5FIN9gRC\n",
              "2cu1XmMBkGidj//wEVCs8+y4qecGtCm3SDskWXtyu468/iiXrIgV4Ht1Z1gKNAGRMFs6ehnwAAAA\n",
              "QEGeQEUVLH8BR5dvktZ/PDAAaorxlbw4il9956twE7wMgpUv5MxtHB/ExdyIUWUcRBB5AUjmdp8N\n",
              "Xi1Xy6PrcJ0AAAA5AZ5/dEb/AY+jzryvBU5Y4ABNVMwtzCWHZ9TTZFTgynDy8tfljRN64OK03tjW\n",
              "+XO1K8RSpZLQaCggAAAANgGeYWpG/wDSI9LAMZt+AHKBxGLM5iTKUm84T35XcSLX4zAbgPh/4qgs\n",
              "gnIlSJRW/T/P2PeBbQAAAFtBmmZJqEFsmUwIX//+jLACk8tKgQA+1AUC/u/6Kn6JwG1Tt6KQf4WT\n",
              "HJKZFQgfBSLy9Zwa1T7yOx8Eq6qvqlo1txzQ9u0qjymVrV6vYOzwdPrw2ZGRHjgdOCooAAAAQkGe\n",
              "hEUVLH8Ap7BKbcGykAEtVACD92/RtfkCl2sVzEl1V6tcLJaMdmm1UDrrU6p2z4/67SgYhy2HQ+Ze\n",
              "jCHLQj4CPwAAAEkBnqN0Rv8A0H4qOkWAASpKx4gKnsP0wJx6EbzYebjdsoX1BMnDTtiscLGayNVV\n",
              "4bYJ3jKLtVBYa7sqRmQGmkoxfwXy+8L1AM+BAAAAQAGepWpG/wGkGgahitU0AOjsSncV8neGlB/i\n",
              "Fdz9RIiWOaCuV2sqY3EGLFoNS/ktqcK2lfQs4FA+sbhOe7lwMqEAAABHQZqqSahBbJlMCF///oyw\n",
              "ApPJlDDpJe09Ui+2588AFzQD87bEgDmpsTXlW89A+hVXvQ/OzcmI++PJZSM7P3cc0yGEZwYwEoMA\n",
              "AAA/QZ7IRRUsfwFQ7HBxFGlsBTe/JADXVatII8kGAIiZZL5pt8JPz3ejhvYldNicn5D3wL9gv4OG\n",
              "yUz7wm28g6mAAAAAMgGe53RG/wBpjO2CYAgyeZHswayycoQcwlJ9vb/5MrN05+Vrqy19nNVaeHYJ\n",
              "bjUEcAh4AAAAMgGe6WpG/wDThxRSI7+AE/WmQWcSxzKmzZ9X8PMaBi2Be003kFfP+Gpv0EFJB0wZ\n",
              "YDUhAAAAdEGa7kmoQWyZTAhf//6MsAKS1crpVzSDJHwPOzvBYAIqbFDq+JJOmsneKc1JN9PKEo0G\n",
              "1VOSTJbwvfKSFTaakKw6mujtN5IOUEEFKHgcyqx58R3ji343LxFunO4kTw3812Nbwvp13mY3wgBp\n",
              "ZDWihEL3zkRgAAAAREGfDEUVLH8BUJdSMSoPM7qY7JdDACGtGQ3miv2Rtz1+puJ93NOUVkdz6a/m\n",
              "9ldj7z+JTD6I/fAH4o6yAdMQPOSAwQGLAAAANwGfK3RG/wGk9lcbAAPuDLWriBrAvfPrxSDkmfdr\n",
              "FssbjxHEHsq8M0PyAImdtP0xKZqEjBqgW0EAAAA2AZ8takb/AZpHDcQjjqQHcWYATBgQFq3Mqy+n\n",
              "o8J9aGlZgLSkxnLiNdL6svaV6tLeVW67scu5AAAAckGbMkmoQWyZTAhf//6MsAKTyyhd3gdiF85b\n",
              "dAFWtc142yDRZx5WKlWl8Q6Qk2DkR926o2Szjj/eUcxT+QxmCCdF0/jjGG6p5KCoFgVX30Feks2B\n",
              "FTVuSzNvYM4EpaK/7m3PghaJvEL99z+MnFJCQM6ooQAAAD9Bn1BFFSx/AKzl8uqIdR8GkwADbIRD\n",
              "wvRD7TUtRddh71AcHTYuolsV15b3XUj0QGgA4c1h0NO+UsGn/COByygAAAA6AZ9vdEb/ANfTG925\n",
              "Ewef2ABW1AZPsR5WGdBp1u5TtxQtvxRJLsvDdE8AZps8pLrmCmut2GClg2YLuAAAADsBn3FqRv8B\n",
              "o+Kl38nrIACVb1oI/sq25AU3+0Mav5SC5BvV85G7N8qHHPvIoN+7pPy+aib6nVPAyooFxQAAAGRB\n",
              "m3ZJqEFsmUwIX//+jLACk2M7BcATrZIAHWdXOw6NSm/ntffeGkKBwXWYf8fv6rXRzn8uojuVBm/J\n",
              "5+CgthP+ec6wvkwqdt7iYkECrwk/ZFVlIqjZAlNtyY8MB3g/CiCCpLNqAAAAREGflEUVLH8BWc9N\n",
              "HYjYs4DJhxwPsEKJ2P6ziVD40AHKrlDfnbeBmjF0T4aegjc5e2w7NnQNWz9MpYnE3uTD+NtEqlfA\n",
              "AAAAOAGfs3RG/wGPo+IpVMHfdtI5+x4Ni9IACmoCvlM7w54fM9YN9Hao8VT0ScHrqhVCSj4/IQEg\n",
              "vIO7AAAAQgGftWpG/wGukUomooca3mO0oAAJoTSswFoBOC66Am4ya0fkJOdd5o5Hbdnu2MiF+Bfd\n",
              "fM/gRtswoOv7b5Lv/4gUEAAAAGRBm7pJqEFsmUwIX//+jLACqfHLoSiRgE3ulKuk3Ea5fT2pLpEl\n",
              "aa8HGTYOgEWiDPM2fjkKgzP/TwxhmObkuqCZBbvhRm827Jfq3e02VS/UNxrDL8wwv2sScfChZ2VJ\n",
              "cVYODsthAAAAPUGf2EUVLH8BWUzMN0sshADpTO/xtydAEIJeAUHIUX8b/uvvnlpY+RcMeMuG/PAt\n",
              "FoJZhEE8wS6V/Dd5T0kAAAAyAZ/3dEb/Aa2i13SymKcIBFcwQfhACvTI7oFGQRtXSVpISeo0CxaU\n",
              "00te4EECVgwwJmAAAABAAZ/5akb/AaPinpZIP6Yi0nR7sl71tni1B9U+aDnr+aAG6+9b1FwFLSSL\n",
              "490qHIvJ03WDFNerum93ei3AdsDZgQAAAH5Bm/5JqEFsmUwIX//+jLACl9b/sD2EsQxKVkGmfyb9\n",
              "DOZaohNrjEhh8p1F+z2iNfo7qRmHNLJ+FwTLAVCa/cx44uEYeLuZQ7pSkgyF+Ta0Je/GtVa84Buc\n",
              "H5u3ErKuNrAyQ23f6TjN1mt8nYjnbHWGthE53McvwDHZTr9hEzAAAAA9QZ4cRRUsfwFQmahAnGBA\n",
              "LnOIrNDVGY4v1TzOSWHoAFOEjN/Kq0bloceXxWf6Orph6kxdmzSQpQKEbJM92QAAADoBnjt0Rv8B\n",
              "o781tIf0amrP5BGi+qIaJMuAKymk/N39Db0e3whgzc64lSjLnBiJzK7sr5pRcS+oQEE7AAAANAGe\n",
              "PWpG/wDOI4t/zABxR/cmVZTxEZK6alAUZx6KbnXpB/Q7QjdfdLavVLWgdQ2sRQhQIWAAAACQQZoi\n",
              "SahBbJlMCF///oywApf+QKgcbyw62z2013rirMANYo/ZnyiywH4Jl8VVTTKsn5A99sKrGA2k973N\n",
              "1qsvgapDIDvp4RCanp/17qO3rrPtZSphqe2U85dT1NBwFVLa20RERL2rG/1l/y6qHLkWRmatFtnl\n",
              "XuvupcmNKdTpqMt5ktd1N2QL/WcH0l47fgosAAAARUGeQEUVLH8BUEwG9g1CYAI0/BnqgU07t8VC\n",
              "f+M0FlQR0g1KhMrVrEUZi9s/0LQ1jdaodvIz9Lqq6/hcdPAySMBIASoCpwAAADsBnn90Rv8Brrgm\n",
              "Ecpf4G3PzG1AA4mm7s+Faxxm8vMzYJz/4/k0JLF2QO7K5uT5usE+9eDiC3hDQt4O6AAAADgBnmFq\n",
              "Rv8BreKmnTI/AC8fVaWFjm9WI5eCuDPZMqNpZA1OzAs+K+n5PD/6ej9H0oSHAGfdgroJWQAAAG1B\n",
              "mmZJqEFsmUwIX//+jLAChcy5jhNzTPjbamQAjGEHIlsefPHOElCewwy0QBQ3Nz8H1NGKpZqQb/hZ\n",
              "VZcJCFtskKpGTjHZY5Ofglo/5abKUA37VRIcTqr+PdqkLCfP3oGkqt8qjSkQEUqWHYWAAAAAR0Ge\n",
              "hEUVLH8BR824ZNQBMJreKOfZtmu9+R4FafDNslcbRkRS2NM+hmRQTm7ilC26+o6nkcqM4/ppriLZ\n",
              "dALYcsn6vcVs7xQvAAAAOgGeo3RG/wHDsV9Rq/AE60s5Fp2RskjyP5Qg3tw7B08SAeNW1lIP1+Hk\n",
              "+7BQ/4iczkPa5RYArQTEEvEAAABFAZ6lakb/AcKhXvhnYkAnj+NjtNf9IxzvUOSz1sHDqAf7RL5U\n",
              "8LR9rSMbONPQ7ipE6duGtASe+Q1JjCE5tbRzE5gi4GZBAAAAXEGaqkmoQWyZTAhf//6MsAFLMtFm\n",
              "WlAQA0iB72igZQ3bRLcLH9+UwE1IYb3e3xiIKeIG5w8vZGt6hg9GVBbQk7mObJEj44Vxr4D7BV19\n",
              "fTa1bUBBBsQZXfy6mhl/AAAAO0GeyEUVLH8AqHYzqNsaBESulir5kkABOsJ5dr6WW4Uq/nEa40bq\n",
              "t3Lq+Gnkmb5WkA4lmZ51ZhA6FX7gAAAAMgGe53RG/wDJGsZRkBw+ud5OMGTrQZuAJHgDO0pw6LET\n",
              "mRQMMcyJeWSZH1ew7eRMyinAAAAANQGe6WpG/wBsBkx1fayABK7UtJ3isIdhBAP/ccPIQeO0armk\n",
              "JNyVR7r+BaYhpUqnv16BcCthAAAAhEGa7kmoQWyZTAhf//6MsAFJ9gA6EACrfcBXS+KMTystBPiZ\n",
              "RfoJ8zyaoddppmRD4PpXeTg2n/4Acxa3W9OxmWY+gBuWWozt2VVCLip9uWb/9MAGlORKbY+l7zHy\n",
              "wKyF5dkhCM9jAqAE+Qkkm7MbMr7u5dSB8mAYG04ATpluoUkFru0PBgAAAE5BnwxFFSx/AKrEGXcQ\n",
              "gHRlsOACv9/a4jaihwDM0yI97CUKaYcnrhRymK8mbwk5PYZx8V1NIinBjt8otHdQcZkrwW6ph3ME\n",
              "kpbt3phAExYAAAA4AZ8rdEb/ANXVh6lzABOg2lJzJjtesHvdsrOtcQIHZF8rTF3IhZ6S8wijoKrD\n",
              "B8hulWSBtwYUCykAAABBAZ8takb/AMt2FEVIF+3sgBfU7y6Ayvjkjjn2gG/YxjK3lBaEulh74uFj\n",
              "YmAOIbsolmZ5ikoBNB8lAgT0ZGQ0DlkAAABpQZsySahBbJlMCF///oywAVvGZAAlR5ahW/rqEjoO\n",
              "LfDM9bmfFbQAR6nQ1i8T85lAvMxZPkGulVwLlp63kKZfM7Xgpormyn7BPiwilUHeCPxfmyOSqrEE\n",
              "GRXH0it0+JofVc7i6J6XgCmBAAAAX0GfUEUVLH8AsWQNhAAohKX0ymc9f24NyhLlQ3TGmcBpzlh7\n",
              "WJKpI8qcTZmzoHMY07xHlSNcQfpkQnIsHlaLv6p3C2WNJqh0UOst7qcGOC4578Mh24zYWAtIhSpN\n",
              "MGjcAAAASgGfb3RG/wDV1Xc/27ACc8cJpEf7jEnm3kaFEP0I5ArQsK5Od/i343uP2ifSwhS5LXGJ\n",
              "tbxIbMzrTqsXPk5CB/NskWPy7CugxgHTAAAAWAGfcWpG/wDdRejbMHb8iwCDLoAAIH/ERX3aTl/7\n",
              "Jq2n/SAZS2qvPDo2zmE/keUHLFe0pRyVFDalzt831KwrpUMS4kQ01Keg55+h4jd4K/JKT+0nEbIK\n",
              "HekAAABiQZt2SahBbJlMCF///oywAV33M3/jSaKuiqftfIwBVxYRPAYN/nGoerGiO9bxQLm0kjdu\n",
              "WpZmBejICSbaXhUS/8Lo4UCHIc2sViLYJVWJYxYwvPHJMkQlCtNnTr1AF1juhKgAAABQQZ+URRUs\n",
              "fwFHULCKeAaKuq8bN7lBaj29i9Q41an/GW4OqhJ5tZh9dxRpIdeZE8jJ99UrgC8G4c4gSI09bJai\n",
              "AOTbp+QQQ4YxAcrBNgetubgAAAA3AZ+zdEb/AOLVp3gAatUd0CLF4YArkpZsOtSeuwywbPw9JZzw\n",
              "BFs2mJyI79wj3hshxgPaDqgl4QAAAD4Bn7VqRv8A4lCqemCFssWd8LwgLirZ3udAIQb70i9V8k5n\n",
              "s8+MpJPMWdqQSbIfl2jNGHo97DtrEhXHXZNcCAAAAH1Bm7pJqEFsmUwIX//+jLABUsuQAAQUL9Wf\n",
              "f57zaSRf/LwAVL/gBByFMyLOEP7KSJoszUPQO0brkQfK1Vk9c+Y7hSJG2ehXYs5lvX8kjyJ4EtvL\n",
              "QOxN/+H57XPW0KNp758eza15xuObGaW5YCikgP2/q8GotwkKAmr101Qz0wAAAFxBn9hFFSx/AVBQ\n",
              "h6riAOK745Uc1Fp1WXIjGfNc9/mm4oc27LAHBBm4++EHie81ksrr13CQCuY/32UIhHSbjnjOXjyj\n",
              "5YWHC77lr+itZnOhT+vQaPVpsuYWEKEDAwAAADwBn/d0Rv8Bo6PTD0V8hBABadbG+IO8aNt2P3mv\n",
              "H2muqg0PLHrpWI4ufl6dVVaQf/N+LLkcurTwbAMoEHAAAABQAZ/5akb/ANX8aD4izo0AXjJ9VVVe\n",
              "pBZzPECa4M8zI+Acpk/qsxfdKEDd1UzZ+47YOBtj7QgPabqCXspUqzANRr7lZLqpUfdGztMOTdXg\n",
              "2UEAAABoQZv+SahBbJlMCF///oywAVTmXIAo/hFiyn6oXh/kCAIEOwMx9Ty2wXpPGoaVAHeVDk7p\n",
              "GF74S72uiE39tuf4o54N7Ds641Rcyku7V6B3M/mnARPpYppHge4ezcocqY8xDFf5CBVBKvgAAABO\n",
              "QZ4cRRUsfwCx24oAn/7cGp4EhBA3NPUmgwJeryktfLfaGJFhNq/5TxCNSRSpy2D6HubDY/xmx0IY\n",
              "fQtaQB2FDKOsK8ejZuU03lOjBAInAAAASAGeO3RG/wDdZjQAma6OU1O2j35mwzhEuAcLmKwT1hDe\n",
              "o9L3tVsG6UeLxmGGDHGT11Jy9nYUk36fVCZETqGty3zPiFAWgHdBswAAAEIBnj1qRv8A40sSAcuj\n",
              "upz55ynPcY7hWled/iNe/wjDq3d51WBVWnR7F6I8u2K+WJUvS0ZpuOUTfadUPqLWPyDyTT4AAACF\n",
              "QZoiSahBbJlMCF///oywAVLGZAAfuhyDXahpjRRJ0MIVAbr0+DixtBJr0BNpssxws8jEPt3SZREU\n",
              "IXg+aASm8er3zeEhvC1wXxnJhqDzoYwdjFmZYwisIgx+WylodQTfQD07LiJfcg+bUUZrG9uBs1zY\n",
              "L56NmnOw9RBRti78rYIS44utoAAAAD1BnkBFFSx/AKzy3pSz1Y88AomG5aeZjWdcQCEfLyTZ/eab\n",
              "gByn0TS4mDgDNICJ3GgNF5j50NgBFMCv4m9BAAAANwGef3RG/wDI0e0UqojX6aXjpPbSgA2jRxyJ\n",
              "eb7oW5cyKlcoUQ6PVAsmMWHfAYHeoc+AwQSEEnAAAAA9AZ5hakb/ANhKGQIAA4vlGwOWXS4q99GS\n",
              "Kg4OHTZtD5J9ib9eWMTQiTFQ8F/JYNBn1RJRXGbaA51kFdBJwQAAAHRBmmZJqEFsmUwIX//+jLAB\n",
              "VPcuJJJUCsPlLUnrADbGZMDgPSQhQJu4+Jg+qHu4LAabT7LpeSOegU4+4nZHjCpVCKKfdqcECYpZ\n",
              "Mf/lrUh47f2TM+iJQtp6Sdzv1gu6FWKnTBHDBy+M0stZRsfVAD2RY4DTfgAAAFhBnoRFFSx/ALHM\n",
              "cALSIp0Hj9QW60DvOP5etHfmYvicw8lLy15NOM9jh+IxtpPu4vWEysihQxiTD1RgjuMaxn7BnGX6\n",
              "vF4TJ7dDzdBQZhwJySRziA+kTHq3AAAAPwGeo3RG/wDdXLwJgCDLok0MCHZgK6ltL3hTLyTs9w0g\n",
              "T9elm7pF8I+ZJCNoMKHGUYkRyz4O1xHNA5MiD6g2YQAAAE8BnqVqRv8A3PO8VblSB0AB5gVh6tZV\n",
              "Ot49VyTvw4jLZQe3Q8n6EKcj8ypKcnceHzeCJXEhjdrVMMzyMQDW9vSO/5ed/OGWponMyEKITBdF\n",
              "AAAAkUGaqkmoQWyZTAhX//44QAUjn2AAiyO/PwZo0sthad46qhcRpL4Mh+rgIy6bRTUBvn1728Xu\n",
              "TtOJW0WJgTPm6putz6mkQ3H6dnGOrscXWA5/f9o4U/uqiKGu6advB3KGmWswBVVJLlSVu/anlkqr\n",
              "3MtKkzEk9uLx2CsVGdAflc1uCRb8gDZYhUOK1ROc4EQqpIEAAABTQZ7IRRUsfwCs5Z5du1TgAtmE\n",
              "fPhvcSa3y9jcOr4tRpevHswi+jrWJ/evFxQlmWgmcvXPO5dQwKpqlQLpRMeSydcL2Az6MHWL9M3C\n",
              "qCXl27kIE3AAAABNAZ7ndEb/AM2fH9brzYAHtHw4iWp/lPWv+I98m6eSj3XiOKaY1ZUIFiCcilEZ\n",
              "2m9AcFM7sPfzbszPgzacteJWRSbIb8eUO1y854SED5gAAABeAZ7pakb/ANjTEANKE5kbA2U7rXEv\n",
              "LlS+cnUVGj1CxNTF6N0VeoeJRvzFjvtkwvzxT1SNTj/jWw7XJEpzTXe151GtBYJE4OGmMimlHNUZ\n",
              "11+8TGAS8aRt/4eILeDAgQAAAHRBmu1JqEFsmUwIX//+jLABVOZcqMBgUMAnfO8BfSvVbz/TtbMw\n",
              "OXN2oVqNaW2IIhB8bTe1isgjo1mEGe7/CsMsHPmjHdkCF5XTajnNqzo5Yhjg0ldcjqNpsXT8Glid\n",
              "s7woIk7VQkFl8tfX9dFjxvqlCVxZQAAAAFBBnwtFFSx/ALXmX6kAavYp0F57V/NRPKIcw0zRlKI4\n",
              "mrgb4AoZmXAYAIxKsbeLP4gswm5dGd7/89hNcKEkgVISxezxmAW5mW2Lt9SS9VpRywAAAFABnyxq\n",
              "Rv8A4lr8AzQkHT3RzUrd9SX7Fm6Wp36+1e5OZhud98JQ40/0HD0OArvqOOvV+FR0UHLeWP1y2yiK\n",
              "IqqFkACsW525QxkrPMvRAMaCNwAAAItBmzFJqEFsmUwIX//+jLABS/6/DDnajALL/Tfc0+ADJ8Zs\n",
              "d2kYBOjSm2EKrK8alVOffjtH6ndBc2SyETjacDtMO/7btxjpEWMaaak1+CxmDl9xepW/IM+mz2wL\n",
              "So6Vt5ES1bsEddQmEqnPFg7S6Gc7K2OQNmJb4esh/TN/J4WCfXI19U77rdAeF6BBAAAAZkGfT0UV\n",
              "LH8AqCYImF37vJvGAAb7wuzuKAJ9cLUdvOJdrYMEcbZlki7SD1D4h2oI1OqcuyyBdOMhycdqprzU\n",
              "1sY1oa7faogYzbshPwf5GnOeNn0CqEghyMms24f1MvmqyHSUm+nF5wAAAFQBn250Rv8A4oW79ZeT\n",
              "1nM5QwBnMn5yq99Gg/dFil1bs6nYvQijiZ0P91kXCixW9ym6uc17U5icmKOoJ3P8j7QxGyQKhAcE\n",
              "AtHTYF9VFi2ANyHzCXgAAABPAZ9wakb/AOJJ5Hnh61uSQDTzM5o211Z3Do5WVOVy4i6sNwLq+04X\n",
              "weMG1U21OGRM04cveHqqmKyh24IEh/Pdf97DAZ3sMvnwOYIgN3UETAAAAGpBm3VJqEFsmUwIX//+\n",
              "jLABS+ZYDB3N3dqhdW2IcAB+6zrVLOpiwn5UGf5QWr126WxAL8I6Jo8/EOz0NeI+RBVjGdDj/j2l\n",
              "j5XyJ0SNnLZmBit15wqT+4XDPsjBzbHctk5GYQSueFEb+KLBAAAASEGfk0UVLH8Amsg1EAPntaew\n",
              "jS2wDZhuQbzh2CoL/EnDg8b39szMnDuUDyA6QdZVjEj/jawGmGLN8+9A8gjHBy7UNwQ3J30vdwAA\n",
              "AEIBn7J0Rv8Aw9FEWAD3WokvvXTzvXS7TqqJpbxl6vhvUv7YsH/5H5HXv3sAhaKcS7uA7vNHstgb\n",
              "Z7b0mjZkhvQ+oS8AAABHAZ+0akb/ALzVclEdzCkAIx11Sbzyrj+kEl9icJ0VbvnZYYtYdokc/jlj\n",
              "WAJUZ8/6hRXqrcnUJBkM6Avs+VoIyfAr06Ktu4EAAABpQZu5SahBbJlMCF///oywALN2DUALUGfu\n",
              "XwpbfJX5iSVUvoA00kwMCfQu4eTiDZrxk/8KtF8ZF83ZnUbxlPV30OJu1GaVNXi8/n8c9gkKxF3R\n",
              "23VdM3Q59yzX0qVpSjvvgMKGXtJj1Sj/AAAATkGf10UVLH8AqGQeea9TXsVAHJ3uyK35DBAbxEb0\n",
              "Q73UzFEza2lZKHgbYDpFvEPZf2qjrr2sjeoU1l5WPkSMqADkytTyEpmpXqGYXVAI+QAAAD8Bn/Z0\n",
              "Rv8AzdHxh5NL8AIujyAeMtRQ+u1CK3D0E+uyPwy3ihNyd8TdDWn/ueUeOlCYrBYf41rr2r3vtHm3\n",
              "gekAAABSAZ/4akb/ANNIVQP6zw6ABasxJKCnWlXEfpu+9Sv3rU7DLpoYq2WQrzA0Ro7lBTf9F/fK\n",
              "9WUoIyn2+MqyXMnUDEo2fo2se9JMyfQ/ffHuKwAxYAAAAHxBm/1JqEFsmUwIX//+jLABS+ZYBQ+t\n",
              "ovuwAEZHfzRDRfDBABj1D1ONWKO90qyblmQqBSuHwJQG8EGWDKo0NTeew1zJVtC1AyoztaqMjH2w\n",
              "iyjCeAOdstR3TK/83t+t+0vuQeZVh2T7EjVBeOsMtJWeQKr03nu+v2OdyeYFAAAASUGeG0UVLH8A\n",
              "qCb+8atDcHeAtB1Lfqad7j22jnAJMB/EMpvUs2xZS4v9IUlW4EY742kx+mHUsIA7SnJYlAZlKMYK\n",
              "uWAQOX4ADWgAAABPAZ46dEb/ANLQIVr6oV/uVJqaoAV9cxH86sLTTLK/4sdOsZ8S78+mVTLtDxYE\n",
              "EUCnmDzzxQmGck5bJbi7YmBikve4FMCsaquAJ64iJ+4HHQAAAFUBnjxqRv8AzkoTNns2QAn6cEja\n",
              "ah0HxVxqhWhpkWnVDD9pk7CCgK0F8TN1tPHMcTpnHBz79QKbWXPtMsBP7inkgER5NNKkI+AZ/VI4\n",
              "mS3qnlgYfG6pAAAAfkGaIUmoQWyZTAhf//6MsACyZbogCHulUoB09LogLi3GSPFg/HpddpappIka\n",
              "73H+hmFeP+mptupwMqh00FRjnx/S9NdWreqUYxKV9ROceZdtPqnQIobEao6aMf0hIA4nKGtzbXaX\n",
              "eAoePH2v1Mhz/bcV1I9bIQ1n57KGPRWjGgAAAEFBnl9FFSx/AKHEHx7E9U/w5NgGtlNqxIA+mTUa\n",
              "A8hk90EB9QAjIsfPeRfMBDNKAyGBJ/2OQ1N23eso/pdrt4AI9gAAAE4Bnn50Rv8AzdMhEsnbABrD\n",
              "3JsmrFr5iIXqTwdQy/33S4/Oy/RC1mCVrYrXjbeE/JVINI0xF9c5HCe7CHtNvWj/qXO/1PMtWRLo\n",
              "YQJSCRkAAABSAZ5gakb/AM5KEzbKQQAaxr616y1Pke2bV9C0Qa6E3f3JNMPWqTWm/4pMpvbDS3gF\n",
              "V3k2YMKaD/5cO9zSvXa2+yL9FHzMymPZvNR60+P5gW+vFgAAAGBBmmVJqEFsmUwIX//+jLAAslR7\n",
              "lEuAFk81r/7tN57EukrNU3vNyj/v8b/JnDOAB54Jueirzgwax0h+rE6NvHze98+b3dM0pCVyhyOK\n",
              "dApwac+GtDFojoMuc9fapIL7szEAAABQQZ6DRRUsfwCkEFFFTCwAAjTd9rzq5PkSf1hoT/M9GNtP\n",
              "U02FIwEiUcrZktrs0CaddH5lwMcL6norYhYCVQ06v60Q+ua1Hsb6/oKwWcDdAZUAAABIAZ6idEb/\n",
              "AM3R9bmymjACNCcV6EMpxwG+YEHypHza1R3U1rZsxLH5ijLU0GKQ/1TvEVtxeWMY5OGzen9A6zX4\n",
              "5XDKUDkBZgZVAAAARwGepGpG/wDOSUfHkdwAOIYVd4n8jiYl5S5nOBLCPK8eBMdHA2HgjWOQwgmA\n",
              "axQ5npY6Y80Ms+uySa+Bu++X1e2Hz/sweoKHAAAAgkGaqUmoQWyZTAhf//6MsACze5mqv/CVRKAE\n",
              "1ejLnULb+ALwBsw9xAoSUGvxkvkt6gp0vwTNnzjxcxPQRKRtjj0GSYyA5t3ebg8y95WMqQRITGO/\n",
              "aE/GKwiuAl4LWMAPmfA/OrMrOU+YkeYP1jGkHiTggd7G8j7oFxXRpwo1nfAbBsEAAABYQZ7HRRUs\n",
              "fwChxB89C6gFBmVg+wsW6ze8BAEPtrApuDMnnlqo9xKW4c+YTMS8b5/r01WrtJMEHBVceQKMmon9\n",
              "Vqcz2fNb+k/U9SkcGqEANEYaincrFvQsoQAAAEcBnuZ0Rv8AzdH70zHuALRP2Ckatu3deFkqv5wC\n",
              "E/IyFBFysi0s0KWHZLh0oBHlb3oEbkrQAxgB8755iab8ZCGR+Ogr4VQHLAAAAFUBnuhqRv8AzklK\n",
              "6hcuQA6EC9IuTdWI6oUC4fH5dzfUHbob1hyGVz6W5rDBqPJQaRneFiF0HyboOMd1KwhC0ppss6vA\n",
              "Z33VxU9t+8bgc6i0gU0KGCpgAAAAgEGa7UmoQWyZTAhf//6MsACu8y49PBW34A28o9/cV/Qcdzk5\n",
              "lWsHDT6vaRIriYzugZ50wXPKtbBNpU0ZWqboZxNvQTyZ9eS5WXTUOKyJXHU4Jm/4PGmemfasVBzc\n",
              "YpgWwVHwEMgo/lARCF53hFMtmRkQ87tNiuxqKq/tIHzUBv3pAAAAXkGfC0UVLH8ApBBRX37wCZ/y\n",
              "WRr+GaedTowEZw93I/fP6HngIxHiDS/epz2i7j/JtRGRrKpthF82a9MzD0JyRmIIivrvrI5iU9oh\n",
              "tZO6EZJ1AWgtbEDG+pu96oIOArYAAABfAZ8qdEb/AM3R+87Juo70aYgCfrokIdUuqoMPZo+v1tsF\n",
              "4HICbUk/VAb58QQy6QWEGGoCMACiXOaTuMTlOirjWECQ62mIeV1TB2UJ591/LDpy5yAXAl6ucfUl\n",
              "PWC4A6IAAABTAZ8sakb/AM5JS60cAWiywPxOatNPWpMzpztVzbMZ0ZRLhw6l5Lmtj3IN5SGtyZmx\n",
              "pv6k7pey4K3E5IDwV9mI/vuuA6FVo5dTnkxyXOoG/ChgpIEAAACAQZsxSahBbJlMCFf//jhAArW7\n",
              "fAxIigBGA0HQwDz70EW6LJazlTL64OXO7GTyJnFNUHFZea8ypKcWy6ZWpaMSqt98mbQ2zwpdDCfq\n",
              "z4YosAkbPyDa7ncSwrcoTpE6xHa3XZQme+FadcXRVCzPGUaBonSCTt5cJaxBaXlvUzYIcbMAAABg\n",
              "QZ9PRRUsfwCkEFE3vxkgCzvomc+X/yWFPk1xQlZqTa10KswbBSahE04twunNnzXZM9ugns9xzkIq\n",
              "So44JZYBrUB1FC+ltpsY9kKrX1ayGfBzVNAYKbzheQ09JTwWLU4JAAAAYAGfbnRG/wDN0fGC/G/9\n",
              "f/ABTZtvFKI822XuXu/QvkVMVMuUq06Q7TS0O+gP2bD+21u7r0RDBGf2g33V52Qo3HKWxukRBIsB\n",
              "VJaZRt8u7rmXLxYgon8PyCAPrmbDwgIIWAAAAE0Bn3BqRv8AzklHx5HcAEzI77fFZDZWSCoU1F+6\n",
              "SQNg/KQAq8VqdYNLctrRHHPebvojuODLleHnUS7bA/cRtKGa6Den8OtQMonEgWMC7gAAAHVBm3VJ\n",
              "qEFsmUwIV//+OEACte1eXeABa56I/rM36jUlaxyHD9huxj142cdApDurHY9r0wRMAKWiFdN0gu1l\n",
              "hPGR/2BP1Smon/ZZdhbfSYH8epW0RitkGrAgvrkuVTGkBAf8GSTup8MtU5DMgNSE9AO71/6XTYEA\n",
              "AABeQZ+TRRUsfwCkEFEjkSb4S2nQAq1iplQSenRZJtOPV1NMidxkzSG10Y8f2KKFoe4+0Z7ywXy9\n",
              "1PefAiT5fQXcbi5Lc/Z+1s3UudZ01z6o9ZpXVhWDymaFEAC1UWI2mgAAAEsBn7J0Rv8AzdH1yUkA\n",
              "zVNAS9Nes/lrF+wxqi1TjAR/iBkuD+Kf0/J9+4ph8OQ53DZ4JNYMIZwseR67B7vHCJB3Epqz5ASw\n",
              "LiD8BMwAAABQAZ+0akb/AM5JRJO6f/ABF9CpR3b9II207QmquRq3MIoyJVz6O0MC9OqAJTxEPH4H\n",
              "96EpgISYw51lN5YmHLq8BLbalU7Eqd1yrn5i6hhAQSMAAABrQZu3SahBbJlMFEwv//6MsACyYzIA\n",
              "FrrT/guPIT2Ng93XkyfZm3Ur/J39K2+IKOue2BGb2higHJ63rM2mODrpYPPKszd/eS3STo+Lo4A3\n",
              "cJpdKvrLvXaU4rfqwo4rnsfbHma/RpqeaSRBT1MAAABIAZ/Wakb/AM5/ReNlPgAmavKGHg8RPPKX\n",
              "6EmbtOnhHTdbuL1GiifLhplsVf7qu8tO/1QB0G5AqwN2eM0c6ws6KOoHZ6CZk7bRAAAAkEGb20nh\n",
              "ClJlMCF//oywALJ9YIqMALJfOUYVosYXwEoWBrXGL5YR4DXuT5wrv0hH36xR1vZih9S0Ts2mAsL9\n",
              "dJekxrEINyyBcNxVrfI52jFu3TP2M01saqM9ARst6U8uGBSy1PaWkrtM6Mne6bMIIPZ0ePf5awt8\n",
              "o5+3pRFk32QyELdp2LMuggW/mJ0629N2TQAAAGBBn/lFNEx/AKOoV+Hf0IBA47ghBN4Bu4USNEJZ\n",
              "REG20sodzVwKFyj2WMPlaf56/Z9Mln7zc/lhA+vmRV00MtQr01Ofhci1YqMF40bxMaiXsVSNDRqL\n",
              "juDLeDEfWDVkvCAAAABVAZ4YdEb/AM3R9clJAFnjyAeE8MuUau4rkLirb0Y92QL8ZMn0svY2yf7/\n",
              "Q0TKgIu/hVH9vIWyOENxji+B56nqP9C9FEG4rZCzSMWqd3oAw7AIgPmEnQAAAFUBnhpqRv8AcVw1\n",
              "6IKr8oACdf1EKi8FCGM9jKPJWHsuP4Y+lY/a165XnOsR8QWC3rqp0I0SFDnjr3KYxi8OHQkrybxF\n",
              "4w2s2hliNaMAQEwgvUAEBA9IAAAAg0GaH0moQWiZTAhf//6MsACyfzCIAbmFeyOLp5946zoqZNVZ\n",
              "IwXDDGwgYvYzN/f0ojDSRkwkiXGyDoGE0KHPGE/3vIEqBBaL9FurdsawGuosirYI/jqDoID1R79h\n",
              "s9UY9DX7hFaGoGhWdGUo2JwLi9krOYR4ejmI62ZpAUMYGpM2cf1JAAAAXEGePUURLH8AWsTBMPrf\n",
              "QAWHaPUzJZGnKzd1yFFm3a3XEW0e+8N3dLXwhlZLXccCqo9FZ9Fp/qN1cFy4cSg/YJQNewnPwmvx\n",
              "t2f0eNQoTXeI91XsTxtXIieeCZeBAAAAVAGeXHRG/wB0K6cAAM6Z7IV5bZwtAZOC9uMuMj6JVk5G\n",
              "pUo9xX4CVqUWkhdKAa0xxcMo2PUI+ujuQtrSP0S/VofsOiRuS+3ujZy9bNunOBV6AegJeAAAAEYB\n",
              "nl5qRv8AcX/GgBMyO+sfAaj8tN3rltL7UtJJG0iPGr4bkeGn8vaLEfMrtMPXvcQvY+rr0IWl0QC7\n",
              "fwRRF08JKrkHTCtgAAAAjkGaQ0moQWyZTAhf//6MsACze5psrz0nwAOLJVauxhZtrjS2xtqW5x6c\n",
              "CyB85o9brWXVo5+NW6D4+4NPTJaVKJLLruLlrKpyir+NLdvCv7Apl7yj2EqVr2N0bAmK6exe0hEC\n",
              "8hsoK5bds2buMOgaDCg3DdsxyojbYzqyXasLtPf6LFLW0znDRY0FzlaiS4EAAABMQZ5hRRUsfwBa\n",
              "1PPjeTXaU7T2ZR7dikALX62PZMUgqElT6GMoNXEgJT+U0IMlQcS7hUzQz+SWXfwsZRX6gn99RzmO\n",
              "PlzGKx1/3puh4AAAAE0BnoB0Rv8AdGRoAahW0ZHu5WSMtJcz1WTyeLNWVY81PGFdh4kODMaprEdo\n",
              "J3H8wjTPcj93QZVCicd/hab7z+CnmHqMAR307iCcA+YKSQAAAEoBnoJqRv8AbC64+ACL7FcMTy4S\n",
              "q5GDO5BXSuVmLHkDMbPZd2ANm6W5cFWcG9OsBsM+JXF07IZ4eEQ8ZyyxvUVpc9XedfKlQs4EfAAA\n",
              "AIZBmodJqEFsmUwIX//+jLAAsmMyABa0pWCrz7Us0uVOLrgWJ9reUg0xPxNBwO1dmYqzZE8KU47a\n",
              "lV4yXBIWhSwTghHkHql8Pv7BKWHHhTpDcCaNDW0w8y66maCKafyGmpud3MyzzpVxudEq2UNeVSTf\n",
              "rnpuZT23A/9+K8O8GOW0hw7CrOCnkQAAAFtBnqVFFSx/AFry7K6ADpCICcSlan/Xn38FeNZcWhRu\n",
              "tTdk1V4bFfUQGAmtaKxfWk02pQ7fGSqWGGM8mzZNA/Ip0d8qQFSVAYTKOqR5F4XKBfikgCmEjdzW\n",
              "UCvhAAAARAGexHRG/wBusxoATVUpZ7KCPv3BVzBJxoB745qryQF67NZRe5LTxxf+HRulGw1VX47o\n",
              "Xw9oJozbCQh4lgP9ZJAD1ArZAAAASwGexmpG/wBuf7eALRYoz01V79CETu7522qSTgFEKa0aYgPN\n",
              "ckVPMiguDS+E2qjr2pSKfgzQBpIh/Dqedk6YncKoVxUo970IpZkFTQAAAIhBmstJqEFsmUwIX//+\n",
              "jLAAs3uab31V6meUi7u/R5GRs0lvSuk8oeP8CgoR3ZReEUngF7YbPE8QO68Osi39S4yVumSqZ+Nj\n",
              "ENRNtJ9rsiUamNk9764viseW8/PCNefRf82onicSVA5fKdh/Tj4dicOQblvhEDNb4Bj7JvyODpF9\n",
              "O5GMztuWk1pgAAAAXUGe6UUVLH8AXTMe+DmhbjFJkys2cAbZDnQK0HforoGcXw9JRyeXaxzoqbPe\n",
              "qH3q/xMgqsbcD1ujVfQfdR0HvItVrZcbBzeGJdfO114sEYwdbFkUOFaqSCHgdIDggAAAAFoBnwh0\n",
              "Rv8AcAHdP32zUyO0UwBLbywPz7tzwuX7HaYWr5w2j1l0FOvcHbs3f+I9Bn/lSitdnbVtpzfOHaoG\n",
              "yEzIvIksDFHvBoq/y6GjtU4cHRKSEHgxF0IOCpkAAABYAZ8Kakb/AHQe7+/fxeBYQgB5fxM39MJK\n",
              "i5OpwYn4Xgy3kiokEl6brkq2NTc2o4ZSu31eV2GZOmFlw2ggYtiKkJOO1rAEZv3SiLCYO1kRmZSu\n",
              "TjBGAnIJuAAAAG1Bmw9JqEFsmUwIX//+jLAAs3uaI35VYGtABO1lMT5c5M0q4aSu1Ipgr42NtabB\n",
              "xd3lY0/N7rcKurh0mj8P/TYv/gR1Oi3pXbFJyu6ZA76vWDBTgJ2rzRhZBZV/FGIzghDsOfVnrv1V\n",
              "Nwog3i2AAAAAS0GfLUUVLH8AXCISzMMjVaRnlSVSBK0QGk+mimtnR8jaAHP1b7GazGaYgdN72aT/\n",
              "cMWWHrhz3+uT+X+aBcdlm9rzZ0obT8//NUf2oQAAAE0Bn0x0Rv8Ac9XWsfMSYE0gAS8lpJ9lkLhi\n",
              "zR4r427o+K0HGa4mSDAPMk7UwR9lffyWoBcJxN1/jNtfKcx8uOaVgyrMqswkDe0+YXgGJQAAAFIB\n",
              "n05qRv8AdB7v7hxhHB/JICgWNv/fDQin1AzWKCdR5w9HgSdZ8SjAWJfYQ0xt3oMckJV6uryFVmAO\n",
              "F5ZKYVMUH/M84jC+B1m6u34PSQccS0FtAAAAbEGbU0moQWyZTAhf//6MsACl8y5mjz9NrgwAQYJd\n",
              "VT5SLLhfIAQdjdzkhTnWAX/PdyEWwAz9nYNY3DErWdTRYwl6yPtjetbpUGAlbgjiZEZ/mwKf5o1Y\n",
              "mRfuaaG7QZ8SAnOK3mpn5/Td/D7lgAAAAE9Bn3FFFSx/AF1ISFWZN6V2G0zACDYPgxLw7oW7OHY9\n",
              "EGtykoIf/JshZL8U0tqADfp+0Fn39x5A+3+HNfm6lyDIpKWS31mCENKJQeIMACbgAAAAVQGfkHRG\n",
              "/wBz1da2CkKdvHCwAEgaoS6ymnCUzuW/rjvNtKlXkBCfB6YrvK/YLyZn+Zkm3y74GIVS9sWNGydu\n",
              "g3ZeoODxI27H0EFDA74XZFKEFDCg+YEAAABMAZ+Sakb/AHQe7+wIP8CAAo8FBkSuRCj0EtGmf3IF\n",
              "MPBMwOe3rUGM9WzribZDPQ6uW7X3VCg8r4RmNpTbBZq5uL8e5KWrVBx2+lWq2AAAAG5Bm5dJqEFs\n",
              "mUwIX//+jLAAW3O1YAON6fEPB6KrXkVRGI2IyfqNUjp9VSP/9G5iz/bC+luZf1/Q2PK+8gbnz8Yp\n",
              "0GlN0tsDD3F6RRhZ8t40b0wHQTp2wuUUt2YADnSVxYY8ROL4Bgj2+Sy8WpfOSAAAAFlBn7VFFSx/\n",
              "AF1ISFV47lM3fUgX7tQf3zYAIwAMzPowCHOAq34AvwMuC7so/JlInPI0aHDalPugtf/3V9t8ecpj\n",
              "drOnHUQqXc1/Pwy87/C9YxHfaiMVszAYEQAAAEQBn9R0Rv8Ac9XWsfM3WAWEADn1zl9qTaCJ1jGX\n",
              "O5qIjk3LttgRVpMoqwTUY4xkaqcMvvYHQdvKGWuhG2LBToH2DvgtIAAAAEoBn9ZqRv8AdB7v7AhJ\n",
              "YmUgATU33pF52/oK2Ulc0tbZXc70wpI4hYA4kTfzy1EOWiGkDndcvCT8LtFIA7xgThaiOJIh/r1+\n",
              "C7gyoQAAAFpBm9lJqEFsmUwUTH/8hAAU/Q8rLrgDb3W4TUYKVISDqReu7f9y9vL6y7bDgxl62OIJ\n",
              "5x3GRMrjxr7Dy9zoHLcGZNny/glFn8lnXSIHGaAa8aJl7xSjBsYZstkAAABJAZ/4akb/AHQ/Farg\n",
              "2gb2EgAoFdGmNsQnbnvptlq6jXJgovjzY8yR+nXFvRQhV9DHHRNnWKcMbiR+twIaBbLrkRoigoKS\n",
              "H1CTgAAABVhliIIADf/+9vD+BTY7mNCXEc3onTMfvxW4ujQ3vc4AAAMAADfc5kT+ypMG5sAAAujy\n",
              "RnL8r+YAgY7Yy4xLpwSrUZ91BsfbZKLFjZoWuEID+jQrhysAhePxc7I04dP0cndq2NMAJmPcvAGZ\n",
              "R1qjB/wSDj4XP7R2nToajz3n5mB5gR45WKroE1CV3UnPhdNVytAekeZfb5To5Fki8C6bfpFyKvfb\n",
              "WUECUsWaeaXCAv/AIsZEFhl0awb/pjsa5XIlgz/UuzsxiQgwJj4NwU9/sb6zm1zKIpf6SzFxtOvC\n",
              "ZjSuldRQHWVROZq1k39Ig5FSwct+a0UA5OvgMj0oK5LWJIbyyzD1FpMfod6s2j6p9iG5e2LK0U5m\n",
              "mYL8t9526dt/nlOACJaF/BQb9YtU2OVdAvX6QxSNnwF/TYABioszD5t9ioL5N1pmvZw6Tof0qy3z\n",
              "cX6Px4e3MpoeRbENaPGlKd+RJQCTc2+AQYkE+THPhDrnB+/eojeFK6V+w9LmuzfCJu9bf57kTV8P\n",
              "D+O0mmWPf88AOEGmG2+09+XEjIvRASZ0JZngk9tdhrnJJkhMGVLP9LBLEYaZQKJkSdTr6SkxRKOY\n",
              "A37JbeOkmwLq2epsoDb0iMODvUhsjJfzYstOceY3EWxQrmWhcDLfM/eYMbYCG1fwF/2sm+1PX9k1\n",
              "nS6wtDaJZ8Zyx2AagHE1D62Oa/E+JJOO8leIUb8B6t+cDGZXCv3j21HTphwAhykHd8Y4pSuidkgZ\n",
              "n+yOPx7ZQpo+aeGCMJiRFJx10dFaEXojiP8AD957PvzG4r6c2Yl3Y4LH7vhHB+iuFSR2IFRes2yD\n",
              "BVa7+q/TIkVsB2zCSsmR7QcpsRDkHwppckuBO5Mh6o9+UuylLG2ZI/gCr+tES7MSN/SoaOnK3vg8\n",
              "U+SlxzATGr/GWgIoRWpodWu3EEQLyJ0t2dIWuFfRRFZxq76DxpjoSvR2nQKsLf8OIgibHqb5GEA7\n",
              "2sZP8jy5D5a9yoLUsa1fAxwnQo4ebWh4SZeOFkFJccJwqd2qYqIW1paeVpzYODGzBUNBJCByRpY8\n",
              "D3Nucjp1Bm7OFvj4IhlKj0XqhYnabZF16slm5VeI6o5WzMfWl2u685T2t8TdXaXcodkDc2W6Pk/h\n",
              "xAI1SJiVrNo8RTVbZtp5GUvveaUUq8Pax1FNyUUYk7MYH+bLvkUlOL36zQkwy8if3Ag7qm5S+mkj\n",
              "iKeI72tIl1GmE8coKI4DdFBRKOGiqGd+ivO9/DLynZxhAp8WntkG1E5nxxG4ozpimL6PfsoAted8\n",
              "g7Ffsm7qu8oJyjkTIiQOZHyUU4oXYFLDCwJs+Lkf02l4O61Lbi/nvPIXz/utoiJMqEnt/WE2mTkR\n",
              "rfpcLLZclfnffaXCocNtnAWMnYWxzAu/wcY7oWEc865uBLBjc0jiN4YLlS9ZN8vfkJyjEkl5puu3\n",
              "l6kdeUL9DuPPkZphrcOzCplmHqnPILbQ5SpKH1mauWa6HgicV4iNFevKMkoQiPcybhSdbIXshxDB\n",
              "DLRPQE3Dn8OGZ8CgLkcXV1x/a87FdPlUZ7d8G/OeXqjbYFSIh/dAz7WlrhZvjBWNSYHNZi/Vt/EO\n",
              "S8ZTuBuFqk8Pu2UuDj9Awg9GY4d65WOQk0t+Whl2a1hIzeigAZlt8pSZs0292xkdpdy6O0C5Tt8F\n",
              "QDVtBEounxlMU9nJFrCuh/S4ma+24UzFmX0yiEDJGlCXov1oJ8sFDhuRV7HL9m44uE86ZKr/VJtP\n",
              "48TCmZ8JgUinA8ytcwDJnBFv6A5ORimh0bxwYnJATzWnN9AYaYjajeUftYAcn9cOKkvkxJr46qB1\n",
              "gZowoAAAGfEAAABcQZokbEK//jhAAVHCupPwWGm17oAoNeJDXE1y+EWhf8sFaud8OKklAL18HzEt\n",
              "RgU4ecTUUSO3wwRzNw86/TMaxJ8fKumd8KZYqQwoZZYKgykVIHHJu0eF0d1w8YAAAABGQZ5CeI//\n",
              "AC2ZxgBCOi+VHca8vDG7Ehttlu9UwEwc6FTwBaA3NyTkTLOIlvhaeWerLNohmdoznID808/MHIuQ\n",
              "b7JNYrh/gQAAAFABnmF0Rv8AOLUYDnqKVTwATspI1xuGF6P6MHFeObhbihDc+muDvw6w/SpfQ3ek\n",
              "9X37g9fT35Wgh2VkWJeKd6cYQ0ETlf9uoM2mSdMCWn80wQAAAEkBnmNqRv8AOJxkgBSGzvwAl4T/\n",
              "1OxGl5BrZKsoXHi7gswXb2n+jxDuR42wZXBHJODvW7vdRNvAooIWBwgJ5nZUCzyF5AqMmb2VAAAA\n",
              "TUGaZ0moQWiZTAhf//6MsABZMt0QA2nbgoJOno626pvVkJQZR2db7VV1ksHTx2JsyxRAdFL5qydo\n",
              "z/F2NyhbyeMIekyj/UNxh464Vp7YAAAAQEGehUURLH8ALXliU+XHvFQiDmAFBrVreOH3LsO3PhRN\n",
              "xC8xoKzh//8MKhKVAZlICoM4ItQMIKR6nxne5HjmOiEAAABCAZ6makb/ADiwToAa4sxPYiUmGy5/\n",
              "dQ8U7esuEFzWlvoz5EJasTitoeLCASAZuteqPg3MbnnmL+tMrfbX3Oq16svcAAAAYkGaq0moQWyZ\n",
              "TAhf//6MsABZvcuzRjyX9k1LovvfH+lIALnsoOZnjKU3MUAoDWZn+mr1YoDKLz4Fx8O6FTkSooKq\n",
              "14ktxK2X2PPJv6bVf2y7mdyyDGPh3rqWof0JeH3J0oxpAAAAR0GeyUUVLH8ALWmnlZyQAhTCfvfB\n",
              "xZbHMBR42dW9oeu+xDaqVa5WDdHaZqRlpt4izLB66HLvh4jY1xkEQ1829CH+L932cmNdAAAAPAGe\n",
              "6HRG/wA4iumiTp3weAAEs+NvSyLsZMSJ2WPwgqcTMfwFiZ/l8TfcydD++CXmMqUjahl/YtlCrwBM\n",
              "wQAAADsBnupqRv8ANzMjjrIpl6ZHh4AD9pojmxqip7ce0TX0OiNPW1a2n3HqmMO/FExPR5YxHykd\n",
              "gqKmnuUycQAAAGZBmu9JqEFsmUwIX//+jLAAWTGZAAlR3JUsG+EDDkSQhxqQ9n6cBgY7lVlJON4Q\n",
              "sjUK3Dk/r2/jNfNNZnvr3RGVjJHIUR/8LJjQ2sg0PxReEdzF03PDVHSFQO9YNAGc26OoUkGMSekA\n",
              "AABHQZ8NRRUsfwAtfpJ69kC5yQAhMCHMxTB3vvDtEBzjghYDEaoNvujhrax+iHHuOF7qx2pvTNCO\n",
              "0FpoMqf1F/5rhlfrMnf/YsEAAABXAZ8sdEb/ADjSNAEsTtEWvKOBek1CPbVh55k0d6n6pC/q6J/P\n",
              "eZ9YtbpW+ogy71Hq10+ffOyuGdieBr4xZKnYOr50+0b+z4bylpfSKHnDwmogLgzXZKOAAAAAPgGf\n",
              "LmpG/wA4wCZYBT2A/V7u7hzJWsJK9a58Zm0vpAfoW9jE/kc0b/2VfwnqeeTaYobjsjKlcNT18+Gn\n",
              "lzawAAAAZkGbM0moQWyZTAhf//6MsABZvc02Qt5/Di7q4RVH3TqCODVQHKwzt20xm/E2JF1Z0AQV\n",
              "H+LQFNJ6MT4MNfJr7T4LIbVwNnVg2hiK4UBVsCvGJ9bUGwR3jJN8XJ5/WuW+OGSovy6eCQAAAFBB\n",
              "n1FFFSx/AC6zmAAlJGwIdae1S04oZMYnZ6U4Um/YaIpqwFO1fE+dYez0ekN1vuZWt/oD0sVVysCs\n",
              "NxnPPA40xJ31BimgrWuFCW9JuoLYwAAAAEsBn3B0Rv8AOhWUdmAIEQBB9YexOQ7IIwyRuEs2t5//\n",
              "csvz3UgdOd+wO+SKQZ1mzB2/kEXSg07Dda6szXbBseWYOyWZsfepJJlUMrUAAABGAZ9yakb/ADn4\n",
              "dIAZtcYQeqQv9BMzjSf/5ZWP5ta04mRbgmNCoDCwaRA4KlemYfCx6C4BkE3vFGBk4Otzj2Sw9n5k\n",
              "NibHQQAAAHBBm3dJqEFsmUwIV//+OEABWLKBAEPgBbiPQrdddHBsDsCIRBmfz9BjV4qQJt3lKm0E\n",
              "/+wI/CvHwxKhg6uUEGbmvw9yQn1fUDTR5Znf5+MdR1Qau+FoVg1zEqsA2TCUbB3Ir+OP7NiveGEU\n",
              "qdkAGup7AAAAQ0GflUUVLH8ATX5Ld+eo6YO8bv/XIAOkX4N1+VBHma85PfGsc1sci2XIo+xHNwRH\n",
              "wPDzSUX33hbRL3c+ZZXvJ6nkrYEAAAA+AZ+0dEb/ADa1XZTLACRJP01FRcVtu27tM6kgFfkzWPzm\n",
              "CNyFvBQnZmLN/nmSzPNofx5fC2XV4DVW5YBI1YAAAAA/AZ+2akb/AGIkp3OHrJlagABaxhrTameU\n",
              "yxdJzEQO4Umm5aODFnwbrvr8+i79eVB3atPMGRmLOaJ2dsU9myBwAAAAc0GbukmoQWyZTAhf//6M\n",
              "sACY/E6Cno4cAN1zb5rqn8Ml0707KtkF9cqVcGILoCtpLh+l69AN7KZPkxxq8LvJz9nHsqY/6S/b\n",
              "ctSDR62uOWbPeTvqdyyqH+5x6A9LtB8yFP4qdq4gWO5Umn4htTof8P2cdakAAABRQZ/YRRUsfwBN\n",
              "ZKJaecnxBjw0iuvbAAhyrsSIpFMx/6DUl/Qo/VgvZ3KvO18+HuMlf7xcC2X9DNmY2rQdsxnrHs0k\n",
              "eFVNr+CbIqF+nO/BSs9wAAAATAGf+WpG/wA6MjQAz6nJdlpXXhkIzQtiR28G8y4pQoH2RzIbLrwx\n",
              "8EnFOHFeV7nhtCyqRuT8vqS7oCmPYEb5q8a6KmkMfkIzJgtRIcAAAABrQZv+SahBbJlMCF///oyw\n",
              "AFm9zTcya6H54AWgATEovUWEppw/DlVm18fI8OeDbj1lpBdH92HmMwVbIQdmFJn6ukqgxNgVAywF\n",
              "u1uxX98GyGRQldGxKsHBqxnarWw+eXCd5DSExt7utYx9JSMAAABRQZ4cRRUsfwAtaaYIWsGfNQbR\n",
              "0AmErh/RdmIO5gVpMpgQXP6ejqp7bQQkt5mGhuPjYH/wrO3/1yKNY+ZiDUL0JXy0wo/aJ6XPNw/F\n",
              "VRBgXto4AAAASAGeO3RG/wA4jPpAFGnxToTpNudyuXUVYbX4egvNZYGn/DXj2wohFl5DeaFl25WK\n",
              "GiU3vxCol4JjUjYclUFmOwqzOQm8AT82YQAAAEABnj1qRv8AN1IVjAj+yQSAZ1S6ub0XXh9t3i9k\n",
              "0GVuCSAhb3cqq1u5cWWyg4gkbajc4KXWTBigQsVfQTIXV2e5AAAAUkGaIkmoQWyZTAhf//6MsABb\n",
              "+mgACuctGF7xuH0VPwQN2Gv9tNagVvxbyONNaS5alyxOUr1J/fjk07rN52vVyiMg3mhHnWIkwT7z\n",
              "irivyR0vwfAAAABLQZ5ARRUsfwAumYSikxAEIbVha9loYzsSLcukplLpePY+I9OEK5cYhTubhrE3\n",
              "IAYaS+5Y3hzzpE8dILPu1/pLbjTsz2MIAlSjGKvHAAAASAGef3RG/wA3WY0AGuZEU/t/9lchxngP\n",
              "72a+xPuy3TrIowVaib6yIWcRoZ02KHPJHa/5Xj0A4X775QjsIrMFZFvbKKR1NtfQsAAAAEUBnmFq\n",
              "Rv8AOg7gD4AmaeYnrVFNupnJgpXV4GFnSMen08tuFNBFAhBWmDDVwtxL3/3x3/N0O8N1Cl291DhB\n",
              "8bHaZRaXGbkAAABtQZpmSahBbJlMCF///oywAFv9y6yFYAbP19nlZn2ZWPZf58GK1Nfc+XPp3CLk\n",
              "RB3JgbRQcxoNC18UnXDUZCW6sbxKFPdzUfi+16P7ivKIenqNC8zdEbydieIfNNeupn8YLjSvvRmw\n",
              "pnyucfJ6YQAAAEpBnoRFFSx/AC6RArGvMAF4os82TZyZTAiEmND5FLRDvf33Q1pmmYlxtHg/9gdy\n",
              "r0TzbXbHJWr+qti78VzgGw+8svMlXPJZmbFOmAAAAEIBnqN0Rv8AOjZlgIUcHm6w9DLd1xtVOxkK\n",
              "uS2MQUdj8R2gjqt4wZHV7vwwwh+onoMOIg7UL2Q1cIRx2VdLBCGvPwMAAABEAZ6lakb/ADiJn8Op\n",
              "ktq30NzdoBq8YHLZOdPzXbH2jE7aYiliAgj9jSazJiXaMAq95Nr4JUe7PwwYi4ZCmROPzpvWwOEA\n",
              "AACHQZqqSahBbJlMCF///oywAFkqN5/w9/KGiYLABcvItOC3B5qPZzENI1zsyIolUNv4cwEz4T0L\n",
              "T2OUvBCRZ5pz2rZcdGqBFdVKfg5XPPS7qpUOBnrwclJIgijtdjaLhVOHYdxALh765PZOUZEl+me1\n",
              "GzyxPGqIQdz8CbD83HqpyaA3SBF4ZdS7AAAAU0GeyEUVLH8ALYQHSf5gAPfjgxlG0kkFq8o7ewbz\n",
              "cFiCAsNyPd8eEHbbIbTvMVDywT8zlQml0GvLYytQaKsaEBZu69bYxZ0/Q0EwCBPSP5/4NoBhAAAA\n",
              "RQGe53RG/wA41MQAx6HoVlxktw/zcGQw7B5CRF4VAfC6oeaH5DDE3SuZIMR/gpSKzGowg9jn5TuA\n",
              "yuUpJxHzNKtrc2Y7MwAAAEkBnulqRv8AOK7/bAAtbpg4R75WAvx7H/4ByTCllSe4U0so6+E6PnVp\n",
              "w4ZldWL7QkFKVpj6O5frjD+sYjwD+3xfntjIW3wNkJKhAAAAeEGa7kmoQWyZTAhf//6MsABZQurH\n",
              "JUYEMFAFMyc/+S9FGZuirr1YWneS4oLM2FJDDv5PpK4getmuf0jWTWFkmCTWAQFs4ckY7u2Q6llq\n",
              "IDCCr5/vGnT27DnWP5EB080fCX5pzip47jKs0uSC3f7IHG4G8SZuTG43UwAAAFNBnwxFFSx/AC6z\n",
              "HACEYUTQPZM//pTkank4AIWqQAJZzlVKkyAp9oeAfYcXPPdKc8bDnpVACOjogMOFTzYiRjl7vK5i\n",
              "oIU4ezoshysMfu2OzOytoQAAAEgBnyt0Rv8AOh5zVuAJeOmn2ZS2Rj2hiVqzxVT8/7N/kN9Pza0Q\n",
              "SCn9ON7lTTrgwVuKW0Qeki+aFqn5Gq/dJOcKM5fSCk4OvDkAAABNAZ8takb/ADn4dIAbfFG8FA+1\n",
              "VrcuB8fasamFkdcfPiJB4ic+9ZM9N12O6TTczbTYVlp1wRWVTHUNSgUkdT0mnCOr5KV8g5frRAKX\n",
              "SygAAAB5QZsySahBbJlMCF///oywAFtxmQALWW5X6PYT2hjatMvKnhsAZ0fhxDIe3GZZ3TJqwVmh\n",
              "xH/mfgQ3n92Y6ok4NGv9Bsz+/uhcifs9NG6qOU8B2U4QKHMkLxWoq/FcFHNx9j1/SfXuzkfKAgr+\n",
              "nJfSkwO10MmfVE932AAAAFJBn1BFFSx/AC6zHACoQ99IOWvN+HzDy61SU2VKggFA6Ukt5XwOzLOo\n",
              "RHevxVLowPTkuaBrHThMwR+cWvVH/l5sy7UNUppo0FWoXxvl0GQlCybVAAAATAGfb3RG/wA6HlVF\n",
              "R986mgDWeLolvtOEBbQDR6gQd+kv4QMPWC5rhr+ElNnNGNpDwVwsaK8u68cfMPGjTOMstnDKJaeM\n",
              "DVp4AoA2gYAAAABRAZ9xakb/ADohHThIA6Ej5BX47Ra/Hvoey3pjUTOaK4fTPL7b/pfcFsVXJX30\n",
              "Lf5wkm0GXpgOKEPiTa5WhnvplnKqP6U3akcS8Oxeuu8kjCxYAAAAfEGbdkmoQWyZTAhf//6MsABb\n",
              "/c02c7pgBO3oBAANAkRHcUTbJdLo+cPIKMCvupyXjp5T6dvHEF26IC88/B8vw94+UWt97VSOVUMP\n",
              "ce2FUI6U+2qjvnmK8tEkvmbq/PEeUoH+s+2j29N6ht/axDLLcXcjngbaH5R6ctmbx5kAAABMQZ+U\n",
              "RRUsfwAuinz1qpJD4AEe7L18AMkbXay2UO0PPKd+e0gqFP2/OSVKO/5Q7HK60iIJ0Qcf5QSZEeUY\n",
              "XDQ69XCFJAQhpv9pr4x3QQAAAEkBn7N0Rv8AOez6QA2iuMIvuVbnr4aQhBK5njmkVN7woz9XH9BN\n",
              "mUzHiAm7TvNZgptwr7NjnVEbt2IfcC4KcL8qwXMcrtsDixbRAAAATwGftWpG/wA3UzaACtqkKZuL\n",
              "f6XrJaps1yEAVJtT5hPp8qqehMZXApmg2mRTpDiKTqu51aeAlQMaTG92qJkhIotusHi0r697F05S\n",
              "RQm6lncAAABzQZu6SahBbJlMCF///oywAF2xmQAOPatzNJ8J3hKXo6kaLnMPgPOga62MEaOPCpeY\n",
              "olKs3xFBuXI/e9rV8nAn07oCU8yMmtSXEL+34YVhU4+9SMI0U9ho4tMDjzkYCMcAEYHtV/yQAVkp\n",
              "047MZ/MB4FOaYAAAAFZBn9hFFSx/AC/SVKKBgAvv6woq75+WBbW2oKgqTK8DbWugef1orF8pTsZw\n",
              "r3XOOhCY7iAY+Lx899D2P577TWmX71bbmmIOn4FOn5jeDuyJfYT7YWyK2wAAAFcBn/d0Rv8AONTE\n",
              "AJlOR3/BRw+O190DH2cCqV9HJkaquFmnlU0jenjN9T6hwIa28aMlSPAq48MSytoAVYCj8ImjpMSB\n",
              "eTEcY9LOROU3yiV8TNLIGl6KZ8AAAABOAZ/5akb/ADtuwTQAWiy0V8b50tEMWhnCnWYfWZpU/0XP\n",
              "IyMc5LFIJoFyy3zf/3uAkH0A+GM2CjvJ2+uVIrqaD29MElIjnsb65bwIxLPmAAAAh0Gb/kmoQWyZ\n",
              "TAhf//6MsABePcz1K14TAC1XXzLPL7UA5XBPxkMiWkjAHoSt0zpLVxbb9xxtNcpLG+ehLFxpDZYH\n",
              "w+JFj/QW7d8DXyfl4ShLyRLeh4UNsMadiPgO58ugmyXaYK4Eo5S3MRNJhxh5kWFXZsrOCB+vq994\n",
              "d0rjTtkOWrIjHJ9UIQAAAFZBnhxFFSx/AC++2UsBpgArk118BTucJJdPJ8ANtCH0hNnYEPH8+4ZN\n",
              "vWPnYe8octUekJ4WWYn+QfzkFSANiPImRC2ene1I0BdJTbI89573s8D0pjsY4AAAAE0Bnjt0Rv8A\n",
              "O0nvuQr4ACgBdeWPXpQ4I8rqLdCWj+DOtQ3zrKtHjcPjPlT+QQME9b7eejB2G9fhDMLcRKTnxZz3\n",
              "SA/Bkf2mKCwYkDRQ4QAAAEwBnj1qRv8AONTEAJDvMySf1Womr9/zcS1Og0G8bCfe9llztjc1JfDW\n",
              "Vmsbi6T4gnwFMrN/HL41hlRAV4LdNj5utFF5aES8NeVMmvo5AAAAekGaIkmoQWyZTAhf//6MsABZ\n",
              "P0KwAlq2n5s/dd8PLHPDhVtmVi4rMzCHuSxB/PZpxA/Jdlj5FPX8bYUEeoNyVYu10t0KpugLxAqv\n",
              "pgjEHlv7wiGWzx11Ara3+prRtuNb5T+zcSGwtFTcQ7etXOp7vHRx89MXFy7ccGSAAAAAWkGeQEUV\n",
              "LH8AL++TAJek9eEN4iJluNwasC0CorbrwJChs5fx4gwfWm/mej57eEujH1uojJJ6Z63AkqI2S4UD\n",
              "McJSIDrex/DkQMOFkLDtdFTDrNMQP+16uwdNwQAAAE0Bnn90Rv8AO3X+LAA1xJcRcLPkmUi3n1C3\n",
              "uIH61IKpgUNlpjPLEA122qLy9klkr3Qn3N32XPYLVyJNcDBRfM3vxU2jPa2HZZG0ePrCOAAAAEEB\n",
              "nmFqRv8AO1RZunnwAdHXPivlTmEUDpUlZtAYYk0RNAWMQPaS9mZNArgCcJix9WG+kKoQB3+A5R0D\n",
              "gmE3dkZ7gQAAAHZBmmZJqEFsmUwIX//+jLAAWb3LkTIAEtWmUvqJIoKdwfire574UDD24KKpty8e\n",
              "4LGhnzadLKTMqSiQ3y8SSfej9b3cUNvkIwSvZtO3QXo5F9uTMaOKJa6witLIlXz92uqyepKWqCsm\n",
              "Z+MCXMNTG1YlYi4IJethAAAAS0GehEUVLH8ALrMcALWW18WFK+D1D/7b8EdYMTinfCSXndum5Qze\n",
              "Vo/N7RsBvxOVMSH4yEJu/TIL2nOhK7Ji/QcdgBtHWyRhusnocAAAAFUBnqN0Rv8AOhX81QBt26E7\n",
              "gqjiNYfOw/K+t3GsJeKxpYOOkW1eP9jvlg4fLZAUrbgThWaF7fLrXji6ttCfTzuatihSuIHZfRyk\n",
              "L5m7eIQu9PqjXeZMAAAARwGepWpG/wA4ksI474+jKjt/pABOzwnJaVPWa1m/NckKLMcO3CY7YhzF\n",
              "D4OLET2wb2GRVf+spbpr9oS6jdl4AAaPxgyprXJ1AAAAeEGaqkmoQWyZTAhf//6MsABb+mgABsMw\n",
              "L3cZT9WA9Vz/133QjK4aq0e5MJQMV9wuqr2GinHC2xHJD5NX8IF6LZMzQMy06JFTjT3rSuawdYWF\n",
              "URFxeYGLNHMMcDCzukOGQavtLZiVD1USc2VvwaUU5rxH0NLLnZnlgAAAAFJBnshFFSx/AC/SVG11\n",
              "AByhT9frxxvclGZRYJCyjBinsFEO/WcLcl2duqhoH5Ulg41444loZsIVJPv1960vra1C0TCVG+Gy\n",
              "i1/DxO0eldFdtN9ZAAAASgGe53RG/wA6Fcv3/AA5Lg/WY1donoPPE35GP4Ex/KWPXjbxcv1cp0XL\n",
              "7mkZWQK0jCmjMqeeFRu8eCs2uEpBMcuTroKngnE27tmAAAAAPgGe6WpG/wA7bvMyO4AJmurvz96k\n",
              "ww4DIj7jLb70HaVq97xLtjWoQ/EU73k18rCcTpOmfZj/3ywi1RV/nEDhAAAAjkGa7kmoQWyZTAhf\n",
              "//6MsABb/cuRMgAS1YlqFPNDTh+aMfQHTtXRwi0qVGMsWPQGHTXsiz/34Ddu6nz0tlYL7est9btO\n",
              "inPgc5O5yNjRyNRWstIBf+xVvQnxh5LKc1/aO32QFYxhnGOqbynwm2Bf+snLop0803UA10HZ8swB\n",
              "2pl5/sRZo2anzRMQC40oVIEAAABFQZ8MRRUsfwAunz43+XLJRSDyQAWBr/gEDR4eMqAbjxHVTYFr\n",
              "9hs84ycvnIysUxXewGZv7+zP5lj/8OZMW5gTlK9mV5GzAAAAPAGfK3RG/wA7kjQBQmwlDZjDMbdA\n",
              "wULhhVragRfMttKB7u1A5BhK+nhhMweqUNe9yW9S5AoqKPN+lGolNwAAAEwBny1qRv8AOg7deeAg\n",
              "AkDqQXhkcp8YsYRSQYMJMvireSYJxO/10W7vor8BQA1J1h7ZOvIi90fE8sWrBp09gzOz4qYmF5cV\n",
              "b9WwpnbgAAAAmkGbMkmoQWyZTAhf//6MsABbcuQAANhfbbXZqyz8upG1E19nYue9JZeg1a/FPfgr\n",
              "ihNc6RC4QkzdgqUgEpysH6Mq7IT4WSBRxi3E8csZfjBIDDqDdJr9PTWtOAepsJLAS+Kwog0IIMaI\n",
              "5rvZvmq6WjSUYQCjGnyusjuKaO61ZX1zj9iKunEZmdBi9j+9HazPMzOWPTCYAo+ok5IAAABDQZ9Q\n",
              "RRUsfwAumnogFJJnxDXOuaKpFJVK4qUY5p2THu6FZMe7IY/SlUXYG3TsmxKLZXNRdYg6yAEiUJ4P\n",
              "gl/SYAIdGQAAAE8Bn290Rv8AOhWUdmALVCCJ7EQwy3j8v/5LywdjnKp/OJT49zhJ6K7ouT5WgK7z\n",
              "fQtaeG8H19PXpMtNuthHNr7574b+cIZiE0SjnriaFSHAAAAAQAGfcWpG/wA6DB54lEHrw3AHL10w\n",
              "cGJXEoGfxmWmKwGJw5VIGk0ymuonb4YYf6WngD0OrN31MrIetju9iPZnRWAAAACGQZt2SahBbJlM\n",
              "CF///oywAFv9y5O6YAcWYd0AWYeQN5C9b3ZtMiyS8KpJze+w8UHIqm3nTT0eJ4JALXCVSOENRqo6\n",
              "XAeSiSIxcu1YWCUKCKNYiyziZa7uNNBj5XoAwR8bf2N2SVbqFZV7zX77oLorNel/qNOEu4fYwFD2\n",
              "RFXb/NAc0IHgk3UAAABFQZ+URRUsfwAuiac7SAAOgKfohuUo9+ZD9rnZf5jlh/JpQZjGPvM9iP0+\n",
              "j/ia+Aq4YCUB+9XV7S/OrdXtbAmSgp+Ydm47AAAASAGfs3RG/wA7kjQA08zFbEpOhSLhROUD/1ET\n",
              "O90SlcnXN2P48cwl2OiWpM9wGIhFPvLOgkiWX1qpUGv9NPCvZClkZzpSWJ3nXQAAAEABn7VqRv8A\n",
              "OLBOgBP02xtYEQ8P7LQ43Sb9i1fRKQ7VrM5CW01Dcxy3gWOGJ3RNEJzTKcVmu4Zx9RjGO4R0sVJM\n",
              "AAAAakGbukmoQWyZTAhf//6MsABZvc03R4vGnmALAyF0M5+9Ij6hVkjyLQyZuY5Vf78BPXg+IcLA\n",
              "eRZo6kwzF+1cCeqsy1HYztLMLsx+SFzBu6AOzZZZa/2fgnLglyH/3I9IciVaalpl2/lzr8wAAABI\n",
              "QZ/YRRUsfwAumXOk4apzxJAHwAs4MVYccMxpSy745cJ9jyL/Z1HxZR3zDe7diHjPNYB/310rohS5\n",
              "PDM6y9U1655RjDSCRisdAAAAUAGf93RG/wA6MsSAUIywikaaVx6feiWr7sphrC/pjeaKgVOnwn7Q\n",
              "QAv6Uoyh02mKpXn93O4YeVlw1mQpl3L/c5g54CrXRDhdHC5vaxG2sRTAAAAARwGf+WpG/wA6D2d4\n",
              "kAAi8HAa/rjkcmphS7+2IK0Tk2UsjFbzEJFrkVscNhuy7oM+QTnqshgrj2FK0YW3uwbAo/U8d03E\n",
              "YvKwAAAAfkGb/kmoQWyZTAhf//6MsABUugSWZDc92QAtdakkt5J86/G95/Cqn9KfQf39728FEUOP\n",
              "RiMbmowDIg6hTodMDEIiYgRYzq9c6hHUu9pvZ2DHIkcGq1ZoT9BiEVm75WTfSVSwty/oJI3E4t1F\n",
              "+aCFKYAC3xK3NxVU/a06DaWBAwAAAFhBnhxFFSx/AC6kINFPAHJaOy5vvkdB6nYdqlx3ihmEql4M\n",
              "mI+XOv+bnHHLicgDJVwQ9gzlG/6mq5Q9gJGT+lW5tGo4NN98G5kZMT8zUk09KE+OO29YrUjAAAAA\n",
              "PAGeO3RG/wA7dWUHhGITVW+IkANUeJo9l8unbR1iVSaKOb1qRghdBhSl0qr8JXThZ3zYevDNLGmL\n",
              "KbwdHwAAAEIBnj1qRv8AO1LCG0PrN4ElNwBas/sSAMg8MPCzjAyv234iBYnBFv5JOWURh6U4sgoC\n",
              "C1ARmIe/zFIbMX1x7dNIWdEAAACNQZoiSahBbJlMCF///oywAFTCKxEBAMdr3W80BwuiTQtR5oA/\n",
              "Ap6D99sqjF0fA/AKo0FC7yynLgn27XZI+i8zmIYA4o1CSLS8mFLmcKCjWjsalIAyTaDuNQp300NT\n",
              "VFBHGPuU9rEjLDPHzfDPHs2ADWp8p0VNvUSe8nTAw3nm0JfVSI7VEok1uaN4BMWAAAAAWEGeQEUV\n",
              "LH8AKg/D3DkAJ/+2PxVC421tyZT1xFWVwcN3D8Q4DcXgfGDiyRlkMmPRRESUoU2MFP5cDfhUoxAd\n",
              "jbH2tIn7NLVWaes+8hJ7JvNh85tCXGvOqYEAAABCAZ5/dEb/ADYe6aGTZ2JNYCn4/35kSCsVACvr\n",
              "EHpIQWKGFBcwyGYnSy1YBHsYmiSm/RIDty/nRJ8zQd9r+KT28dCmAAAARwGeYWpG/wAyJ81aAP3C\n",
              "gvabXwJzmjcJszKPGwLDKCSngT61xrXFt40ZQFYezhfZtzmhrlzE/lkcsJAsulWG9XEdpG6pFqaZ\n",
              "AAAAd0GaZkmoQWyZTAhf//6MsABVOmgCBy+/4uU7aVUYyv6FOY0E2RIV5Mf9uoOBTJ7OXAaYqZrZ\n",
              "TQptvtYiByB77Pxed9R09KmWm2onfp3iwZaRIFLnJP/Uq6iOxVUXEHulVoJvh5i38qTloU1gTRin\n",
              "J65sGMnmnehBAAAAQEGehEUVLH8AKPm3vDJQ0AS7uL9/ZfcwtNdrVC/NuwFozMt3ZBx2Ydrv3Lcz\n",
              "ujeoDebKNcA29QfBLAhX9g+HHAcAAAA+AZ6jdEb/ABz1GEEgCWtIegV5LbferPWw/+z4wQ6bx+oN\n",
              "5SG0rH+ldb5QBCaUOEjelcBLmGe7LQsJmAwS5XAAAABGAZ6lakb/ADX88B6axDgDXFc+86WiTlW+\n",
              "Gi36kNOJT8L2XNmtbAmfRp/4/Cu1zN6JEgNnS+Cbls2GQiLJG4yTArc1hVD+RwAAAGlBmqpJqEFs\n",
              "mUwIX//+jLAAVT+1m449XWnfkpgkYAQ67Ae5Jfc/9mBLIXEney8uzVeMZy7LMoB6DwzOpp/1VSvU\n",
              "JAhGMAAHT1LRgcFIkJviXB75ABlv1UXt8dZKea0S3p0KbawCo6p/vygAAABMQZ7IRRUsfwAsWXKU\n",
              "0Zhs3YqADlQaomu4pIpEVUegxZ7LejugJVdFCsytmBPFIbXF4/ggGQzCjqng6Fz4Nhhoye5ACOCg\n",
              "M3p1/f/UGQAAAEkBnud0Rv8AM3R+9S/r8ATrSBjIwIxM6XA2jxBVI4N8ty3uTDLgPj4508OfpL/0\n",
              "brTBr/TRH/6euSv1+UY6GxzCsAdb32h9+QlgAAAATAGe6WpG/wA0vPAexc60oAGQysa8/1z+TYL/\n",
              "CbUo6j5Asb/svDY3xEczV7smg35Dz4FL0abpwRt6Zg6DGEuF/FzJX5PQAKabvDk41REAAAB5QZru\n",
              "SahBbJlMCF///oywAC8dNAAEXSICBL0FK/+goASR2EUjtfRz8r4ML+3znG91bQD0Pqb6tzS5QTu2\n",
              "cFlP/Km2IZ8+TmB0Cvz2+Q+Qi/snGLBC6/Q2S2w+XBkmcveCWQllwo8EV28QMCEz9i0Idf4Odo27\n",
              "MgHEPQAAAE5BnwxFFSx/ACfKG1JLfw0ANshY8kNUmWyT1Zf7SFb2wdrppekix00NXiKpVitUGX1M\n",
              "hSA4N0wRg9hyHs0a/s4ne3cGGTj3inFo3E6IIqEAAABDAZ8rdEb/ADi2oFmCnRQylQBLW5Jmrcq4\n",
              "Xy7P8UFWtCgKovxKBnOZ1qjOVY7BnD1wyio85Xn2CRPja+34+KaioUhdwQAAAEYBny1qRv8AOJQI\n",
              "dnZwNxANRFTsKdZGUgnBvuKYEiJvtXATzEzlE9rk2KWdqdcqRC36wiZBfvCKLp0FJx4Fve2/K9VR\n",
              "7iPSAAAAdUGbMkmoQWyZTAhf//6MsAAvHx1MEEANM9z+tENR15k8tdZl18sucf6aHmGcPovuPm9r\n",
              "5rOIfJRFCyvHucC55Ly8Mgi6XYvCj5nvRFBMHQqW5x6GnxGV8qcAPViCbt6YFUutufTMY66G2oOr\n",
              "mijMvuXzc9rvpAAAAERBn1BFFSx/ACvRB8D3SguyoArTp484YhX07+3Jrph96KAWLJH83Vq7TbQT\n",
              "fInvdu7fM9d39gyWHhLHHYP5ApAc8muDoQAAAE8Bn290Rv8ANzTIRJtnhr5WWAELKrbtkfXQuBcm\n",
              "v4k1zPZ8JCl5sLd63zpt2b0VKzBFMS3ELqD8eN7DBNSOsXw/HZDs1QJnG42bs4y3ID5gAAAAOgGf\n",
              "cWpG/wA3UoTNfZtX4A2lenwnnGlRoTUgUwnjXFb6EBpqwjfJox/Hs+9gHhSUj0SJn5/lzSsXCYsA\n",
              "AABmQZt2SahBbJlMCF///oywAC2/ZeS9wf13AC4ul677fIc5/L6aIqXiVghee70n5fOaF2IFXu9d\n",
              "nBl1pBkmqcvmXbmEDGb9dzAMRdsEt2sr1j/XGqn0YhePiXSKEOeMMTJi0CyG3ryBAAAAUUGflEUV\n",
              "LH8ALGQTwv69/HAAUL5eR6kuaF2nXUhWinf7iM3BJWJp9eLnd/30/857rsmYGwXd1Jm486h0/Hpg\n",
              "5iTCW9ijoOnAZwN+Cqr/OwmsTQAAAEYBn7N0Rv8ANzTIRJ7NkAUjX/9P2/Mw7lQzTJ0nc8A0ezYf\n",
              "Mr5cTeuUfASNGI55nHjSaBtKpEy3Jq8in3XiOEhM2cuBKMKTAAAASAGftWpG/wA3UoTM1cBgANsW\n",
              "cmoOwqkFZgV+dkERvXVp/vDYrU2cJ89ScdGAsnUxSQR39QFqTmXDdaDlGpyN3G3tO6JRwiUZgAAA\n",
              "AH1Bm7pJqEFsmUwIX//+jLAAV33NEj0kFADguoOj8lPqK9LrYkKXsrI+G17w28EghbrkD8AQAMgU\n",
              "wd7FhH+BW2foh6Dk5EerZ2ykRgXu9VDQQo9EpzF+5MiE5qO2UBxxW+MJEYGp3aWmo2CIlW3R/Q04\n",
              "0lhW9om3fy7uVIYVWAAAAFBBn9hFFSx/ACxKcIGiV1HQASfY3FRDDXjjj9QqJwG3hnTY+Bp9VbXF\n",
              "5WyVlc3WVRLr8H3/5iEzr7PFAUmnBT0j+V335wGKDjKu5KRMNzkI+QAAAEMBn/d0Rv8AN0axHagk\n",
              "Bf/xM4nLmnNflqt3FeyZntjGqMObppVyErViSd8pvqJZizRKtwGb/WYFiTH7+PQ3WuRmW4DgAAAA\n",
              "QQGf+WpG/wA3PN9KZDYxticGMItgAbUGD5QpC5Egp972y3jCmV6xQR6KFjqDkXwGO51YIsMT+fQv\n",
              "tQ6qSJDqZwk3AAAAcUGb/kmoQWyZTAhf//6MsAAtv1hWM6AFXXWMBTDqSA05s0jmi+u9lzgr/qCE\n",
              "uG7K3FywajZqh9gG91UVWnQl8aJ4n1IgW+dw9Yg+C9w7whEoOxWoeBVPo3B5AnFXTOx8VmJ6Pswb\n",
              "DsLzMfDWlNy7lp2BAAAARUGeHEUVLH8ALXmE+1Tg+WWu8oAZ/Hqhqlbuu3QmeEqXc/MCGnki8Rbu\n",
              "cykP1l+JzZXiYqigt57hOnnerQUkxmRMaVDiNgAAAEcBnjt0Rv8AN1gdB4SvHRehgA4A6nrmz0+s\n",
              "/auE7aur/CYSfcSGy1oT95Az+i03lI80++gNSM/PrxWvEHE5tfLdxHn2hSkUnQAAAEIBnj1qRv8A\n",
              "OK7zbqewASUiqKrxW4D9F4FRjJQvQxlgaShKmRVwAovVpRdL7oN/FSZ1g2IkSv55Lx7o174dlTmd\n",
              "BN0AAABsQZoiSahBbJlMCFf//jhAAKx0Is8AC2d28seYF88mSL2+r6QVEi3/D/C7WmPWBnBi85v9\n",
              "Y+51vtyrQac6VAVBof571F4kNCcG8/21d/SAVaGoyExpYV5YqxyCEraPe0uW2lWPynu8fuvy8xo4\n",
              "AAAASkGeQEUVLH8ALYQCbeFH0fpzQG3T8YgCmA2R/g6IyTAfEfiNfgnLwRPVo1aPU8HxQDuvaeaM\n",
              "kYdwhmFc1YXDXm9aNJkzk8V3hnalAAAAUAGef3RG/wA4ie8dONIAoJ4y5XQk0cslqehNlJvADuRw\n",
              "VwrPn3RuTs11jK+g88QMlviWEphGRWWQGJRr/k4rwP2g40Xa1MPmG3iFErm6YK2AAAAAQgGeYWpG\n",
              "/wA4rt3SvDikgA3XEuJVWQ2RgSZUAEk0kmhOQ88iuX7GByBGWdRvzZ5vXyqUTQSyJ5z+ZtaKiC11\n",
              "g8J8wQAAAHBBmmVJqEFsmUwIX//+jLAAV3mXMbvjcAAi4Jgb4+P25ip/w2+8lKizGtsuGTCPdNx9\n",
              "zc7cHOipC6PS+zepd/+I7TXu5kYyfK6oPLLJ504aY+N/rUe3UqEFRSzucWP06vApzxlX+r9mznJy\n",
              "1i7FcFHxAAAARkGeg0UVLH8ALYQFDs5tJ0ADeIVz+EMlo6X/fcLDZuHPEl7+G2V4OCzugTQNKXe+\n",
              "kwnoZOAYQkE43kimGxJbHGOyxtRA7oAAAAA+AZ6kakb/ADivKlzUj8AU/joq5T5CUqZ7/vpxhDQU\n",
              "0Zq3HM2Rgn+AsrFXX57HywsBUvlz+hYCfED7m0Qj4NwAAACEQZqpSahBbJlMCF///oywAC8fHMb9\n",
              "SAHBt0h2X+66URthnYzWXW68V9GCr3qiCH7Q2QhOMAAiayxxX7X4UgkWBLHtc+Mca4BouAWFDjgA\n",
              "Y4qet9j9QP5ttuXkz/YIbbiQNwl/VY8S0azb708lNxuIX2wEbfy+gaCNhqhb3qpi3NKabRCxAAAA\n",
              "PkGex0UVLH8AF9+PmGmZSA9HgB0BSgawhjXWMCKn26BPCtCkU7m+l1OXwDl4LGyojWfYCb91tk0+\n",
              "i1iTXc6YAAAARQGe5nRG/wA4ioLdxHxWOtAALWmi+gbdPatkPzxGojui5V1PVmpkMgUGVRj2yQy+\n",
              "MIq3vnhG31xN4H6+6ynI7mNHG/7QrQAAAEEBnuhqRv8AOK8qXWD8+AE/TsdNv/rX7uPu9XfXAeoW\n",
              "V9AqB1GEW2VvADU91XXwtrW7wlnIjvvZsG1gkJKXE4AbMAAAAFRBmu1JqEFsmUwIX//+jLAALcBB\n",
              "RwAtcKGSQ6LY1E7u3SI6KqhQNK5KPAMgGyLnF3zJKuAOXP+llApyZLQ+GgXBndYu4ZXcJHK0pmt6\n",
              "SJg7Kgp6TNkAAABAQZ8LRRUsfwAtahGgY8g0AOYXumgaAFrDYP9XaFCGXI9ESs7xKlPTdz+E1wkY\n",
              "pk9in44IMeck8xz228DV9u+JuQAAADkBnyp0Rv8AOIqBclJAFfpgB42BcQroM83kFzmHmYy9mPSM\n",
              "fgMtZw1rJrTanXn7BhsYJ5gQULkxsfMAAAA3AZ8sakb/AB0IsSAFBN+Hc4p+/8c7dmolQei3edgt\n",
              "op3/QgVlFQxmWMYysnukzGAhUPbM1eg6dQAAAGZBmzFJqEFsmUwIX//+jLAALf8dbZ5ChcAEH/z5\n",
              "AMX5biiy9OKjrnsMaHcLKfWlZ0IMKR4OMIvkHySCtvUn7EVyYAzyKqjWf/iye+T1lqpzKJ03e8/3\n",
              "Bt0bOb9XT9pkhoMA5ckO0LgAAAA1QZ9PRRUsfwAqGbbljr2cBueiK4gAnV+1+oXCcwNm57Muz6jw\n",
              "9SjYUKi0dEJ3T1+tr+mtVMAAAAA2AZ9udEb/AB3MuQA1DBNysNX9BtIpm6hGFSiSm3qVKuZUWwyc\n",
              "OlXyDypUm9AEAQ7Mso0uROmBAAAALgGfcGpG/wA00lB1LhD5BsAgBJRgMzRtBKTIy0ZGrYl92pQR\n",
              "lxkGlsTxrok8w4AAAABsQZt1SahBbJlMCF///oywAFJ+zgTP2UNTB0aABdR6f4xuxljCn9Ggf7Nx\n",
              "wgVKzRaeMzZl79ZtTMbLJlozJ89oncxXkojBeKpNvX8H4teiGhrFWMSMAqSL5FLW43RfHvKlhcHh\n",
              "V4+dm7UyFR1TAAAARUGfk0UVLH8AKgoUT/Ng4AF1F6gawN1IfPasfn6PHmbn/JZKgdT/I5+r3q+N\n",
              "OvbRv9zZ418X5K9wCYuyE4COcgU22QFduQAAAEYBn7J0Rv8ANLR7YpEsocgA4qaXGfQWoCcLE/M5\n",
              "DhuaKXk7Hll6VA/KVlV739v6I9JHEhunZ2EkD9DbS+NY+D2j09fqJEjBAAAAQwGftGpG/wAcbLkA\n",
              "JqqV/Kv5s4dLk/5zvU61nHf5JWpkaTSwz00jGLtjksTx/9h6pIJcoGPC3TBkOaSfKOOU4xv+isEA\n",
              "AABYQZu5SahBbJlMCF///oywAC26+7YAW8d9UJnpE8DAQ3J+GCmtqRiT5YXHZI1yRGC9R9r/60wM\n",
              "bZFXSNFIY7tm9cPHguxrQS8WiikXq9mLla5AmpZwyNFd3AAAAEZBn9dFFSx/ABdD+JDC8gALAk/9\n",
              "M8PiOhHilS6rW5hBS95/jlxOUtlvIk6PoPJ5mp784xif7SzZS36jNn6Fahjj0rJCP3ZuAAAAQwGf\n",
              "9nRG/wAduv5qgDXSNfDxMg4vKoFRBw5R8hR2BFjkMREUMsW0gzWzFv9Zx5yG9fWe9t8k+AcDLDRm\n",
              "YU65qMb+DpkAAABGAZ/4akb/AB3JGgCdO9Akg8Yc0VmW5iehM91pxq/oxb5dECCe43OboTRfIRlD\n",
              "m1GquUwW42P+YPFZKyLQ2iiyqp+3/6UK2AAAAHBBm/1JqEFsmUwIX//+jLAALf8cvLkACVKUuktb\n",
              "/zCNQyGn+zZiFAsgHdC8pq5DW5Yozuh74flly01bH69jGFqG+cL7YgYwCDFt4YRTwMX1j4pmVjVu\n",
              "GEFjRyAeIdXEjkxwXNRhqvKgz55m6tnC05mAAAAAVkGeG0UVLH8AF//PYA2pnP4j1Hpk9WQwnVGp\n",
              "gG0223HCrudUeZiI8PBp1nimj6Y8lXAXGllwp9209fwz1pBvPltUNv4LilEtIqKGRaXwWXgd0YIb\n",
              "iI9JAAAARgGeOnRG/wAeauvWABt86u4RxMJk4UKtrGJycTLpbnDJSxPZKG9eILPX/Iv55On440I3\n",
              "9jPOXugAkLMciXOWvHaQM+G0nLAAAABAAZ48akb/AB5ZPO1LfYogBVlqUcdOTjIYratxIimxD2DF\n",
              "OBy3KzSrpjkiHNgt7w3P0Avu+iKu216DtNsqSa4puQAAAFlBmiFJqEFsmUwIX//+jLAALKBBRwAl\n",
              "qwipFw44vOult94aFvLWgi6ZZbGOGgZ52J2noRC4hsFgXgUuaf8SryfF3RVKJVlxwIaMYy1vOaoC\n",
              "c5rYZiBI1VG9GQAAAEpBnl9FFSx/ABdZjgDII3q9wt3vXLtwzDEuWg34y3c4w/Rhi2vPX6D59/8Z\n",
              "8X8c5t9KKZX36B57C3mYf3j2IjoB35lqS3CibH8DLgAAAEEBnn50Rv8AHQqS1xaDhjN7n6SATMmj\n",
              "y1cTwN65qAXPFza4SBqEC8GD4+H9ollUOM/lB5AoJSN78F4x/7+//VfhvQAAAFIBnmBqRv8AHRka\n",
              "AGKjuM5yzc4zFiGsptRgEC21Br+Q8KHDxoWc/2rW8HuNCLkGpsWmcBhVGMTX8tZfn2Ftb9y8gtWh\n",
              "mwUFVUmU6Eng9U5UTk2IAAAAeUGaZUmoQWyZTAhf//6MsAAs3uXES1/ACOw8CNEUagNpnWopAgRq\n",
              "qHh6PtVIJ1FgjK5aKiHV32MuVpUl68YVSbDArzIE3Q2EcR1UbXMf+P8v0h+voo+FlBJ7csHdN4BG\n",
              "nLkj5PpYX/9HEwC/0dSxIIvHju0TPH+AUrEAAABEQZ6DRRUsfwAXX95gCEdi6nwVTLk8c6nBvHvU\n",
              "0+bjmjCZ9TEM8KQ5tplrhuAEq4fs6XWTgMSpPKDPe00J2oeJbiCN3Q8AAAA0AZ6idEb/AB0NKkAJ\n",
              "qpoabyqp6Qd+vTqDP4pEqLSew3Pn1ZF0yskNBiH5/sZIlogl5kanbgAAADsBnqRqRv8AHPk6rp6w\n",
              "AFtualEBN6SNe7zdruExpBO+UGWTdSLvldNLNhwvvugOvw5dxClHzGB63LYg4AAAAFZBmqlJqEFs\n",
              "mUwIX//+jLAALbsCGwAlqw7lS5p/T/94XyU+YLMaYboef7iFLP0RoyY0NB0LWSRI9q5vgNQBhV7r\n",
              "zjHg2qlT3rqvI/XJ8pLSyqtnXdydgQAAAD9BnsdFFSx/ABdMqpqYRBwAhxGdcHLQwhbLwtJnceYR\n",
              "cUmUxKnzBxNQ6cRF9skqrUgcBfXvFyxnVhG1WhFOjcAAAABJAZ7mdEb/ABxdKkAJmusiBJTM9OqE\n",
              "lzocUZxxtHlvtpvUqHMmuvd5PQGtvpAfKKCX7fCfhFuWdTpeZ83fVxD/4rEqL6gCJADPgQAAAD4B\n",
              "nuhqRv8AHQixIAbdkmGI/9552rEunm+4rcEbEx17eEIHv3++UDKDWCUYzWZg8Hc/yPtGPJqQkP7S\n",
              "1l2ekAAAAFtBmu1JqEFsmUwIX//+jLAAVT3NEr8pkllvde0PVbjAAsH4XADpDDMdl5O+IFs77ikJ\n",
              "sn/SzM6rMTc12qjljbJPXWroBu1v/xuPAMSVcaqV0R6TxPlwwBHV4jH/AAAAOUGfC0UVLH8AF/o6\n",
              "AAkCq2NOXDC4OI8Ilxlzml4JoauKp/rjhsrTIselvvB7psJDKJYKKo8VYti+4QAAAEYBnyp0Rv8A\n",
              "HmtjYjMAVQfXTzzQGf8E/Lt8OO83SBWq1eRwrdWsAYxod/EfiaDRI+9ddSzd8l4pdPO4DbcBBLiq\n",
              "3Dtt0kF/AAAAPQGfLGpG/wAeWTztm1gBfwjYYi2xNlcuLUTrZQcm6M234JL+Prht2UpOI9eiGjxg\n",
              "UtjsJwkxW1x8vUXjrQ8AAABRQZsxSahBbJlMCF///oywACyVt8kwt0hIAILFjiqJcXV75yeMPxKs\n",
              "nkflx/DLqIv+XSc9D199sZKD6oLgokzM+IV7tyLE3eKfV5LTbqxmDDP+AAAAPEGfT0UVLH8AF1tx\n",
              "QBOyv2ZAb1crM12UrMgsYL0/OefZDbKiciRZTa0ajNph2g83fmv0MveOVUMOXqLtwAAAAEkBn250\n",
              "Rv8AHRpiAEuCXZgwSQGpWMu9sDTE9WICU2KeEZnKDPhJWPYvaePt1wLrt6/jWgTpESZDHBE06/uW\n",
              "LoGxqWJQ/uE5wI2pAAAAMQGfcGpG/wAdyRoAnTTZZldNr8NZa5n+c2tUtIDcEY/bQRf5NAJsiGWz\n",
              "klongkamu4AAAABjQZt1SahBbJlMCF///oywACze5e81GKgA4xFLcVpYFjjLZgSJhjWTVwgChBMZ\n",
              "yXQCTkXT5h1ATptFThU9LbQiL911yeF4UF0fAj2VxGXJwPYvcdt0akcBn0o/a3Th+peomifmAAAA\n",
              "R0Gfk0UVLH8AF18/gBCOgzNbVYA++MOONpcnXTpynLDDpjz7rpezik0203XxgmkhcAXoY7vrHHqA\n",
              "HoiAq5SqOwod13i9MACZAAAASwGfsnRG/wAdDSpADV4liUBFg0td2O/w86r3La7uzrXle0JYNtAw\n",
              "+WxTtG9i2kA5ZWJuv5g9O6CH5aV7mTwf5kMjwZ2/ZLrthhP1uQAAADsBn7RqRv8AHcy5AFC0HARJ\n",
              "cuVgwJyr6Wi1FSCpzMZOeWuFxkubUwAYlNHrRPsVI4pc3V1HlGkZbvrbewAAAG9Bm7lJqEFsmUwI\n",
              "X//+jLAALx00AANS7lP28Gd9cB0MM/JuR2JHHzejHrCmXGbeqcMpr9jMVw5rYrjUGikUbWBw+caE\n",
              "yfMdUeZcethL3R+uPk41B/JyGCfqsKqYx9gok2QztEcfONyR/cdh47c+kjgAAABKQZ/XRRUsfwAX\n",
              "6SOIcAOkSthxEn8cZYakGM759fNayaMNIAxynS3y4IhDPiLwoah6VZ687HNURDncptZNRZXg/J6S\n",
              "DONDTi2Q+HAAAABJAZ/2dEb/AB0LAJyABfU2rSxhctLCJ/Z/vfQXhEUtoBOBbjng6fCM6QAPTfzh\n",
              "l0+UeH+N19bXL+x4827F7q40qq7cz9dlDD01dwAAAEABn/hqRv8AHb+ktqwBQQjYYk2I7Ntix4FF\n",
              "3OjM1fW9cqwE9orR2tiuUWkmtLTLIkXyKcAwRmhJa7bpbu4on8WYAAAAdkGb/UmoQWyZTAhf//6M\n",
              "sAAvHx1Erj3zclKAFuEveZy1kX9DEUCcZAAE+p4U2w/MKmndcwr8UATIKAxRg3u/kNqYLWRpZmMv\n",
              "NjqVucChOBglc/bBcqmPnDmjpJMAg+f8ExIMQsedfKgQtOCYosx3nWpePh0FZIIAAABMQZ4bRRUs\n",
              "fwAX34oAxYAFh7F18Ba+YSgdYBRp/r8O27pvfNS21BC3rCeKkthIGvgPr/d0uN1OGrz8QNOYm5pU\n",
              "QaZVBdqR/YWK859+mQAAAEIBnjp0Rv8AHc56IAbPvXvJWjf6HE66EyJ6Bc8ZZdOuwDkXOQ0dAcYz\n",
              "diuG6lTmjE/9NGW/75OpPvKTbf339Ao7pbMAAABOAZ48akb/AB0HDV259z/XgBP11fNh2skvyRQi\n",
              "PRl0wzHOBB9WkgF3FBv9KVl9UgTMGfz8YjlZBKbiHBnKOx+tOfS6WmgKpxuFs+ISxxKpAAAAfkGa\n",
              "IUmoQWyZTAhf//6MsAAtv1KfMdkAgRCZokHglYgCNzJlNNmrpZE9GG0bShr6UxoO3W42kXY0feSL\n",
              "aG5xQl7fWkACxflhK81vK1qkyZN3u7j6KyJd5zjNgpPxdWOHsYrvhb8zVwbQo6pOALGDUrEoLC8S\n",
              "TYtp9UPXm7GHJQAAAEhBnl9FFSx/ABf4HkAxUWirhSr89+lO16Lxlbk9lGwotn0381Wop8UUN1Zk\n",
              "2KpxR8GE20dEzmqocKkmzR+nJjEG2ACUx8G9rcAAAABIAZ5+dEb/AB26LbWinH+vADaVk8lLj3xV\n",
              "gtgLburkvhb9RzZcMT/gyP90A7Kv0xNh5BcZvwbsxBAX+F0aklRS4uGDOCU6JDUxAAAAOwGeYGpG\n",
              "/wAdqTnkR6ABAAuexSBKrQVEUK3afTwITd6RicsmofEbGGsWLgH59+VUn7C8pmog3UyBzVG4AAAA\n",
              "V0GaZUmoQWyZTAhf//6MsAAsn8wiAG2tOdi1MOoNbONPVVJEnNPN9FP8d6/xSK0Mv8b1Rh0g7UAf\n",
              "AzeE9TOU7s/VAS4JVlcYIKg4qulfIQ3IhBbXzng0gQAAADxBnoNFFSx/ABddAgAJKrWihjqJ23OW\n",
              "TZH2LeJrhk48aSKPC1v4cwHPnAmNGO0u57Knoc8ERV1vuKSQtoEAAAA9AZ6idEb/ADoWK8jJkrWq\n",
              "RB1s4lqGcbi+yuUQASwnmRz5UtrsYUstk1jMTUOd2CbVGUNhktUe950/4bFdwAAAAEYBnqRqRv8A\n",
              "OfNSRVgDb5hdmbyYXbNQRtyhQ6cGVNQplg0+Aw2pNA7eKiSbFdNPZi+4RSeRAFD+Of8F47m8DA34\n",
              "3QIUJRCwAAAAXkGaqUmoQWyZTAhf//6MsAAskoekCBeEF096Bp8hABYdDvbioWLnDg/4yCmY6NAe\n",
              "3DmkE9wGrKyz6dIgYZQzegy9e8f+e7g3M8VeJqGFxnOR64Jy0v9d1ntTiNJFVbEAAAA9QZ7HRRUs\n",
              "fwAXW3FAE7L39+rHq5UyAmqEenagG+h1qMPwUQwloRWcp6Fv8ejmNASS6BZohEeg/b87LF71lAAA\n",
              "AEEBnuZ0Rv8AHQw6gBOvd86qWMxyfikSajHP51eu23IymCx5+D/jtmlE4wSZV4PTYt0i7rQIQfMJ\n",
              "4NTpYx8pd4VawQAAAEsBnuhqRv8AHcliQCeg/ve/xLQY0S3PfLJAmvvC19ydAn6xn0AAJdeZ+3Hp\n",
              "mb12k1MxE5BcpsRZ+336zKoEoYGrzaWpEplRZrcgo+AAAAByQZrtSahBbJlMCF///oywAC252rAC\n",
              "MicwdS1Z6Q2E/w83IoL2NSM6NB1gQJDfccO39LZKL3VRT3ediILf4tcfaB442X3mC7PlTyDvwo3W\n",
              "IuN6LV0FWoexsFxpSQiZ/JsqdLWAMue4M/hPWaZ4XOrJA/pBAAAASEGfC0UVLH8ALXm0zv+D4c2p\n",
              "WcAZSTXlAGt6uSaWcohnp6oY3CA4kJXSt+OxIaUA9gFfGmyUwJHHIqc8vBMnrhOQxrLU13RqQQAA\n",
              "AD8Bnyp0Rv8AN1fA+MAAJ1hWvfUTU2X7I4Iney+RaHiC29KyOwsg3LRix2a54axWAhgjPMQSaTie\n",
              "XVYSLXFuWkEAAABIAZ8sakb/ADiuvUXqUAKFsnlo9Ie0qxXejS+VLmF4Ch2S1yT51vys9FXJTt5R\n",
              "GVd+MlmCpdkwBtkrtNZ7ZaKP0xp8kJ3ay/Q7AAAAekGbMUmoQWyZTAhf//6MsABVPc0S3u8pV6WX\n",
              "zriAIs8DBhvPYXHyhKTSy57U+jZ+rAepawBpIRu49+v87FYgWN0xTGTzjSfH+ZUbLvWFHnA+rttZ\n",
              "SR7IUVnNzTzeRo1QBTvSDalI9oTGccJkJPBb6Pn2anGo5W+wgmZsAAAAR0GfT0UVLH8AJ1EH3dZ2\n",
              "ATXCPfSBAGaM/HS56kiylInq8sl8eBuNM4PTxKEVSCOeulfug6tCEDgT2DBTATqzOnlgYAaI65Zg\n",
              "AAAAQgGfbnRG/wAyNIG1u6/AFBN+G5AIWvqFGoGy8vB8F5nQJmoCC78YfgalhnfhHmhY8idOmx5H\n",
              "9aANf4e4lySS3GBiQQAAAD0Bn3BqRv8AMlJUj0qwCkashvdSlYbqJF6pte74rlfZvKJO5sXH6VaR\n",
              "iKfFwZuujscf0N6VA3zUsJ3cvmaMAAAAdkGbdUmoQWyZTAhf//6MsABOfidA+usoamCxIAce2dQo\n",
              "v/k89NOnyUWguI46F/WG0QXY6d0Go27UG4jPwSfsGcCg+fhKq/IugbqDgeIqtxoRx5+NrJ0s5Opz\n",
              "upaLr0b9cSxuiOuZfwEEsTmf0j87kL2Estl6bAsAAABAQZ+TRRUsfwAtaluse2+/UnAANqAWqWVR\n",
              "9LWi9HUMEJ4Bt9lGfZndGnNP72e+4g5QtTWj1W/Vfe+1TlJfnfJ4QQAAAEABn7J0Rv8AOIrLUPG5\n",
              "uB7h8AERn+ewrDuauCGXqe0BlMeoIuDcET7Zzpi3ahLpZHPywIcZ9vnQD+45TpkYKScdAAAATQGf\n",
              "tGpG/wAcRMt8azw7yB8wAQIX76Ty3zmQX7PazTvePi+EbixyrW9mOOS167A5p3yuhHLW9MmDrJhA\n",
              "y0hRfpxfFpr+enP2eOpvpyDhAAAAm0GbuUmoQWyZTAhf//6MsAAtud9UAQ7itQEMIkjeJmWGjsqh\n",
              "8rVaVJj1DcHB/MR6SsWvyjdXxHfxAD1lObDGHp137v9ps+g0AhXkIvnwE8ddrUhCetwFAlLIeDz4\n",
              "TwEG8fdkDdNAOr3GDj85kny9vREfaXFtNfCbKvkYbxCR+rqDgqfCeV9enk/oq5mr0qI0xYNUrC0E\n",
              "IN4IqTTAAAAAREGf10UVLH8AF0ImSBgEonZ8X9SIACEOho1QvsD3Ky8bfc7/4gc7u5GwDjQWp1nn\n",
              "2eqzc13oR5mEoysmM/GSH8Hx4KDAAAAAQAGf9nRG/wA4tkSVpL0WQAWFNR7FAtF7CDG7mCPY03h0\n",
              "kTCz7l8Ix9A70W5Yy8DGaZHbKq+fpn+sFFeA1JLgGjEAAABAAZ/4akb/ADiTgxpJ4Tx1n/8QBojW\n",
              "V8WE4GbP6fevvuf5ybvT1/mP4Yp7t5/x9Bnt05EATOUakzfQGYwdUADG6AAAAIBBm/1JqEFsmUwI\n",
              "X//+jLAALcG1TgBtpusev3kUVXrPIoVuTkjtv4YTNBpUCYZcOoZU/faPv4y4Z1b7lSYuT6sdaYsZ\n",
              "RT2oGw/i/DdHifFFMU4xyBbwgjADY/nDdo3ccrUXhzVRQaJ4C8BYp/KW/LUcsIG4kdQU6eOimc+u\n",
              "UOWvIAAAADxBnhtFFSx/ABdPmt8hxicAORVf1Lj9kyUGnyNt/ntLJWw/gdR3q5JGFompCO13hF8c\n",
              "FDkVFB11B1CptVkAAAA7AZ46dEb/AB0HLWEC89lt2x8ACXdnJrFmEVJLklAcQqVSGUmyqZF4p9+V\n",
              "6sfAqah9UNsNtOGM5XTel0AAAAA4AZ48akb/AB0HazE7x/wbApIAVJeEccz8SLJAZJiUzmJyiFnE\n",
              "c9SqwC/OAfuZ1JI7yeNZIKC6HTEAAAB/QZohSahBbJlMCFf//jhAALD43wABt1TUO241f6rTfZpU\n",
              "8s8S6jxkm/GdvFglAMrY3U9n6texIjv8vhweoFVp+D693R1saEQ4IwNSfNZykmluh2flBEjzIe0n\n",
              "f1IR3cmpo12DJ/vsTMeBdoKEFRFZw4ygPZELJBWXx0eGSQKdwQAAADtBnl9FFSx/ABdSBWpIAVah\n",
              "zvJvDO4au72kBKERcqZCaoSj6cCPUaPSxg9UmFgHi/HNUo7inHWqcSIxMAAAAEQBnn50Rv8AHPZ9\n",
              "IAa4qTjGjN13Am2odx1BT1nJY7MyCW9LCnmhU6pj4fHzbtxh6Y2/ioDeNG8LoVms3lRhqRz/Xk1F\n",
              "UQAAADwBnmBqRv8AHQ8bgwkAJG6L8S8DNROni5t480gstuQIfVl+HhgiyFmUgPduJ9X5jC+SckBn\n",
              "3uVqAASNUGsAAABNQZpkSahBbJlMCF///oywAC3+5cjboAbd/sgBV/WC160x9vfhd/42Z7igNjUV\n",
              "9nu10S/lgu6mXmvVqnYzIHXxalE7fcvMnSNx/ZrDhGEAAAA5QZ6CRRUsfwAX98mASWdu3Wd54KuP\n",
              "dxqD82dLndiehv3xPeyajcS00qNPj1ZOEzICIPy04wLmqFoPAAAAQAGeo2pG/wA6Dyt4EADy/iZv\n",
              "Wsy8J+9GDWcmIbtqytkG/mnCQ8BOqkXFRBdgqpBT5+kJ07K3/EU6WW7pQKdw64AAAABOQZqoSahB\n",
              "bJlMCFf//jhAALVZQIAreVYo7mLwIedIvJDd+vT4MkR0sCeJSy36rAAr/y9xESfODFU9jhLceWm3\n",
              "EirHmivnDdxLH2lKUzaAAAAARUGexkUVLH8AF+kitMALyWWLPsiHdHFtkgvtlJtUczDLF/2pqeE4\n",
              "sqFgnzDgbPNo24MUPl27zdR+LdDwzUqAnAGJ9EjJOwAAAEoBnuV0Rv8AOepssxr8+AEt5GbKlA/i\n",
              "cFa0NJEQa4ps5cGL5enlK1ehvjY7TIXMqLEw/2akV5su/JZAhNdBW6zce0369X1LkxqFgAAAAEoB\n",
              "nudqRv8AOg8qadE64AsZz21+/vTmH6lOONdf1k2gEjyXWncF6lBr1B0tTxk2As6R6du+qO9SB8Iq\n",
              "N4vb/Q3CZsG+ouEErYtt3QAAAGJBmutJqEFsmUwIX//+jLAALx8cxX1JObEhOjnCRYwByaVZk+va\n",
              "RV6w4Jf++kdWOUIV6a6Xee8SDU0zUCTjwy5wVLm11mW1gjALZYsQqz3AKXi8l32h8ERbtYUzBMpi\n",
              "1EHeSQAAAEZBnwlFFSx/ABffifpUQAByrQB0AQiELd4qDwzvZRjNTyB2InF7g7QF5VhMY084EaZY\n",
              "PBdponGKxdRjqo/jaEOxezTSPYBnAAAAPwGfKmpG/wAc9MPWzNfIyQcywAatlcKCG5hxBMqCTNW5\n",
              "/6jE63+1eTYjVcc6pEIsHusGkIr2pZ2jUjF2awZbVQAAAGFBmy9JqEFsmUwIX//+jLAALtknYAbr\n",
              "096JuoPip0+TiJTOOtdqbfhQFhq9mfcX+08ulnbdyN4czqJQyZ/VZdOY8UojcUPd+5TCmm2Waphx\n",
              "Bpm6E9GjoOxfSH9CLL9SdZqxAAAAS0GfTUUVLH8ALooRk5cZroANs0UpCkz416ngMTMNjOkfFcAI\n",
              "HU6kUUOdOLrHKr20WAjR5S+70rOmtkNgQ3oTPWqFsPJIVNzcsOOS1wAAAEUBn2x0Rv8AOerrVags\n",
              "wAWig92HYnvay54VyG/W+8k1AsmOI3w3byWoPFtVx1ir13kgJ04EWfFA+EiUllyk5Bfs+sAEGsAA\n",
              "AABCAZ9uakb/ADdSUSTkdwATNahfJWfFKGGjXPArFlhJeqdT4Av2KvbzaTFhh34JMJpgzxkiy7vK\n",
              "8zvyBKkgS/K4W9uAAAAAbUGbc0moQWyZTAhf//6MsAAu32isn+gAPg/NeKIuZwhtWtSU5+eINZpK\n",
              "ZKo+VTE7q735eUxWA+aWXPX5fLUKa8nv3WCSdDzRYbrcxmNgRh/nDjtP2TeMYDSs2J61pwFtBbGp\n",
              "Oo0XE4pyNDi7EcEAAABOQZ+RRRUsfwAn2bmNQ/5mCYAEIg5MLepJR42ryMJjFcc3xmABQx4hHWf7\n",
              "m7M0PSpCJ5f7Fs6TuhuAvVWs2AEHQoJC6m6l7PKUoycL1PSAAAAAQQGfsHRG/wA3NH202AC1Qc1G\n",
              "vH1hqdS3VInYMF1hUWDKpjba3MMDsAYjv4HHVfU3Loam8j3Ig4zLmzTebaPAIOmAAAAARwGfsmpG\n",
              "/wA3Unnq3EggAbp4sQSMR/4lK7vPGICq69ycplB13Hh9PWN27ujjlfFAFJhGA1eZztRUEPaUhh6L\n",
              "B3QDHLUzkOWBAAAAbkGbt0moQWyZTAhf//6MsABOfidBTPWcAFxifKNJ3f2/FcUCsYMCKIiC2C8H\n",
              "tkaEsKPWQVKb5Y6VB1p0SlKLBrkPfg+TblHO7umcMtpskoLcq97r9zY6vDzguXUrwMTRXWUyGkkc\n",
              "8BSqD6Df/+JBAAAAM0Gf1UUVLH8AJ8oZA+1XgZMAEacfTCG/MDXd80hVoOZvAJVM+mBs4rygtiU7\n",
              "EXG66Pok4QAAAEIBn/R0Rv8AMjSAdtUATqIRRKBX12h8d2agQEZ1gIPj3NWZ1lm4Ccn7QUAF94+q\n",
              "oO1GNB3yVsyEopUtgUNI5u3XkfMAAABGAZ/2akb/AB3JGgCdNNlmXGot/pGV4diN/iJh6fSxmXK5\n",
              "yJdW58xfhPqsXOagwC92yW9Yj9KddJVnyzL0Xv8XXWazo4KjdwAAAFlBm/lJqEFsmUwUTH/8hAAK\n",
              "xFgoAn/5mZ9acl/sYAO7fJWJecSwkUUnxZs92JgAMZ/pDr7qFinFv+zgDEMqS6p30mtrQWoRyHth\n",
              "rp1UYz5i4CJHmIoy2Pe6YQAAAEkBnhhqRv8AHmd/tgAtWzBPaRBA90PSajAfzL/amQi7kvbn15sR\n",
              "cH3hGqiZ4XgY0WXIGhKdMaohq1HIBTm+TeMkTHJFPDAUOv+3AAAFRmWIhAA7//73Tr8Cm0WXagOS\n",
              "Vwr2yqQmWblSawHypgAAAwAAEbBufJcNeavSJAAAr1vozl+V/gAGmK3n+nytyzp+RDsPvO9NzrNJ\n",
              "5ErTwhAf2KEjbNkM1+Xv4qNkTi4KTL26gAgAaCDckAQIRKOj/on/ClX2wskJE8nwvfrRIAPBI93l\n",
              "Vs9yQTWk3C9cDvCZHddYKXr8ic7P/FpXuuONXy1SbVd/qYef5dbzn0rgmYHDNCgfS9CaIrkPpZil\n",
              "xfae5T7RN4aWSy2Th8389ffH+9IhXB7rsjF5UddmYYHGdGBpwOtZVq18cjprUphUC+KFaKN/NGQA\n",
              "3BEGdgtg4UL1akSzpRLXh+e3o/SL3LfrzhPV5SdLmOXqyzPTdLKReBXMKD8v9nYviHjVQYmDr3/4\n",
              "SWUcLMdCtR//NDx11K8QL6xP2cDjD6dsuF8rXdG55IjessuHNes6QiYeqRUYUccZORBarKWgWj9M\n",
              "eoP3BtgfGKPwQEXEBR+nDOaqfXy548dIJmslon5YDAHh7dEziswBrdiJvLG+ItUgerhyZPvt3P3D\n",
              "ggC77kM7kT/UHGgAuzGbrGX/LQPAPq+iVCJle2JF/uvJlDW09aD9YVB4uhj8Lieh93OarXcGeJOX\n",
              "ZMQjlo5ABzRmoSbtNA9lFV4QM+7x/xLzkvXaLsr95ypnwuB9kSK/tp9qfhNnAK9AlQ849FBqaUve\n",
              "BIc7o6kiibrqLZHCJL8zR6+GxdVhhGAFmFIOcAD3fixNiTmZt8C/QJf6D4Gqo1W40SlPXbspsxFc\n",
              "mML8d2fW/xa6LwdR2ea/JS8VnonlRBg2vJsYY5u7CswWANAG4W4GRkexSqOpygiy50YJwGKGNFKr\n",
              "Mthrb90GHTIxaeBYWTAVsS/cnNTfjLQEUna4QgmDl1ioN3+MGUj6JZmTJ53TkETuuj0Tup38Y0tc\n",
              "2JE5ycnmqhCtM7kc7Qhct/8pqVgGpXbv0q3KgtSxlW8kVhbPVU/CNMN+Vp3N7WwV42dl4yLaY6lE\n",
              "6q4CZ6MOov34uKgSk/tiFZBFuFgqVSaz6gsygjniZSQ4WcF7LPeUWjplFVWuP67LSDL4WFo3AbzL\n",
              "DYu1ZSZVHl0DxXAQNobcz5HWN2OxkO3/lCJSL8cdNSfTx3q3H9uSlFLsqepR9PqDSf/KV8sXuvNW\n",
              "5EYvPTtPZL9H5+n21ex6aF3EokhVMPDEX1OY3H4wpi7wWgli3RcWCSZrmYmcJbv928zIOX8dBY3k\n",
              "HBdoPn+fjMcMh9JgYWZR2qLJxRwRKGeYMtI4CdBg64eP45kfJRT720f7UMLAns9s0/a6H0jJq+6U\n",
              "SU1MizSZ+prNFejLdPCbVy4onpLWy5K/BavBSgjvBkjYtpTiGZSVHr6Pb9oRBqrdDOPu2CIG5/fy\n",
              "RfBKBClBt8VetzvSmMNi42PU86OQnDTDndGcJb8qPzq39nB8U1CC0Cz3sV1kuCV49TVA7QzOCUBm\n",
              "NB2o8ZsfsCvABl9ZuutH5FUtJyOQ1IjDSD1NSmSKZYPMBOxXY+1ATzwith8QYY6p1DX5Zb+blE4D\n",
              "uUKAqQHPHQ7NsOtv4hyYCJRdNBw+Rv+dbzdSrGzGq2cxw89mKSt/OBW0TN0cPb7ySB5HwtbMhCzK\n",
              "917tCJSQ4y7lSXazp75Kk0qgh74QYl/vtbU06/gDnYUWSfkLV41N+ZlFpA3RWivdfWgnzAIRi8qv\n",
              "05ftUFclxzpkqv9Um0/idMKZnxhlMGkgY2MOAMmcEXAQFQQoCbGtc8LVlICea05voFjFk7Ubyj+I\n",
              "AE/TXAygl9BKQSdb6/gN38qgAAAJiAAAAHZBmiRsQv/+jLAALND8H24AQfuxp/pMA4FhUALC8nna\n",
              "ctEIdxrTbxARHfIwz/FwupQ7okU58Op4nyX52jPP3qDvl0pbEXC5aqzKbwXaok9IkWETB8fyzGBw\n",
              "SpcAh8aMP2OtwZS0DWMN0RuYIppasKmheHgdBzbpAAAAVUGeQniP/wAXWY4AVWQTA9NBr6msS8q8\n",
              "wATmVF80n+i5GE9PRpoYf86fBoFzU8qF8SoiGRXXlgV2wA/9iFP9FeZkP7re9ZiaoOHDpPbjolAW\n",
              "NzIGw3gAAAA6AZ5hdEb/ABzybh/Xw03pf24AhCd5jSu00ujydwrylFgM503ymR8t0Of1BLjCA0yT\n",
              "yKhVPtTD22DMuQAAAEgBnmNqRv8AHPw6QAzmANyJLnygXacBoXj3X3kaivdtvs0KVxF3w1M2od6S\n",
              "Fxjt7RzGl08sZuKJZMB88D8Cb5a78nT2B2FZ3pkAAAB0QZpoSahBaJlMCF///oywAC7ZmwAFs9G+\n",
              "yzHfl23zMgGg+JPSMJ1S2DJcczSwa9HuTVlZfo80tw6H+4gy1F6SpKEoqTNYGn+LxXaOyH0s00DI\n",
              "VpStiP2ylOFdz43Ueo+TTfcBk+heCkD/0roXKwGGKS1hT4gAAABRQZ6GRREsfwAX6OmwgAaXGJ/t\n",
              "PLCj2Sd/hz5Sn5luLSjhZiTLW06+81HkiNQLqgJ48w3c29OzgHcef2PoAK/2mhVlYxftFtmyFKxh\n",
              "hnZaw5BBAAAARAGepXRG/wAdCi3w9NYuRYAv6mYW5QMX0LMdJJTC0KSsFDe7l4NT61wy8TRG+KCR\n",
              "ZFENNg6yn+3al/2AH/TqYG8Xo29kAAAARQGep2pG/wAdt4GtABQVNEmP0cEFLIGnRkS7HkP+zVqj\n",
              "IckcllhyRsKh0smWuVtjvavBbZ93hNyBjEeBKnBpFAnbmJPfcQAAAHRBmqxJqEFsmUwIX//+jLAA\n",
              "Lx7l2r+jgCPWUxR0K8gRbwWqIUWpq902Xe+G0ZE96UoJTS3L/Tkm/8oPznpunJ/ducMMPLv/Hr2p\n",
              "yY72qD74vlX/sKG4JZOR6l/I6oawqUB5rDVm9L9En7cCKgCaQgjRPdZtgQAAAD5BnspFFSx/ABff\n",
              "ifkCw0AOUJd/1H+SwGZvDKkNeksaQ5b7+80KSins2pr7NCWxT8EEhqaoMHZgiazexNZ9ZgAAADQB\n",
              "nul0Rv8AHcsywCxhVDhszxvnNgZB3OmIAbzTJsDaHqK7PW0ACBaIywB0I4r/Mye0/EhHAAAAOgGe\n",
              "62pG/wAc9MbxEb7DB5oALiOgKarHxeQEA7x7RXr8bspY1RNDkgEddLk72xCNQHSReX5CT1CgV+EA\n",
              "AAB4QZrwSahBbJlMCF///oywAC8cy7PoANQ0ZIauM8+blTO0CjE9P2rJWA6w0n/X1G1wq07QGJnc\n",
              "5un9JTC9FriXVIFnwQuOA+IjwlqoQgxTd52mJvma6R9iGB+6WX/ayv054E82M3ymLPfGLjgVh1+L\n",
              "8rNh0oqXAIbYAAAAP0GfDkUVLH8AF+kok/Nxx4A2twLqH99DUwh1oxreGESRaSm8MdQyp+zlYjpQ\n",
              "7tjXKyzJpaFs0cUoDro7L3rdUQAAAEwBny10Rv8AHcy5AFC2KBQnFSr/RQ0CNRLh5bD0o1YCmjNc\n",
              "dYwxDNa6FrMSKkzZZ5XyvOxqNK3tjKa6D347thK+zEYH1zF/20UPPKPAAAAARwGfL2pG/wAdt2Fv\n",
              "AAlJy1q5bw7t4g4NxHiX1lQmOOGIjIzQ7D/xL21giwxP59DAl5Jmuq3VPF4EQrajgknXN72ezCw8\n",
              "uJEhAAAAhkGbNEmoQWyZTAhf//6MsAAvHuXImQAODSfpeCzTb+jBbSHh7TIRR75RRrUKyVk7C97n\n",
              "4SpXrZLiEoxkSaFz2GQngqvNSYXKcRCUHmvlYWO7H2VsZJ7MCLWbcWRw/w3gCOYTQCsuL6o/bXSD\n",
              "lp3e0xXWFm7twj+5+Hbqe2ZcPJSt2Wn/OBIjAAAAPUGfUkUVLH8AF97zbXh52GDOcEvsswAbxDHu\n",
              "gmeJAsF44+KG3K/5RuWGOWxAZKzAElMTKAXjEUJ97R1V5YEAAAA/AZ9xdEb/AB3LMsBCF2mDvXQF\n",
              "C+LpvtnLSSd4F9CKLN8vu625+qpLj7qMrrnMXAeDUsUyYttc1N9qwWGk2vbRAAAAOgGfc2pG/wAd\n",
              "B3oeSAHwXw2VKB/E4KwNyO4ko/6wQA/jHd8Z8UtkVwevi/bbbhgiGpIUCfziKRSZexIAAAByQZt4\n",
              "SahBbJlMCF///oywAC21uHV9gA/E2zvx/5HU7TbPm/5fD5Mo2GvEjHBNc0RhYbJcLtLKJ+pVQmdm\n",
              "smIm40F19yLwarMeQLqHavhlYKRWkuGAQBssXurXFZv6ZvjpdvBTL4ZvzzrsNWI5074NYmKgAAAA\n",
              "QEGflkUVLH8AF1JB0ABIEwqGqLvjYSeMFkST3sKUbJ5xjhqPGEmA+tzY036jPakmeauonXeF3VH9\n",
              "6mfRTswaGJEAAAA3AZ+1dEb/AB26/ytQDSAeQWw1q96LQsh/5u8Hg8zCAy+hTrTUr+qcHZ1cQagq\n",
              "LEdRscEWGQyLcAAAADsBn7dqRv8AHahoZT49AFLKa7vAY1IqgxC6CHB7UCAK1ocYntJ5bBAw4Wxr\n",
              "McgFUDOZOGs67U7cElSZ6QAAAHFBm7xJqEFsmUwIX//+jLAAMA7MgAbU1CZs0P3abz6cvEMZcC5f\n",
              "xxCT2A/095OHjPU4sytCF8ur634mNRXGzQuLvsdx/tPZQMJriGVo3D8lgOcLGB8jeEJR1JkoxRwb\n",
              "ZYhqE1xD76oeErdiSwd/tH+ZPQAAAEtBn9pFFSx/ABiJM1EADlP/ss8C0ixLDXfszrsRfXCfX862\n",
              "aV4WrpWrLafi6mWdgNM20+qXdRvpJuPJquaahzMYjEBfxRh/PPWhFCcAAAA8AZ/5dEb/AB26yjsw\n",
              "BAM4CGS1TzANdsiOUe3MVoNN7VWXp+kASnRCHGMy4MH9VCPJzSNcz2Z95iOoQdbhAAAAOQGf+2pG\n",
              "/wAeZ2FvAAzk/ZkFwGF46/jCZ0frZvunN92oKJUeeiPfoZaKdwXidOVUWH1vfTtdT4pOsAAAAGxB\n",
              "m+BJqEFsmUwIX//+jLAAMF63mCEDdACccxQk49lQ8a8SJ0usHJq51X83+LbD4keD0Gt1E0URqrgO\n",
              "2F6x9nEqA81A+5d2oXul+xwxh1yUJJrFZr6Tr0ie5g7EWgwxP+783RxwFONaFT/VWqEAAAA5QZ4e\n",
              "RRUsfwAYf/jiCnU9VQAXE+mfMGCB/YeLDUVOwqCcHskrpaKDYkjA1Kn7k5XRyBRV7Ims6gjhAAAA\n",
              "QQGePXRG/wAeVWpPt2YAC0GV0BfNfd1/IAvPcp8ov711Wj5PY42WOmnUwtqe/xW9I+QfUilYEGGG\n",
              "xxpLBnOIUJ9cAAAAOwGeP2pG/wAcXeyoAOjS3DZ2ezNOTvN0M5KQAthGW4CBkEj9UF/PDg/tfvQU\n",
              "MQ+hQFAxk+5vMLQ7txTAAAAAc0GaJEmoQWyZTAhf//6MsAAtuW6IAplWHGrQcJ7OS++d1G6uO9Gb\n",
              "3iNaB/n0BKyiwSBjn1Xr4jYjLVltXZNSSzvFGtVuflEPOUJdyatiTwkbojWoFl5PgHWLBMtuUfX9\n",
              "Hxg038iND7TwY9k7Y1BjxGCQDwUAAAA8QZ5CRRUsfwAXQccxkP0kgCSSBMtU4YUKkhPcbMn30+qJ\n",
              "3PdEDRLCYe17VXDQXFH2UNr7BgJCJIQtNyoYAAAANAGeYXRG/wAdCohRkgBGidiMmWRkIICLE0fN\n",
              "mjdkiSkMFiQLNtybWvIv4SgWkBx8bykSZqkAAABKAZ5jakb/AB0P8aAEjk2WNtJAtYNjDDWWq+QR\n",
              "+CmvlQxrgtlmp4iXrYT6i7eMq4/oGpUQNbU6mTSVgs5OsBHZpHCokdhx61jh1sEAAABmQZpoSahB\n",
              "bJlMCF///oywAC7ZbogBtXcpbHbBZMBye1FcDIKJXVcVZ9D1yqiQSsQDRi6MfVfLeDHTuAC8fvfO\n",
              "do13PQUPLrelTQHScQ4j0c86y701Y8gEr3/F6rVBF3Cn2zevNgasAAAAO0GehkUVLH8AF+kokFsk\n",
              "gBxI1KpfMXESnWJ3jF4867+7gS2I0xJMp6uDHkWTj3kclaj7ow8O1XrwyUIPAAAASAGepXRG/wAd\n",
              "yWJAKEiKfGzz337JZIHP6T1wwl+cXY/OaRpiKsLOjrvXqe49X5QCEv+wQuL7t4HG/+Pswmp/HYz2\n",
              "oQghGQyRIAAAAEMBnqdqRv8AHbgnQAnXPbf3E+Cev56slAYpYKjhWFlkg5SXCUAE67dkyJdd46k5\n",
              "tCoRuShMZM9Ri5cV3jjfgEj6dA7hAAAAg0GarEmoQWyZTAhf//6MsAAvHuXCuoTJzZ0CXhVanagA\n",
              "a7yUFRVk7Q5XdG+MppMnXmrKsIsH0ZYn7Ecr64BXbeOrQqbrGUMiCAAu2oUI5kt+TeuFF44ISI75\n",
              "KJYECaE00qdbLHNlGQbCnfBaSSmX9+nVrB+SYkoZocEESMMaaTKpiVNpAAAAOkGeykUVLH8AF9+J\n",
              "ReuqZF148ECeXJELYKIAJ1hEjQhRpCA5cgAy3DfdEC1kXsB/AfWFlKUN8OX9xHAAAAA4AZ7pdEb/\n",
              "AB55GgCdnPbX8Blxb77TLH0gQBBTWK6FA3Qms7TNgbssBUy5htuQ1vK0Y0smwFpADdsAAAA6AZ7r\n",
              "akb/AB3JGgBiDj/KPqfY2oXDhrxw59gh2V1eF5Tg5jdCInxjF0IolKfHja1dZR/e5ZEpWflX4QAA\n",
              "AHNBmvBJqEFsmUwIV//+OEAAud4PAA49FTEXs9f+p/QIkihPUAKErwQsrUk9Ww9ddPMx8zi4q5Cf\n",
              "mtswcQjcq3MEbxu55dkWAYw+Fw/tQP/X7qZ9DWU0XfDAHqdxFaQVjCE7SpMJ+3iewIyMH5CpaYMV\n",
              "FwnwAAAAO0GfDkUVLH8AGIk0cQAHRzDyAZ6XYz4ZzlxU1KMgLQx5YMRVEh5WNgThSi5qhiaVLVl0\n",
              "rpnGh6Zs/AdxAAAAPwGfLXRG/wAduraqsAOjm+3Pz09OOdFQwErlf2439zEXNGRKTwhFrxLymGd+\n",
              "qIZmJpJpKVDWv8vaVoYMDAqPmAAAADMBny9qRv8AHmdjKrAG3zAyEpdeSIlDO5v0uEMh0yta1ATw\n",
              "cmtHvSU4ttkY7zwZc8sROJ8AAABVQZszSahBbJlMCF///oywADBet5rd4TAC1XbLPVlwq7yU6Dos\n",
              "lBTAK0fwxO1CNl15P2fZrR2Sa9Y3n31zrGlDcYRxLd+l+D3tZeudX7SpVxWuq2UavQAAAD1Bn1FF\n",
              "FSx/ABh/++4ihKUAC1LO9BvT/do2aR/hlO+eSehY9f5rUrOv31CHnjoMrYmY5/cKILIOpu8bzJcr\n",
              "AAAAPQGfcmpG/wAdCCdACW8xB5+Phh7dxs1vwhDcblaaKuZYHilj3p6XQ7boWOrVz7SoiO1/OMLC\n",
              "9V1cht+zO0EAAAB9QZt3SahBbJlMCF///oywAC7YzIAEkN2oVv4G+P2z2KjcQgS2KOWjH9r1xvzi\n",
              "Ui62ToxQ1EBC7UWgrGjp9LhbIGqOV/Rv/9Ae38HZYCT3kPjHyL/rwoIpueSiLD6w8CvL8NfNYz3D\n",
              "zMxqYNPN6XJM7Jph9NtEUiEeaOE6QYAAAABIQZ+VRRUsfwAsWbY67QCBV1toe1AGWH4LtPw1Va70\n",
              "nwdB7DfK6as6uiF1YEm5eDYTlaQlPuSaawrDdAU7w/fmW9CPLRmWEd9oAAAANwGftHRG/wA3V8Ia\n",
              "KMQR9sAALWAckfs/PKAqv+RVu/2g/XAGjpdc22sxGwoacZq3vyp0fBdqyTUAAAA8AZ+2akb/ADdf\n",
              "0RXX+fBtSnwASACC8PSmSSE2MIiFCy4GPW2a2IZ+mww+nR7qgRmNlhTP+j2pS62lrdTAAAAAfEGb\n",
              "u0moQWyZTAhf//6MsABXfc0S3qa2vh/angBLVrwaW806K7uxo0PzxxVlLk9XLGEl8LLcvWqBwKrz\n",
              "IT2Qb0TKnSkyx2Ms1TVLsmqfobgRTBuLc+mlEYef8LYthjBluEtP+Y56zAuEZ5/JX9r4eWrVr7p7\n",
              "C2WfHpAHEaMAAABMQZ/ZRRUsfwAsShYVxYA1lIxqsT261oSi407ZxXKGRod/idMxJn3wq3L7fh4p\n",
              "v7t7YeaA7HOynJ4h1jMTEka2Z+wkCRIpMjA3qZHkFwAAAEIBn/h0Rv8AOLWSoOuRoBlYJTDyS+ox\n",
              "XSpfzj36JrW3FHq5ztUWZS+9f/ksnkktTgkrDkjb7xEsHOdFjgl6i7R8d4EAAAA8AZ/6akb/ADiS\n",
              "d1X7ngnPAAlQBxWOoZxa4BCWb3UWpkaxYvVPGt3kUVTgj9HHR0H6YTxu7JWGuZhkOWTbAAAAaEGb\n",
              "/0moQWyZTAhf//6MsAAwXCe+tACtNoYe2xANL4sloENSSAGUC7fHcS5qlW4+lLZZKsPLoFHJrqHZ\n",
              "mDGPspw7oH9OweOiDbb/ZOb8VF/jQ213YsGJdMQNE+hcYwxRPIQAQRW0XlbwAAAAOkGeHUUVLH8A\n",
              "GIk0cQAHSLxvIXjjvK6AvYRDwwqzR2cvdb0pjm8+NMMRvkF8ntQrswgqzOo99b5B3aAAAABDAZ48\n",
              "dEb/AB26tqqwA6OhWXoCPk63htCVvPe8Dbd0ATHVogV+M5nB7X+TWs1a7oXx4SthNQh+irqYJP7E\n",
              "DScEUONQtQAAADwBnj5qRv8AHmdjKrAG3qNCM/gjRkDRWwA23VLsiMkyMRK9vyKnVSHWtRAM7Meg\n",
              "LjbvOnObzdeBDxPi8l4AAACEQZojSahBbJlMCF///oywADBetnP9kgCBBoYe2w9z7x7KfMnqR6pC\n",
              "jVr2dTxck8a1hREjYYiANSc/LLd68QsC4ZkNlc49+aXM3WJvxiC5Zw7gpveAWn12jIDd9GMBmrbg\n",
              "oIY1ZbHCOVFz/TqE3SDbNf8dUVnC1Ag+uz/yY6Sl+XSeTs2cAAAAPEGeQUUVLH8AGI8aM84NADkt\n",
              "HsA6Dna2QwKobRDAByOON/ONOi2XK6bIYeg8Gwk738JQWkRs/p30ycD0lQAAAD0BnmB0Rv8AHlSF\n",
              "PBiwAOTPqdwxb1URpqCRSeSh+bIz7y2oyVfTTXpXUWd6gwaMs6TJwPGRSj4qECK0AGVAAAAAQwGe\n",
              "YmpG/wAeZ3Dq4A1CuT5KBYKb7Rxlg9rd2qexWA50B1AjMne5i3JKGYBJNdQ6I8joBU0R3+ztBuKS\n",
              "DJ/QWwyi3cEAAABqQZpnSahBbJlMCF///oywAC7UqSR/p+q48OFFpACz4yjYuyY9YIiVSuvKlU0f\n",
              "iHKHvGoHGqvPO24Tt7ylOgtPYtkm72dEFyM4LmP8yvZTs4Z0lEacd0WOUgyZsfOlBc9tdzcN/6ZS\n",
              "n2OKvQAAAEFBnoVFFSx/ABedc1SBADeMhz2Yp/vdScqzGJbznPcJGnpYTcIqAJSENbRKoAM3CBZL\n",
              "DG9RxXty7t+WQuwbPYWHWwAAAD0BnqR0Rv8AHaUW2gAWuKZ/Ux8Lo4e2Nldc/DQ28I65/+zoXxgj\n",
              "3nzaavVHjp4HRLfJjvUggCpM++XW7bSdAAAASAGepmpG/wAdyRoASFATsnlxApgA2KXLU6h6Eqw4\n",
              "3uSFHW6mN/j9RqUfgtQIoBCGWcUhK1kXn0wZ7kuRC+Dy3wieOdYddOUBoQAAAH9BmqtJqEFsmUwI\n",
              "X//+jLAAMFyKgANaHGkCMnfW+lcW/sOK9ZVUJDF3cnxzqE7mLh9pO1PwmgY43ITcXd79vfztLYiH\n",
              "uEiOGLlwVpTY7ey0YI0Kwycjalw8hr+6QXi0y63DwncAhL7a2t5DXKHTYa0GM/FjvtScg/ZgjhnT\n",
              "X0dbAAAASkGeyUUVLH8AMRJ5u4ngAaXGJ/tPLCj2Sd/hz5TQXNWCzb+qfjbbZPl21TicteyYXkt6\n",
              "WVHMhEvaRP/jxGNgQ+C0j3j2NHNmBbHxAAAASQGe6HRG/wAeeRoAaiwHolnzLNBXeR7X/4W8qoSc\n",
              "mhXMqFn/4/DqbntDz788dz7PJ14SqQ6nOVOtBip6Ttt9YavSo6FOsaouIQcAAABAAZ7qakb/ADzP\n",
              "GwKA/AEICNbc39heUcCfknmdh03qrxyxKLnXNcXKQJIS0+vhnPSyC5Bn2dNJuxbOBWrtO8u+hAAA\n",
              "AHtBmu9JqEFsmUwIX//+jLAAYL1vA+PSxVh80/sPDwAOF3Mfzzok3oLC4Gk/IB8hUcA/4udFUP7J\n",
              "ehGdxDECwTSjd0oKNakqNIJA6ANjdW4Kadoz1r0SxwpEIsjBJIumSQqThURJ8INn28fjcdyM+N5M\n",
              "tky1+tAPw/BuvpcAAAA7QZ8NRRUsfwAw/185hMl7QogARIRqrtG0tuX+xSWlecAY6q8l6HQelHTC\n",
              "ZY/1FnlUjlCbJZlrF87TLcAAAAA+AZ8sdEb/ADyqcDxIAR81KOOsixGCm3VbZw0OJHIK23rvwV0f\n",
              "gD16+qQIvLux+22q50jfWDFDG9DH0WDc6kEAAAA/AZ8uakb/ABvtGs/xyWAD8FpAoofix1jivjlS\n",
              "LQZO2jZvgQOq1Mz7H7DKh4Wiw5iQZPPbW+HK2kR3NmyqliOAAAAAYUGbM0moQWyZTAhf//6MsAAu\n",
              "2dqwAsDWHSgrvOirvC+zAeOAuOBd0kXajA7rWpiZm5gy5aaVXydXpVYDW+sI4O9myoS9Vdf55Et9\n",
              "57F4KvP5LNpwyjsrk/apS9hPLjqYeOEAAABCQZ9RRRUsfwAX6Sur8AGrzPo2qQObHL/eLFIwIBrW\n",
              "Zt08Fwc8A8XR0EroHMirCXZSSQXVCsY3QUUGroLlVESzRh9LAAAALgGfcHRG/wAc8maululmABEZ\n",
              "n0Ep1n4kcM9sTID0e1GPo4TxArCUbOg32+2xw58AAAA7AZ9yakb/AB2kwDWOxys6XnmPPYGkOCAJ\n",
              "yog5dGWVrbawr+rlRdHva2upa4CuKDsSnLTsKL+SdEpGNH8AAABtQZt3SahBbJlMCF///oywADAP\n",
              "bogBuvHaGM3oUd9ugJSqwnGpusGzxDmpai+tUiuqWVOfc9TKMgPnLCuQpRWI7ECGpC855V9DBkOs\n",
              "nxh57+Usxh0nJDZVxvtOpzWvxzlXdZqJmTEuKIJC120EwAAAAENBn5VFFSx/ACoZuK3wU8rn9IT2\n",
              "oAVIHPdHkfSM9Q9fQXtPOXNHsvI9v6Qi6muntpeOMRn8Ww+eATz7nYHToT48rQ2gAAAAQgGftHRG\n",
              "/wAdsR+gCggtpPtJUaCyQJ/9HlGFegoObss2Aiixt0gm/wCj6ltB1Ujv0pf0EC1xh08DDMQzNqjA\n",
              "3PFtoQAAAEQBn7ZqRv8ANNJTyBAAbfN3/MuifAdxVmKwSF+ryuFbXURq89vI0SA2/QDo8OHDwgzr\n",
              "Y4ZYKgXTZnT/vQl07IPAAN/I/AAAAGNBm7tJqEFsmUwIX//+jLAAMBXMIgBuUpaUD+rpRwi2X0eq\n",
              "x0Px/TkigdWBN1RVsfE7LNBDI36A/SgGyrbxqvvrOwueetOeluwZpTfLWpP8ICAPhr9/E6UMQ7Rs\n",
              "CPlmTTvxwqsAAAAtQZ/ZRRUsfwAYjxs2DD6k1iQsnGIAJ26DQtBPQUTAh26Oo86dxBpHIQLMA7Tb\n",
              "AAAAOgGf+HRG/wAeVSNQACcqTcLCDTewKbI1fGtYnpVgjoaYr1hXpEDh/OAMTeh4cMdKYAyJgMk5\n",
              "x57+PmEAAAA7AZ/6akb/AB5oJ0ANpV081JkIbCzWGAHnq9VlK5EsWbpRpbH4KA8VkXa4uErr/7uW\n",
              "ouHi+nSm/9/RNMEAAAB0QZv/SahBbJlMCF///oywADFOzIAFnd0kLCdPlD6rNcy0bmC48eWeaG8M\n",
              "lniiFbf/jaeSlYYwleAvJEd2TJGJOTaq6xMHqVLyMy4eQ+7g13vv7YN+MaVY2BKZXkAL6iAMFBvQ\n",
              "wFOg3ONEOKaVbs2qjGu0oGgAAABBQZ4dRRUsfwAZKS/EkQABtbpRBqcwG+sOCez0W29ZFImWIr9b\n",
              "qB7xSAyB8ShWIdjTZRvHBdBWha3wZMJ2QqjKrLAAAAA/AZ48dEb/AB4FwxR0AdoyPuLCXUYMUKI/\n",
              "ZQhXISdecKd5TJadY3AJCEIal7tofXi9DzjJRypEr+kv4HT/G4t1AAAAPgGePmpG/wAfF4A1QBri\n",
              "SHwiWonhAKUqqRBL8HJ3PHp2huRalforAsPVkK3G+I1IAcIjG/mi0ldYGUdJGTtAAAAAbkGaI0mo\n",
              "QWyZTAhf//6MsAAxnreYqSgk6y98m9oAisUp1hzzpK8ImvqwoIRNuFlCn2Dr+fXmkJl8OG/QJNg4\n",
              "SlJdGJlGg3LftzKolA814qn2/J06CfsymX75K/GA2DRzaKN/NLB6a2yJYrt2+aXQAAAASUGeQUUV\n",
              "LH8AGR/40ZmsHJAfu+E6IAR7tJWb+yNngXNfWr5SC/q3dbUDb1udvDZpBs3ySD0vXh5Mp2Y7PfYH\n",
              "Ox9hOQn+iIG9FCsAAABCAZ5gdEb/AB8Qv4oz/R1GAE/XQAaFTDxSLsGYuHx4cSkY2T8fzfDe14XN\n",
              "19Z5JZQ8J05bpiYl0ra1dDifSmMTZKWAAAAAQQGeYmpG/wAfCWEb/jjlu5n2QBCFNKOgtOXn+Xmw\n",
              "f2a2DO8GVSgaQtmUbGQnlNev7Z0sr5vu9GSBtWbEYD0MOAlNAAAAe0GaZ0moQWyZTAhf//6MsAAu\n",
              "2MyABxZ+7/xhgMIiS5yy/H4seFhgRLo9zBndWWwqT1zrsYCfZdhpzQPsy5/9AINpnyx4DnMsQ7+v\n",
              "bENYlt8CKCjU7T7oXUvETMGa182OAPB26SiPFKBW1L/WEXyILviZN45GBzsbBygrYQAAADhBnoVF\n",
              "FSx/ABfkwM/u3b5ROjAAoNahO32ncpp3qnXUDXcCPb1pZXAuJDr/dGmCVVGiYxIVzC38kAAAADYB\n",
              "nqR0Rv8AHboJqTikbTKTdTABatBoCBjw3dypqatbMYVMK0LX4Z3QVJ1ZVj/QYoqrlVASElEAAAA3\n",
              "AZ6makb/AB3AEywEIXLoDsXg1T7eAsr2CbFMk+vHkZFu99DNz36j4IA2MoLe6lHr/8l02S5zgAAA\n",
              "AGdBmqtJqEFsmUwIX//+jLAALuHCRoAq2ZFI44F1yNSmih9/k/0RXcpZfZAAcHYd1fgxaOT1TQa1\n",
              "3pD09ledXypizJKnbqy3QnpkfiPippjNtSVWj20MKnXMb9BkUXNap24kaAqp7jXLAAAARkGeyUUV\n",
              "LH8ALFm2KxFaftH3u+AMARIIqTqp4hq4qP9zTN8VNAatieTVNVOeN4wthioDAHipDdnsA5aB22OZ\n",
              "LMxQW/VQHTkAAAA9AZ7odEb/AB2mfSAKNYn73SAeiuTHwo0XHqEfrWTOs1hMOB8uxXhKoBWaDVqz\n",
              "LKOjV78zZSiVbwGZsDOYbAAAAEYBnupqRv8AN1JRO2qANbf4ceEDjd/am4S1z3b/58hGEzV6rL4K\n",
              "3NBEfOyn6OmuZUSWB6VB8YTGH0wn8sNeXJiXWmnMdfLgAAAAakGa70moQWyZTAhf//6MsAAu1fRG\n",
              "TDAC3CpBNUJ3dOWX+KmTQzUYgQ8Zaatc2ZlJsx8shgGa1/OP54lmVPCK78/PksiCWl5yzob2UPnv\n",
              "0aSMyi4nqPL73UFaRrfvPKXYOnHhGSzu5rdFCsEAAABPQZ8NRRUsfwAtebXNuvnQ4AdIueIoklGc\n",
              "S5vzwbnmgaIC8L1jWSTk4OXFmqToynhqmZaNvuI8pjsmwC0s1tou3B2mXxfH0yDNxu4J7xZC4AAA\n",
              "ADoBnyx0Rv8AOLZIBLT8fzLfYAHRj/gPx5VnxaW5pE4NqLRlF1vlM0T/QvHPSOk/TzxPVXWH7cgZ\n",
              "vIypAAAAQAGfLmpG/wA4v3CSEykgCrWB7OZ6LFv4G+FXJ2OsWzKR0HUJ6jH3C574VjtFIvQCkszp\n",
              "+xpO2KHV8olFL4Mw+YAAAACAQZszSahBbJlMCF///oywADBet25yN3dACdQOaKz3FHsJe2UBAtWg\n",
              "w0asjZrjcAdrG+dnqPWJsa6WMUmS1XnOH/UEBrAgPYbh7/5qyYN+oQYsCZWgvBacprCX/kEGgAxj\n",
              "cnLhpI+4tpUx26F6TPVWlCKy/RfmSo7Ecv4SZxK33mEAAABNQZ9RRRUsfwAtf0cqsOAeg4sphqGa\n",
              "sAQI0Zf4eQZNXhuuiG5M03QWXkLcDGl+73DuLjXXV1A0UY0KU/2vH0mZ8EpLCGRGl253mP4KPykA\n",
              "AABAAZ9wdEb/ADiKhe+wGADFQShv8iminUo+RmfynUid9JGEQ/Yi71u5TudqZB5+JMP4eUFMvcQf\n",
              "6M9iFnNN7KhOSwAAAEUBn3JqRv8AOK8tdMLuKBAA58/Lb1UXjMqxeEDKDK89MKzVPdPdrIm3dN7G\n",
              "F2t2h0vf/Oh17Gly8WrP99toPKsVYwffc+EAAAB4QZt3SahBbJlMCF///oywAC38y46QPnvgp3AB\n",
              "x0gA4kKColVFUpmcXvEIspCsZ6CnjJpsX8SaUlvr7AJRexs80EbvSuoGd6Nz9SHQnLFkRVKrirJC\n",
              "4CEiey/OUY7RR+p12O/sO4UVKEL/QNQz5ZZONdZ/uhROivOAAAAAREGflUUVLH8ALPEHvH62gE/Z\n",
              "f3sTQzOmKOIzj7DwMlpKKTButgNGHKvJKnlckqte6t6mEMz6+FQT1tc4yoR2F4xMKspcAAAANQGf\n",
              "tHRG/wA4APKm4I9xAJli2GJOMAlbr7V7Qn4GBht2AuiwPaPGJbZ2a58E+2yxthz8uzutAAAAPQGf\n",
              "tmpG/wA4APKnvsgFossD8TmrhlbhPvA6n5oItR6sHvmPEZ67aPbh7yBLdRTIpKxYijE6gSoiXiQD\n",
              "esAAAACAQZu7SahBbJlMCF///oywAFd9zRK8rkAESlazQfaNZ/DJltW65/bBbdX5Z2rg0f8M46MO\n",
              "M+FhHove8lDg0yTEE29ZISfX59LaWLgQOnTETgv1iPnLf+qgRI0LXPmUBW6078ro5rUDhpYHv/aq\n",
              "uYerCBOtEoG70rpItUZ9JC+vTsAAAAAwQZ/ZRRUsfwAs8QLEJyiFkIuplGrqR4eUAJpUcillWvuj\n",
              "hYteh45AXy1+m1aOLbu5AAAANgGf+HRG/wA4AOia/pEtJ3GAF/V6WTYFeyfLLrWnTFkB/CnHCrvQ\n",
              "yXCOYlW/GnvU+RC4SHk0zwAAAEEBn/pqRv8AOADomv9VyF7er03FfSPwATnMcl2Dd9okaNCNNJHu\n",
              "ku3eydctGomU+Axo7iHXPm4E/XJyFZhDMPLR3QAAAHdBm/9JqEFsmUwIX//+jLAAWb3M9TtY6cko\n",
              "mabhxMhgCLec9rCi4SXlPfBnIvcmobH4ciQUzW01nA32+aDxjSa5WW7Z95duCmFCDEqxqlsQWmOp\n",
              "bFm5n7z50ZF9eriUzg2uUb4T3vXYHBeIpiTzTFXLNY09qVE9WAAAAEBBnh1FFSx/ACzxAsQnKBlO\n",
              "4VmKRBI4AEPn/3NW9i6WZgCd0+pOoY/KsHSG55YemD2coDMGW3emM4R66GwflleuAAAAMwGePHRG\n",
              "/wA4AOia/09ZM4OEsT4gU9OfJAFBSBWETmcB5l2gW33u3SON3x1/JC4EiAnOtwAAADwBnj5qRv8A\n",
              "OADomv8//rjsfK19T9auC8A1eJX/Vtd2b48OECKzz8jM1PCeYPDI9M3SuOst0Vz3c+hizPAAAABK\n",
              "QZojSahBbJlMCF///oywAC38y46Qgf4gMOJMYcgbHgBLb/7MestIib91xiHFJ5qLo+hIhXNmiX6w\n",
              "bABEbHe1JM2kGifoKy3lDswAAAA+QZ5BRRUsfwAYm9eAJr2rEY3XKz20hZULtWZX9M6QJ1m9qo+w\n",
              "mF8IOMLhh29US7qyzf0roPD9midZ5WhQEnEAAAAzAZ5gdEb/AB5rAjUAEITJWbhtDwt2hTWMpJva\n",
              "u8LlvJr5G4vVpvG/W7icFkI4getpNmfAAAAAOAGeYmpG/wAef5gADVt9cq+cEkAl6PGnc8PQy7hA\n",
              "FwtB6lkJGaCmWyZQ8k5tRymTAN/QMVFIqWZ5AAAAdkGaZ0moQWyZTAhf//6MsAAwDsyABaJCuQEf\n",
              "mm7qHlsNYWRpPhXkuBmRb4rigGEdnhvX+VBLV3mEUudzTK8rjyYty4NfE/iO44+5sKhCyVn6F2KT\n",
              "ocCXdH0HxPyU1el8ykeA0j56ON5b3+N2B6sQI+ZxuobmAGEAAAA/QZ6FRRUsfwArObfOgnEQXcKj\n",
              "Edp5lgAn/98Q9KKvbm9VUPax8gdTAzxtvwIqpTBbj+nJ0qG0vAxQDuMiKNwgAAAAPQGepHRG/wAd\n",
              "uv+4ABz7FcMN8P/M4dAnGGesGWmj/uDbKjcTi2bxcPHfV/YD/GGUA3XcpvV+nOMiNc1pz4EAAABH\n",
              "AZ6makb/ADYSUszzJQBAaJwKJApYriydh91Nr3XRZHeIOdT7Tt9vHxLRmu0x/Y8H0eovSaVrApFU\n",
              "3NjU+OVnglvcD21UEHAAAAB6QZqrSahBbJlMCF///oywADBet5uk/8YAALEuMqTnqlFW8+N5EFuS\n",
              "nBABCtFhphpUXLmYjkGxe3RYMHJUtbwO5X6i52KwmB4wXJlgb0wgGfvD2QfbpVSmFjLibzTuHJ7M\n",
              "JE1s2+61KHyDF/EvQlJQn1Tas4XdwHWEV/EAAABFQZ7JRRUsfwAumeR9J439Je/kxRYACcaNPrGs\n",
              "ICR8ZX1qNnenaBuKPdeNHTfLbNNtUq4xFzLu6nmcHhnj79FXvz5V6+nxAAAAPQGe6HRG/wA4APVS\n",
              "du3vgAawMHyjGUS7JBxOecYfnqhqUqwB4xjlN/ZIYO0MDRLUsTaafjzKrGYq7T/j820AAAA/AZ7q\n",
              "akb/ADoODsVcV91d7LwMAOUYcS8KrElf+iK5DqoNEDoXXyTiMoziK+EgxqUHG0uqLJMzzPKdiZ2l\n",
              "oPmAAAAAW0Ga70moQWyZTAhf//6MsAAt5VdrdmiL+GwARgaSxjs+K6q8pWw0rIOZfoGu9ohRhG0u\n",
              "vn15E0N9nLlRlGb/5cwrYVQMtsJYpFoOL0cEdKah3yfZyp4zYMWRp2EAAAA9QZ8NRRUsfwAupCJH\n",
              "5D27f2NAJC4+G4JNci1FhfBKFx/t2lCaR2n7DHWhRiVRWtx2Pctb0BcmrLJttdtnrAAAADwBnyx0\n",
              "Rv8AO3VgSpKn4J8CG+3AE/TSHoFdztYElESNDs0gXhzKO6VQYQggYH8zdNuhZzswsZ+IoJNRxtkA\n",
              "AABCAZ8uakb/ADtSvV2HhE7sAaZICgVz/vljn3jApsXr9Q7zqAjYgY/9aaAuD8iPLpeByhh8G2Ll\n",
              "zYzeXCGVHAISMMCAAAAAeEGbM0moQWyZTAhf//6MsAAwDsyABYE2JCY9fezLnU6oFW2FIKmj4m0R\n",
              "usXMG6KzgVcFFDLgaeqrrQUrDWtbcVB5kPJ+kbh08WLdqi91gtQKOkb1+G0Pym780ZceTNrf22S0\n",
              "IMbSiC+Pa4pBF8wmuSNTXqDnQohAsQAAAEBBn1FFFSx/AC6kIkfkPcBTpE6AJyv5ZMksE96UY3Vp\n",
              "xGuO1CxWE48dsm1anVH0EMNfxz42972QT4ppKm0X+MCBAAAAQAGfcHRG/wA7dWTstktW2zoSwBX1\n",
              "j7wKTgbGZWg3jHaZKOXSiW/FFg4rMLVv4ZGkwmcXl415q0UQ71E78gRRIMEAAABEAZ9yakb/ADtS\n",
              "wh9mofDR/nZk4/0WAE/WokPoeSzu55aYozjGMT7sDs9IdSDBIan6CJ9PEgnhCqa5tuH4tA7Oj+tg\n",
              "BX0AAABeQZt3SahBbJlMCF///oywAFU9zRQeV5LzuYAJ20OvhprSzgjPovzMYGgOMa9s/oMrybYn\n",
              "ifeXPixjUN0Mpa8LZd54JeHEE4FWdIch1KZP53OgNAlkaoNx+Sd4rr6bgAAAADtBn5VFFSx/AC6k\n",
              "IhCJNv6mM0GQ4OcRotPtWxlmLOcvHrAfEGgwkhfKaFrqoJdRpyXZ+KayQvG14SiEGAAAAEMBn7R0\n",
              "Rv8AOerfKm00GhBgExpJMZWL36U4OWzfqkY33Hbu7VsDFtWbbAF0/z/tB2q67sT/axhdMQC/turY\n",
              "mBPV1lPHAAAAQQGftmpG/wA6D2GTAS44Oo/SAAJgDctXGU+AS+4LIIERk4INZC0vYEnC8u+7FPYG\n",
              "DK7vhvbbTMnnnBNNRpCkfqWVAAAAWUGbu0moQWyZTAhf//6MsAAwF1hUJJLAA43PYJd/LNrumyDr\n",
              "1MCLbGZkP07VtoJnFTm2x1bTH4gDlU5JbBluK3utWOLxsUGQ4/UgjGK2xhf8X5w4akRUh3LoAAAA\n",
              "QEGf2UUVLH8ALqQTx29Tkhn1wwACDYFiYrbClrqoPJj650MxLVMQHGzo6nctMBrrmOy7vdSF/EgC\n",
              "/Pa0ZPqTd0EAAABGAZ/4dEb/ADt1YEqSu0Qlk4iuUgCghICFq2ao18uvOt4IsbD7hAPpDh7LiyqQ\n",
              "GewICoOQo10iskD4jHk3HoxPnlERVNT5YQAAAEQBn/pqRv8AO1K9XYdb0Co5JNUIfYNwBy8+Fa+V\n",
              "nMoneBZSnhp2iz/lt9zAi12uXCJ/J9cIN+J5N3vcw/iTB+dfsL4N6QAAAGVBm/9JqEFsmUwIX//+\n",
              "jLAAMF63bn1XQ0FC5sAFomkZSd1fbTeyWncTeGOYIUcNP0VxRG0fHkZgdPQh0/5xnv0n4lUKfmJc\n",
              "4nJPgrT72OutHA9ggaS9vr3lYezOiUOkOAthfGSOAwAAADhBnh1FFSx/AC6kIInJyy/2GaNU7W4Q\n",
              "AXDn9zMUPuqfzNEprQubo1NxvUpZ20sWKOVAtoPG9hxSQAAAAEMBnjx0Rv8AOergphZdofowp5ix\n",
              "FwFkAGriZ3LidYf9RNZXAYbnms5nj71YSNu7rqXAeUH1Y9GyBHGhzmmpZ8oCBNMdAAAASQGePmpG\n",
              "/wA6D27evvq4gFKJ+IABuPY7HW73hC/mMRC58LN8L7wtCV6GRt0T5Z/kZQfh+GcXSyyZU7AfrMUJ\n",
              "Ktc8KbzxQ8Yo1oAAAAB0QZojSahBbJlMCF///oywAFlDxaWZsXkwasAAsPjxfHROS8mcs+yO5/Bd\n",
              "wvNA6SFkXJIEgcB2SOefeTWBEjAKtqyJxJiFkgjMq2gfiw77kScWoGG3dRIN0cX1qYyByQtGeCYA\n",
              "qhKMLkxKYCt+SP9gPvaPqLAAAABEQZ5BRRUsfwAupBORaaFQA19WriEA8Ky3wZJCYrAGpYIcibtE\n",
              "dpvCTEElrFF8O7WdK6irMoNd/Tzc8dSu8R6sTESeaY8AAAA+AZ5gdEb/ADlg9VJk//46Q9JABMuo\n",
              "CtCQZM8UulNt0BZZZ9EWnkIFn91l8ltIiQJB0zW+JJYuedFN+axsWdwAAABEAZ5iakb/ADlg9QXg\n",
              "K94o0Ac8aDjkCGWLttc6Liaeon7ySs1DuBl5VzOv0oLpAPnDVx9lvmjdq0uPn4t5XlefYwQKitkA\n",
              "AAB2QZpnSahBbJlMCF///oywAFktT0gRle/4cjkvkAAh3lBxz8LseEkT2woQLPd4dWD9RwlNrzqG\n",
              "E2VPjAaZeRF35Lw7ZK0mygQbvxK+E9/D8io4n6kWE6WRtLffPmRoXxK1Vb9KYyNeE5NuEAR4CHid\n",
              "ReUyCpaICQAAAEhBnoVFFSx/ACoKF6iMob/bcwHsL7Q97hABcT+eViQyG+UdmVM+R6+41G64bjPE\n",
              "DJIdLcenlTpnEbotwGUStEzapFGIXZRGZWwAAAA9AZ6kdEb/ADlg9MNEUlKsAbejkJBg8pZrm5jp\n",
              "nbXhYHl+eCaDKm23ODcIyVEjvM1fAJ++/AxgVtwIsmbqbQAAAEQBnqZqRv8AOWDyk+sZySASEG9G\n",
              "kkZIOGjA/q/VDFqoLM/+B+s8kV9HeH3Ths4I0Ms978Zjy3rI+7z+PRzCaTSh60hR8wAAAGtBmqtJ\n",
              "qEFsmUwIX//+jLAAWSH/cDJ1TicELieqe8OWQkuXkzg2edNoakGYhN8cpMtvOFosg9jbNNeFVhFq\n",
              "8vJsgf4xdLLRPMAnnOLwfOTpTLJLK2HHqEM7nJYEtyZR+zLtIGQFu9yd4w2kUQAAAD5BnslFFSx/\n",
              "ADESVPsBmPbbUtgBEbftIdm6nOwxxYWAWahdJ0fD1QVvaxHjHvvHIR1M7sXE8N0jUchUNljWwQAA\n",
              "ADwBnuh0Rv8AO3Yk4cAFGroIsTtZKAw7Zf1r7ykSKd4qdjCHIz2Lh2DIVy9Q+TGNiiyFtA8FHBaF\n",
              "pZ1ZTTAAAAA2AZ7qakb/ADzPYQ7txVeAHvr1a1UGbknq/NMBY2fPZkBj6qqS9gJ/okgBRfGXD/vV\n",
              "sjgAmAyoAAAAikGa70moQWyZTAhX//44QAFQXnA0eeQACvf+L7fkKkcn4mtpmToOjqBcFBjz0p1M\n",
              "PgXyJK5O4NGLvu781di8mtt220CO46Dbodpw564EIInOyoG01LBKiMO6tHSeH/4QaFDdZuW0Vx9f\n",
              "9HzlsEnSvv1NpVuT2ghyJmczGUIORR0eAs/n0kbdzyLS6QAAADpBnw1FFSx/ADEeMIStBRyBrPfE\n",
              "AN3VM7GlUkrVovHzCpVkIrzV5LlkXOjZb5u1HuSsjiyW2kGjAXScAAAAOwGfLHRG/wA7YdN5p/6/\n",
              "AGuK4ELqdb5PwdeAnxejT4S7ijEeJeJ4W7lfx/tzWlFYpnLXa14IJnitHHRNAAAAPQGfLmpG/wA8\n",
              "zr0NPDWQBnRwmHqQZn4gTOH81Sz7dSbGFJgu07BdmQrL1SwXeRjYdjN/J/wBDqwwIuNOJqAAAABv\n",
              "QZszSahBbJlMCFf//jhAAViVAo4wZFQzESC7n9wBBgCql12ycGVk4wUDACLB3q5f3uMnlIsltyjs\n",
              "7fVkVpQQwAY4mpHD5b88VnoTlTCsK3BJ93GkgTz41SOnYo3KErlVNNsv+EaTvrSn51tNQLJBAAAA\n",
              "UkGfUUUVLH8ALEmA6KZF/80AH2JI+bsCjuyRjoLJ5OJqh2QeZutjVAT9bWwwlpU0f4yQcSi9Zjt7\n",
              "GVDr/Re3A2PLuoGYqFnW5GxTs1koWADXZYEAAABFAZ9wdEb/ADt2q9eEsq0iARMG9W5KgxbqYUGL\n",
              "z4T0Cu4fXW0cknyStQGjDiBsMqCuMJzKk/gYURE9uKvfJU12OnFxto2ZAAAARAGfcmpG/wA7U4N1\n",
              "sgEITSHoHOhpVwh8tMBHvugPK6hg7Ll4dlWMY5kuE4ADESV4HMN7HLY31bBhCPftq9AM9Ryer2Ht\n",
              "AAAAcEGbdUmoQWyZTBRML//+jLAAVuzZff3uAfh0WgBqseUFKvGL7TQfGyRoR5bReW7MMBNaWzCp\n",
              "RcaoX26koJjInucf3/n5dLHELqaifZIeUq9R65Ux450hyOV8ElYjcV8R4WwyKrmy46MNcSEnzcQ/\n",
              "Hi4AAAA7AZ+Uakb/AB0Prb1LOBJACHDtHL0eP9vlaZod8OY1NoFraL4EW0PzdsslqI5zI1bt1VTc\n",
              "u3lT+w7IfXAAAAB7QZuZSeEKUmUwIX/+jLAAWTYzmSAAOcBeRVDqZbXD2Fv64cevCFEqAKB7gfeC\n",
              "vxhi2gLUmgDKDbD2Dv45SjwqDkLxjgna9INSL7EEhyYItY9mQfCsJ9yHHIASv62Te7IFaLzUZ0Im\n",
              "BJmjSKVAp64QesCxVh7gGpfmugOBAAAAT0Gft0U0TH8ALhEGEnGug1Wa1Txf7iwfQMiYAWyhbt5Z\n",
              "IdYt4gGqInsCP4DagehGQg3/JKWE9X2F0nqtmLFfXznV7sFlrBliHX/uifrjAQ8AAABHAZ/WdEb/\n",
              "ADnq7TPU/LNGlDAAG/rABSXKiU0b9LBokn6DATwARah5GDiTGSW/7sGcToy28qFznYBbU8n/92wW\n",
              "RZCRYYMkCFgAAAA7AZ/Yakb/ADoO3Toi+A4XqQAJYI84Ce6ChdTdG7xgWZAK9lmMZ53Tq+78RGHo\n",
              "18HfwU/NHdVQTXa2EQ0AAACMQZvdSahBaJlMCFf//jhAAVkBQ7hWdwqgGgAKn5EDcQAppSsKUfBh\n",
              "3pGoui5Sx3aTIkFLZ+gw5Xm2VhAhGQSCqtbJ3fdbTgHLfI+MjSlKzfZyGs5fkZuLp0uG04ojM5qJ\n",
              "vc/qI01d+zYYv2rBSU91FQ4Xa6lKvOiyPoXbia41x5X3sp1Ch++sx432gYEAAAA8QZ/7RREsfwAx\n",
              "ElSUqgSBDKFwsagBbAbDlW+b57Scimtu8jvp/+wv5J7AHKxHDTS4HhZFjW6k1LnARbuvAAAARgGe\n",
              "GnRG/wA56emPSrWRJQkgElNj/Q/p6nPjDSh5ih8p44ORPZOcX39Sv+9sLe4GEM3DRfPPH9pXqZAd\n",
              "X2gqspzMUdA6YsAAAABGAZ4cakb/ADt/WfHRYVSFJAJ9ZXNg1ZZtBOjvw8HmRyv0glqS22EJLMZ8\n",
              "wZVAqqSYqTlTc3H9nEnFuL7OTmOez/pteABKwAAAAH5BmgBJqEFsmUwIX//+jLAAXj3NNlYWT7k1\n",
              "StE19lewUACDduDOL+dZex8cb4p4jnQXHwCzN5SuHCCZeX6ob7XP/SP+yJGTQwA6Nw75lZrK16ES\n",
              "O+Vw5baLGBi/aXhfqyS/TVu0frjM08WdUDLLuvldS++B28xqqHsBprSvmN0AAABOQZ4+RRUsfwAw\n",
              "euU34geNX1X4AKFWF7tzISGajdk1ehotZtMZWPVI1zC8cQAw5W3dXfhyMrulmRWpnio1EjD9gW3D\n",
              "FNQZIW6+ub4ETP4kAAAAQgGeX2pG/wA8z3fx87NWTQVlgDb4lf9W13ZX2BWANYK7nkVjf5pW/O/u\n",
              "olZayIw5C4Lvao3fvz1sMax5sdLq1lGNgAAAAH5BmkRJqEFsmUwIX//+jLAAWRoh74uahlJAUeIA\n",
              "FGpbZQZSX6MicIsDWGb3IAh+34KoS0iSMtSZbvf7qe5eykBvsLrV8DqvWdpW4hzrPP8ZUcieuGm5\n",
              "yC5TTsqxuItGIn0ppzst3luudfu4RTpDkr2q9RpOsBT3G97J/o0F580AAABTQZ5iRRUsfwAxHlYq\n",
              "eBgOXP9mHVAAaMyw3VRJAdRszApokzeKa6Z5+8Lk8jjOTZIYkntGIGe91SRmICIfJJeKndhBb65B\n",
              "aJawES5ruqPXb8tGLcsAAABFAZ6BdEb/ADyq613OiGOvxrgFfDWa24AcJ2aOanMyMXi88BHHxBRt\n",
              "uvi24Qk+XLrOa8C35dP2EPW57D2HTqquLx/OHmGLAAAAQAGeg2pG/wA8z3f3ZAdFDGMrD7Hpif0e\n",
              "N4AIqOxrjZeMPBl8MxM/fGbHkWT5NV/WE2XSr+JCK3+zMDV5919yRH0AAACLQZqISahBbJlMCF//\n",
              "/oywAF2y3RADc0S7Qd+0SOlEanQdCBBliMY0pJN/1VuwQUaNTyxRc0MuqGL22nsOvDOleAc4zCH5\n",
              "Du5s8+P1yHf8eKCkn33sVB5La382j9O3pdBrVTYK2TLUeI5BHSO3T4cflZvVjaAzTv2/tdqPj0Le\n",
              "sGBWcdAywa6ie2sFygAAAEdBnqZFFSx/ADEeOUn+YAWstqRI9kXYlEoe2IhE7EwE7QR0oAFgoeM7\n",
              "emlMPLFTlwZ4yUw35c3uhFDuNcsu3p788F3PyENiwQAAAEcBnsV0Rv8APKrtMVLvFGIeABVP8mrw\n",
              "XX1MIaCQrdIB5PEgcM9m+CYpKW4kMkiD/i+S4VTc3iTF142aDVbTs5sz+NjtNGxm1QAAAEEBnsdq\n",
              "Rv8APM7gD4Ama6DqGtK7nr8bgZV7EfOS9TM1A2ypOXZvTZb4uUye4t98wOrIDiZK8dODCTeoljBB\n",
              "BjxcoQAAAIRBmsxJqEFsmUwIX//+jLAAXj3NNquF0LjPPhJuzYG4ADYul679+pEfm7T6YJOublOw\n",
              "3YiF2xllCRgV0cw99kqFuTBBvD/oIXCjcIHxYojH9oyiQKh5ysDIIw013fnFdA59woc12W45iWpL\n",
              "R+cFbMZID/53eG0wyfZHKyb6M1G+Qqg4XCUAAABOQZ7qRRUsfwAyb5MAmvRagLz1BlwmgnOTzqeu\n",
              "+S2uWOBqCYTlWhwcyDPjtU8DroONvqQlWh0hSqd1ct9BV4Ol81Ccmj/hwY3e3VHxx1iwAAAATAGf\n",
              "CXRG/wA+NdXZgC1Zvr1GIoh3cRFOEFs3U2COPISiGqab47/Ro6Nai2zSnfY0F3Re1CdfM/Dt7Ehx\n",
              "pJKR/VwjOLGY222Goy0QFcAAAAA3AZ8Lakb/AD4UQOYEd98NXbxPDNO31mAaIkl8xAwOzZ55wgKr\n",
              "7zo5MJfFI2GpjHSOpEe0WR0ImQAAAIJBmxBJqEFsmUwIX//+jLAAYL1vN2zgxDdhK0ALXRLqx3Pt\n",
              "kMdB59QsDiCO+lH+GJY9Xc8Qbw68TckcVVyFkBoUmgU6nr3s8zrW0n2RFRf7mmmjuAWkHcK+CcJB\n",
              "GvI/m0ZZv4N2AWO8+oZFhm+5/ktZMTPm/lGMiR1Lh7YWHK4uXtxBAAAAREGfLkUVLH8AMP//ZaRz\n",
              "uryrB4IAcqqOqBfCH2k1ELudtow/SedAv4Eu5W3UadMVqAkg0P+HkNmg5Vb6JDDs/J4wwmzdAAAA\n",
              "SAGfTXRG/wA8qutctG4YoZw8UJABWXQ2B2yi7+clgufkhiuUOMmvPBLRZDAsb8PEg6lXrcs9Zira\n",
              "J3hNNnHzlQxMJ2KyaKyH4AAAAD8Bn09qRv8ANhH78oNJaiaAOYG8Y8Qm0TEDcy0hrLixn2dNKke2\n",
              "wQgA0gjkPtAgEhI4ayIXks+l5lE/gZ6WCCEAAABlQZtUSahBbJlMCF///oywAFlSPM4EFZ53sZb1\n",
              "bl4m6qqnxTRlO1EVP/iUDX9ruradrnJLcj8tSQ/77XygI3PM5M3BZy8KeayMUE9QGoCTPWO0KZ8D\n",
              "GbKfycE8Vg/FuZsByhVphU0AAABKQZ9yRRUsfwArRCQqqiO9k2JeSABDc14CPSpqtgSqHCVGaqXJ\n",
              "tkHoi3nJ246sBSYalkJUmuYI0sSx/qDQJWgNffhnh8KOSYNnKYEAAABSAZ+RdEb/ADoVZQNrjsyg\n",
              "AafZMMSVwp8/FfVCkTFtlzO5dBupaxA2uS8NcwACX74mJcnrwtTnHKtRseD5Cal4c9lIOa8Xm+Sv\n",
              "oIRyk52YtqbPgQAAADgBn5NqRv8AOfQYkT7krSQAWKwKTm53uSJMyLmOfiBWxvwYXWSeQTvtOcSP\n",
              "3VZoVW7HPw8O23BzugAAAGpBm5hJqEFsmUwIX//+jLAAWVXDd1rU2wAslvslGL1mO3NDLneS1YYi\n",
              "Xp5r0RJCGXRYidSKOmAfWAakK0pkkTiBz1024CjEPpiA9JlWkrnxm09BqW5lW4JgT6nSAohHv+Cn\n",
              "pojWJyL7TIdAAAAAPkGftkUVLH8AL9JU8D2jm7bcYABsgENJR9n3imukLpdm4zhvPa61VqPMK5qy\n",
              "lgP0h920bx+bVzLExufMHymBAAAAMwGf1XRG/wAzTp0aD07fVgBFK2WKEOFRAHcPLZGI1LTlPw0N\n",
              "s1IWqG6EON0toVsvF0lAgAAAAEcBn9dqRv8AO27zjNptiCQAbWMyzEZIRCa5QxdtFd/GUWZyd0gC\n",
              "Njo4HdVG3sW7FPaFdAyZodC0ae5rR2jVXO/rxexhmWdyBAAAAHdBm9xJqEFsmUwIX//+jLAAW3GZ\n",
              "AA4s/YB3kDIyp5BrFU6K3lUhsrQ4WFOKdtq98LZutftlGCvo5HgvtSo3uRhHi5byBiljewSBP4LO\n",
              "jP4y+yN7124vrcvkoPyz84tk8Jpz+jW78UlFuLZ9wN/AXK6ngtSah1sRQQAAAFFBn/pFFSx/AC/e\n",
              "NGYDGt/iAAYtlDIJpVN9flWsSTF+j/EJow+M6q38lS09hYoo16FlQJduzVEtUbzPuYr/qPzhHzRU\n",
              "Zkmm0VR1nvqyeLFtb+EAAABEAZ4ZdEb/ADzVYjg0/qoYAzDGXeUW4qCcMYemmXuBgThpOfYMMOba\n",
              "6JO9gaP601W8E3EspLiGts+kPxWjvJKmVplSAMEAAAA0AZ4bakb/ADyywAz/kTe7I24AEjPMT2Yo\n",
              "NBO0YpgH94fvgYYV85eotLOxcH9NvwlaBtKOqAAAAItBmgBJqEFsmUwIX//+jLAAYB2ZAAtllKd3\n",
              "/2ZdPxUyjTmH34njCtDwFHwdvWQPSgC09xgPp8RKLPOsA8+yRgvqZe7ilbRbk02VCBO2/RDbYSL0\n",
              "l2fX9bObHIBegg2nOPSnTCbH0JtHhIlebYAnD+KkYTZR3m37qs3IBHc6vld/IZbnQMJ+9TrXP+NA\n",
              "AAAAQUGePkUVLH8AMRJmogAn/5sOVZD4Mp37M8ewhjl1GYk+e7bA1fX/dtYbm6I3XiBVOnMFcuXZ\n",
              "XC7QU1Nl/SrZZdlBAAAAOQGeXXRG/wA7df4sACfrobN4Lpz1wlRMTMGu90NasI2zCkwkc+RYVbI+\n",
              "IqkttPAapyKFxSYNgEyOYAAAAEMBnl9qRv8APM7C3gAbfAyAssFjokT8fjl4r7hYVU8ChttADaiK\n",
              "v6tulvkfXtV0uEeduzlvX8MfIlTYfXP6+K1IEXSAAAAAfUGaREmoQWyZTAhf//6MsABgvW8wruKA\n",
              "0YKdTMxAQAsf5bzZtm2C5jWkyVk7lzgbsmXy6CUEWOwM4JgO7Eua71PmfbPHvBb3ParDvxpfEU7I\n",
              "2bOvoeUi7EhsZ6jeRwPKDyd9X+tIeb4eVdNwp0TsRqWt9HFMnYCqo34FQt1xAAAASkGeYkUVLH8A\n",
              "MP97L7F4aACxtFlA5vm0AlbnZzsIK3DRkLa9FnvVDYexpe2Qvzd/F7jJ6vUMFFmAhjeyXyfrxV7A\n",
              "uVnq/6T9LDjgAAAAUAGegXRG/wA8qtTojPGiQAWe5LeQqJnST5962A1zWXnV0SAl6JKIInvtDeWs\n",
              "2Gh22DiNcY0590nIihEy67FVQNBRU/l53RCJW8Ow42Aiir+hAAAAOgGeg2pG/wAduLEgBLB4bjEn\n",
              "ACuT55mLsy6+MOZTU6Ja+4YI4a5pSirmqWwQZ3zroHOWoNKj3p5spaEAAAB5QZqISahBbJlMCF//\n",
              "/oywAFlV8EF6N+Y+9j092AEC4kjUwl2ozQ6AC0yqyg45bOBHCARlG83TCo2ra87bEmOAps1kRKSm\n",
              "w8eX2g41rxKzE/TZgjgBLZYPHXf0B7Ok6ktrT4A4HoCA7bSX/qtEcrhqav8dZOaU5y6tYAAAAEBB\n",
              "nqZFFSx/ABifz2AJSkf+MAYOfAGHYny6QfBBuEUJFkj9t+b11/P8nWe5Dz5uPYnfu629giV8e1w7\n",
              "c5AVK7zBAAAARgGexXRG/wAebSpADEHM0ezYziU+wD+9VpHTVjyUjF1twDPxKbZ2yfLCLdz3FuCB\n",
              "s87zyTU424FTX7XUrYvwWNAKqAcQxYAAAABFAZ7Hakb/ADiPCIZjLsYADa38NyAyuCNRAziG1LtW\n",
              "0G5qU+WKsABonWbGrWL18fQjOgmjZZSVh2vjlIKpu4GPm+V92PIrAAAAjUGazEmoQWyZTAhf//6M\n",
              "sABZJ+GNAUJipzEEBdwcp5k2xBpNmHWx+AXS0WTHUpdFajhmao53k8FQad554P6xraZbjESbNLKA\n",
              "XnC7U3SGc/6iJqHCuL3O8asyCjjACHqY9ESdROj+FWOyjzgNzRZAFIMxq+eno4k+xHZt4yhKxpd6\n",
              "ZW5TKa5fjnacH1fGUQAAAEdBnupFFSx/ADESunNJ5R/tJABu75zVvAKO9pG70p5nxEcAWijRBkx6\n",
              "QV6VNfOyKyTdOFVo77IjvSGjDMsk4tnbR3iMnbPj5gAAAEQBnwl0Rv8AOhZGRFQPhJABrOz/xoes\n",
              "m31rK9GG0VOut8klbpHLxXngMPOcF5+QwdVxWjgQJNN1D1RE1vTJfvsMMHiggAAAAEIBnwtqRv8A\n",
              "PM94hEf1bRT/9yAJ4/jXPQN2Yu97KCvTp8aFg1xmLzoTJq+JEuSoazOp+xGJN68FxnGHLkaSRNkW\n",
              "7oEAAACOQZsQSahBbJlMCF///oywAFlVO6VuAaYGLfj2hPkBiYmrt46iKl3YAtIhVcD7gbJn+HSI\n",
              "0y0yuAOkZ+2wi34Lt2pGWfIWCgkGHDAqKk1JOJYit8smKyWv4PXtmAvgsOhKRKt7zydpUnr5356x\n",
              "DLJibDTOmTCkztIaQMmae3Ae3+0EQkmH04fcv6AlzrdRwAAAAEhBny5FFSx/ACqxBeG3U849M2kw\n",
              "A5PeYiouGb38tYu/+tNR7IB5rMHQ5TOqLw4osU7C3D19sJt/F4z3OY+xfrlPy0O4AHJw3/8AAAAx\n",
              "AZ9NdEb/ADt2q9C2sK8RTcACvQBq23VJIAL4k5tFPw8/IMTkRFL82GXbDkXU1iy+OAAAADoBn09q\n",
              "Rv8AO1Qr38fvsAE7KT5QcOrLlKpvQJRah40XaFThT1Qhk6ds1ANl1gY/2qvaoof+8BJueEXBAAAA\n",
              "WEGbVEmoQWyZTAhf//6MsABZJ53H1d7E68I6wgBtrT/k/LSRilr6Jj/HQLDzvRePHiRCupgSTjep\n",
              "20iqvuivSH7oF1PfTP2A7UUWEBI6E5nYIQyF17PQGykAAABFQZ9yRRUsfwArRBSZUfd+HQAsjn5b\n",
              "umjv/2ma6lBaxoteQiC8lKD8yYF679bv+VWUGXcg2BN63I15VXT3aV1xWiq+fcg5AAAAOAGfkXRG\n",
              "/wA19IB62QB7BUj2ad2DcDA+zqirQ/uMG2DihxIOiiHNDhOc9CWZz6BWVWpl8WolDsLvAAAAOwGf\n",
              "k2pG/wA2ElLMiomAE60tZHLaSnPy8GzXk9urrBpEoRvqAsIfUdAfuOgUAY/fv7g1dVNPp2/u6DQg\n",
              "AAAAY0GbmEmoQWyZTAhf//6MsABdst0QBEx6g3R73L4j7U3+PFk9XiI3StNU8vWq9IMesOkKLULv\n",
              "5gL+p5qKc7IHKDd0UYQs57wHrXNNkG8mR1PzwKn+Dm/8h83OcUjtw0ePPdL6ygAAAEdBn7ZFFSx/\n",
              "AC/SVkugA6RfBRJVWhhUYldH4NZUlKIBXoWK38TIBDEcchDyhlcSt3Yc0vW6Ve3jWA9KkHVBi1W8\n",
              "opdKa2gj4QAAAEgBn9V0Rv8AOhh1AB0dc5eaSlu5agHiRTAIrCYmI8iwMWN4/yAoWYlTcDX0Jiku\n",
              "neDZ/chv6bSRHrl7fXh2VsPPAKC36fCsM+AAAABDAZ/Xakb/ADtibZoATVUjztwPT25FZ7ujMGw9\n",
              "2oe8yFUeznIvAwk++z6bF1V8NAEGclVj3OHzKutrESqgjuhZRRRXwAAAAEFBm9lJqEFsmUwI3/pY\n",
              "ACtsTQA1aHajNFCbsP+RFzO1tLxK38V7A7ZMfYhXtfLlaKJhx7upfAXT9WKoXcVTDDj44QAABY9l\n",
              "iIIADf/+9vD+BTY7mNCXEc3onTMfvxW4ujQ3vc4AAAMAADfc5kT+ypMG5sAAAujyRnL8r+YAgY7Y\n",
              "y4xLpwSrUZ91BsfbZKLFjZoWuEID+jQrhysAhePxc7I04dP0cndq2NMAJmPcvAGWHZzOJ1geWXdm\n",
              "7LxYuU6Q2aPhVmWN+iRqaAox05xYgAv9o/UrtIOm3/bAVIhPOI21eYnd9nCLYRMW8L0u982o6hZS\n",
              "j/4W+2hTwu01LQMjp3/Fr8/xscAAoKy1zWW4yESG6WQLkiuqFmav0UyqyQ/8eUvsMiyxzASHWy3Y\n",
              "MS5LBcRRX+en9FM75Qx5V3OR/8ndPuv6FhpQwYEQwu+HiMHd5Pbd537Px8n/dLy99OC4CCyPlXei\n",
              "4YnvkTXPidOyWjVh9/R6TBjWwIVxmvObhyJi+HI9kwhPE0MGfjKqJQEWrld4GwEiJNMzbQ3hQWcJ\n",
              "6ukuxoiW5PxFXblj4Y7KOXy7egGEUoybCQzwc1za47/phg4+I9KGP80xzL48S+NPIwbe7NY3miAO\n",
              "vP7yXX6agbvQTtvvvVFKogFjgyBKITQqZuNICTWixRQVAMnFd6Z/DrZ1QgcRzKb52TN5uotsWGeT\n",
              "XMwCBTLMnmLStRJzqQsk88QaGzwbLhniFPTkRt4oDW0PpHPZv8zsmmy+jf/K4lqgelXJvG5KBxrw\n",
              "AiUYMPiwMpUzT702EYTEm2Yymz1VIuhiTl/l0Ty6I3d4qGDco3usq+4txJxR+39L8vMVmFw9A55P\n",
              "SmrSpUPka7p/TU7FUExe6UQHfICqHibbRPKNSzlQ9C6SrTbq+YE3MFtjOgpGoZCFkulPJleq/r/T\n",
              "OUyoIAhxhzTJO4B5EgC/A1tU9+Fgv10JoXEf0hDLQYh2zTVW9k62AaWUZMaGouHBdOhERZrm1q7z\n",
              "XUBRg1ZssCmM+STqXAXLraosxSRUIQdyPyUJ4ED4G6u2+ilZQYld0qr8vdI3Ye4g0SjfEetDHlYQ\n",
              "Ejj74TEc1n3uJtWOKQ231GhuOq1HHASrrni5oGfsfVZ7krQ4Tf+SlfeCpcp4G3K64wEHrNADj3nI\n",
              "/gKROekoogqj2868XemHkjUXWo40Et2r+g5h9IYK48DbIn2b3/wELe6ymEDsaMNMQjD5gxvHK1Jw\n",
              "vdsZA8lJjifwOZtppPXHObTBkvi6Lc+9tRvoXyymdsqEfC+ILXnSCjKcCkIspLc0/JMPiHXdnqHi\n",
              "fwcEwjXplwLIxZrEFjOPz45o7iPNjXfjSkVYhx6/eXDBMXZaGFgoAnkLs/hloKQfUURVyCVb+d0w\n",
              "7B2NMwfPXQhU6lMCq0p8jmHlMklmXvGBooQUaFPjw17SnVMzWA2wyH0mBgc7muUyHDX8wT2vVZiK\n",
              "mht6HDQxlLMj5KKDh6z3tUW6eisyX79rjDFl59nN7+rv1NLdUaGW6P95dfkDnYSO1cuJusQMGnl8\n",
              "Fvf2lwEF11bg1DJjQzKsQ93tj+NLOfBHrKMvu32JNufvOfoWXfy4inawcEehYrsVDSu5a786VFVg\n",
              "6sX6QFnBygyk2Mim8gon9L0f2Cy1h4B9ddNv0iWjptVUAveAonU5Me/8GltASIxZJCts88+Lx0MZ\n",
              "CMxtbNsC01xcwBlLifQohWmkaIUUXGY1C9Yr2Aq8DzXfq+iysxYcoxdaTAxuIBD0w7xjDblKCM7Z\n",
              "TEQ/Cwlpt7kGCwUvBLlLgp3TUqroD05eppq3WZpmBe/UNc+agw0LvVRiNaXzyLbepAuI03XjJND8\n",
              "6q1L8F/1B1UQddjo0yOPIxpTs5n4Jra7G7ZD5gKTe5EVLVGtaD2seJlVWS3kcdmDd+9n0SqY7INd\n",
              "QBrEqVTgsfG6KQCZn+P3BIxNL6emAnrgOpT4B0H9o5QKdbwC59teyIRdzrzuEu8wqkAAABKxAAAA\n",
              "iEGaJGxCv/44QAF19rZavq4qOYeADiz1t0NVaXRPi0rT/4/jD3MbWx0XWjmLjN8HlslIcDaML3bg\n",
              "ANTKija8uonIu1r28BXYHYIrb2E38sTcPC7ivExfFDG/YXWJ5ZBV9MWG3FdjiPh6LACBZCQpFZRH\n",
              "MbqPlGH/V+Lbv4HFK6VftnigB2feWq8AAABLQZ5CeI//ADEC8CAUcSSNCKnmCRqSLpmX7OwlDO6A\n",
              "RR47Qt/G4y8GbzCGJzIKG7Zvoe5Z4QQ5O8sAKwfvseGBk2FhB52SCrqBNX/AAAAAPAGeYXRG/wA8\n",
              "wj9AFGrn+JH+Je48MLEInk7DH9BrZOEaBZVAnVFwjJMSxebOJ57M+yjtvcznWVWysqBuQAAAAEUB\n",
              "nmNqRv8APLRdAgAHR2NC7Y80pbEjfDlDXLioZyh8x+9VVAWYRSS6EpDzmrk6xgS/kosrkV9w3rv+\n",
              "IAzMkOPWH+j7AP8AAABdQZpnSahBaJlMCF///oywAGC1p8EnP0ALXQoX7/HD+YkVEinZYOYOIcjC\n",
              "xWQhTa/G9Onv42rqCdgzvtu/QpMXB4MADbvDzyLbeo55bV0ULD5a0wHf7uHJVby5dVdcAAAAUUGe\n",
              "hUURLH8AMRJFaYAX4Qn/db8vYezT3JP3RQSljYZPaBLvH581C8Jj0dTQLweUh1kyzZStPw2abeCk\n",
              "PeNHbazdF3thaiW2whnXfFG6ShAu4AAAAEcBnqZqRv8APM8BFgAUFNBYBQpZSvjYeNZZgeTYv+TL\n",
              "pYQ3g55XUUVy2p7SWcA37kV+OyInKwHLQHsywRUTS9Gig659BH4i5wAAAHtBmqtJqEFsmUwIX//+\n",
              "jLAAYL1tAfu8i5obXM6m5JtACKnQQHSCgY8bT/miAISm7Zpgg9fENfAv7bvhEwsujnX82FJwx6b1\n",
              "oGkrdlsm6oNR1EfMpP+vFVp/U2dYQqOqeo3t7OoqCZuPN6Q5DDSXrxKJ6oaSDEbgAEEsBYAAAABK\n",
              "QZ7JRRUsfwAw/xQAb4AR2aTVjJAINZW1szA7B+3Y/GFDyx//3AuXHg1D89rzC2U5uU86TXCgimUH\n",
              "yBONcv5WDAvpfB1sIHQYyNsAAABAAZ7odEb/ADys+kAUafEzAWgIZPR7ZGm9Oar+avb5I0FmaKd8\n",
              "XrE/HDDOHvjLdQGzTPubnnrAv5Fgp+j05NYdcQAAADkBnupqRv8AO27C3gAT9dZmNqmrt30jAY+W\n",
              "yvYPV19RTiWzzjn8C35F9lcj9yiVtFiZ9w6kP1namPAAAAB5QZrvSahBbJlMCF///oywAF49y5Ey\n",
              "AFosl5Z+1j/ELfGsixEaGoBXuLJw7GfNdkerWTqqTY3tvGKZkncIv0TwsiR8TSwjWDvbKqZ/k81T\n",
              "TMxxF5KR+lAwDO1qJq/5v+ITf2w7gDK3DG3pKnrJ4bsUbJsoBBPvuxhcoQAAAEFBnw1FFSx/ADEv\n",
              "kwDV7Vr8sz93PX7akTqG/Nqs5jqmUqqFui367oVNZvQ6DLGnMmmLgnO7PeuilI2GYNnzzctC4AAA\n",
              "AD0Bnyx0Rv8APNWUdmALVsbLufwXYBBLoGTHa+kH6cVhikmFYwB6Xo+ysbOQX5kuMPiZjMFbkUDF\n",
              "KyuaLe25AAAAPwGfLmpG/wA8snXAYANXnzdGw2+NwYvjtGmXvWkasNbUoD/j0jtGtVbqOho6eRwH\n",
              "LjVXq8kbJ1uWZyVz06JB6QAAAIVBmzNJqEFsmUwIX//+jLAAW/mXHuMykgDmCjdcf9k5vHP896uK\n",
              "32OSFVqFCXYZcpUTCDHLwXy3S5NrE6PRxxoJiiiwUyscbPmNSRwEE3BuZIYGY1kl1huylVCGYhU5\n",
              "kHxikrJ9wk5myX+mQxnajHLL6Rf/O9itFU9fKwdSZTM9Kp2k4loBAAAAR0GfUUUVLH8AL9JDqpLH\n",
              "YAtIEg7/cpkMtL5haqyB8AbMmzqCiOYwNsTiHfyymHRCXUVLmaglh9GqlnYfGEmm8RWY/TkhE8lA\n",
              "AAAAPgGfcHRG/wA7dZLfsk0GANntW/fJS41XdsqEtIY1sF8K9dfWrkCa9nzREZq+L+qwiXyol76p\n",
              "nuzU2ZykCktxAAAAOgGfcmpG/wA7f4CJL71udAAr9Mmj2DAQfTK1tfxDaImRIkO/XShieeHAglXU\n",
              "LWecVYj0h4XdHHv+PSAAAABsQZt3SahBbJlMCF///oywAFkuhfuAM7Zn8MTdAt5t03nnb6WueV8b\n",
              "BNaTF1uiS7xhydyaMjqa/HDu3V5HFVgGUf/IJYSMM/gEzJBWQ6Zo7xL1iKjedzQJbfdfu4wRc8H1\n",
              "hZgtiKuFT958rvRNAAAAUEGflUUVLH8AK1bigB0i9Ihrqjj1pTozLr0xiaJqDK+uRpQrCF+GlhGb\n",
              "18A0QWWmHpPAa/vqOfvGPPlbA/BRa9/xVSiO6l0LpV1ObuNUzBImAAAAQQGftHRG/wA3WY0ADdc3\n",
              "H8eG93d3fgYEk95U4hLDusopg0eA+4IsHhX81c/iZap1+O7hEMHB21xNUl+dU6dU1NHxAAAATgGf\n",
              "tmpG/wA7UoFgANvnzdGvUKsEWrV3BbkRiOVEnqbCHs0qlCHgOH16Bl+yKfDhEjCISyhMXcCxIrJ6\n",
              "NRlm74A/zmRXfK3BO19OvtESQQAAAHxBm7tJqEFsmUwIX//+jLAAW3LdEA1K1Bou2cG/PcG7x7g1\n",
              "qoyDCqt4WrKETS3mYz9Rzz6l/b5O9r9WXHZ86SQzy8wphgP5+C7uoReKWu+A6K714kLRh3dROoA/\n",
              "Z+u/xaGf5Abg1g4RmTIprVspfgZE4JD+D0PmNWIWBgWBAAAAL0Gf2UUVLH8AMRK6x7JYYAD9zQYC\n",
              "DjtZyXNOaC5qkbMI0a4ZMsKq63dIX0PQ6wyhAAAANgGf+HRG/wA4fMoH5wYI5Em2zAA2RpKHCFpu\n",
              "mSZBigNbdtuV5jvL7OrAkVwYZ8L9xelTRu42qAAAADYBn/pqRv8APM94h98AOTZBxvkDv5N+Z3TH\n",
              "BGT1Yj1VDmmgXhJ1aFC1jgfXT9FTtsNCYgvMhBwAAAB+QZv/SahBbJlMCF///oywAFuDhI0A1fUo\n",
              "TIC22jvtt8trkn/4y9a9NDhMM6LaVnXhnn3p5uxrs1MPM5rcSE/TETgHfN1LuH1I5UzpS4E+2Hc8\n",
              "PKTz6FL+YYYhJUGzynuIrHCOCcfBCc4uV6Xb+RMsbXwfsb3upzlN+Nw79luBAAAAQEGeHUUVLH8A\n",
              "MR5U4N7XrqAKX6qE2gL9RecsZsaM8lG4GwRgQb6E8BgFL3ndIs3mbtl0NcOKiejgnzC2MDK9j4AA\n",
              "AAAsAZ48dEb/ADyq614nbAAXPZhL82rEdFOsi8m8ygN2pl4fAd3rQQdbmfLII2gAAAA3AZ4+akb/\n",
              "ADzOvLX4AFhVLRM8vlbjIQl0j/D1/z78GVLZXtnN76iEoqoRkY0fYm5yh02k4r7pAwAAAIlBmiNJ\n",
              "qEFsmUwIX//+jLAAW2wbSsX59wAdGhGtQjLYEPVJf1OfxN7OrLeYZHWTm0PSD8TL9zWJOr0ShNeG\n",
              "OB/c4/TkZ45PJ+ja+cWXfQpUUrVraE3lAM4VAKIou2m/lhuGU7+4YPblb8ctg0TEQJjq7554Idth\n",
              "J2kLwghanWJ4Bb1hfcgCwoBCSQAAADpBnkFFFSx/ADEeVODezAXaveEkSAM8IeGnrHgsZC6bJX8x\n",
              "71yIZZZTJfOQDMhU0q6GeqtRp85+OZTBAAAAQAGeYHRG/wA8quteJ9MACvVHeo8a9Pe0N0SPJUaR\n",
              "kWg7yeAEC/RasBHHFLydUya50Y46ETW+L1heWVGxqC/1kgQAAABMAZ5iakb/ADzPeAEPABYVStt7\n",
              "Cd+93kxOOIMGR9xYgXpiC52DGwSuGfuSXCcfP/QiIYFNT8KSQ8G3/MsKMtzEi4SYgaS1ttsenDNE\n",
              "eQAAAHFBmmdJqEFsmUwIX//+jLAAW/3MKPGxnRAGjS1cfEc3VkQT1NXi6AtsaapQwXA4+CDQYbvA\n",
              "t8yIEjt/43yLsi6dhmdRJ/1wTF244+dot4DI9Y6tTlBXDNXLLvHuOaTEDAjG+toP3xuLPXIgddSB\n",
              "lgag7wAAADpBnoVFFSx/ADEeVelO+vDabWHokHmWIpPcsjgGWd4mNSXur1Tou7QEl235ppyzghQ2\n",
              "sFO5uCLibwP8AAAAQQGepHRG/wA8qkagAKRBq21ewJHwXn5K+kUw94Q+7L2lRDTjkJib9PRP39Rq\n",
              "qCM4V0cWoBPVBY4PVd9Fd78qWrtAAAAANwGepmpG/wA8zr4fr1wAFzz/j1O/1M4lhnCt021EXJ3b\n",
              "5ceuRZlL8XICi4tEJFNl6Je0x5/drtEAAAB5QZqrSahBbJlMCF///oywAGC9bN1UgBxvGMT1BiCw\n",
              "L0YwLwMxaGFxys6XCvBCLKN9yfkxur4TXblHe3I6kAU90XvE5xTju5cmiS2M1wHwK72DjOHn17TQ\n",
              "y2K7ikvO9teL0mri5ifDN7/P6xzkWT0OvUqL3gX3G3byGAAAAC5BnslFFSx/ADD/BgG+AEdmdZiy\n",
              "9Ud6xIm9DZSQumvRfU7fpGn6axgxs79FoZ1VAAAAOwGe6HRG/wA8qu0jnWAAlfGRiLCyY8CJahyA\n",
              "/zkWH/o/X75uwac4+mCkHK8+UqRqNx2NtmMZjYZXW3CBAAAAPAGe6mpG/wA7bsLeABQVItAvZqHm\n",
              "ntHthiheBx3EuqqZtpbsLqS17rVTiJN+XEN12BBzvlLfxF38M5/VYAAAAHVBmu9JqEFsmUwIX//+\n",
              "jLAAXayzT4fvJm+OkUATe+qwEhrMNw+GH1i40CrnCRtxxmARRvEDPByPXQj2P/MfL8Aua//XUbO6\n",
              "+u2sfJl7u7PWbv2BVbQRkR0gCZlFZi6WmuW/+uIKvZ2yhTDkWtf3jtQCvlWSkMEAAABHQZ8NRRUs\n",
              "fwAv3r2wAtDT9+1YlKUFTaOTGEMKhal125qGhVb0wwo1DGjjuIIqWgbU66IcZw/WS1cHheHRvzS2\n",
              "XrtKaHQCMoAAAAA/AZ8sdEb/ADzUOBiAaPoqI+Qt9/zG7mGh8xHftBlC9LzWb+8qwCjrF2GRnap+\n",
              "17f86P76Y1cKJndgKeYxYA2BAAAARgGfLmpG/wA8sNC65kQR7iZABeP6LoGiJNTkxAufzxerA/xY\n",
              "ObGlkmguTFwnMFnAgJ4gO2P7GYJGkRnz9k/nM+KDX1BAHHEAAABpQZszSahBbJlMCF///oywAF49\n",
              "y4EcCEf2dKVd+Tx1ngAPhFF3nEAMMHVZkX3IsXxS+ws2Ic+x3rsn7s/AlwSDTGTZVnZw1/vJVxKv\n",
              "lI8D53EmQvB/gabhspBh0spN2jgEWM2FWgQe8wCNAAAAQEGfUUUVLH8AMS+TANXoMzIVDEu7SXwP\n",
              "Jow9zdc8E1NsJ2pVCdls4/eWJ3eNGiy1aQbzn5iqXLxxcX0v8ERRQuIAAABGAZ9wdEb/ADzV/TwA\n",
              "JRe6wh9Rx9f96qwQ5FO4ucI4WlpmEcEpxJslWW4S9bhhVImfLLgBciC6dX2KhHFuj1tzrtUwWzmh\n",
              "3QAAADsBn3JqRv8APPI0AUCgMg8kKK8w25L24+uXeWdWeq+4mQBkkk9id0BSL0cXFX3ZHqhZQW+2\n",
              "h/rJxWL2wAAAAGNBm3dJqEFsmUwIX//+jLAAW/3Lmpf2p5A/SAAGwxpX+iM4Bu0yAM3Hg9+5hwRE\n",
              "8+4RQt4sJ5b4fwfXOOAhtVBCLrzFtYwcBNhQHIZbUhvK9SO/u8/MJEHxeg+Ai3rzJwVEsycAAABD\n",
              "QZ+VRRUsfwAv9HQAGWkiHZmwAa5cdK3FubaKTcjLcZ04jJ8tigs0r3fyXOUff2aIBj7x/yimg7EO\n",
              "DbdRL9Po37kEHAAAADABn7R0Rv8APNXTgABP1429K5TmfZJ5zRPi66prMpKNRu7ySnag5f9HPz81\n",
              "ruBb+WEAAABBAZ+2akb/ADtUKfNOABVKoFC9Oxv7QgIn+H37b7rgxWoMXrPf/dD9/A0nIjGL5WEB\n",
              "CsG9zdRTQr0Sd4woMK44Rj8AAACFQZu7SahBbJlMCF///oywAF2xmQAOPTjVYMPDriACi+1JAx2a\n",
              "B8IhJ/EeTzWnm96l9X+6/+FyTBhl5MRNc4ZirxJhF6uYsK6r4U1Hxr4Jycg2/OXgOBMe4rGmwIKs\n",
              "0QTGOK3RuVSEcendkys8nxBVzRI7blLMXGCVz+rl4N/copuspN3RKQAAAEFBn9lFFSx/AC/SRWmA\n",
              "EdmjKTIjneDifxCEEKCDQCMwRIxa07I1nbRflWn7pIniSxvnFORi6/Q+wGNP9kAYeT9GrQAAAD4B\n",
              "n/h0Rv8AOhX+LAAJ0XRukamdR4r0BxSzyHuKYtL39adM18Ll8QiyTWkmtNKM3KaxH+3jvk0f++of\n",
              "cSTOXAAAAEMBn/pqRv8AO39INmAIMm2aa24LBR1gRtjxK47XrAHM68oCgMlEjaIsY/e1E2wpyYiL\n",
              "42O0qjwxNgEPNXXmSKVEVUALAAAAZUGb/0moQWyZTAhf//6MsABdq3FyPsYJQgCCVyvNl8K5Mcch\n",
              "ELufUdLNkPL1ose0tTA8Am7SO8GabkaT7e/jcxhaiEmwWxPSU4J9d8E4K0dkYcZbKZEIdqoZhXul\n",
              "dDTrDRQapJtlAAAATUGeHUUVLH8AMS+TANXtWvyzx9vDT9PIPPq+jubojyKEBcCdcMZ/95vRQicK\n",
              "8wZplfE86NtYvQM3B7fTWt5TpTg9FwFTP6MThK1pzPlgAAAAQAGePHRG/wA81WneABt2HACrlf5L\n",
              "sZm65H44HBZhh/BP2yI/drAG9fqBwk1ShPccljLwhCaYW/B8WqDJvzOrS3wAAAA4AZ4+akb/ADyw\n",
              "0MbAmAF49x8MzFh/QpKCZnghxigd+RXgigRqJi0h7ZNMvkU0SI7Xd7TWTcTRx4EAAABpQZojSahB\n",
              "bJlMCF///oywAF3C0WW1s6JgEAVXjqXVYa5g7tOaashgu+g/CUShOlbItfv1+48kvDM7dou29cAV\n",
              "RqjzRGUMwrNdZF8RcXUK8IWOKhX9+e8ZAda+0GlyXvnNnEPCKzJGV/mNAAAAREGeQUUVLH8AL969\n",
              "sALSBDRRO4DliZgwDqpbwp+gQqcbFPn6LJbNLvAC/9BAIKKvs3qhEHAMXIS7BqZaju9B7GI8FO1B\n",
              "AAAAUAGeYHRG/wA81DgYgGj6LNok66InIt2/epRwMZTBYNTWXlKcmAnCRytTWDZcQq1CfZlFTUg4\n",
              "FICWXgfEdpOMvQgvqpMV2G8VsymRLHIDFO8gAAAAQwGeYmpG/wA8sNDGwJgBav1+PmzIs8W72hW5\n",
              "he+yTAgse/Hq12EyLbupzgGLKXe/HHXARDay/vS8ts+fIzLNqgnaJYAAAAB5QZpnSahBbJlMCF//\n",
              "/oywAF49y/e2JM5EQgCoq700t9p5Ky63QJ1p7GBn6MLsJdMg0Gc0gBBOCqbVCCqI5M1V5kUIFsli\n",
              "z1RK1HpLmwz7iPyz226oSULuSVqwCD9iN27XhtNdaGumFDR3LySDu6bJx+w6qRJr+QtciwAAAEFB\n",
              "noVFFSx/ADEvkwCS023BtOo174rD1fsB4XQDJXtdkdv0PDltohdfhhjNu5ymwyo0n24xBxQJPBhf\n",
              "w4+mTaU8YAAAAD4BnqR0Rv8APNVp3gASe5qu2WYrF3Cj3R0tBPnW7vfDEXgqlsRutVgTRhiS1N+S\n",
              "UAhogHQ64UwAkRtni6GW0AAAADcBnqZqRv8APlI0ATsFtKOk87Ulbz8tVf/e8OCOYBtN276jOUyS\n",
              "9bVWUVvPx38+bdWc2lm3ZIpXAAAAcUGaq0moQWyZTAhf//6MsABgHZkACz4gtt7Rq4TKFBlG1iam\n",
              "kNqSCpVlifyigb1wYsJRg5F/bxKQylOYPdqBrxAHnyWOjiNkfD8TEWrnvQZ7NSCEze3hWvNyKvvG\n",
              "FonqZgjjLRT7n6O28fH6fKlhjGiTAAAAQEGeyUUVLH8AMRJarQVUsgJCcAC/1oDNPrg5t6pg/fbz\n",
              "kFcyAd+v5zuUDLeqToGL0pD/4UnZMvpELNdkBBvTEcEAAAA3AZ7odEb/ADt1Vk67RhgAX1NJAVMm\n",
              "HCzZgFzUboRePNym4V6+DcO/FvB1BdMnKDUwqNf4Em8xYQAAAD0BnupqRv8APM7C3gAa4s5o4v62\n",
              "mh5+EzP9oU8cPR6dYCSAmV5cgc3UlwQ37a6y/bmIVE79QeJyj4nP+wuAAAAAWkGa70moQWyZTAhf\n",
              "//6MsABgK5hEAQi39rpL72ZdDHQsvimHgfRnMelIfd94HAuqTRylNxrx6DfIoCfSbE4tkTWNWZAN\n",
              "hjkzQWf5Veg2iIurzxlfdO1DDk0ZuQAAAEtBnw1FFSx/ADJSX3jxAAG8UPDU7p0eOwgAcDeaJ7Rq\n",
              "wZAYEVpSVmO02BHTLtm6PIPoFe1H56sKzvQ3rCuMtY3SCODozxpu3ARYhIAAAABOAZ8sdEb/ADwg\n",
              "8Ek/AJA39GpF+0nL6x541nd3WBMYX+OmxsCluZpRsudHD+D/X3ZhmHQtgZIE3yR4ch7nd8pfIkjC\n",
              "3wekGWxoQoj+zwRxAAAANgGfLmpG/wA+LwBqgDMcufWstVefingnLwsIopuzFjyELA30QZENmYN2\n",
              "cmOiujuu17lR72BvwQAAAH9BmzNJqEFsmUwIX//+jLAAYL1vNzt+Tw2eiAHB4UdXzX3sy6MXZzo4\n",
              "sTi9HID3KKKvFbnXs74qvAidPrt5wBBe5KlEq6eR9KdEsuek/FVmIi9wHEf5PdTKTYOKkmwfTr/S\n",
              "U9lUmKz6AJL9xuEsS4KqEO0KvPz1zlxiFKYEYsI4AAAASUGfUUUVLH8AMP/33EYNOUAJaFsOVb0I\n",
              "GrHt9WmWms4sgvr79OTpyAKQcrqNby/DFWaVvkOw8Y9HFmc2PcvZabs3BUsE+Lc2Z4MAAAA1AZ9w\n",
              "dEb/ADzBy/jtf2GwBVB+YBzl2mHXNQZ3KhUGGW2t8eTzOKoleuE1rQ29lCPr1zcFTA0AAABCAZ9y\n",
              "akb/ADy0WLUFvgBVSQccJxqREw3w93MyQoIYDBubfFTdROrjMiojKAq48Ru57k67juNEHy1HyDCo\n",
              "ebW1Q/PwAAAAWkGbd0moQWyZTAhf//6MsABgHt0QBExqvkH11eT0DyDowuc9IBubZv8yKdKqjYKT\n",
              "Onj4nZGRX+80Lmm5783onfVtOzcC/PPSwZZIXebf/BR24TQQHNTgbFKtTQAAAERBn5VFFSx/ADES\n",
              "Z+pADmF79mJTbB3XpXOhT1SPtfuYe0L0bDHL5qPYioEmY0rxeepaPyOPLId2npB5K8Fm9p3VVzvE\n",
              "OAAAAEQBn7R0Rv8APNX81QBQRfYD0WIePUf3ypnZPCe1xbfy75UiiFW3IQ5Mm1RLfS6MmYM0UC3s\n",
              "Av0ueH+eB42dA7Hd+nhTgQAAAEUBn7ZqRv8APPTEANXpgL+61dwHHLeCZk5HDEZO68lthbWEuAHi\n",
              "hc/DSoPVdR101WrJsFAr4o5M3u3PjD4QY0n0Mw2jFdMAAABZQZu7SahBbJlMCF///oywAGArQrAD\n",
              "a0hHFh99209PTJZyXKmH9tPKa9bAdb5/5fAhYjmGoxXpLS2L0X0V7uUBPoproXNFfDEOQtSweKGW\n",
              "3wuv+BTdidalcuEAAAA9QZ/ZRRUsfwAxGIpqwAtVbyL1T3RV2O7TqCJUzuDfDhMWu1u+RM9ugEx3\n",
              "V3AAJbHO7eYfX2GvTjsqd9s+QQAAADUBn/h0Rv8APKooYTcADZQvr21PxfeC31pR87JX8wVOWAkX\n",
              "lFiE2EMcSJmilEU2ReYHjGaH4AAAAEQBn/pqRv8APM7C3gAZQ5APHTi0M53bQVg/cIylvcZfIdTA\n",
              "45rQ8HY9Km6gmkcMfYW57U5SDWlEyt2kXzMYvvowhqg78AAAAF5Bm/9JqEFsmUwIX//+jLAAYL1v\n",
              "NbvCYAcWhF0ghthrY4bKdDFRbvLdopx9olm2Gwq5Dgl3atIQ8bB0qyhiS41X9oGNm5VBiJZjoxyY\n",
              "URyl3X3M9YNx5atn7aphtrLhAAAAU0GeHUUVLH8AMP/4ViBTE/QBGn0pKHECB+OJa/LXPK2yIQmZ\n",
              "a+UEMa7VIJKOCKYqqLMc/UwQy+KmNgVX0Gko4pB5wI27oBLhLhf9rH6tIoLS1psoAAAAPAGePHRG\n",
              "/wA8wdQk5q9ZAByag+oOODwzMS0n5noAekTujcHc9uM8FQolX+PPDMtYWMVRbGYVvfh+KKANQgAA\n",
              "AEcBnj5qRv8APLRKrkgCwpMP6LtIONiHL4T6rj6+6GUCmzI8sj45FlvUpnn20QuVaZv6mbZoM0l8\n",
              "4eok4w0QO5dchNdGdHzrwwAAAGVBmiNJqEFsmUwIX//+jLAAXbGZAAepQFzkB2E9ipiLYo+Hvft8\n",
              "JOOAKVghNXwa/+KK6x043XJESi74xiBH0a5eOi3JCYLYxiYiu+qhHMUZSLVA+U0DU690TILeEhmw\n",
              "K7ZJzPVkgQAAAFNBnkFFFSx/AC/TwFAE/Zf3sa3iy1RWStcJV8qUKJISnOO7Be1FPUKV/He6gB1d\n",
              "RGv69GuSw9hCeDk6zjNohUWpuN2/aVWC6dDg38sRqmtNL4+WwQAAADgBnmB0Rv8APNXTgABP1hrS\n",
              "FvQoZoyZBuiRlTzh79QYcnm83+Jhc8GyF6dADyhIr0nyR69UXvwG9AAAAEIBnmJqRv8AO39INmAF\n",
              "pQHTye+6FiOY95L80z1o+PCooHaa8lXmVgtg1KvTr09/azG5EXEoZNRXMFo6zV2dAHEQ0nAAAABu\n",
              "QZpnSahBbJlMCF///oywAF49y5O6YAhw1x7++/4zWdVnBSbQjn9i7HkjrKwBwrlGOAc9nggyM2Sy\n",
              "xAS9VE/LvYtKS0LqJ+I5QVt+HRipUqPv6lQIANXmhqUEocFxQfjjBQRwLEo4hSWKmV0RI8EAAABH\n",
              "QZ6FRRUsfwAxNECAJ1dYt4pfSCusI3gbrDRF3QFbNHeRaIIghUXqfmIYZbZFi/xXR2j2Ajoo5fyo\n",
              "Q7FoWIVrNdmp1nMbd+AAAABBAZ6kdEb/ADzVad4AEsJRDQLfOZUkm9pFHIkv5bPOVBTaHFUhyDCp\n",
              "uOxgyCFcpiSNN/MW2DmTnP1/v33MFVE2+6wAAABBAZ6makb/AD5SNADPHgA8TrxaKMWG7enWp35O\n",
              "7t/6zNWQBTxrXtth/DI47iho+G73uolPMmDJFo4pdqQHhYVAO20AAAByQZqrSahBbJlMCF///oyw\n",
              "AGKdmQALN24ekfnqb37LA0E9mhf1Hn4q8Mu+eZCPtCgxzo8ePSGIQgsu5AMdiwvODMdxKOqYPMeA\n",
              "R6V23o2MOo5bOAASmTjzQOsMP+HlNcx4nZCKxx1Maj8vx7yjlO9nLreBAAAATkGeyUUVLH8AMlK7\n",
              "TqQA2fZU5e86GwX3TGzJ6nkek1DtBcE+dF5Q3a/vTIzHdtC6zc1qiywOBDtW4UAkiR1hOCtia2VT\n",
              "PaojJqjroiW6qQAAAEgBnuh0Rv8AO3h1ABrx0sS9m8+oUBYcAZ43qn/6WUa+Goe9y6VwZOFhnSB3\n",
              "Io/PVJ6/TBZegUjr8tT92rjgrnXBj/nVyTGe9IEAAABEAZ7qakb/AD4vARYAGtgeyfGrh7t9EU1y\n",
              "H3jnMSf73hH6SahIU1Isd1ZEiGQQ+53cC/jy+AXFPFIZr2gy+c8sxIOHgkAAAACAQZrvSahBbJlM\n",
              "CF///oywAGM9bzHysMKn3D3QBDpC2CSjU1zRY0NOcFdjJTqSZNiCSMM7E5mRUd2xKCnH0d2JjA5q\n",
              "J5rK1wHZ2tFp9DBuuCMfhWDOrM58HmwRRfR4AGDuh4M+0AvM3qgFbzIpdq9ECD/vJfesLlkL0a1V\n",
              "h/ZkhsEAAABPQZ8NRRUsfwAyQAJYcAOkVBlt/1OoOr5tc3ZHZ71BOLsKvgIrP3JrbeKXhbgQ+gek\n",
              "+oqZi1OwngqyFUGypeqI+Ng9nM8kW2EfVBI8yHIZwgAAAD4Bnyx0Rv8APgrtIf2YAIQqV36DLr++\n",
              "7JNSqA1c5PgcMaodeCCq+ZADL3adaKGv0C0AN3sPVN/D37cyRhgnaQAAAFEBny5qRv8AOrnEADX9\n",
              "FRHyFvuRT8K72GRDecvUvSM30QkhyaJ45kFK0dWWJ6LXGIYqs+uRp9krwm2kmpSKblqzftKy6ODL\n",
              "Tn6oTOumghG/pMEAAACKQZszSahBbJlMCF///oywAF2y3RADdeNPyX3cT3p1/4b+lyaaHAmZBCFh\n",
              "MpPYoSjWN8+11oE4qqs7kZnbcOaRx3vUZqFATZZoOvrqhhOXBzTbd+ODuusnKvyS8ELvfB8BJpL9\n",
              "8fBtjgNnqA2GVeqXF1EacK/RcTQ5M7jq4bI1sXsSeKsuzuh91EyWAAAANUGfUUUVLH8AL9JMjdlc\n",
              "P7lI+WAAmD7wlbZi2fbiOZUcH7An78BCWRPOS4FnJWS6kDPh4Ay4AAAAOwGfcHRG/wA7dFvoIrKV\n",
              "FABuwQ9f5vrHvJhDsXbHgs/dWqRoGkrlcrGZwwfeVAHq310D2Meq0wkN86HxAAAARgGfcmpG/wA7\n",
              "lMQAmoq72ypuegmCKuF6DD/yXFVYCUWN48GFxW0vjHTIj//v4BGAdLbo/SVbLA7elTuCGIznhPzQ\n",
              "5+qcs2gAAACEQZt3SahBbJlMCF///oywAF49zF2Xwpi5vEolGAEVlaWxUIEaIh+O6tULxvLePs61\n",
              "rZM4elI+8Z3/Zns7/jlVBHIW6lxg0qZ89rW23Rt8nRTZdLFv0WWPB1qm8TCEbR+6k/ZlSfiAhRfo\n",
              "LdHjCuF3T2i4GGfzhkCL1l/kwAMJXuXVNREZAAAAUkGflUUVLH8AWLNsRHnHkm4gABBoSPSEAprn\n",
              "PA0kgY6QTuidnHh56CUkPyl9Xbh33d9ZxXsYwMr1TwpyAtfcKQUgWYR7/EZPLT0+zbItfS/+4SwA\n",
              "AAA/AZ+0dEb/AG6viCV8A/tdNN4GfPqhxKayFzTQL6z/IyIh42xgbzOqynFjapVGocNXjyApXzwR\n",
              "kjPU66KKpDrLAAAAQQGftmpG/wBuv6MJXwChZ/YiEt+O3tbEV7xtWxzqWDDlfqqHXODqJG4OYHVf\n",
              "q1Qly1gzj4+PXjS1PCvUvSRXZflhAAAAckGbu0moQWyZTAhf//6MsABba+iTH8Bp0IQccAEVic7J\n",
              "HV+7q9IgMDB0HeqD2ron+Y98/9qhPkS7tfIXxizT9Y8BBadZ6+jwYP48Vk9pmyaBCPP9eV2BC3Ci\n",
              "98Sf0nWFLRRGuJWOpPPEN+VJc2lB1NoUwQAAADdBn9lFFSx/AC/0QIAlwNWcpn+7i9zbxQdOobgW\n",
              "YvbBqhL+yRbMaYGDezGYYi0AYDuhbmRVhWSxAAAAQQGf+HRG/wA81frYAHwYdERqNsQC/wUrsUDJ\n",
              "tKglQlmqibp3Tk9kq9l93w7sORBPBVqjNw7P8J8w/O1NGLPDbkQ/AAAAOwGf+mpG/wA88jQA0TP5\n",
              "vqNVdEbCbJle7hy63NnUhGVztrjQ7mSY+XFzWeTofECauE4ut5+ufnzS+px4AAAAYUGb/0moQWyZ\n",
              "TAhf//6MsABbgyy5GqxWE7zAAIj1HdR3gaf7X559jBccnwxQY2aiKqy518zmGOX5T5rwk4ywBUVP\n",
              "oP1enECuzt7webBK/4br8J3imapwgxnQAUZyNw0tCmEAAABEQZ4dRRUsfwBYlCi9OvQO48k9XlgB\n",
              "D8NS4IYaWV7BovY8Nrajkyh7rzaZ4j59bhds7/unF40LXsx8bd2cdeR1cubCZZQAAABUAZ48dEb/\n",
              "AG5o+PAgAJSWtu12wY+xfqBusgiemPGRqcqHNlrY79mDCmVYLixpX2ly8A01pKCw0rF4Ep2qQ9zC\n",
              "uEOCp6eQNPwAwEEoSiVWQqD1S/5QAAAARgGePmpG/wA88jQBQHOMIOCUZrvOTahxBCPs3Wcqlzbi\n",
              "OMe1ZOGXxUQNCa9yXLgD7siyQViwj4Oy5rTbm5aVkUtINCt91H0AAAB1QZojSahBbJlMCF///oyw\n",
              "ALN7miN+jhwAtbkKuWO1ALstx5z5/6BzbBLy58v4W9JjKvLovMjy7OnwzI+7E3+HQAll/HN+sCDt\n",
              "uuzDPuY117tTAGqzelew1VNHScAfyqP9G5jd+g/agK5yyeQmUwbAudP1AIrLAAAANkGeQUUVLH8A\n",
              "L/85wBNexcEv/Vtqn4Kfn8ynl6+qvLJW7zGafmzBErJ6JG5u+X0KlaG/D5RlwQAAADwBnmB0Rv8A\n",
              "O5m6QB2juds98ylvnSbVHUSAaxXqpuCcFcqzYru7hAKOnVIs1Fp1IM0huUC9i8z1RwLJlTYAAABD\n",
              "AZ5iakb/ADz32QEKVP5Gn/8ap3m4PVsIZND7d+gBqtkxt09qyUPiLs+2EVj56Ro/U7XxaUtjVNkX\n",
              "81uV2KZZAUgh4AAAAHFBmmdJqEFsmUwIX//+jLAAYLhPRtABCnltIkZZ1uTZmO8qXDWqZi9u7LPd\n",
              "iizE6W2sCGIdfoAy7DETwKUr7f2a0nVfE9+k1y+nAIdxY4sn27qY6dPeGs2QpUVBaypWmUpD9Rci\n",
              "WnL0pv22XxMOhPK9TQAAAD9BnoVFFSx/ADESZ+pADl8guz8j+nAOG+S+HJ4iJBePyLL81jMQT37z\n",
              "5vCey/RhKTKU6PReb2O1+dB+NBOhG0AAAABBAZ6kdEb/AGcvjyGVAGs8Sx7B43h9Af+eKzzdLf09\n",
              "CqD7TD6go0FZkT5RUq8wEbd6DDSfzANfP6SjKkFyaVs4gYAAAAA1AZ6makb/AGb4x1NgAtWlalpJ\n",
              "UNtix8q/KwE+ey1dM4+gHg+VHeHfGUivp+sPdXCpTUnLguMAAABjQZqrSahBbJlMCF///oywAGAr\n",
              "QrAC2eOSIyo28Fgy1nPdMRst5TvCdUYGknpvOsXNW/5c5bP2IkH7UtAvxh8rHhBCWpNTsuv/CsHh\n",
              "TnZnFfbWxTEwuRe4pnSJphZIHKqk4mTAAAAAT0GeyUUVLH8AWuIiNHZdoAKs9GMGzGP5j7VkXlVP\n",
              "WbRmlSNyR2bbGOo+WNbhaFSKUIMMbdB1YCt9fLvYgCwu167xh2jZETWKwoYnnz9MiNUAAAA/AZ7o\n",
              "dEb/ADwg8DNrKAHJdM/NEaKAK5oi6bYKl/HFOUUOfrO0x/t6uuQsQA8JB466jQJOqFqdrS58VYgb\n",
              "2JbhAAAARwGe6mpG/wA8IO8qaoBIHyEOS8wePmLoTVKYKLxx3ztCXy9l1zobJxKxPZ28S7cuUYac\n",
              "/1mjibgskYkDNph82WygBvzms+WAAAAAb0Ga70moQWyZTAhf//6MsABgvWzdVIAWq3/LAr7mnRJw\n",
              "crhW8hzxXvoYhdNt0hQ7jBCs3SV+9CFcf8keGt3+XnP8NMNLXfaXOhdsgHT8btwA/fRSxwNhwtXi\n",
              "1y/Ix6DvmTnXAeJpTVQ2reHmUZejgQAAAFBBnw1FFSx/AFriIiFuVkrkAT4lL6ZSSu+xCaVorWy5\n",
              "+4TIT34QFFz1TiGFRAJDeVBdT8sq/IJbkC8+oUbaKtV14zWrVI9fdsfJZTZHkev7UAAAAEcBnyx0\n",
              "Rv8APPTEAUBxOcA04dCiXMmREQ/0XKYWIqKH7mFq2kXFVZd4ghhbnnvCeLaOXX5PBoOKRdNObP82\n",
              "GixEJF/gmvsD0wAAADwBny5qRv8AO24JDEAi50IL6pMSI0sJIpFzyWpjBsYLNeGUFu+URoq7VYTM\n",
              "3wgvNX4JHVCXaLafUFfGIrcAAABnQZszSahBbJlMCF///oywAF49zIR/A2qS5DABxkc2986WZfVb\n",
              "jo+K+0Rb3a6GR5x7xzAHIcunpV3ESRHNDQaY74hE2NdzUDjhfUyrwegZhSoJG54wviRNC8z/mqW1\n",
              "7aFh0WrBIGWPOAAAAD1Bn1FFFSx/AFsIKBuiACSu0Eq5/WGJq7WjrZmgr9sOxgO+JUa9y8jNKb2O\n",
              "3v2j8ZUKmQX4/Q+RSywFZmouAAAAQgGfcHRG/wA8yaeEgDF/DGJLJKrmbBQKRwoZCBpB9Xa2CE/5\n",
              "Iqj8ya80P8RkRt8LsGYbD/LIxUmhJs6EqsO7Q8LebwAAAFEBn3JqRv8APNy08a7T8AD+WVb9msZ4\n",
              "FZDuYoyoYLIRUP4VKB/EMwGRGjVoS0cSFGBBlJWby8Is44EsQt17aC2dRtFJKvs2r/gXFox3+UH7\n",
              "1sAAAAB3QZt3SahBbJlMCF///oywAF2y3RAEPc8DRo6edStrih1bdzW+a2bbA7jfqBm6vVERQETu\n",
              "jFQmNYaaxwZE6G4BoOAaZe6YSta1NNoKs+N0hXYWoNkoeFiJyQftsiuwwhvoRwZdg3oIFchVcLWF\n",
              "GoIpBbARQ5Zo7TcAAABGQZ+VRRUsfwBa/71SoSUqcACxu6XOIHo4zNjLJYNusm5MLGIGX+fmhUDr\n",
              "AL4alocsnlIfdTTIIC9PJYWD0/HdDfIcq4oZUAAAADsBn7R0Rv8Abq+Eqj6UAEkyznKm7/hZMPLI\n",
              "twsYWxYrAnv5T7ggk3AvmKxCPh3zQPw2EgWVMra7oKbZJwAAAEgBn7ZqRv8Abr+iLDgABnTOrwhC\n",
              "kBMqFsliKtWy9KKTZMfOSewNv+rP7t1dAVtUDQB3pjFi2kBIZi31zAueoXvaWb3lzOtSKMsAAABl\n",
              "QZu7SahBbJlMCF///oywAF3DapwA1q4PfZQ+yFFzwezYO7M1c7TDkfL7RPkIwkeqKS+/7n9lbYUX\n",
              "4iHAJfLtdqCrGZxniuGx446mMR7FNZNU0+YCq/eOjZwectkgT5NEicKCCIsAAAA9QZ/ZRRUsfwBb\n",
              "CATimXXKxIFm3hcN5kxpsAKAIz7FK581S6/eUHyNsnyHk1wAlS+phQj6CYC3PuPFgJKTcQAAAEAB\n",
              "n/h0Rv8Abmj4ieXJ3TAA4R/7sy7NsEVs4HdLlxuiWp5PzY+08kTov/nlItcXNsr1ZKctwAV7ky2R\n",
              "6WBHo9OUAAAAPQGf+mpG/wBupKH8OV+9UMAFUqjPTUvg1ygaYETpPkaxXrc2vZy7bWk5zT8oQ8na\n",
              "9kE92kBrA1CnbZlBsSAAAABiQZv/SahBbJlMCF///oywAK77miV+fqQA27/7Meuh8ZNBpV6yGEGV\n",
              "uWyLVbsowji/5igXJDKFm38n4i6DdltK6TFPImWRRoOdZXWVAarbo0Z+p1yeLbbbR+4kaviVWxp6\n",
              "PZUAAAA4QZ4dRRUsfwBbCAod7abU7GLh2/rYAOKzE6E11XRBeW66sqo7357ek92kmtwO9eC7d53L\n",
              "SpfQjw0AAAA3AZ48dEb/AG5o+PLyAMX8KVt7qvgD/uQ+4W4hBvsjUFerNPgDN58gNp/8MTfaVk6k\n",
              "I27msbRUTAAAADsBnj5qRv8AcV276lACdgB5e7V0+STEc7dcuzzdWe70nYTMe1n6Gjj3OxLo6sZO\n",
              "Z7R8PIjOUxB/ZWxJqQAAAH9BmiNJqEFsmUwIX//+jLAArvuaJb1PJkhhjABxjAzMfun/Pf5VHyjZ\n",
              "om9icKQ+9dHyZfccNvua8vIJ9MH6sM2H9tTlIOdfrgxP72Rt8OnKxauB7bDtUVFO9jtaHNmzQNJz\n",
              "m826S55ipD3TbsJtNb/Cc9Dj9rsOPAXqUHRhHP3pAAAARkGeQUUVLH8AWwe2dzN/4DymEnKz4BKS\n",
              "NgQ8CR/Yxzta4ly1rr0rjWfilLKJZa7/tp6XPJ/ovjPJh5YjvyKCJ9el4iI30z8AAABEAZ5gdEb/\n",
              "AG1qvweSeAQpM86MHxorn6AcQV+O0SeaIoNgHXX2Iz99VaHHTj1i/QDwLsRHxh5k+ZgsBZLftqOV\n",
              "6e+KYEAAAAA/AZ5iakb/AG1qvwYLMZ3RNloA1sEiNxNwtb8R/cV8ltc2Xv5FXy6g3q/cVSCsSQ9W\n",
              "bygVEFFu8rbeOwQWIZNcAAAAb0GaZ0moQWyZTAhf//6MsACu+5oltdfeEFNQAsEti6PrlsPC2PRh\n",
              "elu1woyfYSTbOGjbhOhGSx0GB7X0TlCO2Gl4pg+z67BwFlNNTddtFHXehnYfyFkwlWXwh+vWRaUd\n",
              "kJScs1DMKWSTqXDWcFXrDQAAADVBnoVFFSx/AFniBYhO33ZhmBgAsbumSofcVu4l+M+4LgvT9r+v\n",
              "JQMrv77hdeKePjHwqsSkngAAADgBnqR0Rv8AbWq/BLm2AgDaN8YPd27e+gTtHlC3qZQEmUkwH5rG\n",
              "eO7YZX3IaGpCXfPYsbQIvttLbgAAADYBnqZqRv8AbWq/GXKj0AD3zrxmT0e2N9x+m8bhQWJ2aW2/\n",
              "h368xz2XlOLD50M33WIbWd/ZYlcAAABpQZqrSahBbJlMCF///oywAK77miW9Sq4o4AjtDWsUXQpp\n",
              "0jTPWzdbFDNyXZ5llFNEvrRyvs36+jeaR/El52d/LQgCFK7QpROUMGXG9/ngNVAn7EGX9yfeCb7I\n",
              "yMP4CkqOenFlqyh75GjAAAAAT0GeyUUVLH8AV6ISZO6dnmwjlAAsPQvFdyW9CosEIHOWg9vxUeN+\n",
              "YiMSiuYwl5Ohj8mLseV8Gc6oXEqa5T/5O0jQphX51M8EYjSqOgpkKmEAAABCAZ7odEb/AG1qw8Yg\n",
              "k/qANvily4PLDKwapSgyhMEPy3VgdEPQcq5wOkEFtvzxhAhTKN1RyWy45G393Mbl6TvDzJGLAAAA\n",
              "QQGe6mpG/wBtasO5CH4PUnWvABzyS0eUp/rD83xBdG2QvMrNHaiRR0JGoU7GubOIDrsi/t/DFzoo\n",
              "wA0DExDnJmfAAAAAdkGa70moQWyZTAhf//6MsABbg5XmADi0Q5tP4RkCdtFCMYxWLXS8GSxhG3sL\n",
              "oAmduRK7MZU9p/wYVcDabYA50S4fm9JaGHAmQ2Z6giQuOlhIrdzydyOUvb5VhWp0DuZ16TfvlYe+\n",
              "ICgB75KkceUH3kIzQ/DZ8bUAAABOQZ8NRRUsfwBXohJfimBju0oBNHSe3DrjtzhZrJrutMnRcTNa\n",
              "wfD1Abn/sm9C2pQo77E8nBK0cY1P14FHH35aC64r77mkctz2oGFfZnpgAAAAPQGfLHRG/wBwAdE2\n",
              "axf4VrEA1E0Dng7WmNZEWJxuNuwvL40MU+NnYDPJ/kz4Ls9XTZnbyms6wohEXTWAFTEAAABOAZ8u\n",
              "akb/AHAB0TX9/5g2KKqwAXODhjElpeb749hlXVqzBwJsBKGZBwjHYEYzjfnc/A1GZjNd1lDtwQIh\n",
              "eD+mzZcITuwcr73zvZ0al5tBAAAAdkGbM0moQWyZTAhX//44QAFs3byz4OeNAFakM5s0Iu3qaF1T\n",
              "4yT+FzrKJe1MIet3PfbjZLL/am3Fd+UnbYrXP2DGplK4hLCdlyCHaJwFKo4DtXfRfIw5L95lRizX\n",
              "RAMQLlPq/Bua67iUuT2W0ItwPBA7IyNUl4AAAAA/QZ9RRRUsfwBR83MXwp1h0i7loqjNtpgA2qf5\n",
              "+n6+3sysVKaq1Z1JrdTRw4GntEbtsx3LF5HPVsAGf1SGYqAzAAAARAGfcHRG/wBwAeq5TdbXErHe\n",
              "8pOUgAueueyFb2+MY1v3snurTyRG1VKuiphQtvTSE0BDaKUZ43vBg8QhXJRklgCgN8gRAAAAQAGf\n",
              "cmpG/wBwAeqrBkWaxpQFApwkmaLvKbKf/0Wdk+R5vHEsingzTjeuWKKYmQBo8TDQuMUcdEzHI0Ei\n",
              "GEXGZkAAAAB0QZt3SahBbJlMCFf//jhAArXtb2WDNBevsSUaQ4Air/JMI0T4kbMthelg/oo2di1p\n",
              "Nd1VpDm4BnH2aRJREm/pmWFzGwVjqyt0CDwepI8QjVLWdzP6TkQjkmxI2TdfEzIRd8LkAJxzBpe+\n",
              "NpuhEW1pwy1kEQ8AAAA5QZ+VRRUsfwBZ4hILiX5yyCOgGXRprh+5JAJLRsYjTzzDaNsGxHDrdQFf\n",
              "XKm4H9mwvkun42UsPMtoAAAATQGftHRG/wBtasMwL1SDlcAWMFxSMDzYXIK2A2QpbMP4Wa6C0iTi\n",
              "T4dWqD/MXdLU4UT9NgQvrF1mgxwMZ2CJjAvQTFoA994vgghBYBVVAAAAOgGftmpG/wBtasLAkYtH\n",
              "AEIU0SW3J7dZm+5m+6OKsswfmRqDr/Y7FerC3X9dzgK1iUp4Rn2/S5OcwpMAAAA7QZu5SahBbJlM\n",
              "FEwv//6MsABePc02w6V0EFr4A5SE6u5jiLHkB4SLWjox6ircJ4WCY07k6oRuKfPWJmEAAAAzAZ/Y\n",
              "akb/ADzyNAHuD9eLaqpt9DJk0r5nYvnYHQjnZjRfLZ6LK4NWhwr1mTEmNc6slx5RAAAAakGb3Unh\n",
              "ClJlMCF//oywAFkZh4fiIABzEUnwr3rsJHWGT5zC83wkH1UsnrAei25ZcqFyzMDRlD5UsUzEUldA\n",
              "fNYOymZvG9r/DXszp+EelBpae+1uPAbozPo3l+G/yJQNMj7/Q3rMuMADDLoAAAAtQZ/7RTRMfwAs\n",
              "2dmurawCwczpABYe1CiWMmKc/fMexjREqqz+49PynySUdBKgAAAAKgGeGnRG/wA4iutWY+H8AC4E\n",
              "AnZPNp+fSSZYokMJR5nctraIsFHcbCCcXQAAAC4BnhxqRv8ANhJP22qAC4gfr2CkDlyUV/sv6R+G\n",
              "KO/0lo4bHUSHhIJTr/f7yzKYAAAAUkGaAUmoQWiZTAhf//6MsABds7VgAuo9BRHPCAcQVqqE7QXG\n",
              "KjVvyT5/DQD68ELaBhNXQDzQ8kI0jmol7qT0NEALcYxt7bgQuTLrpMmO6qjaIQQAAAA4QZ4/RREs\n",
              "fwAv0rt+lwATrCefHC3DxLS5Yticv3xaSw5B+134m18jAuZ2RhkQUtnA6qLd7oGwdVEAAAA0AZ5e\n",
              "dEb/AGmvhhN/jg+ScAIvnsSmRg5AlUeOr/Pbz7ha3mV6YNCq4JvJaoywxP4ycliWeQAAAEcBnkBq\n",
              "Rv8AaXi7t255ABfSaO3eI+rwvD/9YuxdFcw6F01JSVP1D5RvtPmPrnTd+e4hbblAobUeQce/9ur8\n",
              "uB03En9nfI8LKQAAAF1BmkVJqEFsmUwIX//+jLAAXj3NMqdyACPe3P4KXPmLUDJrJ60dF39LlIbu\n",
              "PB+Fzp87jfKpdYazdfNqtAC7qCxpLBie0UW/bxt/4JVUyS550YXm0PtyEzJ9C1pytIAAAABEQZ5j\n",
              "RRUsfwBUMwmT9x9AJC41zqc7PA50W/KfY/4tFqWv9lcrGRLU9vCWXPlsq+Wf6dLcvk2yqvvGWunp\n",
              "98XzTO+AIuAAAABDAZ6CdEb/AHmtQ1PpRW14AUFMk/N0+JJAs4ne7Q80MbWkF6HUzyEPzieiOK0/\n",
              "OouZ8nBJQ7oq8p35Y+YlgEfK21y53QAAADwBnoRqRv8AeWgubRF4EteAkruEAct97P/+2PsHQsdT\n",
              "45qWK0CsKT+vxBOaVmexDOkq6neYli7ikpGAs4AAAABtQZqJSahBbJlMCF///oywAF46aAAFdPzQ\n",
              "atZDF7Igfkfh4wcaFiRb8g9N1DUIV6iL1tW86DztDgGUSbHmNiTkliuraV3c+cmFb6VVORYV+tWz\n",
              "SO9WkuG8GrxR7eKS2cNDq5nG8g4owBxz8W/EMAAAAE1BnqdFFSx/AF+lVH7uze9XOgCgHBgDggzP\n",
              "GZUSJlev6nxme7QPKXdff39HPXMbeGlS4vqT3Dgzy+aagP1f0zlmLt6d+8huUxVugEIlsQAAAEEB\n",
              "nsZ0Rv8AdCiHFDuw5FL74IASC/BntGJ/DLAgt2jvssVpWYC0A9ORiNaxnSrGYjExXCsbcuvnYE5r\n",
              "oNao0uXEnAAAAEEBnshqRv8Adt18DUgjLZJAHEMVRrkj1b+HQC51VUM93bJVv/FGQRfPEY+OA28K\n",
              "yvyP1cd1FQQl0GVZoi0KnVtIkQAAAI5Bms1JqEFsmUwIX//+jLAAs3uaJIAe0cAJUm2Lj+hoEPFX\n",
              "HK3umgoaqVeuX9d/jJHIBYSRm4OpH3XJsETO9AJ8LxqDtwgfiRChxLh+I50dkGM1eTzskoBhA8sr\n",
              "a6wYBiHnLlO7gmuk3GmX29V9eKQR5qPOGKvikVpMEXbCYxAgLT+hyOTjv/INB11R5byBAAAAREGe\n",
              "60UVLH8AWeISyP1DTb+UAmD5V532Nme8bfI+N6LMpPhQ4fv13WJq9l3Vzrm77bdy6VD4Wp5k70uk\n",
              "tl6ZMJcARjuAAAAAQAGfCnRG/wB5q5mM+uL9+eiZpQSSYtLQALnrqhpp9RJPJcY7gnf1CwPUKCFS\n",
              "8n+Jaq8QD066LB47jrHps8CfvSEAAABOAZ8Makb/AHlorkuYsnWrtUysaAOUYdOyzVY36rdqehrH\n",
              "B5+LHloTflx1m4gYOwoio8eTA7OVWG39aCeUpTNTkBqaLiOtBgK2pV3FD7zaAAAAeUGbEUmoQWyZ\n",
              "TAhf//6MsACu8y5m9rbDFd6CAl/R9aDsAWFhxrcWktnOc15OL3CReJVmhGudtkVrEYxHfOBSnud4\n",
              "aZMWdiIQXdp/U6T2ULLcPH8hNi6UszUqiyklR95pLj28LXMQ5WVxqFQoexsHVt6/4H36fzMIP5EA\n",
              "AABUQZ8vRRUsfwBXog0GrYb++kAjRvVDU8YET1hw/vV3cy1FqWDcRO5A4dwy7k1+SLpgpF7WS4vr\n",
              "l6fyEFcbQtfHGod6MaP0Hzo4Kr+iQpWlg2tyeTdxAAAARAGfTnRG/wB5rUyb3bCHlNFDAGdNNQGZ\n",
              "PZTEoqxvQqrBFhipkeFtZN4irLz37Hl0WSiD5ex78ESNu18oRUNoi+RTEDaAAAAAQQGfUGpG/wB5\n",
              "aDElQUYHlJIAiOb6Tla2sR+4uRlOslTQw4O0gKO9K4YqofSQZV6frDY90bLmY9SwbrF/+ezkZ8jU\n",
              "AAAAcUGbVUmoQWyZTAhf//6MsABeN6qCHj/aYALi5RAyse0zZQZ/5rjsQYkUGcCvt74q4zq1c/+q\n",
              "NJicK5hg6O4QCmf3+oEmgFw1hvQZywJXK+wb1hfVnR/Vnh6Y4zm03/QFXWzGuIPXrkAWfaqN0SMa\n",
              "0cyZAAAATUGfc0UVLH8AVogom/oI6AJ/f7/ZAwZ3OGdd8I0219Ep6qB9hMm3ltwEO/QgooiyZFid\n",
              "mF9twb4wMJV3bqQ6r7txM6gVgIUO5HdJa+IWAAAAQwGfknRG/wB0LW/Q/KvwQAd3kHGRh/Lsx++Z\n",
              "M2d4StQJrAASvvfxldLbZeSrODVkhJud1eh2N7mqj+J/ryg3baNnA3cAAABIAZ+Uakb/AHPogb9e\n",
              "c76AAtbpd1nzvnAb600XWtey/4dy3R14jcRdRSST4Aj0lR6zXIPiMeUH0krDWqavRKnbxk/Rpvi3\n",
              "0jbAAAAAhkGbmUmoQWyZTAhf//6MsABdvtFb2H8bAAuo2lFtMn2fN63RuiowggkrMM3gfX5YVWrD\n",
              "0te1kyS2TVEXkwPOhb9b4YD8mVwICZrW8hZ8ISLB0oCFtnli1FZ8Ezzdcl/s2SxcloFDrQLY6gbO\n",
              "NnHBIRriSZRhb36HhFmpE9bBNFdGENEfohCBAAAASEGft0UVLH8AWeISzLph+lwBOy8WGy18kHm9\n",
              "NkNbVxZjbw/V1DAVBYcJHShcFrpg3CK2AdtMwdB1478CVzTSudFSQzdF3e2O6QAAAEQBn9Z0Rv8A\n",
              "ea1kfFQDygGgDXE2NqjeWPmYuUGefPaIj8F9asaptgwxOhhNnk0qTAe2mxTS8YmWljX51AvubrLV\n",
              "S8UMaQAAAEwBn9hqRv8AeWhqlXpE6NFUiThcsAVlNNOuZtNH0vKDmGMmTf0pJSvctpbUWFq4k+Ak\n",
              "ZG1bNt8UFdT+Y8Xpl2jmigIPqRGQDJEb0BVRAAAAckGb3UmoQWyZTAhf//6MsACzcy5jdK5CIARW\n",
              "J8o0oGFrsRkHESlZ9WAzKEzzcfYkH152NIuwLCkUIftTXiyPDOS6S2A9qiOzPy7qvMNP9aIQOK4+\n",
              "I0Gf2GIklIHE1WNcUfX9ej9d1fug7VLFOAn2nZZBygAAAD9Bn/tFFSx/AF5104KS4TegjnDgA5Vm\n",
              "qmhOxgDm+SRnv512QGrVfA4+9BT9CLiFQNGMwihDXl4u6BesvzOcTzMAAABDAZ4adEb/AHaUT39h\n",
              "wIyGAHKMRN26KcYrO5ihqDsT4dnBeCWW9xWisPwlD2BtUZ7bzivGsMyjFnIIPuU1KgouuS7saQAA\n",
              "AD4BnhxqRv8Adt18PnfFrIAnM2X+UhmKgNNlEFwA+SzxUVNPYlXnsnftNIhJ9UMdb9ak+YyF8Mrh\n",
              "PypXYp0gYAAAAHFBmgFJqEFsmUwIX//+jLAAXaoDSGnjrPMANyL/Ig8KrIhRWwymuIAW2+1p9bpx\n",
              "wnhSzSaJEpFjP2eDFutoGnku+3WRO3+DbKyidZB6GIqoGiMixFKZ4Db41vXxHVROGi4OOhWEOS5L\n",
              "6RS2fkjMtyvBwAAAADVBnj9FFSx/AF+8pW9FqJjwdTW6vEtaBXLx2kt2rvNgAXQJfvPq3VlPgcXO\n",
              "vHsoQO1+JTKWXQAAAD8Bnl50Rv8AdpRVNmpOwQAnZz21/DRsYWjl611Q6VC+Bi33KahkcrCsrSDI\n",
              "XonXedRQgVgktbTHzpVwLURs9IEAAAA5AZ5Aakb/AHbdfD53v54Bc7VJrNbXArM/+rCoyZJSPcFK\n",
              "R30aGBr5ueWCkUyoZeipEUnqoqW4032xAAAAfEGaRUmoQWyZTAhf//6MsABdvtFb8ONEALW3Z2me\n",
              "kIebuZrOwrSk/IDlWEGZM74P5ELXesOwawYBnZAAXp60NFuAAmjysY1mE494cD/tH/l3/AnwyKIX\n",
              "XF6Nnb9FjUSy7cwouzc0V/e6POnMgeW+fO2txdMDAavux2PV7IQAAABBQZ5jRRUsfwBfvKaL69cz\n",
              "zHD7Sy6AKXNRn+FmSm2wJ4D3sS3BJNMFONYrH0sS/zVuF1VXxktaIdI5n33A/ZMKBsAAAABOAZ6C\n",
              "dEb/AHaVvjOQjBIAZaO4zsdiwvyNiQT55YtWDTpUqv58Q4eld0YcMGprhtQtC9N8I67YNObaAYzX\n",
              "86vtLUM01rss3e422YN1kZa3AAAAPQGehGpG/wB23t8p10rxmuJAwDADXjpYl7gL2CHO+0EA48Zo\n",
              "BvNadow/cMxoE3dGfcRqPqntk7kuh+0XPBAAAABzQZqJSahBbJlMCFf//jhAAWrGIOAImNKxNM5H\n",
              "D6t6PHoNoQNkNoMDVY89dDnQTMW2UpC1IclXQwWmhRa/WXeizOYQNor5j0NKBgCeCz+qG92szam5\n",
              "tQEPrqZOUPZBl7mS0OwtQReovly+xZqi74eco9upmAAAAFFBnqdFFSx/AF+8qI8Dx0yY2ABW+03/\n",
              "Fe/v993sxAcIp6qI6sLRTGP9ZEOwRzQQSO4k3dQERg2s6Hl4Nfbd1fGxKJ5qe9FWhSnKekV77FDw\n",
              "k8EAAABKAZ7GdEb/AHaVqUaaCR042ACdCaSiBVCEOUJ8s13rOwYI9jTePZjkCuMXqZ6id/mjNgi3\n",
              "JsBlQtl8OQQHmBhiSNX8A3JCR9uAIeAAAABDAZ7Iakb/AHbe0NB7PkAL+mW2DAICPR1ZkdWTvvyw\n",
              "yPDxYIe5/XeiAZPNoYIruf+y4wu7rNyb6attCRqLR9UbIO1tUQAAAGRBms1JqEFsmUwIV//+OEAC\n",
              "o+1uL7LPABGpGvhH5OUwqrjNRJGxaZAhFkvDU4p5ZGjPZsVfiH2fDedONYPQ/dgItj3b+e0spENN\n",
              "LfQqsoqAVh+oCYzlaKFrbFGLoIls0NazuPmVAAAARkGe60UVLH8AX7yoHS+T/1MAQeHn1/pnJWN9\n",
              "N8adQP88uw1V70y9lkzMELr3IqbGRUwHYZ3Y9qD0ziCKFrPhPzjtomDZpFMAAABHAZ8KdEb/AHaV\n",
              "v9xZnUOoeAaiaXGBqGKVUJHQZj/1h9nuJOCSRULR0v2DL0xanvVOEphj3HE4iMF4nLI/wTpEvCDC\n",
              "Ovy5fSEAAABEAZ8Makb/AHbe0NF2lAs94APg8FYeZpAvIdbJRcu6O0ybt1VnAt7DfG2gmP8Angx4\n",
              "EDeHUsw3LZt9lXZ055JcdSalxtAAAABRQZsRSahBbJlMCFf//jhAAXX4b810nfHxwXzWCAEev1So\n",
              "/ttqfP0gxSHGxQpp7nlG529R1MYshQBCiJ6wOdvhJeCCD7YrUDaK6tNDvsS5bmOBAAAAP0GfL0UV\n",
              "LH8AX7ylb1Qr5W1zmZO9jQD1VgeygsxcTxjM1E1IKUeIQcSzKMCZba9S/8ZBASHDJHaJy3iuM+ZU\n",
              "HQAAAEkBn050Rv8AdpWpRs/5+AQPUpp997fL1BThQMHe7jqOE8660hac7gjntLap6syQN03cBx/t\n",
              "EzKW15TLJnpKQaUVmDNa2tG9tYZQAAAAPAGfUGpG/wB23tDRRGaQAE7CNqmRccFHq8j1gCjKyMTK\n",
              "B5/kGcyZ56RfDCs0NwXNRxrJMelH0lNuNwPqcAAAAE1Bm1VJqEFsmUwIT//98QADcqU+AIewxLw3\n",
              "9mp+I1CaglM0B6nBcHbq86cMGn1Sbjod+lHJRY4Y9/2gbt1mCr7CpUs6EKrmr7oF1TY17wAAAEJB\n",
              "n3NFFSx/AF+8pW9HUwfgAUQlLuOFL3QR8uLB4N/s5idBKL/WX1J/NzUGaZ1LxtkHjKnXd5+Tue/e\n",
              "QYJtYvH0j4AAAABBAZ+SdEb/AHaV1ruaWN06HDgAnZTQFWcSNPs9lEkAFuYTGELJNCe7Bfa4zLL4\n",
              "ld5ZEpoUyCdYgkO6ySW51e6VT0kAAABHAZ+Uakb/AHbe7/D3RSK0EAFBCQdQF09vMJ50slK9UAKH\n",
              "6hwflBJ1boPkkO4oUPwsXX+FG49+//Tio56sFQs8RPNClcAAy4AAAABHQZuZSahBbJlMCP/8hAAV\n",
              "jVJUAUAQMOzrWAhSJZtqHwZ4D7X/Zw9jBG63KkQxOariY47zEuZQcp5CPbZ8nkXichTot0EFjGsA\n",
              "AABOQZ+3RRUsfwBfvKxVyICmehhAAHjrOPVOS5onE30ZAqGPu24uts/xo33TwrwOGt9xPe5JYGkm\n",
              "TvTwtkRqTdQQBlR44f8Mp0k0hsc03B7DAAAAQgGf1nRG/wB2ldajCVPSADUgCqSgixeWOQGqHbkd\n",
              "tGX0vAJv1AekaDhZiZ8dImHTDZRGWYUDdjNceDRaV1POXwHkgQAAAEMBn9hqRv8Adt7v4CmbeCE4\n",
              "VpFa8gAfgvb6c6Wii0H2jDmD0yq2YXlQo+tL8N9g4eZfwHhFQZJt4Rsi3xHx1/zs/o1BAAADZGWI\n",
              "hAAn//71sXwKasnzigzoMi7hlyTJrrYi4m0AwAAAAwAFUEq0Xzg3/fjOAADtm+qL9jH8AAcKUbUe\n",
              "hGc16N1qB7f/03ITQdlDO/bds49zkvm0tHOjWphOb1tSRxUQAAQwTN5g6/cDjTLHjFl+iIHmbEr9\n",
              "05iXDz7ZOrgZbgRMYsYtgVV1BeM+Lb8DR0TwM3EjoxnC6cyPtpPLZtBkckTOHrX+nnFWixkAyl6e\n",
              "Jz3shkeQVbMiZhC7Tp57RTPiMNd1LIGfcdFJmiL+oayeuznF9haQ6NHs7eYHZQAy41M899jM5JFD\n",
              "asJx6LPDlOKaQKya0DQQ5BIk42oFXJ0ah6iL6rKeigZ+q3WO0SQJhl62QbSG9XCEc4C7TwEEOnP5\n",
              "B9uog6DzgjdaZqRuxmHSYr39+LJKginCUb2hABfGL6rhISNCiv5Hc8LsgClLhAMbFZM2g69B2Xwu\n",
              "sv8wCZGwLSMm3sTkqTtJo0vzwXlmDM+sJK6Uo21zH7yU8I52IpwB5JcPMHJcAyWCHM8gRI/P0qk9\n",
              "MHxGUkjm0+aDAsZ5oPoAN1J8MkhUh1QyGdofHhLTnyY9XspTbXtNTKscyRCI+FVrP9NzuA4LpaRf\n",
              "OnrJTQ44ki1h+OzF07PnBIxsQWooUwVT16OYuWI6bdfW0qrUFfaB5S2ro/UrYCfFAAERQThDG74b\n",
              "tQBVtG+yTcs48dSLzyeKq6bcgRNVwlFuwgxiGcGRZrz7XFqahNIbBE539wqFDvYEiC71oYFJhIFN\n",
              "44mONm9YMmHhc6PJteju6W+Xl/S/FMPejrNkWOgpJoYRN371Al2oS7UPggVfcsCc3A2FWn4neh7g\n",
              "/WqCU8L1fBSc6uV0genFeOpEPWXb/sGoXoEC1P/KdifKDxibQ3m+SvAIT5DvFAx7WlDRJRbdnpGZ\n",
              "6EzMgHOAw25I9RhN1ax8icPmXkae+G/b6FGByMclgCZC4F2keTDRqXuF9yFgscgjk5d95FgXl8fB\n",
              "LZAeqQUenv91UhfiEJhy/1yVqSF3gtgeW92+Rs3oqo2B4WOCL0O9yBgZ9DYpaRzJY/staMCVxLnC\n",
              "/9Hb+t8mXS5YmTCfHe3vIHg+DPtxgmFg+dTYShvbiv9AzYtf/mbJTl4Io7IxESFNKPMG+tedzUKW\n",
              "RMAFTaNswAAAT0AAADHJbW9vdgAAAGxtdmhkAAAAAAAAAAAAAAAAAAAD6AAAOqcAAQAAAQAAAAAA\n",
              "AAAAAAAAAAEAAAAAAAAAAAAAAAAAAAABAAAAAAAAAAAAAAAAAABAAAAAAAAAAAAAAAAAAAAAAAAA\n",
              "AAAAAAAAAAAAAAAAAgAAMPN0cmFrAAAAXHRraGQAAAADAAAAAAAAAAAAAAABAAAAAAAAOqcAAAAA\n",
              "AAAAAAAAAAAAAAAAAAEAAAAAAAAAAAAAAAAAAAABAAAAAAAAAAAAAAAAAABAAAAAAbAAAAEgAAAA\n",
              "AAAkZWR0cwAAABxlbHN0AAAAAAAAAAEAADqnAAABgAABAAAAADBrbWRpYQAAACBtZGhkAAAAAAAA\n",
              "AAAAAAAAAAAyAAAC7sBVxAAAAAAALWhkbHIAAAAAAAAAAHZpZGUAAAAAAAAAAAAAAABWaWRlb0hh\n",
              "bmRsZXIAAAAwFm1pbmYAAAAUdm1oZAAAAAEAAAAAAAAAAAAAACRkaW5mAAAAHGRyZWYAAAAAAAAA\n",
              "AQAAAAx1cmwgAAAAAQAAL9ZzdGJsAAAAsnN0c2QAAAAAAAAAAQAAAKJhdmMxAAAAAAAAAAEAAAAA\n",
              "AAAAAAAAAAAAAAAAAbABIABIAAAASAAAAAAAAAABAAAAAAAAAAAAAAAAAAAAAAAAAAAAAAAAAAAA\n",
              "AAAAAAAAGP//AAAAMGF2Y0MBZAAe/+EAF2dkAB6s2UGwloQAAAMADAAABkA8WLZYAQAGaOvjyyLA\n",
              "AAAAHHV1aWRraEDyXyRPxbo5pRvPAyPzAAAAAAAAABhzdHRzAAAAAAAAAAEAAAPpAAAAwAAAACRz\n",
              "dHNzAAAAAAAAAAUAAAABAAAA+wAAAfUAAALvAAAD6QAAHvhjdHRzAAAAAAAAA90AAAABAAABgAAA\n",
              "AAEAAAPAAAAAAQAAAYAAAAABAAAAAAAAAAEAAADAAAAAAQAAA8AAAAABAAABgAAAAAEAAAAAAAAA\n",
              "AQAAAMAAAAABAAADwAAAAAEAAAGAAAAAAQAAAAAAAAABAAAAwAAAAAEAAAPAAAAAAQAAAYAAAAAB\n",
              "AAAAAAAAAAEAAADAAAAAAQAAA8AAAAABAAABgAAAAAEAAAAAAAAAAQAAAMAAAAABAAADwAAAAAEA\n",
              "AAGAAAAAAQAAAAAAAAABAAAAwAAAAAEAAAPAAAAAAQAAAYAAAAABAAAAAAAAAAEAAADAAAAAAQAA\n",
              "A8AAAAABAAABgAAAAAEAAAAAAAAAAQAAAMAAAAABAAADwAAAAAEAAAGAAAAAAQAAAAAAAAABAAAA\n",
              "wAAAAAEAAAPAAAAAAQAAAYAAAAABAAAAAAAAAAEAAADAAAAAAQAAA8AAAAABAAABgAAAAAEAAAAA\n",
              "AAAAAQAAAMAAAAABAAADwAAAAAEAAAGAAAAAAQAAAAAAAAABAAAAwAAAAAEAAAPAAAAAAQAAAYAA\n",
              "AAABAAAAAAAAAAEAAADAAAAAAQAAA8AAAAABAAABgAAAAAEAAAAAAAAAAQAAAMAAAAABAAADwAAA\n",
              "AAEAAAGAAAAAAQAAAAAAAAABAAAAwAAAAAEAAAPAAAAAAQAAAYAAAAABAAAAAAAAAAEAAADAAAAA\n",
              "AQAAA8AAAAABAAABgAAAAAEAAAAAAAAAAQAAAMAAAAABAAADwAAAAAEAAAGAAAAAAQAAAAAAAAAB\n",
              "AAAAwAAAAAEAAAMAAAAAAgAAAMAAAAABAAADwAAAAAEAAAGAAAAAAQAAAAAAAAABAAAAwAAAAAEA\n",
              "AAMAAAAAAgAAAMAAAAABAAADwAAAAAEAAAGAAAAAAQAAAAAAAAABAAAAwAAAAAEAAAPAAAAAAQAA\n",
              "AYAAAAABAAAAAAAAAAEAAADAAAAAAQAAA8AAAAABAAABgAAAAAEAAAAAAAAAAQAAAMAAAAABAAAD\n",
              "wAAAAAEAAAGAAAAAAQAAAAAAAAABAAAAwAAAAAEAAAPAAAAAAQAAAYAAAAABAAAAAAAAAAEAAADA\n",
              "AAAAAQAAA8AAAAABAAABgAAAAAEAAAAAAAAAAQAAAMAAAAABAAADwAAAAAEAAAGAAAAAAQAAAAAA\n",
              "AAABAAAAwAAAAAEAAAPAAAAAAQAAAYAAAAABAAAAAAAAAAEAAADAAAAAAQAAA8AAAAABAAABgAAA\n",
              "AAEAAAAAAAAAAQAAAMAAAAABAAADwAAAAAEAAAGAAAAAAQAAAAAAAAABAAAAwAAAAAEAAAPAAAAA\n",
              "AQAAAYAAAAABAAAAAAAAAAEAAADAAAAAAQAAA8AAAAABAAABgAAAAAEAAAAAAAAAAQAAAMAAAAAB\n",
              "AAADwAAAAAEAAAGAAAAAAQAAAAAAAAABAAAAwAAAAAEAAAPAAAAAAQAAAYAAAAABAAAAAAAAAAEA\n",
              "AADAAAAAAQAAA8AAAAABAAABgAAAAAEAAAAAAAAAAQAAAMAAAAABAAADwAAAAAEAAAGAAAAAAQAA\n",
              "AAAAAAABAAAAwAAAAAEAAAPAAAAAAQAAAYAAAAABAAAAAAAAAAEAAADAAAAAAQAAA8AAAAABAAAB\n",
              "gAAAAAEAAAAAAAAAAQAAAMAAAAABAAADwAAAAAEAAAGAAAAAAQAAAAAAAAABAAAAwAAAAAEAAAPA\n",
              "AAAAAQAAAYAAAAABAAAAAAAAAAEAAADAAAAAAQAAA8AAAAABAAABgAAAAAEAAAAAAAAAAQAAAMAA\n",
              "AAABAAADwAAAAAEAAAGAAAAAAQAAAAAAAAABAAAAwAAAAAEAAAMAAAAAAgAAAMAAAAABAAADwAAA\n",
              "AAEAAAGAAAAAAQAAAAAAAAABAAAAwAAAAAEAAAPAAAAAAQAAAYAAAAABAAAAAAAAAAEAAADAAAAA\n",
              "AQAAA8AAAAABAAABgAAAAAEAAAAAAAAAAQAAAMAAAAABAAADwAAAAAEAAAGAAAAAAQAAAAAAAAAB\n",
              "AAAAwAAAAAEAAAPAAAAAAQAAAYAAAAABAAAAAAAAAAEAAADAAAAAAQAAA8AAAAABAAABgAAAAAEA\n",
              "AAAAAAAAAQAAAMAAAAABAAADwAAAAAEAAAGAAAAAAQAAAAAAAAABAAAAwAAAAAEAAAPAAAAAAQAA\n",
              "AYAAAAABAAAAAAAAAAEAAADAAAAAAQAAA8AAAAABAAABgAAAAAEAAAAAAAAAAQAAAMAAAAABAAAD\n",
              "wAAAAAEAAAGAAAAAAQAAAAAAAAABAAAAwAAAAAEAAAJAAAAAAQAAAMAAAAABAAADwAAAAAEAAAGA\n",
              "AAAAAQAAAAAAAAABAAAAwAAAAAEAAAPAAAAAAQAAAYAAAAABAAAAAAAAAAEAAADAAAAAAQAAA8AA\n",
              "AAABAAABgAAAAAEAAAAAAAAAAQAAAMAAAAABAAADwAAAAAEAAAGAAAAAAQAAAAAAAAABAAAAwAAA\n",
              "AAEAAAPAAAAAAQAAAYAAAAABAAAAAAAAAAEAAADAAAAAAQAAA8AAAAABAAABgAAAAAEAAAAAAAAA\n",
              "AQAAAMAAAAABAAADwAAAAAEAAAGAAAAAAQAAAAAAAAABAAAAwAAAAAEAAAPAAAAAAQAAAYAAAAAB\n",
              "AAAAAAAAAAEAAADAAAAAAQAAAkAAAAABAAAAwAAAAAEAAAGAAAAAAQAAA8AAAAABAAABgAAAAAEA\n",
              "AAAAAAAAAQAAAMAAAAABAAADAAAAAAIAAADAAAAAAQAAA8AAAAABAAABgAAAAAEAAAAAAAAAAQAA\n",
              "AMAAAAABAAADwAAAAAEAAAGAAAAAAQAAAAAAAAABAAAAwAAAAAEAAAPAAAAAAQAAAYAAAAABAAAA\n",
              "AAAAAAEAAADAAAAAAQAAA8AAAAABAAABgAAAAAEAAAAAAAAAAQAAAMAAAAABAAADAAAAAAIAAADA\n",
              "AAAAAQAAA8AAAAABAAABgAAAAAEAAAAAAAAAAQAAAMAAAAABAAADwAAAAAEAAAGAAAAAAQAAAAAA\n",
              "AAABAAAAwAAAAAEAAAPAAAAAAQAAAYAAAAABAAAAAAAAAAEAAADAAAAAAQAAA8AAAAABAAABgAAA\n",
              "AAEAAAAAAAAAAQAAAMAAAAABAAADwAAAAAEAAAGAAAAAAQAAAAAAAAABAAAAwAAAAAEAAAPAAAAA\n",
              "AQAAAYAAAAABAAAAAAAAAAEAAADAAAAAAQAAA8AAAAABAAABgAAAAAEAAAAAAAAAAQAAAMAAAAAB\n",
              "AAADwAAAAAEAAAGAAAAAAQAAAAAAAAABAAAAwAAAAAEAAAPAAAAAAQAAAYAAAAABAAAAAAAAAAEA\n",
              "AADAAAAAAQAAA8AAAAABAAABgAAAAAEAAAAAAAAAAQAAAMAAAAABAAADwAAAAAEAAAGAAAAAAQAA\n",
              "AAAAAAABAAAAwAAAAAEAAAPAAAAAAQAAAYAAAAABAAAAAAAAAAEAAADAAAAAAQAAA8AAAAABAAAB\n",
              "gAAAAAEAAAAAAAAAAQAAAMAAAAABAAADwAAAAAEAAAGAAAAAAQAAAAAAAAABAAAAwAAAAAEAAAPA\n",
              "AAAAAQAAAYAAAAABAAAAAAAAAAEAAADAAAAAAQAAA8AAAAABAAABgAAAAAEAAAAAAAAAAQAAAMAA\n",
              "AAABAAADwAAAAAEAAAGAAAAAAQAAAAAAAAABAAAAwAAAAAEAAAPAAAAAAQAAAYAAAAABAAAAAAAA\n",
              "AAEAAADAAAAAAQAAA8AAAAABAAABgAAAAAEAAAAAAAAAAQAAAMAAAAABAAADwAAAAAEAAAGAAAAA\n",
              "AQAAAAAAAAABAAAAwAAAAAEAAAPAAAAAAQAAAYAAAAABAAAAAAAAAAEAAADAAAAAAQAAA8AAAAAB\n",
              "AAABgAAAAAEAAAAAAAAAAQAAAMAAAAABAAADwAAAAAEAAAGAAAAAAQAAAAAAAAABAAAAwAAAAAEA\n",
              "AAPAAAAAAQAAAYAAAAABAAAAAAAAAAEAAADAAAAAAQAAA8AAAAABAAABgAAAAAEAAAAAAAAAAQAA\n",
              "AMAAAAABAAADwAAAAAEAAAGAAAAAAQAAAAAAAAABAAAAwAAAAAEAAAMAAAAAAgAAAMAAAAABAAAD\n",
              "wAAAAAEAAAGAAAAAAQAAAAAAAAABAAAAwAAAAAEAAAPAAAAAAQAAAYAAAAABAAAAAAAAAAEAAADA\n",
              "AAAAAQAAA8AAAAABAAABgAAAAAEAAAAAAAAAAQAAAMAAAAABAAADwAAAAAEAAAGAAAAAAQAAAAAA\n",
              "AAABAAAAwAAAAAEAAAPAAAAAAQAAAYAAAAABAAAAAAAAAAEAAADAAAAAAQAAA8AAAAABAAABgAAA\n",
              "AAEAAAAAAAAAAQAAAMAAAAABAAADwAAAAAEAAAGAAAAAAQAAAAAAAAABAAAAwAAAAAEAAAPAAAAA\n",
              "AQAAAYAAAAABAAAAAAAAAAEAAADAAAAAAQAAA8AAAAABAAABgAAAAAEAAAAAAAAAAQAAAMAAAAAB\n",
              "AAADwAAAAAEAAAGAAAAAAQAAAAAAAAABAAAAwAAAAAEAAAPAAAAAAQAAAYAAAAABAAAAAAAAAAEA\n",
              "AADAAAAAAQAAA8AAAAABAAABgAAAAAEAAAAAAAAAAQAAAMAAAAABAAADwAAAAAEAAAGAAAAAAQAA\n",
              "AAAAAAABAAAAwAAAAAEAAAPAAAAAAQAAAYAAAAABAAAAAAAAAAEAAADAAAAAAQAAA8AAAAABAAAB\n",
              "gAAAAAEAAAAAAAAAAQAAAMAAAAABAAADwAAAAAEAAAGAAAAAAQAAAAAAAAABAAAAwAAAAAEAAAPA\n",
              "AAAAAQAAAYAAAAABAAAAAAAAAAEAAADAAAAAAQAAA8AAAAABAAABgAAAAAEAAAAAAAAAAQAAAMAA\n",
              "AAABAAADwAAAAAEAAAGAAAAAAQAAAAAAAAABAAAAwAAAAAEAAAPAAAAAAQAAAYAAAAABAAAAAAAA\n",
              "AAEAAADAAAAAAQAAA8AAAAABAAABgAAAAAEAAAAAAAAAAQAAAMAAAAABAAADwAAAAAEAAAGAAAAA\n",
              "AQAAAAAAAAABAAAAwAAAAAEAAAPAAAAAAQAAAYAAAAABAAAAAAAAAAEAAADAAAAAAQAAAwAAAAAC\n",
              "AAAAwAAAAAEAAAPAAAAAAQAAAYAAAAABAAAAAAAAAAEAAADAAAAAAQAAAwAAAAACAAAAwAAAAAEA\n",
              "AAPAAAAAAQAAAYAAAAABAAAAAAAAAAEAAADAAAAAAQAAA8AAAAABAAABgAAAAAEAAAAAAAAAAQAA\n",
              "AMAAAAABAAADwAAAAAEAAAGAAAAAAQAAAAAAAAABAAAAwAAAAAEAAAJAAAAAAQAAAMAAAAABAAAB\n",
              "gAAAAAEAAAPAAAAAAQAAAYAAAAABAAAAAAAAAAEAAADAAAAAAQAAA8AAAAABAAABgAAAAAEAAAAA\n",
              "AAAAAQAAAMAAAAABAAADwAAAAAEAAAGAAAAAAQAAAAAAAAABAAAAwAAAAAEAAAPAAAAAAQAAAYAA\n",
              "AAABAAAAAAAAAAEAAADAAAAAAQAAA8AAAAABAAABgAAAAAEAAAAAAAAAAQAAAMAAAAABAAADwAAA\n",
              "AAEAAAGAAAAAAQAAAAAAAAABAAAAwAAAAAEAAAPAAAAAAQAAAYAAAAABAAAAAAAAAAEAAADAAAAA\n",
              "AQAAA8AAAAABAAABgAAAAAEAAAAAAAAAAQAAAMAAAAABAAADwAAAAAEAAAGAAAAAAQAAAAAAAAAB\n",
              "AAAAwAAAAAEAAAPAAAAAAQAAAYAAAAABAAAAAAAAAAEAAADAAAAAAQAAA8AAAAABAAABgAAAAAEA\n",
              "AAAAAAAAAQAAAMAAAAABAAADwAAAAAEAAAGAAAAAAQAAAAAAAAABAAAAwAAAAAEAAAMAAAAAAgAA\n",
              "AMAAAAABAAADwAAAAAEAAAGAAAAAAQAAAAAAAAABAAAAwAAAAAEAAAPAAAAAAQAAAYAAAAABAAAA\n",
              "AAAAAAEAAADAAAAAAQAAA8AAAAABAAABgAAAAAEAAAAAAAAAAQAAAMAAAAABAAADwAAAAAEAAAGA\n",
              "AAAAAQAAAAAAAAABAAAAwAAAAAEAAAPAAAAAAQAAAYAAAAABAAAAAAAAAAEAAADAAAAAAQAAA8AA\n",
              "AAABAAABgAAAAAEAAAAAAAAAAQAAAMAAAAABAAADwAAAAAEAAAGAAAAAAQAAAAAAAAABAAAAwAAA\n",
              "AAEAAAPAAAAAAQAAAYAAAAABAAAAAAAAAAEAAADAAAAAAQAAA8AAAAABAAABgAAAAAEAAAAAAAAA\n",
              "AQAAAMAAAAABAAADwAAAAAEAAAGAAAAAAQAAAAAAAAABAAAAwAAAAAEAAAPAAAAAAQAAAYAAAAAB\n",
              "AAAAAAAAAAEAAADAAAAAAQAAA8AAAAABAAABgAAAAAEAAAAAAAAAAQAAAMAAAAABAAADwAAAAAEA\n",
              "AAGAAAAAAQAAAAAAAAABAAAAwAAAAAEAAAPAAAAAAQAAAYAAAAABAAAAAAAAAAEAAADAAAAAAQAA\n",
              "A8AAAAABAAABgAAAAAEAAAAAAAAAAQAAAMAAAAABAAADwAAAAAEAAAGAAAAAAQAAAAAAAAABAAAA\n",
              "wAAAAAEAAAPAAAAAAQAAAYAAAAABAAAAAAAAAAEAAADAAAAAAQAAA8AAAAABAAABgAAAAAEAAAAA\n",
              "AAAAAQAAAMAAAAABAAADwAAAAAEAAAGAAAAAAQAAAAAAAAABAAAAwAAAAAEAAAPAAAAAAQAAAYAA\n",
              "AAABAAAAAAAAAAEAAADAAAAAAQAAA8AAAAABAAABgAAAAAEAAAAAAAAAAQAAAMAAAAABAAADwAAA\n",
              "AAEAAAGAAAAAAQAAAAAAAAABAAAAwAAAAAEAAAPAAAAAAQAAAYAAAAABAAAAAAAAAAEAAADAAAAA\n",
              "AQAAA8AAAAABAAABgAAAAAEAAAAAAAAAAQAAAMAAAAABAAADwAAAAAEAAAGAAAAAAQAAAAAAAAAB\n",
              "AAAAwAAAAAEAAAPAAAAAAQAAAYAAAAABAAAAAAAAAAEAAADAAAAAAQAAA8AAAAABAAABgAAAAAEA\n",
              "AAAAAAAAAQAAAMAAAAABAAADwAAAAAEAAAGAAAAAAQAAAAAAAAABAAAAwAAAAAEAAAPAAAAAAQAA\n",
              "AYAAAAABAAAAAAAAAAEAAADAAAAAAQAAA8AAAAABAAABgAAAAAEAAAAAAAAAAQAAAMAAAAABAAAD\n",
              "wAAAAAEAAAGAAAAAAQAAAAAAAAABAAAAwAAAAAEAAAPAAAAAAQAAAYAAAAABAAAAAAAAAAEAAADA\n",
              "AAAAAQAAAkAAAAABAAAAwAAAAAEAAAPAAAAAAQAAAYAAAAABAAAAAAAAAAEAAADAAAAAAQAAA8AA\n",
              "AAABAAABgAAAAAEAAAAAAAAAAQAAAMAAAAABAAADAAAAAAIAAADAAAAAAQAAA8AAAAABAAABgAAA\n",
              "AAEAAAAAAAAAAQAAAMAAAAABAAADwAAAAAEAAAGAAAAAAQAAAAAAAAABAAAAwAAAAAEAAAPAAAAA\n",
              "AQAAAYAAAAABAAAAAAAAAAEAAADAAAAAAQAAA8AAAAABAAABgAAAAAEAAAAAAAAAAQAAAMAAAAAB\n",
              "AAADwAAAAAEAAAGAAAAAAQAAAAAAAAABAAAAwAAAAAEAAAPAAAAAAQAAAYAAAAABAAAAAAAAAAEA\n",
              "AADAAAAAAQAAA8AAAAABAAABgAAAAAEAAAAAAAAAAQAAAMAAAAABAAADwAAAAAEAAAGAAAAAAQAA\n",
              "AAAAAAABAAAAwAAAAAEAAAPAAAAAAQAAAYAAAAABAAAAAAAAAAEAAADAAAAAAQAAA8AAAAABAAAB\n",
              "gAAAAAEAAAAAAAAAAQAAAMAAAAABAAADwAAAAAEAAAGAAAAAAQAAAAAAAAABAAAAwAAAAAEAAAPA\n",
              "AAAAAQAAAYAAAAABAAAAAAAAAAEAAADAAAAAAQAAA8AAAAABAAABgAAAAAEAAAAAAAAAAQAAAMAA\n",
              "AAABAAADwAAAAAEAAAGAAAAAAQAAAAAAAAABAAAAwAAAAAIAAAGAAAAAAQAAA8AAAAABAAABgAAA\n",
              "AAEAAAAAAAAAAQAAAMAAAAABAAADAAAAAAIAAADAAAAAAQAAA8AAAAABAAABgAAAAAEAAAAAAAAA\n",
              "AQAAAMAAAAABAAADwAAAAAEAAAGAAAAAAQAAAAAAAAABAAAAwAAAAAEAAAPAAAAAAQAAAYAAAAAB\n",
              "AAAAAAAAAAEAAADAAAAAAQAAA8AAAAABAAABgAAAAAEAAAAAAAAAAQAAAMAAAAABAAADwAAAAAEA\n",
              "AAGAAAAAAQAAAAAAAAABAAAAwAAAAAEAAAPAAAAAAQAAAYAAAAABAAAAAAAAAAEAAADAAAAAAQAA\n",
              "A8AAAAABAAABgAAAAAEAAAAAAAAAAQAAAMAAAAABAAADwAAAAAEAAAGAAAAAAQAAAAAAAAABAAAA\n",
              "wAAAAAEAAAPAAAAAAQAAAYAAAAABAAAAAAAAAAEAAADAAAAAAQAAA8AAAAABAAABgAAAAAEAAAAA\n",
              "AAAAAQAAAMAAAAABAAADwAAAAAEAAAGAAAAAAQAAAAAAAAABAAAAwAAAAAEAAAPAAAAAAQAAAYAA\n",
              "AAABAAAAAAAAAAEAAADAAAAAAQAAA8AAAAABAAABgAAAAAEAAAAAAAAAAQAAAMAAAAABAAADwAAA\n",
              "AAEAAAGAAAAAAQAAAAAAAAABAAAAwAAAAAEAAAPAAAAAAQAAAYAAAAABAAAAAAAAAAEAAADAAAAA\n",
              "AQAAA8AAAAABAAABgAAAAAEAAAAAAAAAAQAAAMAAAAABAAADwAAAAAEAAAGAAAAAAQAAAAAAAAAB\n",
              "AAAAwAAAAAEAAAPAAAAAAQAAAYAAAAABAAAAAAAAAAEAAADAAAAAAQAAA8AAAAABAAABgAAAAAEA\n",
              "AAAAAAAAAQAAAMAAAAABAAADwAAAAAEAAAGAAAAAAQAAAAAAAAABAAAAwAAAAAEAAAPAAAAAAQAA\n",
              "AYAAAAABAAAAAAAAAAEAAADAAAAAAQAAA8AAAAABAAABgAAAAAEAAAAAAAAAAQAAAMAAAAABAAAD\n",
              "wAAAAAEAAAGAAAAAAQAAAAAAAAABAAAAwAAAAAEAAAPAAAAAAQAAAYAAAAABAAAAAAAAAAEAAADA\n",
              "AAAAAQAAA8AAAAABAAABgAAAAAEAAAAAAAAAAQAAAMAAAAABAAADwAAAAAEAAAGAAAAAAQAAAAAA\n",
              "AAABAAAAwAAAAAEAAAPAAAAAAQAAAYAAAAABAAAAAAAAAAEAAADAAAAAAQAAA8AAAAABAAABgAAA\n",
              "AAEAAAAAAAAAAQAAAMAAAAABAAADwAAAAAEAAAGAAAAAAQAAAAAAAAABAAAAwAAAAAEAAAPAAAAA\n",
              "AQAAAYAAAAABAAAAAAAAAAEAAADAAAAAAQAAA8AAAAABAAABgAAAAAEAAAAAAAAAAQAAAMAAAAAB\n",
              "AAADwAAAAAEAAAGAAAAAAQAAAAAAAAABAAAAwAAAAAEAAAPAAAAAAQAAAYAAAAABAAAAAAAAAAEA\n",
              "AADAAAAAAQAAA8AAAAABAAABgAAAAAEAAAAAAAAAAQAAAMAAAAABAAADwAAAAAEAAAGAAAAAAQAA\n",
              "AAAAAAABAAAAwAAAAAEAAAPAAAAAAQAAAYAAAAABAAAAAAAAAAEAAADAAAAAAQAAA8AAAAABAAAB\n",
              "gAAAAAEAAAAAAAAAAQAAAMAAAAABAAADwAAAAAEAAAGAAAAAAQAAAAAAAAABAAAAwAAAAAEAAAPA\n",
              "AAAAAQAAAYAAAAABAAAAAAAAAAEAAADAAAAAAQAAA8AAAAABAAABgAAAAAEAAAAAAAAAAQAAAMAA\n",
              "AAABAAADwAAAAAEAAAGAAAAAAQAAAAAAAAABAAAAwAAAAAEAAAPAAAAAAQAAAYAAAAABAAAAAAAA\n",
              "AAEAAADAAAAAAQAAA8AAAAABAAABgAAAAAEAAAAAAAAAAQAAAMAAAAABAAADwAAAAAEAAAGAAAAA\n",
              "AQAAAAAAAAABAAAAwAAAAAEAAAJAAAAAAQAAAMAAAAABAAADwAAAAAEAAAGAAAAAAQAAAAAAAAAB\n",
              "AAAAwAAAAAEAAAPAAAAAAQAAAYAAAAABAAAAAAAAAAEAAADAAAAAAQAAA8AAAAABAAABgAAAAAEA\n",
              "AAAAAAAAAQAAAMAAAAABAAADwAAAAAEAAAGAAAAAAQAAAAAAAAABAAAAwAAAAAEAAAPAAAAAAQAA\n",
              "AYAAAAABAAAAAAAAAAEAAADAAAAAAQAAA8AAAAABAAABgAAAAAEAAAAAAAAAAQAAAMAAAAABAAAD\n",
              "wAAAAAEAAAGAAAAAAQAAAAAAAAABAAAAwAAAAAEAAAPAAAAAAQAAAYAAAAABAAAAAAAAAAEAAADA\n",
              "AAAAAQAAA8AAAAABAAABgAAAAAEAAAAAAAAAAQAAAMAAAAABAAADwAAAAAEAAAGAAAAAAQAAAAAA\n",
              "AAABAAAAwAAAAAEAAAPAAAAAAQAAAYAAAAABAAAAAAAAAAEAAADAAAAAAQAAA8AAAAABAAABgAAA\n",
              "AAEAAAAAAAAAAQAAAMAAAAABAAADwAAAAAEAAAGAAAAAAQAAAAAAAAABAAAAwAAAAAEAAAPAAAAA\n",
              "AQAAAYAAAAABAAAAAAAAAAEAAADAAAAAAQAAA8AAAAABAAABgAAAAAEAAAAAAAAAAQAAAMAAAAAB\n",
              "AAADwAAAAAEAAAGAAAAAAQAAAAAAAAABAAAAwAAAAAEAAAGAAAAAHHN0c2MAAAAAAAAAAQAAAAEA\n",
              "AAPpAAAAAQAAD7hzdHN6AAAAAAAAAAAAAAPpAAAKvwAAA40AAAJjAAABlQAAASYAAAFbAAAAbgAA\n",
              "ARIAAABHAAAAaAAAAGYAAABXAAAAWgAAAGkAAABPAAAAWAAAAFgAAABrAAAAXAAAAEgAAAA+AAAC\n",
              "tAAAAGcAAABqAAAAOAAAAK8AAABYAAAAOwAAAEUAAACAAAAAUwAAAEgAAABOAAAAnQAAAGkAAABP\n",
              "AAAARwAAAJAAAABhAAAAVgAAAFUAAACMAAAARAAAAE4AAABNAAAAowAAAE8AAABRAAAATgAAAIwA\n",
              "AABRAAAAQAAAAEgAAACNAAAAWwAAAFIAAABTAAAAaQAAAFgAAABOAAAAVQAAAFwAAABWAAAAQQAA\n",
              "ADYAAAByAAAASAAAADgAAAA3AAAAiQAAAFUAAAA8AAAATgAAAGIAAABIAAAAQgAAAHAAAABLAAAA\n",
              "OAAAAD8AAABLAAAAOwAAAEAAAACBAAAARQAAADwAAAA5AAAAUwAAAEcAAAA7AAAAPwAAAFsAAABK\n",
              "AAAAOAAAADMAAABqAAAARAAAAD0AAAA6AAAAXwAAAEYAAABNAAAARAAAAEsAAABDAAAANgAAADYA\n",
              "AAB4AAAASAAAADsAAAA6AAAAdgAAAEMAAAA+AAAAPwAAAGgAAABIAAAAPAAAAEYAAABoAAAAQQAA\n",
              "ADYAAABEAAAAggAAAEEAAAA+AAAAOAAAAJQAAABJAAAAPwAAADwAAABxAAAASwAAAD4AAABJAAAA\n",
              "YAAAAD8AAAA2AAAAOQAAAIgAAABSAAAAPAAAAEUAAABtAAAAYwAAAE4AAABcAAAAZgAAAFQAAAA7\n",
              "AAAAQgAAAIEAAABgAAAAQAAAAFQAAABsAAAAUgAAAEwAAABGAAAAiQAAAEEAAAA7AAAAQQAAAHgA\n",
              "AABcAAAAQwAAAFMAAACVAAAAVwAAAFEAAABiAAAAeAAAAFQAAABUAAAAjwAAAGoAAABYAAAAUwAA\n",
              "AG4AAABMAAAARgAAAEsAAABtAAAAUgAAAEMAAABWAAAAgAAAAE0AAABTAAAAWQAAAIIAAABFAAAA\n",
              "UgAAAFYAAABkAAAAVAAAAEwAAABLAAAAhgAAAFwAAABLAAAAWQAAAIQAAABiAAAAYwAAAFcAAACE\n",
              "AAAAZAAAAGQAAABRAAAAeQAAAGIAAABPAAAAVAAAAG8AAABMAAAAlAAAAGQAAABZAAAAWQAAAIcA\n",
              "AABgAAAAWAAAAEoAAACSAAAAUAAAAFEAAABOAAAAigAAAF8AAABIAAAATwAAAIwAAABhAAAAXgAA\n",
              "AFwAAABxAAAATwAAAFEAAABWAAAAcAAAAFMAAABZAAAAUAAAAHIAAABdAAAASAAAAE4AAABeAAAA\n",
              "TQAABVwAAABgAAAASgAAAFQAAABNAAAAUQAAAEQAAABGAAAAZgAAAEsAAABAAAAAPwAAAGoAAABL\n",
              "AAAAWwAAAEIAAABqAAAAVAAAAE8AAABKAAAAdAAAAEcAAABCAAAAQwAAAHcAAABVAAAAUAAAAG8A\n",
              "AABVAAAATAAAAEQAAABWAAAATwAAAEwAAABJAAAAcQAAAE4AAABGAAAASAAAAIsAAABXAAAASQAA\n",
              "AE0AAAB8AAAAVwAAAEwAAABRAAAAfQAAAFYAAABQAAAAVQAAAIAAAABQAAAATQAAAFMAAAB3AAAA\n",
              "WgAAAFsAAABSAAAAiwAAAFoAAABRAAAAUAAAAH4AAABeAAAAUQAAAEUAAAB6AAAATwAAAFkAAABL\n",
              "AAAAfAAAAFYAAABOAAAAQgAAAJIAAABJAAAAQAAAAFAAAACeAAAARwAAAFMAAABEAAAAigAAAEkA\n",
              "AABMAAAARAAAAG4AAABMAAAAVAAAAEsAAACCAAAAXAAAAEAAAABGAAAAkQAAAFwAAABGAAAASwAA\n",
              "AHsAAABEAAAAQgAAAEoAAABtAAAAUAAAAE0AAABQAAAAfQAAAFIAAABHAAAASgAAAHkAAABIAAAA\n",
              "UwAAAD4AAABqAAAAVQAAAEoAAABMAAAAgQAAAFQAAABHAAAARQAAAHUAAABJAAAASwAAAEYAAABw\n",
              "AAAATgAAAFQAAABGAAAAdAAAAEoAAABCAAAAiAAAAEIAAABJAAAARQAAAFgAAABEAAAAPQAAADsA\n",
              "AABqAAAAOQAAADoAAAAyAAAAcAAAAEkAAABKAAAARwAAAFwAAABKAAAARwAAAEoAAAB0AAAAWgAA\n",
              "AEoAAABEAAAAXQAAAE4AAABFAAAAVgAAAH0AAABIAAAAOAAAAD8AAABaAAAAQwAAAE0AAABCAAAA\n",
              "XwAAAD0AAABKAAAAQQAAAFUAAABAAAAATQAAADUAAABnAAAASwAAAE8AAAA/AAAAcwAAAE4AAABN\n",
              "AAAARAAAAHoAAABQAAAARgAAAFIAAACCAAAATAAAAEwAAAA/AAAAWwAAAEAAAABBAAAASgAAAGIA\n",
              "AABBAAAARQAAAE8AAAB2AAAATAAAAEMAAABMAAAAfgAAAEsAAABGAAAAQQAAAHoAAABEAAAARAAA\n",
              "AFEAAACfAAAASAAAAEQAAABEAAAAhAAAAEAAAAA/AAAAPAAAAIMAAAA/AAAASAAAAEAAAABRAAAA\n",
              "PQAAAEQAAABSAAAASQAAAE4AAABOAAAAZgAAAEoAAABDAAAAZQAAAE8AAABJAAAARgAAAHEAAABS\n",
              "AAAARQAAAEsAAAByAAAANwAAAEYAAABKAAAAXQAAAE0AAAVKAAAAegAAAFkAAAA+AAAATAAAAHgA\n",
              "AABVAAAASAAAAEkAAAB4AAAAQgAAADgAAAA+AAAAfAAAAEMAAABQAAAASwAAAIoAAABBAAAAQwAA\n",
              "AD4AAAB2AAAARAAAADsAAAA/AAAAdQAAAE8AAABAAAAAPQAAAHAAAAA9AAAARQAAAD8AAAB3AAAA\n",
              "QAAAADgAAABOAAAAagAAAD8AAABMAAAARwAAAIcAAAA+AAAAPAAAAD4AAAB3AAAAPwAAAEMAAAA3\n",
              "AAAAWQAAAEEAAABBAAAAgQAAAEwAAAA7AAAAQAAAAIAAAABQAAAARgAAAEAAAABsAAAAPgAAAEcA\n",
              "AABAAAAAiAAAAEAAAABBAAAARwAAAG4AAABFAAAAQQAAAEwAAACDAAAATgAAAE0AAABEAAAAfwAA\n",
              "AD8AAABCAAAAQwAAAGUAAABGAAAAMgAAAD8AAABxAAAARwAAAEYAAABIAAAAZwAAADEAAAA+AAAA\n",
              "PwAAAHgAAABFAAAAQwAAAEIAAAByAAAATQAAAEYAAABFAAAAfwAAADwAAAA6AAAAOwAAAGsAAABK\n",
              "AAAAQQAAAEoAAABuAAAAUwAAAD4AAABEAAAAhAAAAFEAAABEAAAASQAAAHwAAABIAAAAOQAAAEEA\n",
              "AACEAAAANAAAADoAAABFAAAAewAAAEQAAAA3AAAAQAAAAE4AAABCAAAANwAAADwAAAB6AAAAQwAA\n",
              "AEEAAABLAAAAfgAAAEkAAABBAAAAQwAAAF8AAABBAAAAQAAAAEYAAAB8AAAARAAAAEQAAABIAAAA\n",
              "YgAAAD8AAABHAAAARQAAAF0AAABEAAAASgAAAEgAAABpAAAAPAAAAEcAAABNAAAAeAAAAEgAAABC\n",
              "AAAASAAAAHoAAABMAAAAQQAAAEgAAABvAAAAQgAAAEAAAAA6AAAAjgAAAD4AAAA/AAAAQQAAAHMA\n",
              "AABWAAAASQAAAEgAAAB0AAAAPwAAAH8AAABTAAAASwAAAD8AAACQAAAAQAAAAEoAAABKAAAAggAA\n",
              "AFIAAABGAAAAggAAAFcAAABJAAAARAAAAI8AAABLAAAASwAAAEUAAACIAAAAUgAAAFAAAAA7AAAA\n",
              "hgAAAEgAAABMAAAAQwAAAGkAAABOAAAAVgAAADwAAABuAAAAQgAAADcAAABLAAAAewAAAFUAAABI\n",
              "AAAAOAAAAI8AAABFAAAAPQAAAEcAAACBAAAATgAAAFQAAAA+AAAAfQAAAEQAAABKAAAASQAAAJEA\n",
              "AABLAAAASAAAAEYAAACSAAAATAAAADUAAAA+AAAAXAAAAEkAAAA8AAAAPwAAAGcAAABLAAAATAAA\n",
              "AEcAAABFAAAFkwAAAIwAAABPAAAAQAAAAEkAAABhAAAAVQAAAEsAAAB/AAAATgAAAEQAAAA9AAAA\n",
              "fQAAAEUAAABBAAAAQwAAAIkAAABLAAAAQgAAAD4AAABwAAAAVAAAAEUAAABSAAAAgAAAADMAAAA6\n",
              "AAAAOgAAAIIAAABEAAAAMAAAADsAAACNAAAAPgAAAEQAAABQAAAAdQAAAD4AAABFAAAAOwAAAH0A\n",
              "AAAyAAAAPwAAAEAAAAB5AAAASwAAAEMAAABKAAAAbQAAAEQAAABKAAAAPwAAAGcAAABHAAAANAAA\n",
              "AEUAAACJAAAARQAAAEIAAABHAAAAaQAAAFEAAABEAAAAPAAAAG0AAABIAAAAVAAAAEcAAAB9AAAA\n",
              "RQAAAEIAAAA7AAAAdQAAAEQAAAA7AAAAQQAAAF4AAABPAAAAUgAAADoAAACDAAAATQAAADkAAABG\n",
              "AAAAXgAAAEgAAABIAAAASQAAAF0AAABBAAAAOQAAAEgAAABiAAAAVwAAAEAAAABLAAAAaQAAAFcA\n",
              "AAA8AAAARgAAAHIAAABLAAAARQAAAEUAAAB2AAAAUgAAAEwAAABIAAAAhAAAAFMAAABCAAAAVQAA\n",
              "AI4AAAA5AAAAPwAAAEoAAACIAAAAVgAAAEMAAABFAAAAdgAAADsAAABFAAAAPwAAAGUAAABIAAAA\n",
              "WAAAAEoAAAB5AAAAOgAAAEAAAABHAAAAdQAAAEMAAABFAAAAOQAAAGcAAABTAAAAQwAAAEsAAABz\n",
              "AAAAVAAAAEsAAABAAAAAawAAAEEAAABGAAAAVQAAAHsAAABKAAAAPwAAAEwAAABpAAAAQQAAAEQA\n",
              "AABBAAAAZgAAADwAAAA7AAAAPwAAAIMAAABKAAAASAAAAEMAAABzAAAAOQAAADwAAAA6AAAAbQAA\n",
              "AFMAAABGAAAARQAAAHoAAABSAAAAQQAAAFIAAAB6AAAAQwAAAEgAAABEAAAAeAAAAD0AAABRAAAA\n",
              "PgAAAD8AAAA3AAAAbgAAADEAAAAuAAAAMgAAAFYAAAA8AAAAOAAAAEsAAABhAAAASAAAAEcAAABA\n",
              "AAAAcQAAAFEAAABFAAAARQAAAJIAAABIAAAARAAAAFIAAAB9AAAAWAAAAEgAAABFAAAAdQAAAFEA\n",
              "AABHAAAATAAAAIoAAABMAAAASAAAAFAAAAB2AAAAQwAAAEcAAABCAAAAdQAAADkAAABDAAAAPQAA\n",
              "AIAAAABFAAAAUgAAAEEAAAB3AAAAVQAAAE4AAABHAAAAaAAAAEoAAABLAAAASAAAAFUAAABDAAAA\n",
              "TQAAAEAAAABRAAAARgAAAEUAAABLAAAASwAAAFIAAABGAAAARwAAA2gAAAAUc3RjbwAAAAAAAAAB\n",
              "AAAALAAAAGJ1ZHRhAAAAWm1ldGEAAAAAAAAAIWhkbHIAAAAAAAAAAG1kaXJhcHBsAAAAAAAAAAAA\n",
              "AAAALWlsc3QAAAAlqXRvbwAAAB1kYXRhAAAAAQAAAABMYXZmNTcuODMuMTAw\n",
              "\">\n",
              "  Your browser does not support the video tag.\n",
              "</video>"
            ]
          },
          "metadata": {},
          "execution_count": 45
        }
      ],
      "source": [
        "import matplotlib as mpl\n",
        "import matplotlib.pyplot as plt\n",
        "import matplotlib.animation as animation\n",
        "from mpl_toolkits.mplot3d import axes3d\n",
        "from matplotlib import style\n",
        "\n",
        "mpl.rc('animation', html='jshtml')\n",
        "\n",
        "def update_scene(num, frames, patch):\n",
        "  patch.set_data(frames[num])\n",
        "  return patch,\n",
        "\n",
        "def plot_animation(frames, repeat=False,interval=15):\n",
        "  fig = plt.figure()\n",
        "  patch = plt.imshow(frames[0])\n",
        "  plt.axis('off')\n",
        "\n",
        "  anim = animation.FuncAnimation(fig, update_scene, fargs=(frames, patch),\n",
        "                                 frames = len(frames),repeat=repeat,interval=interval)\n",
        "  plt.close()\n",
        "  return anim\n",
        "frames = []\n",
        "\n",
        "def save_frames(trajectory):\n",
        "  global frames\n",
        "  frames.append(tf_env.pyenv.envs[0].render(mode = \"rgb_array\"))\n",
        "\n",
        "watch_driver = DynamicStepDriver(\n",
        "    tf_env,\n",
        "    agent.policy,\n",
        "    observers=[save_frames, ShowProgress(1000)],\n",
        "    num_steps=1000\n",
        ")\n",
        "\n",
        "final_time_step, final_policy_state = watch_driver.run()\n",
        "\n",
        "plot_animation(frames)\n",
        "\n",
        "from IPython.display import HTML\n",
        "HTML(plot_animation(frames).to_html5_video())"
      ]
    }
  ],
  "metadata": {
    "colab": {
      "provenance": []
    },
    "kernelspec": {
      "display_name": "Python 3",
      "name": "python3"
    },
    "language_info": {
      "name": "python"
    }
  },
  "nbformat": 4,
  "nbformat_minor": 0
}