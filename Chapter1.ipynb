{
  "nbformat": 4,
  "nbformat_minor": 0,
  "metadata": {
    "colab": {
      "provenance": [],
      "authorship_tag": "ABX9TyOR02EjSojPH8EhfM3ymZRi",
      "include_colab_link": true
    },
    "kernelspec": {
      "name": "python3",
      "display_name": "Python 3"
    },
    "language_info": {
      "name": "python"
    }
  },
  "cells": [
    {
      "cell_type": "markdown",
      "metadata": {
        "id": "view-in-github",
        "colab_type": "text"
      },
      "source": [
        "<a href=\"https://colab.research.google.com/github/niyanta02/-Unsupervised-Reinforcement-Learning/blob/main/Chapter1.ipynb\" target=\"_parent\"><img src=\"https://colab.research.google.com/assets/colab-badge.svg\" alt=\"Open In Colab\"/></a>"
      ]
    },
    {
      "cell_type": "code",
      "execution_count": 1,
      "metadata": {
        "id": "RnDMQQbHlPzc"
      },
      "outputs": [],
      "source": [
        "import sys\n",
        "\n",
        "assert sys.version_info >= (3, 7)"
      ]
    },
    {
      "cell_type": "code",
      "source": [
        "from packaging import version\n",
        "import sklearn\n",
        "\n",
        "assert version.parse(sklearn.__version__) >= version.parse(\"1.0.1\")"
      ],
      "metadata": {
        "id": "LX91cQP0mLy_"
      },
      "execution_count": 2,
      "outputs": []
    },
    {
      "cell_type": "code",
      "source": [
        "import matplotlib.pyplot as plt\n",
        "\n",
        "# plt.rc('font', size=12)\n",
        "# plt.rc('axes', labelsize=14, titlesize=14)\n",
        "# plt.rc('legend', fontsize=12)\n",
        "# plt.rc('xtick', labelsize=10)\n",
        "# plt.rc('ytick', labelsize=10)"
      ],
      "metadata": {
        "id": "GerXwqh8mL2_"
      },
      "execution_count": 5,
      "outputs": []
    },
    {
      "cell_type": "code",
      "source": [
        "#@title Example 1-1\n",
        "import matplotlib.pyplot as plt\n",
        "import numpy as np\n",
        "import pandas as pd\n",
        "from sklearn.linear_model import LinearRegression\n",
        "\n",
        "np.random.seed(42)"
      ],
      "metadata": {
        "id": "LbYiDAavmMCt"
      },
      "execution_count": 42,
      "outputs": []
    },
    {
      "cell_type": "code",
      "source": [
        "#download and prepare the data\n",
        "data_root = \"https://github.com/ageron/data/raw/main/\"\n",
        "lifsat = pd.read_csv(data_root + \"lifesat/lifesat.csv\")"
      ],
      "metadata": {
        "id": "zneNRETSmMHU"
      },
      "execution_count": 8,
      "outputs": []
    },
    {
      "cell_type": "code",
      "source": [
        "lifsat.head()"
      ],
      "metadata": {
        "colab": {
          "base_uri": "https://localhost:8080/",
          "height": 206
        },
        "id": "_JFQIEzNmMLC",
        "outputId": "3fa0a2f3-c085-4198-9d8b-e0ff482fa82c"
      },
      "execution_count": 29,
      "outputs": [
        {
          "output_type": "execute_result",
          "data": {
            "text/plain": [
              "   Country  GDP per capita (USD)  Life satisfaction\n",
              "0   Russia          26456.387938                5.8\n",
              "1   Greece          27287.083401                5.4\n",
              "2   Turkey          28384.987785                5.5\n",
              "3   Latvia          29932.493910                5.9\n",
              "4  Hungary          31007.768407                5.6"
            ],
            "text/html": [
              "\n",
              "  <div id=\"df-6a8a7851-634d-4b0d-aa98-6a11075fbf98\">\n",
              "    <div class=\"colab-df-container\">\n",
              "      <div>\n",
              "<style scoped>\n",
              "    .dataframe tbody tr th:only-of-type {\n",
              "        vertical-align: middle;\n",
              "    }\n",
              "\n",
              "    .dataframe tbody tr th {\n",
              "        vertical-align: top;\n",
              "    }\n",
              "\n",
              "    .dataframe thead th {\n",
              "        text-align: right;\n",
              "    }\n",
              "</style>\n",
              "<table border=\"1\" class=\"dataframe\">\n",
              "  <thead>\n",
              "    <tr style=\"text-align: right;\">\n",
              "      <th></th>\n",
              "      <th>Country</th>\n",
              "      <th>GDP per capita (USD)</th>\n",
              "      <th>Life satisfaction</th>\n",
              "    </tr>\n",
              "  </thead>\n",
              "  <tbody>\n",
              "    <tr>\n",
              "      <th>0</th>\n",
              "      <td>Russia</td>\n",
              "      <td>26456.387938</td>\n",
              "      <td>5.8</td>\n",
              "    </tr>\n",
              "    <tr>\n",
              "      <th>1</th>\n",
              "      <td>Greece</td>\n",
              "      <td>27287.083401</td>\n",
              "      <td>5.4</td>\n",
              "    </tr>\n",
              "    <tr>\n",
              "      <th>2</th>\n",
              "      <td>Turkey</td>\n",
              "      <td>28384.987785</td>\n",
              "      <td>5.5</td>\n",
              "    </tr>\n",
              "    <tr>\n",
              "      <th>3</th>\n",
              "      <td>Latvia</td>\n",
              "      <td>29932.493910</td>\n",
              "      <td>5.9</td>\n",
              "    </tr>\n",
              "    <tr>\n",
              "      <th>4</th>\n",
              "      <td>Hungary</td>\n",
              "      <td>31007.768407</td>\n",
              "      <td>5.6</td>\n",
              "    </tr>\n",
              "  </tbody>\n",
              "</table>\n",
              "</div>\n",
              "      <button class=\"colab-df-convert\" onclick=\"convertToInteractive('df-6a8a7851-634d-4b0d-aa98-6a11075fbf98')\"\n",
              "              title=\"Convert this dataframe to an interactive table.\"\n",
              "              style=\"display:none;\">\n",
              "        \n",
              "  <svg xmlns=\"http://www.w3.org/2000/svg\" height=\"24px\"viewBox=\"0 0 24 24\"\n",
              "       width=\"24px\">\n",
              "    <path d=\"M0 0h24v24H0V0z\" fill=\"none\"/>\n",
              "    <path d=\"M18.56 5.44l.94 2.06.94-2.06 2.06-.94-2.06-.94-.94-2.06-.94 2.06-2.06.94zm-11 1L8.5 8.5l.94-2.06 2.06-.94-2.06-.94L8.5 2.5l-.94 2.06-2.06.94zm10 10l.94 2.06.94-2.06 2.06-.94-2.06-.94-.94-2.06-.94 2.06-2.06.94z\"/><path d=\"M17.41 7.96l-1.37-1.37c-.4-.4-.92-.59-1.43-.59-.52 0-1.04.2-1.43.59L10.3 9.45l-7.72 7.72c-.78.78-.78 2.05 0 2.83L4 21.41c.39.39.9.59 1.41.59.51 0 1.02-.2 1.41-.59l7.78-7.78 2.81-2.81c.8-.78.8-2.07 0-2.86zM5.41 20L4 18.59l7.72-7.72 1.47 1.35L5.41 20z\"/>\n",
              "  </svg>\n",
              "      </button>\n",
              "      \n",
              "  <style>\n",
              "    .colab-df-container {\n",
              "      display:flex;\n",
              "      flex-wrap:wrap;\n",
              "      gap: 12px;\n",
              "    }\n",
              "\n",
              "    .colab-df-convert {\n",
              "      background-color: #E8F0FE;\n",
              "      border: none;\n",
              "      border-radius: 50%;\n",
              "      cursor: pointer;\n",
              "      display: none;\n",
              "      fill: #1967D2;\n",
              "      height: 32px;\n",
              "      padding: 0 0 0 0;\n",
              "      width: 32px;\n",
              "    }\n",
              "\n",
              "    .colab-df-convert:hover {\n",
              "      background-color: #E2EBFA;\n",
              "      box-shadow: 0px 1px 2px rgba(60, 64, 67, 0.3), 0px 1px 3px 1px rgba(60, 64, 67, 0.15);\n",
              "      fill: #174EA6;\n",
              "    }\n",
              "\n",
              "    [theme=dark] .colab-df-convert {\n",
              "      background-color: #3B4455;\n",
              "      fill: #D2E3FC;\n",
              "    }\n",
              "\n",
              "    [theme=dark] .colab-df-convert:hover {\n",
              "      background-color: #434B5C;\n",
              "      box-shadow: 0px 1px 3px 1px rgba(0, 0, 0, 0.15);\n",
              "      filter: drop-shadow(0px 1px 2px rgba(0, 0, 0, 0.3));\n",
              "      fill: #FFFFFF;\n",
              "    }\n",
              "  </style>\n",
              "\n",
              "      <script>\n",
              "        const buttonEl =\n",
              "          document.querySelector('#df-6a8a7851-634d-4b0d-aa98-6a11075fbf98 button.colab-df-convert');\n",
              "        buttonEl.style.display =\n",
              "          google.colab.kernel.accessAllowed ? 'block' : 'none';\n",
              "\n",
              "        async function convertToInteractive(key) {\n",
              "          const element = document.querySelector('#df-6a8a7851-634d-4b0d-aa98-6a11075fbf98');\n",
              "          const dataTable =\n",
              "            await google.colab.kernel.invokeFunction('convertToInteractive',\n",
              "                                                     [key], {});\n",
              "          if (!dataTable) return;\n",
              "\n",
              "          const docLinkHtml = 'Like what you see? Visit the ' +\n",
              "            '<a target=\"_blank\" href=https://colab.research.google.com/notebooks/data_table.ipynb>data table notebook</a>'\n",
              "            + ' to learn more about interactive tables.';\n",
              "          element.innerHTML = '';\n",
              "          dataTable['output_type'] = 'display_data';\n",
              "          await google.colab.output.renderOutput(dataTable, element);\n",
              "          const docLink = document.createElement('div');\n",
              "          docLink.innerHTML = docLinkHtml;\n",
              "          element.appendChild(docLink);\n",
              "        }\n",
              "      </script>\n",
              "    </div>\n",
              "  </div>\n",
              "  "
            ]
          },
          "metadata": {},
          "execution_count": 29
        }
      ]
    },
    {
      "cell_type": "code",
      "source": [
        "lifsat.isnull().sum()"
      ],
      "metadata": {
        "colab": {
          "base_uri": "https://localhost:8080/"
        },
        "id": "-6ggAQQjmMO_",
        "outputId": "f737dd0f-c8b1-4a39-ca16-63c66e4f0f33"
      },
      "execution_count": 11,
      "outputs": [
        {
          "output_type": "execute_result",
          "data": {
            "text/plain": [
              "Country                 0\n",
              "GDP per capita (USD)    0\n",
              "Life satisfaction       0\n",
              "dtype: int64"
            ]
          },
          "metadata": {},
          "execution_count": 11
        }
      ]
    },
    {
      "cell_type": "code",
      "source": [
        "lifsat['Country'].unique()"
      ],
      "metadata": {
        "colab": {
          "base_uri": "https://localhost:8080/"
        },
        "id": "21rKpQGNmMS-",
        "outputId": "8fdbc774-9f2a-4a26-a5da-deb899a2de58"
      },
      "execution_count": 37,
      "outputs": [
        {
          "output_type": "execute_result",
          "data": {
            "text/plain": [
              "array(['Russia', 'Greece', 'Turkey', 'Latvia', 'Hungary', 'Portugal',\n",
              "       'Poland', 'Estonia', 'Spain', 'Slovenia', 'Lithuania', 'Israel',\n",
              "       'Italy', 'United Kingdom', 'France', 'New Zealand', 'Canada',\n",
              "       'Finland', 'Belgium', 'Australia', 'Sweden', 'Germany', 'Austria',\n",
              "       'Iceland', 'Netherlands', 'Denmark', 'United States'], dtype=object)"
            ]
          },
          "metadata": {},
          "execution_count": 37
        }
      ]
    },
    {
      "cell_type": "code",
      "source": [
        "len(lifsat['Country'])"
      ],
      "metadata": {
        "colab": {
          "base_uri": "https://localhost:8080/"
        },
        "id": "yQgDfabRmMXA",
        "outputId": "76ba29f8-98b0-4413-c592-29180207c515"
      },
      "execution_count": 31,
      "outputs": [
        {
          "output_type": "execute_result",
          "data": {
            "text/plain": [
              "27"
            ]
          },
          "metadata": {},
          "execution_count": 31
        }
      ]
    },
    {
      "cell_type": "code",
      "source": [
        "X = lifsat[['GDP per capita (USD)']].values"
      ],
      "metadata": {
        "id": "JC0PV0eGmMbp"
      },
      "execution_count": 34,
      "outputs": []
    },
    {
      "cell_type": "code",
      "source": [
        "X"
      ],
      "metadata": {
        "colab": {
          "base_uri": "https://localhost:8080/"
        },
        "id": "2jWr-HIKmMfX",
        "outputId": "f461194d-963a-4765-b0a4-268c8b9e96a7"
      },
      "execution_count": 35,
      "outputs": [
        {
          "output_type": "execute_result",
          "data": {
            "text/plain": [
              "array([[26456.38793813],\n",
              "       [27287.08340093],\n",
              "       [28384.98778463],\n",
              "       [29932.49391006],\n",
              "       [31007.76840654],\n",
              "       [32181.15453723],\n",
              "       [32238.15725928],\n",
              "       [35638.42135118],\n",
              "       [36215.44759073],\n",
              "       [36547.73895598],\n",
              "       [36732.03474403],\n",
              "       [38341.30757041],\n",
              "       [38992.14838075],\n",
              "       [41627.12926943],\n",
              "       [42025.61737306],\n",
              "       [42404.39373816],\n",
              "       [45856.62562648],\n",
              "       [47260.80045844],\n",
              "       [48210.03311134],\n",
              "       [48697.83702825],\n",
              "       [50683.32350972],\n",
              "       [50922.35802345],\n",
              "       [51935.60386182],\n",
              "       [52279.72885136],\n",
              "       [54209.56383573],\n",
              "       [55938.2128086 ],\n",
              "       [60235.7284917 ]])"
            ]
          },
          "metadata": {},
          "execution_count": 35
        }
      ]
    },
    {
      "cell_type": "code",
      "source": [
        "Y = lifsat[['Life satisfaction']].values"
      ],
      "metadata": {
        "id": "MIp0hxHxmMiy"
      },
      "execution_count": 38,
      "outputs": []
    },
    {
      "cell_type": "code",
      "source": [
        "Y"
      ],
      "metadata": {
        "colab": {
          "base_uri": "https://localhost:8080/"
        },
        "id": "0O8Yhy3nmMmc",
        "outputId": "01337ff9-fd1a-483a-ed4c-b4f58ab0afd4"
      },
      "execution_count": 39,
      "outputs": [
        {
          "output_type": "execute_result",
          "data": {
            "text/plain": [
              "array([[5.8],\n",
              "       [5.4],\n",
              "       [5.5],\n",
              "       [5.9],\n",
              "       [5.6],\n",
              "       [5.4],\n",
              "       [6.1],\n",
              "       [5.7],\n",
              "       [6.3],\n",
              "       [5.9],\n",
              "       [5.9],\n",
              "       [7.2],\n",
              "       [6. ],\n",
              "       [6.8],\n",
              "       [6.5],\n",
              "       [7.3],\n",
              "       [7.4],\n",
              "       [7.6],\n",
              "       [6.9],\n",
              "       [7.3],\n",
              "       [7.3],\n",
              "       [7. ],\n",
              "       [7.1],\n",
              "       [7.5],\n",
              "       [7.4],\n",
              "       [7.6],\n",
              "       [6.9]])"
            ]
          },
          "metadata": {},
          "execution_count": 39
        }
      ]
    },
    {
      "cell_type": "code",
      "source": [
        "#visualizing the data\n",
        "lifsat.plot(kind=\"scatter\",grid=True, x=\"GDP per capita (USD)\",y=\"Life satisfaction\")\n",
        "plt.axis=([23_500,62_500,4,9])\n",
        "plt.show()"
      ],
      "metadata": {
        "colab": {
          "base_uri": "https://localhost:8080/",
          "height": 283
        },
        "id": "05jKolSdmMpw",
        "outputId": "b81b6ae4-cf4b-4c7f-e3ac-28195d41eff1"
      },
      "execution_count": 48,
      "outputs": [
        {
          "output_type": "display_data",
          "data": {
            "text/plain": [
              "<Figure size 432x288 with 1 Axes>"
            ],
            "image/png": "[encoded data removed]"
          },
          "metadata": {
            "needs_background": "light"
          }
        }
      ]
    },
    {
      "cell_type": "code",
      "source": [
        "#model selection\n",
        "linear = LinearRegression()"
      ],
      "metadata": {
        "id": "tB1j8FDomMzc"
      },
      "execution_count": 49,
      "outputs": []
    },
    {
      "cell_type": "code",
      "source": [
        "#train the model\n",
        "linear.fit(X,Y)"
      ],
      "metadata": {
        "colab": {
          "base_uri": "https://localhost:8080/"
        },
        "id": "rea5bT_KmM3g",
        "outputId": "b9d476a6-c1cc-4c93-acd0-c7d58e3a0b44"
      },
      "execution_count": 50,
      "outputs": [
        {
          "output_type": "execute_result",
          "data": {
            "text/plain": [
              "LinearRegression()"
            ]
          },
          "metadata": {},
          "execution_count": 50
        }
      ]
    },
    {
      "cell_type": "code",
      "source": [
        "#Predictions\n",
        "X_new=[[26_000]]\n",
        "print(linear.predict(X_new))"
      ],
      "metadata": {
        "colab": {
          "base_uri": "https://localhost:8080/"
        },
        "id": "yxLFefHhmM62",
        "outputId": "9fdffc9c-e679-4c1f-fb48-b2ffa1fba32d"
      },
      "execution_count": 55,
      "outputs": [
        {
          "output_type": "stream",
          "name": "stdout",
          "text": [
            "[[5.51156335]]\n"
          ]
        }
      ]
    },
    {
      "cell_type": "code",
      "source": [
        "#@title Replacing the Linear Regression model with k-Nearest Neighbors (in this example, k = 3) regression in the previous code is as simple as replacing these two lines:"
      ],
      "metadata": {
        "id": "1JrN8a4AmNBU"
      },
      "execution_count": null,
      "outputs": []
    },
    {
      "cell_type": "code",
      "source": [
        "#select model\n",
        "from sklearn.neighbors import KNeighborsRegressor\n",
        "model = KNeighborsRegressor(n_neighbors=3)"
      ],
      "metadata": {
        "id": "5lRKIJLymNEa"
      },
      "execution_count": 57,
      "outputs": []
    },
    {
      "cell_type": "code",
      "source": [
        "#train model\n",
        "model.fit(X,Y)"
      ],
      "metadata": {
        "colab": {
          "base_uri": "https://localhost:8080/"
        },
        "id": "Qw29EuvTug_P",
        "outputId": "a8165eb8-f255-48d6-b79e-1260c1e69380"
      },
      "execution_count": 58,
      "outputs": [
        {
          "output_type": "execute_result",
          "data": {
            "text/plain": [
              "KNeighborsRegressor(n_neighbors=3)"
            ]
          },
          "metadata": {},
          "execution_count": 58
        }
      ]
    },
    {
      "cell_type": "code",
      "source": [
        "#prediction\n",
        "X_new=[[26_000]]\n",
        "print(model.predict(X_new))"
      ],
      "metadata": {
        "colab": {
          "base_uri": "https://localhost:8080/"
        },
        "id": "ugSKZZOquhCM",
        "outputId": "7e2dd427-d4d9-464c-fca8-eef57dac2477"
      },
      "execution_count": 59,
      "outputs": [
        {
          "output_type": "stream",
          "name": "stdout",
          "text": [
            "[[5.56666667]]\n"
          ]
        }
      ]
    },
    {
      "cell_type": "code",
      "source": [],
      "metadata": {
        "id": "3d3HObb2uhF8"
      },
      "execution_count": null,
      "outputs": []
    },
    {
      "cell_type": "code",
      "source": [],
      "metadata": {
        "id": "QYv4JLMZuhIj"
      },
      "execution_count": null,
      "outputs": []
    },
    {
      "cell_type": "code",
      "source": [],
      "metadata": {
        "id": "VNnD_BgSuhL6"
      },
      "execution_count": null,
      "outputs": []
    },
    {
      "cell_type": "markdown",
      "source": [
        "EXERCISE\n",
        "\n",
        "**1. How would you define ML?**\n",
        "Machine learning is a science of programming computers so that they can learn from data. \n",
        "\n",
        "It is a field of study that gives computers the ability to learn without being explicity programmed.\n",
        "\n",
        "**2. Can you name 4 types of applications where it shines?**\n",
        "spam ham classification\n",
        "credit card fraud detection\n",
        "segmenting customers\n",
        "recommendation system\n",
        "\n",
        "**3. What is labeled training set?**\n",
        "A labeled training set is a training set that contains the desired solution (a.k.a. a label) for each instance.\n",
        "\n",
        "**4. What are the 2 most common supervised tasks?**\n",
        "Classification & Regression \n",
        "\n",
        "**5. Can you name 4 commom unsupervised tasks?**\n",
        "visualization, dimensionality reduction, anamoly detection, association rule learning, clustering\n",
        "\n",
        "**6. What algoritm would you use to allow a robot to walk in various unkown terrains?**\n",
        "Reinforcement \n",
        "\n",
        "**7. What type of algo would you use to segment your customers into multiple groups?**\n",
        "Unsupervised(clustering)\n",
        "\n",
        "**8. Would you frame the problem of spam as supervised or unsupervised learning problem.**\n",
        "Supervised\n",
        "\n",
        "**9. What is an online learning system?**\n",
        "An online learning system can learn incrementally, as opposed to a batch learning system. This makes it capable of adapting rapidly to both changing data and autonomous systems, and of training on very large quantities of data.\n",
        "\n",
        "**10. What is out_of_core learning?**\n",
        "An out-of-core learning algorithm chops the data into mini-batches and uses online learning techniques to learn from these mini-batches.\n",
        "\n",
        "**11. What type of algo relies on similarity measure to make predictions?**\n",
        "An instance-based learning system learns the training data by heart; then, when given a new instance, it uses a similarity measure to find the most similar learned instances and uses them to make predictions.\n",
        "\n",
        "**12. What is the different types of model parameters and model hyperparameters?**\n",
        "\n",
        "Model parameters are the values that are learned by the model during training, such as weights and biases. \n",
        "\n",
        "Model hyperparameters are the settings that are decided before training begins, such as the learning rate, batch size, and number of layers.\n",
        "\n",
        "\n",
        "**13. What is the difference between a model parameter and a learning algorithm’s hyperparameter?**\n",
        "A model has one or more model parameters that determine what it will predict given a new instance (e.g., the slope of a linear model). A learning algorithm tries to find optimal values for these parameters such that the model generalizes well to new instances. A hyperparameter is a parameter of the learning algorithm itself, not of the model (e.g., the amount of regularization to apply).\n",
        "\n",
        "**13. What do model-based learning algorithms search for? What is the most common strategy they use to succeed? How do they make predictions?**\n",
        "Model-based learning algorithms search for an optimal value for the model parameters such that the model will generalize well to new instances. We usually train such systems by minimizing a cost function that measures how bad the system is at making predictions on the training data, plus a penalty for model complexity if the model is regularized. To make predictions, we feed the new instance's features into the model's prediction function, using the parameter values found by the learning algorithm.\n",
        "\n",
        "**14. Can you name four of the main challenges in Machine Learning?**\n",
        "lack of data, poor data quality, nonrepresentative data, uninformative features, overfit, underfit.\n",
        "\n",
        "**15. If your model performs great on the training data but generalizes poorly to new instances, what is happening? Can you name three possible solutions?**\n",
        "Overfitting \n",
        "solution: \n",
        "If a model performs great on the training data but generalizes poorly to new instances, the model is likely overfitting the training data (or we got extremely lucky on the training data). \n",
        "\n",
        "Possible solutions to overfitting are** getting more data**, **simplifying the model** (selecting a simpler algorithm, reducing the number of parameters or features used, or **regularizing the model**), or **reducing the noise in the training data.**\n",
        "\n",
        "**16. What is a test set and why would you want to use it?**\n",
        "A test set is used to estimate the generalization error that a model will make on new instances, before the model is launched in production.\n",
        "\n",
        "**17. What is the purpose of a validation set?**\n",
        "A validation set is used to compare models. It makes it possible to select the best model and tune the hyperparameters.\n",
        "\n",
        "**18. What can go wrong if you tune hyperparameters using the test set?**\n",
        "If you tune hyperparameters using the test set, you risk overfitting the test set, and the generalization error you measure will be optimistic (you may launch a model that performs worse than you expect).\n",
        "\n",
        "**19. What is repeated cross-validation and why would you prefer it to using a single validation set?**\n",
        "Repeated cross-validation is a technique that involves repeating the process of splitting a dataset into training and validation sets multiple times to get a more accurate estimate of the model’s performance. This is preferred to using a single validation set because it provides a more reliable estimate of model performance, as the error is averaged out over multiple runs. This is especially useful when the dataset is small, as it allows for more data to be used for training and validation. This is also more reliable than using a single validation set, as it is more resistant to overfitting."
      ],
      "metadata": {
        "id": "kDBSfngywPuD"
      }
    },
    {
      "cell_type": "code",
      "source": [],
      "metadata": {
        "id": "Stf_nL5fuhPL"
      },
      "execution_count": null,
      "outputs": []
    },
    {
      "cell_type": "code",
      "source": [],
      "metadata": {
        "id": "p9rP_12_uhRq"
      },
      "execution_count": null,
      "outputs": []
    },
    {
      "cell_type": "code",
      "source": [],
      "metadata": {
        "id": "GmUpYDmzuhU0"
      },
      "execution_count": null,
      "outputs": []
    },
    {
      "cell_type": "code",
      "source": [],
      "metadata": {
        "id": "i0FsAcCzuhXV"
      },
      "execution_count": null,
      "outputs": []
    },
    {
      "cell_type": "code",
      "source": [],
      "metadata": {
        "id": "S0al85Nbuha3"
      },
      "execution_count": null,
      "outputs": []
    },
    {
      "cell_type": "code",
      "source": [],
      "metadata": {
        "id": "WlNXap2Puhc8"
      },
      "execution_count": null,
      "outputs": []
    },
    {
      "cell_type": "code",
      "source": [],
      "metadata": {
        "id": "ZTFgPIvUuhfy"
      },
      "execution_count": null,
      "outputs": []
    },
    {
      "cell_type": "code",
      "source": [],
      "metadata": {
        "id": "HGrYHbKWuhk4"
      },
      "execution_count": null,
      "outputs": []
    },
    {
      "cell_type": "code",
      "source": [],
      "metadata": {
        "id": "J8Zc0c1_uhme"
      },
      "execution_count": null,
      "outputs": []
    },
    {
      "cell_type": "code",
      "source": [],
      "metadata": {
        "id": "HXj6xV6kuhn5"
      },
      "execution_count": null,
      "outputs": []
    },
    {
      "cell_type": "code",
      "source": [],
      "metadata": {
        "id": "7niysrYzuhtN"
      },
      "execution_count": null,
      "outputs": []
    }
  ]
}